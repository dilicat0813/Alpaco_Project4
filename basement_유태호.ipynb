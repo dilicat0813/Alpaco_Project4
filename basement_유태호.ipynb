{
 "cells": [
  {
   "cell_type": "code",
   "execution_count": 7,
   "id": "5c265f94-5aa8-4794-a1ae-85c17d000257",
   "metadata": {},
   "outputs": [
    {
     "data": {
      "application/vnd.plotly.v1+json": {
       "config": {
        "plotlyServerURL": "https://plot.ly"
       },
       "data": [
        {
         "hovertemplate": "생산수=%{x}<br>오류발생여부=%{y}<extra></extra>",
         "legendgroup": "",
         "marker": {
          "color": "#636efa",
          "symbol": "circle"
         },
         "mode": "markers",
         "name": "",
         "orientation": "v",
         "showlegend": false,
         "type": "scatter",
         "x": [
          1435,
          865,
          745,
          914,
          642,
          344,
          267,
          268,
          238,
          321,
          262,
          148,
          119,
          101,
          129,
          121,
          101,
          182,
          74,
          127,
          202,
          189,
          169,
          1151,
          1712,
          1473,
          1050,
          1169,
          1066,
          1135,
          831,
          879,
          819,
          647,
          708,
          665,
          603,
          532,
          494,
          360,
          324,
          349,
          139
         ],
         "xaxis": "x",
         "y": [
          73,
          38,
          38,
          38,
          27,
          11,
          7,
          21,
          10,
          7,
          20,
          11,
          0,
          0,
          3,
          4,
          11,
          13,
          6,
          1,
          2,
          5,
          15,
          52,
          75,
          65,
          48,
          41,
          55,
          55,
          37,
          38,
          38,
          25,
          26,
          28,
          35,
          21,
          17,
          21,
          17,
          6,
          13
         ],
         "yaxis": "y"
        },
        {
         "hovertemplate": "<b>OLS trendline</b><br>오류발생여부 = 0.0449842 * 생산수 + -0.202882<br>R<sup>2</sup>=0.932118<br><br>생산수=%{x}<br>오류발생여부=%{y} <b>(trend)</b><extra></extra>",
         "legendgroup": "",
         "marker": {
          "color": "#636efa",
          "symbol": "circle"
         },
         "mode": "lines",
         "name": "",
         "showlegend": false,
         "type": "scatter",
         "x": [
          74,
          101,
          101,
          119,
          121,
          127,
          129,
          139,
          148,
          169,
          182,
          189,
          202,
          238,
          262,
          267,
          268,
          321,
          324,
          344,
          349,
          360,
          494,
          532,
          603,
          642,
          647,
          665,
          708,
          745,
          819,
          831,
          865,
          879,
          914,
          1050,
          1066,
          1135,
          1151,
          1169,
          1435,
          1473,
          1712
         ],
         "xaxis": "x",
         "y": [
          3.125946595561186,
          4.3405191048996965,
          4.3405191048996965,
          5.15023411112537,
          5.2402024451504445,
          5.5101074472256695,
          5.6000757812507445,
          6.0499174513761185,
          6.454774954488956,
          7.399442461752241,
          7.984236632915229,
          8.29912580200299,
          8.883919973165977,
          10.503349985617325,
          11.582969993918223,
          11.80789082898091,
          11.852874995993448,
          14.23703584765793,
          14.371988348695544,
          15.271671688946292,
          15.496592524008978,
          15.991418361146891,
          22.019296740826906,
          23.72869508730333,
          26.922570945193485,
          28.676953458682444,
          28.90187429374513,
          29.711589299970807,
          31.645908481509917,
          33.3103226609738,
          36.63915101990157,
          37.17896102405202,
          38.708422702478295,
          39.338201040653814,
          40.912646886092624,
          47.030493599797715,
          47.750240271998315,
          50.8541477958634,
          51.573894468064,
          52.38360947428967,
          64.34939789962462,
          66.05879624610105,
          76.81001216209748
         ],
         "yaxis": "y"
        }
       ],
       "layout": {
        "legend": {
         "tracegroupgap": 0
        },
        "margin": {
         "t": 60
        },
        "template": {
         "data": {
          "bar": [
           {
            "error_x": {
             "color": "#2a3f5f"
            },
            "error_y": {
             "color": "#2a3f5f"
            },
            "marker": {
             "line": {
              "color": "#E5ECF6",
              "width": 0.5
             },
             "pattern": {
              "fillmode": "overlay",
              "size": 10,
              "solidity": 0.2
             }
            },
            "type": "bar"
           }
          ],
          "barpolar": [
           {
            "marker": {
             "line": {
              "color": "#E5ECF6",
              "width": 0.5
             },
             "pattern": {
              "fillmode": "overlay",
              "size": 10,
              "solidity": 0.2
             }
            },
            "type": "barpolar"
           }
          ],
          "carpet": [
           {
            "aaxis": {
             "endlinecolor": "#2a3f5f",
             "gridcolor": "white",
             "linecolor": "white",
             "minorgridcolor": "white",
             "startlinecolor": "#2a3f5f"
            },
            "baxis": {
             "endlinecolor": "#2a3f5f",
             "gridcolor": "white",
             "linecolor": "white",
             "minorgridcolor": "white",
             "startlinecolor": "#2a3f5f"
            },
            "type": "carpet"
           }
          ],
          "choropleth": [
           {
            "colorbar": {
             "outlinewidth": 0,
             "ticks": ""
            },
            "type": "choropleth"
           }
          ],
          "contour": [
           {
            "colorbar": {
             "outlinewidth": 0,
             "ticks": ""
            },
            "colorscale": [
             [
              0,
              "#0d0887"
             ],
             [
              0.1111111111111111,
              "#46039f"
             ],
             [
              0.2222222222222222,
              "#7201a8"
             ],
             [
              0.3333333333333333,
              "#9c179e"
             ],
             [
              0.4444444444444444,
              "#bd3786"
             ],
             [
              0.5555555555555556,
              "#d8576b"
             ],
             [
              0.6666666666666666,
              "#ed7953"
             ],
             [
              0.7777777777777778,
              "#fb9f3a"
             ],
             [
              0.8888888888888888,
              "#fdca26"
             ],
             [
              1,
              "#f0f921"
             ]
            ],
            "type": "contour"
           }
          ],
          "contourcarpet": [
           {
            "colorbar": {
             "outlinewidth": 0,
             "ticks": ""
            },
            "type": "contourcarpet"
           }
          ],
          "heatmap": [
           {
            "colorbar": {
             "outlinewidth": 0,
             "ticks": ""
            },
            "colorscale": [
             [
              0,
              "#0d0887"
             ],
             [
              0.1111111111111111,
              "#46039f"
             ],
             [
              0.2222222222222222,
              "#7201a8"
             ],
             [
              0.3333333333333333,
              "#9c179e"
             ],
             [
              0.4444444444444444,
              "#bd3786"
             ],
             [
              0.5555555555555556,
              "#d8576b"
             ],
             [
              0.6666666666666666,
              "#ed7953"
             ],
             [
              0.7777777777777778,
              "#fb9f3a"
             ],
             [
              0.8888888888888888,
              "#fdca26"
             ],
             [
              1,
              "#f0f921"
             ]
            ],
            "type": "heatmap"
           }
          ],
          "heatmapgl": [
           {
            "colorbar": {
             "outlinewidth": 0,
             "ticks": ""
            },
            "colorscale": [
             [
              0,
              "#0d0887"
             ],
             [
              0.1111111111111111,
              "#46039f"
             ],
             [
              0.2222222222222222,
              "#7201a8"
             ],
             [
              0.3333333333333333,
              "#9c179e"
             ],
             [
              0.4444444444444444,
              "#bd3786"
             ],
             [
              0.5555555555555556,
              "#d8576b"
             ],
             [
              0.6666666666666666,
              "#ed7953"
             ],
             [
              0.7777777777777778,
              "#fb9f3a"
             ],
             [
              0.8888888888888888,
              "#fdca26"
             ],
             [
              1,
              "#f0f921"
             ]
            ],
            "type": "heatmapgl"
           }
          ],
          "histogram": [
           {
            "marker": {
             "pattern": {
              "fillmode": "overlay",
              "size": 10,
              "solidity": 0.2
             }
            },
            "type": "histogram"
           }
          ],
          "histogram2d": [
           {
            "colorbar": {
             "outlinewidth": 0,
             "ticks": ""
            },
            "colorscale": [
             [
              0,
              "#0d0887"
             ],
             [
              0.1111111111111111,
              "#46039f"
             ],
             [
              0.2222222222222222,
              "#7201a8"
             ],
             [
              0.3333333333333333,
              "#9c179e"
             ],
             [
              0.4444444444444444,
              "#bd3786"
             ],
             [
              0.5555555555555556,
              "#d8576b"
             ],
             [
              0.6666666666666666,
              "#ed7953"
             ],
             [
              0.7777777777777778,
              "#fb9f3a"
             ],
             [
              0.8888888888888888,
              "#fdca26"
             ],
             [
              1,
              "#f0f921"
             ]
            ],
            "type": "histogram2d"
           }
          ],
          "histogram2dcontour": [
           {
            "colorbar": {
             "outlinewidth": 0,
             "ticks": ""
            },
            "colorscale": [
             [
              0,
              "#0d0887"
             ],
             [
              0.1111111111111111,
              "#46039f"
             ],
             [
              0.2222222222222222,
              "#7201a8"
             ],
             [
              0.3333333333333333,
              "#9c179e"
             ],
             [
              0.4444444444444444,
              "#bd3786"
             ],
             [
              0.5555555555555556,
              "#d8576b"
             ],
             [
              0.6666666666666666,
              "#ed7953"
             ],
             [
              0.7777777777777778,
              "#fb9f3a"
             ],
             [
              0.8888888888888888,
              "#fdca26"
             ],
             [
              1,
              "#f0f921"
             ]
            ],
            "type": "histogram2dcontour"
           }
          ],
          "mesh3d": [
           {
            "colorbar": {
             "outlinewidth": 0,
             "ticks": ""
            },
            "type": "mesh3d"
           }
          ],
          "parcoords": [
           {
            "line": {
             "colorbar": {
              "outlinewidth": 0,
              "ticks": ""
             }
            },
            "type": "parcoords"
           }
          ],
          "pie": [
           {
            "automargin": true,
            "type": "pie"
           }
          ],
          "scatter": [
           {
            "fillpattern": {
             "fillmode": "overlay",
             "size": 10,
             "solidity": 0.2
            },
            "type": "scatter"
           }
          ],
          "scatter3d": [
           {
            "line": {
             "colorbar": {
              "outlinewidth": 0,
              "ticks": ""
             }
            },
            "marker": {
             "colorbar": {
              "outlinewidth": 0,
              "ticks": ""
             }
            },
            "type": "scatter3d"
           }
          ],
          "scattercarpet": [
           {
            "marker": {
             "colorbar": {
              "outlinewidth": 0,
              "ticks": ""
             }
            },
            "type": "scattercarpet"
           }
          ],
          "scattergeo": [
           {
            "marker": {
             "colorbar": {
              "outlinewidth": 0,
              "ticks": ""
             }
            },
            "type": "scattergeo"
           }
          ],
          "scattergl": [
           {
            "marker": {
             "colorbar": {
              "outlinewidth": 0,
              "ticks": ""
             }
            },
            "type": "scattergl"
           }
          ],
          "scattermapbox": [
           {
            "marker": {
             "colorbar": {
              "outlinewidth": 0,
              "ticks": ""
             }
            },
            "type": "scattermapbox"
           }
          ],
          "scatterpolar": [
           {
            "marker": {
             "colorbar": {
              "outlinewidth": 0,
              "ticks": ""
             }
            },
            "type": "scatterpolar"
           }
          ],
          "scatterpolargl": [
           {
            "marker": {
             "colorbar": {
              "outlinewidth": 0,
              "ticks": ""
             }
            },
            "type": "scatterpolargl"
           }
          ],
          "scatterternary": [
           {
            "marker": {
             "colorbar": {
              "outlinewidth": 0,
              "ticks": ""
             }
            },
            "type": "scatterternary"
           }
          ],
          "surface": [
           {
            "colorbar": {
             "outlinewidth": 0,
             "ticks": ""
            },
            "colorscale": [
             [
              0,
              "#0d0887"
             ],
             [
              0.1111111111111111,
              "#46039f"
             ],
             [
              0.2222222222222222,
              "#7201a8"
             ],
             [
              0.3333333333333333,
              "#9c179e"
             ],
             [
              0.4444444444444444,
              "#bd3786"
             ],
             [
              0.5555555555555556,
              "#d8576b"
             ],
             [
              0.6666666666666666,
              "#ed7953"
             ],
             [
              0.7777777777777778,
              "#fb9f3a"
             ],
             [
              0.8888888888888888,
              "#fdca26"
             ],
             [
              1,
              "#f0f921"
             ]
            ],
            "type": "surface"
           }
          ],
          "table": [
           {
            "cells": {
             "fill": {
              "color": "#EBF0F8"
             },
             "line": {
              "color": "white"
             }
            },
            "header": {
             "fill": {
              "color": "#C8D4E3"
             },
             "line": {
              "color": "white"
             }
            },
            "type": "table"
           }
          ]
         },
         "layout": {
          "annotationdefaults": {
           "arrowcolor": "#2a3f5f",
           "arrowhead": 0,
           "arrowwidth": 1
          },
          "autotypenumbers": "strict",
          "coloraxis": {
           "colorbar": {
            "outlinewidth": 0,
            "ticks": ""
           }
          },
          "colorscale": {
           "diverging": [
            [
             0,
             "#8e0152"
            ],
            [
             0.1,
             "#c51b7d"
            ],
            [
             0.2,
             "#de77ae"
            ],
            [
             0.3,
             "#f1b6da"
            ],
            [
             0.4,
             "#fde0ef"
            ],
            [
             0.5,
             "#f7f7f7"
            ],
            [
             0.6,
             "#e6f5d0"
            ],
            [
             0.7,
             "#b8e186"
            ],
            [
             0.8,
             "#7fbc41"
            ],
            [
             0.9,
             "#4d9221"
            ],
            [
             1,
             "#276419"
            ]
           ],
           "sequential": [
            [
             0,
             "#0d0887"
            ],
            [
             0.1111111111111111,
             "#46039f"
            ],
            [
             0.2222222222222222,
             "#7201a8"
            ],
            [
             0.3333333333333333,
             "#9c179e"
            ],
            [
             0.4444444444444444,
             "#bd3786"
            ],
            [
             0.5555555555555556,
             "#d8576b"
            ],
            [
             0.6666666666666666,
             "#ed7953"
            ],
            [
             0.7777777777777778,
             "#fb9f3a"
            ],
            [
             0.8888888888888888,
             "#fdca26"
            ],
            [
             1,
             "#f0f921"
            ]
           ],
           "sequentialminus": [
            [
             0,
             "#0d0887"
            ],
            [
             0.1111111111111111,
             "#46039f"
            ],
            [
             0.2222222222222222,
             "#7201a8"
            ],
            [
             0.3333333333333333,
             "#9c179e"
            ],
            [
             0.4444444444444444,
             "#bd3786"
            ],
            [
             0.5555555555555556,
             "#d8576b"
            ],
            [
             0.6666666666666666,
             "#ed7953"
            ],
            [
             0.7777777777777778,
             "#fb9f3a"
            ],
            [
             0.8888888888888888,
             "#fdca26"
            ],
            [
             1,
             "#f0f921"
            ]
           ]
          },
          "colorway": [
           "#636efa",
           "#EF553B",
           "#00cc96",
           "#ab63fa",
           "#FFA15A",
           "#19d3f3",
           "#FF6692",
           "#B6E880",
           "#FF97FF",
           "#FECB52"
          ],
          "font": {
           "color": "#2a3f5f"
          },
          "geo": {
           "bgcolor": "white",
           "lakecolor": "white",
           "landcolor": "#E5ECF6",
           "showlakes": true,
           "showland": true,
           "subunitcolor": "white"
          },
          "hoverlabel": {
           "align": "left"
          },
          "hovermode": "closest",
          "mapbox": {
           "style": "light"
          },
          "paper_bgcolor": "white",
          "plot_bgcolor": "#E5ECF6",
          "polar": {
           "angularaxis": {
            "gridcolor": "white",
            "linecolor": "white",
            "ticks": ""
           },
           "bgcolor": "#E5ECF6",
           "radialaxis": {
            "gridcolor": "white",
            "linecolor": "white",
            "ticks": ""
           }
          },
          "scene": {
           "xaxis": {
            "backgroundcolor": "#E5ECF6",
            "gridcolor": "white",
            "gridwidth": 2,
            "linecolor": "white",
            "showbackground": true,
            "ticks": "",
            "zerolinecolor": "white"
           },
           "yaxis": {
            "backgroundcolor": "#E5ECF6",
            "gridcolor": "white",
            "gridwidth": 2,
            "linecolor": "white",
            "showbackground": true,
            "ticks": "",
            "zerolinecolor": "white"
           },
           "zaxis": {
            "backgroundcolor": "#E5ECF6",
            "gridcolor": "white",
            "gridwidth": 2,
            "linecolor": "white",
            "showbackground": true,
            "ticks": "",
            "zerolinecolor": "white"
           }
          },
          "shapedefaults": {
           "line": {
            "color": "#2a3f5f"
           }
          },
          "ternary": {
           "aaxis": {
            "gridcolor": "white",
            "linecolor": "white",
            "ticks": ""
           },
           "baxis": {
            "gridcolor": "white",
            "linecolor": "white",
            "ticks": ""
           },
           "bgcolor": "#E5ECF6",
           "caxis": {
            "gridcolor": "white",
            "linecolor": "white",
            "ticks": ""
           }
          },
          "title": {
           "x": 0.05
          },
          "xaxis": {
           "automargin": true,
           "gridcolor": "white",
           "linecolor": "white",
           "ticks": "",
           "title": {
            "standoff": 15
           },
           "zerolinecolor": "white",
           "zerolinewidth": 2
          },
          "yaxis": {
           "automargin": true,
           "gridcolor": "white",
           "linecolor": "white",
           "ticks": "",
           "title": {
            "standoff": 15
           },
           "zerolinecolor": "white",
           "zerolinewidth": 2
          }
         }
        },
        "title": {
         "text": "분기별 생산품목과 오류발생"
        },
        "xaxis": {
         "anchor": "y",
         "domain": [
          0,
          1
         ],
         "title": {
          "text": "생산수"
         }
        },
        "yaxis": {
         "anchor": "x",
         "domain": [
          0,
          1
         ],
         "title": {
          "text": "오류발생여부"
         }
        }
       }
      }
     },
     "metadata": {},
     "output_type": "display_data"
    }
   ],
   "source": [
    "# !pip install dash\n",
    "# !pip install jupyter-dash\n",
    "# !pip install dash-bootstrap-components\n",
    "# !pip install statsmodels"
   ]
  },
  {
   "cell_type": "code",
   "execution_count": 3,
   "id": "cc129138",
   "metadata": {},
   "outputs": [],
   "source": [
    "import pandas as pd\n",
    "import plotly.express as px\n",
    "from jupyter_dash import JupyterDash\n",
    "from dash import Dash, dcc, html, Input, Output\n",
    "import dash_bootstrap_components as dbc\n",
    "import plotly.graph_objs as go\n",
    "import plotly.graph_objects as go\n",
    "from plotly.subplots import make_subplots\n",
    "\n",
    "# import year_earn, buyer form csv file\n",
    "year_earn = pd.read_csv('data/year_earn.csv')\n",
    "buyer = pd.read_csv('data/buyer.csv')\n",
    "\n",
    "#스캐터 5개 그래프 \n",
    "scatter5 = pd.read_csv('data/scatter5.csv')\n",
    "scatter5_names = ['충전실온도', '실링온도', '쿠킹온도', '쿠킹스팀압력', '실링압력']\n",
    "# fig1 = px.scatter(scatter5, x = scatter5['생산일자'], y = scatter5['쿠킹스팀압력'], color = scatter5['오류발생여부'])\n",
    "# fig2 = px.scatter(scatter5, x = scatter5['생산일자'], y = scatter5['충전실온도'], color = scatter5['오류발생여부'])\n",
    "# fig3 = px.scatter(scatter5, x = scatter5['생산일자'], y = scatter5['실링온도'], color = scatter5['오류발생여부'])\n",
    "# fig4 = px.scatter(scatter5, x = scatter5['생산일자'], y = scatter5['쿠킹온도'], color = scatter5['오류발생여부'])\n",
    "# fig5 = px.scatter(scatter5, x = scatter5['생산일자'], y = scatter5['실링압력'], color = scatter5['오류발생여부'])\n",
    "\n",
    "#파이그래프1(110)\n",
    "pie1 = pd.read_csv('data/pie1.csv')\n",
    "pie1 = pie1.drop('name_y', axis=1)\n",
    "pie1.rename(columns={'name_x': 'name'}, inplace=True) #간단한 드롭\n",
    "pie1= pie1.groupby('name')['Error_class'].count()\n",
    "# fig_pie1 = px.pie(pie1, values='Error_class', names=pie1.index)\n",
    "\n",
    "#파이그래프2(1074)\n",
    "pie2 = pd.read_csv('data/errored_pie.csv')\n",
    "pie2= pie2.groupby('name')['Error_class'].count()\n",
    "#fig_pie2 = px.pie(pie2, values='Error_class', names=pie2.index)\n",
    "\n",
    "#연단위 오류 발생률\n",
    "Error_per = pd.read_csv('data/Error_per.csv')\n",
    "Error_per['per']=Error_per['per'].round(2)\n",
    "# fig = px.line(Error_per, x=\"year\", y=\"per\", text=\"per\")\n",
    "# fig.update_traces(textposition=\"bottom right\")\n",
    "\n",
    "#바이올린 차트_생산시간\n",
    "violin_cooking = pd.read_csv('data/violin_cooking.csv')\n",
    "vio1 = px.violin(violin_cooking, box=True, y='생산시간')\n",
    "\n",
    "#바이올린 차트_오류발생시간\n",
    "violin_error = pd.read_csv('data/violin_error.csv')\n",
    "vio2 = px.violin(violin_error, box=True, y='오류조치시간_보정')\n",
    "\n",
    "#데이터 프레임 생성\n",
    "df = pd.DataFrame({\n",
    "    'year':[2016, 2017, 2018, 2019, 2020, 2021, 2022],\n",
    "    'market': [227000000000, 274000000000, 320000000000, 350000000000, 400000000000, 450000000000, 500000000000]\n",
    "})\n",
    "\n",
    "년_간편식_HMR__구입_변화_예상_1 = pd.DataFrame({'names': ['현 수준 유지', '약간 증가', '약간 감소', '매우 감소'],\n",
    "                   'values': [74.9, 22.5, 2.4, 0.2]})\n",
    "\n",
    "#id=update_graph2, fig3\n",
    "fig3 = px.pie(년_간편식_HMR__구입_변화_예상_1, values=[74.9, 22.5, 2.4, 0.2], names=['현 수준 유지', '약간 증가', '약간 감소', ' 매우 감소'])\n",
    "fig3.update_traces(textposition='inside', textinfo='percent+label')\n",
    "fig3.update_layout(\n",
    "    annotations=[dict(x=0.5, y=1.2, showarrow=False, text='향후 1년 HMR 구입 변화 예상', font=dict(size=20))],\n",
    "    margin=dict(t=100)\n",
    ")\n",
    "\n",
    "#라인2개 그래프 & 상관관계 그래프\n",
    "cooking_error_quarter = pd.read_csv('data/cooking_error_quarter.csv')\n",
    "\n",
    "#상관관계\n",
    "# fig = px.scatter(cooking_error_quarter, x=cooking_error_quarter[\"생산수\"], y=cooking_error_quarter[\"오류발생여부\"], trendline=\"ols\")\n",
    "# fig.update_layout(title_text=\"분기별 생산품목과 오류발생\")\n",
    "\n",
    "#라인2개 그래프\n",
    "# fig = make_subplots(specs=[[{\"secondary_y\": True}]])\n",
    "# fig.add_trace(\n",
    "#     go.Scatter( x = cooking_error_quarter[\"quarter\"], y = cooking_error_quarter[\"생산수\"],\n",
    "#     mode = 'lines', name = '분기별 간편식 생산품목 수'),\n",
    "#     secondary_y=False,)\n",
    "# fig.add_trace(\n",
    "#     go.Scatter( x = cooking_error_quarter[\"quarter\"], y = cooking_error_quarter[\"오류발생여부\"],\n",
    "#     mode = 'lines', name = '분기별 오류발생 현황'),\n",
    "#     secondary_y=True,)\n",
    "# # Add figure title\n",
    "# fig.update_layout(\n",
    "#     title_text=\"분기별 생산품목과 오류발생\")\n",
    "# fig.update_xaxes(title_text=\"분기\")\n",
    "# fig.update_yaxes(title_text=\"<b>생산품목</b>\", secondary_y=False)\n",
    "# fig.update_yaxes(title_text=\"<b>오류발생</b>\", secondary_y=True)"
   ]
  },
  {
   "cell_type": "code",
   "execution_count": null,
   "id": "a3c175d9-5c38-4c96-b5a5-aec8f4f11926",
   "metadata": {},
   "outputs": [
    {
     "name": "stdout",
     "output_type": "stream",
     "text": [
      "Dash is running on http://127.0.0.6:8050/\n",
      "\n"
     ]
    },
    {
     "data": {
      "text/html": [
       "\n",
       "        <iframe\n",
       "            width=\"100%\"\n",
       "            height=\"650\"\n",
       "            src=\"http://127.0.0.6:8050/\"\n",
       "            frameborder=\"0\"\n",
       "            allowfullscreen\n",
       "            \n",
       "        ></iframe>\n",
       "        "
      ],
      "text/plain": [
       "<IPython.lib.display.IFrame at 0x1cce89d5de0>"
      ]
     },
     "metadata": {},
     "output_type": "display_data"
    }
   ],
   "source": [
    "def Header2(name, app):\n",
    "    title = html.H2(name, style={\"margin-top\": 5})\n",
    "    return dbc.Row([dbc.Col(title, md=9)])\n",
    "\n",
    "def Header1(name, app):\n",
    "    title = html.H1(name, style={\"margin-top\": 5})\n",
    "    return dbc.Row([dbc.Col(title, md=9)])\n",
    "\n",
    "# Card components\n",
    "\n",
    "# Basement Cards\n",
    "cards = [\n",
    "    dbc.Card(\n",
    "        [\n",
    "            html.H2(f\"{5/45*100}%\", className=\"card-title\"),\n",
    "            html.P(\"HMR Market Increasing\", className=\"card-text\"),\n",
    "        ],\n",
    "        body=True,\n",
    "        color=\"dark\",\n",
    "        inverse=True,\n",
    "    ),\n",
    "    dbc.Card(\n",
    "        [\n",
    "            html.H2(f\"계산식 미정\", className=\"card-title\"),\n",
    "            html.P(\"Decline in Company Sales\", className=\"card-text\"),\n",
    "        ],\n",
    "        body=True,\n",
    "        color=\"primary\",\n",
    "        inverse=True,\n",
    "    ),\n",
    "]\n",
    "\n",
    "# Analyze Cards\n",
    "cards2 = [\n",
    "    dbc.Card(\n",
    "        [\n",
    "            html.H2(f\"Analyze1\", className=\"card-title\"),\n",
    "            html.P(\"Error1\", className=\"card-text\"),\n",
    "        ],\n",
    "        body=True,\n",
    "        color=\"dark\",\n",
    "        inverse=True,\n",
    "    ),\n",
    "    dbc.Card(\n",
    "        [\n",
    "            html.H2(f\"Analyze2\", className=\"card-title\"),\n",
    "            html.P(\"Error2\", className=\"card-text\"),\n",
    "        ],\n",
    "        body=True,\n",
    "        color=\"primary\",\n",
    "        inverse=True,\n",
    "    ),\n",
    "]\n",
    "\n",
    "# Predict Cards(추후 추가)\n",
    "\n",
    "\n",
    "cards3 = [\n",
    "    dbc.Card(\n",
    "        [\n",
    "            html.H2(f\"Predict1\", className=\"card-title\"),\n",
    "            html.P(\"Modeling1\", className=\"card-text\"),\n",
    "        ],\n",
    "        body=True,\n",
    "        color=\"dark\",\n",
    "        inverse=True,\n",
    "    ),\n",
    "    dbc.Card(\n",
    "        [\n",
    "            html.H2(f\"Predict2\", className=\"card-title\"),\n",
    "            html.P(\"Modeling2\", className=\"card-text\"),\n",
    "        ],\n",
    "        body=True,\n",
    "        color=\"primary\",\n",
    "        inverse=True,\n",
    "    ),\n",
    "]\n",
    "\n",
    "# Graph components\n",
    "# Basement_Graphs\n",
    "graphs1 = [[dcc.Graph(id=\"update_graph\"), #1행 1열\n",
    "            dcc.RangeSlider(df['year'].min(),\n",
    "                            df['year'].max(),\n",
    "                            value=[df['year'].min(), df['year'].max()], #수정사항, 슬라이더 초기값(처음값과 끝값)\n",
    "                            marks={str(year): str(year) for year in df['year'].unique()}, #수정사항 RangeSlider, Slider 모두에 적용\n",
    "                            id='slider1')]\n",
    "            , [dcc.Graph(id=\"update_graph2\", figure=fig3)]] #1행 2열\n",
    "\n",
    "graphs2 = [[dcc.Graph(id='booking-with-graph'), #2행 1열\n",
    "            dcc.RangeSlider(id='year-slider',\n",
    "                            min=year_earn['year'].min(),\n",
    "                            max=year_earn['year'].max(),\n",
    "                            value=[year_earn['year'].min(), year_earn['year'].max()],\n",
    "                            marks={str(year): str(year) for year in year_earn['year'].unique()})],\n",
    "           [dcc.Graph(id='yearly-transaction-graph'), #2행 2열\n",
    "            dcc.RangeSlider(id='year-slider2',\n",
    "                            min= buyer['year'].min(),\n",
    "                            max= buyer['year'].max(),\n",
    "                            step=None,\n",
    "                            value=[buyer['year'].min(), buyer['year'].max()],\n",
    "                            marks={str(year): str(year) for year in buyer['year'].unique()})\n",
    "            ]]\n",
    "        \n",
    "# Analyze Graph\n",
    "\n",
    "graphs4 = [[dcc.Graph(id=\"pies\"),\n",
    "            dcc.Dropdown(id='pie-select',\n",
    "                         options=[{'label':'오류메세지 분류(총 110종)', 'value':'fig_pie1'},\n",
    "                                  {'label':'전체오류(1074건) 재분류 후 분포', 'value':'fig_pie2'}],\n",
    "                         value='fig_pie1'\n",
    "                         )]\n",
    "            ]\n",
    "\n",
    "# graphs3 = [[dcc.Graph(id=\"\"),\n",
    "#             dcc.Dropdown()],\n",
    "#            [dcc.Graph(id=\"\"),\n",
    "#             dcc.Dropdown()]]\n",
    "\n",
    "graphs5 = [[dcc.Graph(id=\"scatter-5\"),\n",
    "            dcc.Dropdown(id='yvar_name',\n",
    "                     options=scatter5_names,\n",
    "                     value=scatter5_names[0],\n",
    "                     placeholder='Select X-axis column')]  #Dropdown 변경은 자율\n",
    "           ]\n",
    "\n",
    "\n",
    "\n",
    "# Predict Graph(추후 추가)\n",
    "\n",
    "# graphs5 = [[dcc.Graph(id=\"\"),\n",
    "#             dcc.Dropdown()],  #Dropdown 변경은 자율\n",
    "#            [dcc.Graph(id=\"\"),\n",
    "#             dcc.Dropdown()]]\n",
    "\n",
    "# graphs6 = [[dcc.Graph(id=\"\"),\n",
    "#             dcc.Dropdown()],\n",
    "#            [dcc.Graph(id=\"\"),\n",
    "#             dcc.Dropdown()]]\n",
    "\n",
    "\n",
    "\n",
    "app = JupyterDash(__name__, external_stylesheets=[dbc.themes.BOOTSTRAP])\n",
    "\n",
    "app.layout = dbc.Container(\n",
    "    [\n",
    "        Header1(\"불량예측 모델을 통한 수익성 개선\", app),\n",
    "        html.Hr(),\n",
    "        Header2(\"Basement\", app),\n",
    "        html.Br(),\n",
    "        dbc.Row([dbc.Col(card) for card in cards]),\n",
    "        html.Br(),\n",
    "        dbc.Row([dbc.Col(graph) for graph in graphs1]),\n",
    "        html.Br(),\n",
    "        dbc.Row([dbc.Col(graph) for graph in graphs2]),\n",
    "        html.Br(),\n",
    "        html.Hr(),\n",
    "        Header2(\"Analyze\", app),\n",
    "        html.Br(),\n",
    "        dbc.Row([dbc.Col(card) for card in cards2]),        \n",
    "        html.Br(),\n",
    "        dbc.Row([dbc.Col(graph) for graph in graphs4]), #그래프4 (파이)\n",
    "        html.Br(),\n",
    "        dbc.Row([dbc.Col(graph) for graph in graphs5]), #그래프5 (스캐터)\n",
    "        html.Br(),\n",
    "        html.Hr(),\n",
    "        Header2(\"Predict\", app),\n",
    "        html.Br(),\n",
    "        dbc.Row([dbc.Col(card) for card in cards3]),\n",
    "        # html.Br(),\n",
    "        # dbc.Row([dbc.Col(graph) for graph in graphs3]), #그래프3 \n",
    "        # html.Br(),\n",
    "        # dbc.Row([dbc.Col(graph) for graph in graphs4]), #그래프4  \n",
    "    ],\n",
    "    fluid=False,\n",
    ")\n",
    "\n",
    "#Basement Graph Callback list\n",
    "    #그래프 1행 1열 콜백\n",
    "@app.callback(\n",
    "    Output(component_id='update_graph', component_property='figure'), \n",
    "    Input(component_id='slider1', component_property='value')\n",
    ")\n",
    "def update_graph(year):\n",
    "    filtered_df = df[(df['year'] >= year[0]) & (df['year'] <= year[1])] #수정사항, 슬라이더 값지정하는 임시 df생성\n",
    "    fig1 = px.bar(filtered_df, x=filtered_df['year'], y=filtered_df['market'])\n",
    "    fig1.update_layout(title_text=\"HMR Market Changes\",\n",
    "                      title_font_size=30)\n",
    "    return(fig1)\n",
    "\n",
    "\n",
    "    #그래프 2행 1열 콜백\n",
    "@app.callback(\n",
    "    Output(component_id='booking-with-graph', component_property='figure'), \n",
    "    Input(component_id='year-slider', component_property='value')\n",
    ")\n",
    "def update_graph2(year):\n",
    "    filtered_df2 = year_earn[(year_earn['year'] >= year[0]) & (year_earn['year'] <= year[1])]\n",
    "    fig2 = px.bar(filtered_df2, x='year', y='수주금액')\n",
    "    fig2.update_layout(title_text=\"연도별 수주금액추이\",title_font_size=30)\n",
    "    return(fig2)           \n",
    "\n",
    "    #그래프 2행 2열 콜백\n",
    "@app.callback(\n",
    "    Output(component_id='yearly-transaction-graph', component_property='figure'),\n",
    "    Input(component_id='year-slider2', component_property='value')\n",
    ")\n",
    "def update_figure(selected_years):\n",
    "    filtered_df3 = buyer[(buyer['year'] >= selected_years[0]) & (buyer['year'] <= selected_years[1])]\n",
    "    fig4 = go.Figure(data=[go.Bar(x=filtered_df3['year'], y=filtered_df3['거래처코드'])],\n",
    "                     layout=go.Layout(title=go.layout.Title(text=\"연도별 거래건수 변동추이\", x=0.5),\n",
    "                                      xaxis=dict(title='연도'),\n",
    "                                      yaxis=dict(title='거래건수'),\n",
    "                                      barmode='group')\n",
    "                    )\n",
    "    return fig4\n",
    "     \n",
    "#Analyze Graph Callback list\n",
    "    #그래프 1행 1열 콜백\n",
    "    #태호님/영광님\n",
    "\n",
    "    #그래프 1행 2열 콜백\n",
    "    #영광님 해주신거\n",
    "\n",
    "    #그래프 2행 1열 콜백\n",
    "    #종현님 해주실거\n",
    "\n",
    "    #그래프 2행 2열 콜백\n",
    "@app.callback(\n",
    "    Output(component_id='pies', component_property='figure'),\n",
    "     Input(component_id='pie-select', component_property='value')\n",
    ")\n",
    "def update_graph2by1(selected_value):\n",
    "    if selected_value == 'fig_pie1':\n",
    "        fig_pie1 = px.pie(pie1, values='Error_class', names=pie1.index)\n",
    "        return fig_pie1\n",
    "    else:\n",
    "        fig_pie2 = px.pie(pie2, values='Error_class', names=pie2.index)\n",
    "        return fig_pie2\n",
    "    \n",
    "    #그래프 3행 1열 콜백\n",
    "@app.callback(\n",
    "    Output(component_id='scatter-5', component_property='figure'),\n",
    "     Input(component_id='yvar_name', component_property='value')\n",
    ")\n",
    "def update_graph(yvar):\n",
    "    fig = px.scatter(scatter5, x=scatter5['생산일자'], y=yvar, color=scatter5['오류발생여부'])\n",
    "    fig.update_layout(title_text=\"오류발생요인(\"+yvar+')에 따른 오류제품 분포 ',\n",
    "                      title_font_size=30)\n",
    "    return(fig) \n",
    "#Predict Graph Callback list\n",
    "    #그래프 1행 1열 콜백\n",
    "\n",
    "    #그래프 1행 2열 콜백\n",
    "\n",
    "    #그래프 2행 1열 콜백\n",
    "\n",
    "    #그래프 2행 2열 콜백\n",
    "\n",
    "    #그래프 3행 1열 콜백\n",
    "\n",
    "if __name__ == '__main__':\n",
    "    app.run_server(debug=True, mode='inline', host='127.0.0.6')\n",
    "    "
   ]
  },
  {
   "cell_type": "code",
   "execution_count": 6,
   "id": "86dc0bb6",
   "metadata": {},
   "outputs": [
    {
     "name": "stdout",
     "output_type": "stream",
     "text": [
      "Requirement already satisfied: dash in c:\\users\\th760\\.conda\\envs\\py\\lib\\site-packages (2.9.3)\n",
      "Requirement already satisfied: dash-core-components==2.0.0 in c:\\users\\th760\\.conda\\envs\\py\\lib\\site-packages (from dash) (2.0.0)\n",
      "Requirement already satisfied: dash-table==5.0.0 in c:\\users\\th760\\.conda\\envs\\py\\lib\\site-packages (from dash) (5.0.0)\n",
      "Requirement already satisfied: plotly>=5.0.0 in c:\\users\\th760\\.conda\\envs\\py\\lib\\site-packages (from dash) (5.14.1)\n",
      "Requirement already satisfied: Flask>=1.0.4 in c:\\users\\th760\\.conda\\envs\\py\\lib\\site-packages (from dash) (2.2.3)\n",
      "Requirement already satisfied: dash-html-components==2.0.0 in c:\\users\\th760\\.conda\\envs\\py\\lib\\site-packages (from dash) (2.0.0)\n",
      "Requirement already satisfied: importlib-metadata>=3.6.0 in c:\\users\\th760\\.conda\\envs\\py\\lib\\site-packages (from Flask>=1.0.4->dash) (6.3.0)\n",
      "Requirement already satisfied: Jinja2>=3.0 in c:\\users\\th760\\.conda\\envs\\py\\lib\\site-packages (from Flask>=1.0.4->dash) (3.1.2)\n",
      "Requirement already satisfied: Werkzeug>=2.2.2 in c:\\users\\th760\\.conda\\envs\\py\\lib\\site-packages (from Flask>=1.0.4->dash) (2.2.3)\n",
      "Requirement already satisfied: click>=8.0 in c:\\users\\th760\\.conda\\envs\\py\\lib\\site-packages (from Flask>=1.0.4->dash) (8.1.3)\n",
      "Requirement already satisfied: itsdangerous>=2.0 in c:\\users\\th760\\.conda\\envs\\py\\lib\\site-packages (from Flask>=1.0.4->dash) (2.1.2)\n",
      "Requirement already satisfied: packaging in c:\\users\\th760\\.conda\\envs\\py\\lib\\site-packages (from plotly>=5.0.0->dash) (23.0)\n",
      "Requirement already satisfied: tenacity>=6.2.0 in c:\\users\\th760\\.conda\\envs\\py\\lib\\site-packages (from plotly>=5.0.0->dash) (8.2.2)\n",
      "Requirement already satisfied: colorama in c:\\users\\th760\\.conda\\envs\\py\\lib\\site-packages (from click>=8.0->Flask>=1.0.4->dash) (0.4.6)\n",
      "Requirement already satisfied: zipp>=0.5 in c:\\users\\th760\\.conda\\envs\\py\\lib\\site-packages (from importlib-metadata>=3.6.0->Flask>=1.0.4->dash) (3.15.0)\n",
      "Requirement already satisfied: typing-extensions>=3.6.4 in c:\\users\\th760\\.conda\\envs\\py\\lib\\site-packages (from importlib-metadata>=3.6.0->Flask>=1.0.4->dash) (4.5.0)\n",
      "Requirement already satisfied: MarkupSafe>=2.0 in c:\\users\\th760\\.conda\\envs\\py\\lib\\site-packages (from Jinja2>=3.0->Flask>=1.0.4->dash) (2.1.2)\n",
      "Requirement already satisfied: jupyter-dash in c:\\users\\th760\\.conda\\envs\\py\\lib\\site-packages (0.4.2)\n",
      "Requirement already satisfied: nest-asyncio in c:\\users\\th760\\.conda\\envs\\py\\lib\\site-packages (from jupyter-dash) (1.5.6)\n",
      "Requirement already satisfied: retrying in c:\\users\\th760\\.conda\\envs\\py\\lib\\site-packages (from jupyter-dash) (1.3.4)\n",
      "Requirement already satisfied: ipykernel in c:\\users\\th760\\.conda\\envs\\py\\lib\\site-packages (from jupyter-dash) (6.16.2)\n",
      "Requirement already satisfied: ansi2html in c:\\users\\th760\\.conda\\envs\\py\\lib\\site-packages (from jupyter-dash) (1.8.0)\n",
      "Requirement already satisfied: ipython in c:\\users\\th760\\.conda\\envs\\py\\lib\\site-packages (from jupyter-dash) (7.34.0)\n",
      "Requirement already satisfied: dash in c:\\users\\th760\\.conda\\envs\\py\\lib\\site-packages (from jupyter-dash) (2.9.3)\n",
      "Requirement already satisfied: flask in c:\\users\\th760\\.conda\\envs\\py\\lib\\site-packages (from jupyter-dash) (2.2.3)\n",
      "Requirement already satisfied: requests in c:\\users\\th760\\.conda\\envs\\py\\lib\\site-packages (from jupyter-dash) (2.28.2)\n",
      "Requirement already satisfied: importlib-metadata in c:\\users\\th760\\.conda\\envs\\py\\lib\\site-packages (from ansi2html->jupyter-dash) (6.3.0)\n",
      "Requirement already satisfied: plotly>=5.0.0 in c:\\users\\th760\\.conda\\envs\\py\\lib\\site-packages (from dash->jupyter-dash) (5.14.1)\n",
      "Requirement already satisfied: dash-table==5.0.0 in c:\\users\\th760\\.conda\\envs\\py\\lib\\site-packages (from dash->jupyter-dash) (5.0.0)\n",
      "Requirement already satisfied: dash-html-components==2.0.0 in c:\\users\\th760\\.conda\\envs\\py\\lib\\site-packages (from dash->jupyter-dash) (2.0.0)\n",
      "Requirement already satisfied: dash-core-components==2.0.0 in c:\\users\\th760\\.conda\\envs\\py\\lib\\site-packages (from dash->jupyter-dash) (2.0.0)\n",
      "Requirement already satisfied: click>=8.0 in c:\\users\\th760\\.conda\\envs\\py\\lib\\site-packages (from flask->jupyter-dash) (8.1.3)\n",
      "Requirement already satisfied: Jinja2>=3.0 in c:\\users\\th760\\.conda\\envs\\py\\lib\\site-packages (from flask->jupyter-dash) (3.1.2)\n",
      "Requirement already satisfied: Werkzeug>=2.2.2 in c:\\users\\th760\\.conda\\envs\\py\\lib\\site-packages (from flask->jupyter-dash) (2.2.3)\n",
      "Requirement already satisfied: itsdangerous>=2.0 in c:\\users\\th760\\.conda\\envs\\py\\lib\\site-packages (from flask->jupyter-dash) (2.1.2)\n",
      "Requirement already satisfied: jupyter-client>=6.1.12 in c:\\users\\th760\\.conda\\envs\\py\\lib\\site-packages (from ipykernel->jupyter-dash) (7.4.9)\n",
      "Requirement already satisfied: matplotlib-inline>=0.1 in c:\\users\\th760\\.conda\\envs\\py\\lib\\site-packages (from ipykernel->jupyter-dash) (0.1.6)\n",
      "Requirement already satisfied: debugpy>=1.0 in c:\\users\\th760\\.conda\\envs\\py\\lib\\site-packages (from ipykernel->jupyter-dash) (1.6.7)\n",
      "Requirement already satisfied: packaging in c:\\users\\th760\\.conda\\envs\\py\\lib\\site-packages (from ipykernel->jupyter-dash) (23.0)\n",
      "Requirement already satisfied: traitlets>=5.1.0 in c:\\users\\th760\\.conda\\envs\\py\\lib\\site-packages (from ipykernel->jupyter-dash) (5.9.0)\n",
      "Requirement already satisfied: psutil in c:\\users\\th760\\.conda\\envs\\py\\lib\\site-packages (from ipykernel->jupyter-dash) (5.9.4)\n",
      "Requirement already satisfied: tornado>=6.1 in c:\\users\\th760\\.conda\\envs\\py\\lib\\site-packages (from ipykernel->jupyter-dash) (6.2)\n",
      "Requirement already satisfied: pyzmq>=17 in c:\\users\\th760\\.conda\\envs\\py\\lib\\site-packages (from ipykernel->jupyter-dash) (25.0.2)\n",
      "Requirement already satisfied: colorama in c:\\users\\th760\\.conda\\envs\\py\\lib\\site-packages (from ipython->jupyter-dash) (0.4.6)\n",
      "Requirement already satisfied: pygments in c:\\users\\th760\\.conda\\envs\\py\\lib\\site-packages (from ipython->jupyter-dash) (2.14.0)\n",
      "Requirement already satisfied: decorator in c:\\users\\th760\\.conda\\envs\\py\\lib\\site-packages (from ipython->jupyter-dash) (5.1.1)\n",
      "Requirement already satisfied: prompt-toolkit!=3.0.0,!=3.0.1,<3.1.0,>=2.0.0 in c:\\users\\th760\\.conda\\envs\\py\\lib\\site-packages (from ipython->jupyter-dash) (3.0.38)\n",
      "Requirement already satisfied: backcall in c:\\users\\th760\\.conda\\envs\\py\\lib\\site-packages (from ipython->jupyter-dash) (0.2.0)\n",
      "Requirement already satisfied: pickleshare in c:\\users\\th760\\.conda\\envs\\py\\lib\\site-packages (from ipython->jupyter-dash) (0.7.5)\n",
      "Requirement already satisfied: setuptools>=18.5 in c:\\users\\th760\\.conda\\envs\\py\\lib\\site-packages (from ipython->jupyter-dash) (65.6.3)\n",
      "Requirement already satisfied: jedi>=0.16 in c:\\users\\th760\\.conda\\envs\\py\\lib\\site-packages (from ipython->jupyter-dash) (0.18.2)\n",
      "Requirement already satisfied: urllib3<1.27,>=1.21.1 in c:\\users\\th760\\.conda\\envs\\py\\lib\\site-packages (from requests->jupyter-dash) (1.26.15)\n",
      "Requirement already satisfied: idna<4,>=2.5 in c:\\users\\th760\\.conda\\envs\\py\\lib\\site-packages (from requests->jupyter-dash) (3.4)\n",
      "Requirement already satisfied: charset-normalizer<4,>=2 in c:\\users\\th760\\.conda\\envs\\py\\lib\\site-packages (from requests->jupyter-dash) (3.1.0)\n",
      "Requirement already satisfied: certifi>=2017.4.17 in c:\\users\\th760\\.conda\\envs\\py\\lib\\site-packages (from requests->jupyter-dash) (2022.12.7)\n",
      "Requirement already satisfied: six>=1.7.0 in c:\\users\\th760\\.conda\\envs\\py\\lib\\site-packages (from retrying->jupyter-dash) (1.16.0)\n",
      "Requirement already satisfied: typing-extensions>=3.6.4 in c:\\users\\th760\\.conda\\envs\\py\\lib\\site-packages (from importlib-metadata->ansi2html->jupyter-dash) (4.5.0)\n",
      "Requirement already satisfied: zipp>=0.5 in c:\\users\\th760\\.conda\\envs\\py\\lib\\site-packages (from importlib-metadata->ansi2html->jupyter-dash) (3.15.0)\n",
      "Requirement already satisfied: parso<0.9.0,>=0.8.0 in c:\\users\\th760\\.conda\\envs\\py\\lib\\site-packages (from jedi>=0.16->ipython->jupyter-dash) (0.8.3)\n",
      "Requirement already satisfied: MarkupSafe>=2.0 in c:\\users\\th760\\.conda\\envs\\py\\lib\\site-packages (from Jinja2>=3.0->flask->jupyter-dash) (2.1.2)\n",
      "Requirement already satisfied: python-dateutil>=2.8.2 in c:\\users\\th760\\.conda\\envs\\py\\lib\\site-packages (from jupyter-client>=6.1.12->ipykernel->jupyter-dash) (2.8.2)\n",
      "Requirement already satisfied: entrypoints in c:\\users\\th760\\.conda\\envs\\py\\lib\\site-packages (from jupyter-client>=6.1.12->ipykernel->jupyter-dash) (0.4)\n",
      "Requirement already satisfied: jupyter-core>=4.9.2 in c:\\users\\th760\\.conda\\envs\\py\\lib\\site-packages (from jupyter-client>=6.1.12->ipykernel->jupyter-dash) (4.12.0)\n",
      "Requirement already satisfied: tenacity>=6.2.0 in c:\\users\\th760\\.conda\\envs\\py\\lib\\site-packages (from plotly>=5.0.0->dash->jupyter-dash) (8.2.2)\n",
      "Requirement already satisfied: wcwidth in c:\\users\\th760\\.conda\\envs\\py\\lib\\site-packages (from prompt-toolkit!=3.0.0,!=3.0.1,<3.1.0,>=2.0.0->ipython->jupyter-dash) (0.2.6)\n",
      "Requirement already satisfied: pywin32>=1.0 in c:\\users\\th760\\.conda\\envs\\py\\lib\\site-packages (from jupyter-core>=4.9.2->jupyter-client>=6.1.12->ipykernel->jupyter-dash) (306)\n",
      "Requirement already satisfied: dash-bootstrap-components in c:\\users\\th760\\.conda\\envs\\py\\lib\\site-packages (1.4.1)\n",
      "Requirement already satisfied: dash>=2.0.0 in c:\\users\\th760\\.conda\\envs\\py\\lib\\site-packages (from dash-bootstrap-components) (2.9.3)\n",
      "Requirement already satisfied: dash-core-components==2.0.0 in c:\\users\\th760\\.conda\\envs\\py\\lib\\site-packages (from dash>=2.0.0->dash-bootstrap-components) (2.0.0)\n",
      "Requirement already satisfied: plotly>=5.0.0 in c:\\users\\th760\\.conda\\envs\\py\\lib\\site-packages (from dash>=2.0.0->dash-bootstrap-components) (5.14.1)\n",
      "Requirement already satisfied: dash-html-components==2.0.0 in c:\\users\\th760\\.conda\\envs\\py\\lib\\site-packages (from dash>=2.0.0->dash-bootstrap-components) (2.0.0)\n",
      "Requirement already satisfied: Flask>=1.0.4 in c:\\users\\th760\\.conda\\envs\\py\\lib\\site-packages (from dash>=2.0.0->dash-bootstrap-components) (2.2.3)\n",
      "Requirement already satisfied: dash-table==5.0.0 in c:\\users\\th760\\.conda\\envs\\py\\lib\\site-packages (from dash>=2.0.0->dash-bootstrap-components) (5.0.0)\n",
      "Requirement already satisfied: Jinja2>=3.0 in c:\\users\\th760\\.conda\\envs\\py\\lib\\site-packages (from Flask>=1.0.4->dash>=2.0.0->dash-bootstrap-components) (3.1.2)\n",
      "Requirement already satisfied: importlib-metadata>=3.6.0 in c:\\users\\th760\\.conda\\envs\\py\\lib\\site-packages (from Flask>=1.0.4->dash>=2.0.0->dash-bootstrap-components) (6.3.0)\n",
      "Requirement already satisfied: click>=8.0 in c:\\users\\th760\\.conda\\envs\\py\\lib\\site-packages (from Flask>=1.0.4->dash>=2.0.0->dash-bootstrap-components) (8.1.3)\n",
      "Requirement already satisfied: Werkzeug>=2.2.2 in c:\\users\\th760\\.conda\\envs\\py\\lib\\site-packages (from Flask>=1.0.4->dash>=2.0.0->dash-bootstrap-components) (2.2.3)\n",
      "Requirement already satisfied: itsdangerous>=2.0 in c:\\users\\th760\\.conda\\envs\\py\\lib\\site-packages (from Flask>=1.0.4->dash>=2.0.0->dash-bootstrap-components) (2.1.2)\n",
      "Requirement already satisfied: tenacity>=6.2.0 in c:\\users\\th760\\.conda\\envs\\py\\lib\\site-packages (from plotly>=5.0.0->dash>=2.0.0->dash-bootstrap-components) (8.2.2)\n",
      "Requirement already satisfied: packaging in c:\\users\\th760\\.conda\\envs\\py\\lib\\site-packages (from plotly>=5.0.0->dash>=2.0.0->dash-bootstrap-components) (23.0)\n",
      "Requirement already satisfied: colorama in c:\\users\\th760\\.conda\\envs\\py\\lib\\site-packages (from click>=8.0->Flask>=1.0.4->dash>=2.0.0->dash-bootstrap-components) (0.4.6)\n",
      "Requirement already satisfied: zipp>=0.5 in c:\\users\\th760\\.conda\\envs\\py\\lib\\site-packages (from importlib-metadata>=3.6.0->Flask>=1.0.4->dash>=2.0.0->dash-bootstrap-components) (3.15.0)\n",
      "Requirement already satisfied: typing-extensions>=3.6.4 in c:\\users\\th760\\.conda\\envs\\py\\lib\\site-packages (from importlib-metadata>=3.6.0->Flask>=1.0.4->dash>=2.0.0->dash-bootstrap-components) (4.5.0)\n",
      "Requirement already satisfied: MarkupSafe>=2.0 in c:\\users\\th760\\.conda\\envs\\py\\lib\\site-packages (from Jinja2>=3.0->Flask>=1.0.4->dash>=2.0.0->dash-bootstrap-components) (2.1.2)\n",
      "Requirement already satisfied: statsmodels in c:\\users\\th760\\.conda\\envs\\py\\lib\\site-packages (0.13.5)\n",
      "Requirement already satisfied: numpy>=1.17 in c:\\users\\th760\\.conda\\envs\\py\\lib\\site-packages (from statsmodels) (1.21.6)\n",
      "Requirement already satisfied: scipy<1.8,>=1.3 in c:\\users\\th760\\.conda\\envs\\py\\lib\\site-packages (from statsmodels) (1.7.3)\n",
      "Requirement already satisfied: pandas>=0.25 in c:\\users\\th760\\.conda\\envs\\py\\lib\\site-packages (from statsmodels) (1.3.5)\n",
      "Requirement already satisfied: patsy>=0.5.2 in c:\\users\\th760\\.conda\\envs\\py\\lib\\site-packages (from statsmodels) (0.5.3)\n",
      "Requirement already satisfied: packaging>=21.3 in c:\\users\\th760\\.conda\\envs\\py\\lib\\site-packages (from statsmodels) (23.0)\n",
      "Requirement already satisfied: pytz>=2017.3 in c:\\users\\th760\\.conda\\envs\\py\\lib\\site-packages (from pandas>=0.25->statsmodels) (2023.3)\n",
      "Requirement already satisfied: python-dateutil>=2.7.3 in c:\\users\\th760\\.conda\\envs\\py\\lib\\site-packages (from pandas>=0.25->statsmodels) (2.8.2)\n",
      "Requirement already satisfied: six in c:\\users\\th760\\.conda\\envs\\py\\lib\\site-packages (from patsy>=0.5.2->statsmodels) (1.16.0)\n"
     ]
    }
   ],
   "source": [
    "!pip install dash\n",
    "!pip install jupyter-dash\n",
    "!pip install dash-bootstrap-components\n",
    "!pip install statsmodels\n",
    "\n",
    "import pandas as pd\n",
    "\n",
    "# pandas 출력 옵션 설정\n",
    "pd.set_option('display.max_rows', None)\n",
    "pd.set_option('display.max_columns', None)\n",
    "pd.set_option('display.width', None)\n",
    "pd.set_option('display.max_colwidth', None)\n",
    "\n",
    "from dash import Dash, html, dcc, Input, Output\n",
    "import plotly.express as px\n",
    "import pandas as pd\n",
    "from jupyter_dash import JupyterDash\n",
    "import dash_bootstrap_components as dbc\n",
    "cooking_error_quarter = pd.read_csv('cooking_error_quarter.csv')\n",
    "\n",
    "def Header2(name, app):\n",
    "    title = html.H2(name, style={\"margin-top\": 5})\n",
    "    return dbc.Row([dbc.Col(title, md=9)])\n",
    "\n",
    "def Header1(name, app):\n",
    "    title = html.H1(name, style={\"margin-top\": 5})\n",
    "    return dbc.Row([dbc.Col(title, md=9)])\n",
    "\n",
    "cards = [\n",
    "    dbc.Card(\n",
    "        [\n",
    "            html.H2(f\"Analyze1\", className=\"card-title\"),\n",
    "            html.P(\"Error1\", className=\"card-text\"),\n",
    "        ],\n",
    "        body=True,\n",
    "        color=\"dark\",\n",
    "        inverse=True,\n",
    "    ),\n",
    "    dbc.Card(\n",
    "        [\n",
    "            html.H2(f\"Analyze2\", className=\"card-title\"),\n",
    "            html.P(\"Error2\", className=\"card-text\"),\n",
    "        ],\n",
    "        body=True,\n",
    "        color=\"primary\",\n",
    "        inverse=True,\n",
    "    ),\n",
    "]\n",
    "\n",
    "graphs = [[dcc.Graph(id=\"lines\"),\n",
    "            dcc.Dropdown(id='lines-select',\n",
    "                         options=[{'label':'분기별 생산품목과 오류발생', 'value':'fig_line1'},\n",
    "                                  {'label':'생산수에 따른 오류발생 여부', 'value':'fig_line2'}],\n",
    "                         value='fig_lines'\n",
    "                         )]\n",
    "            ]\n",
    "app = JupyterDash(__name__, external_stylesheets=[dbc.themes.BOOTSTRAP])\n",
    "\n",
    "app.layout = dbc.Container(\n",
    "    [\n",
    "       Header1(\"불량예측 모델을 통한 수익성 개선\", app),\n",
    "       html.Hr(),\n",
    "       Header2(\"Analyze\", app),\n",
    "       html.Br(),\n",
    "       dbc.Row([dbc.Col(card) for card in cards]),        \n",
    "       html.Br(),\n",
    "       dbc.Row([dbc.Col(graph) for graph in graphs])\n",
    "    ],\n",
    "    fluid=False,\n",
    ")\n",
    "\n",
    "@app.callback(\n",
    "    Output(component_id='lines', component_property='figure'),\n",
    "     Input(component_id='lines-select', component_property='value')\n",
    ")\n",
    "def update_graph(selected_value):\n",
    "    if selected_value == 'fig_lines':\n",
    "        fig = make_subplots(specs=[[{\"secondary_y\": True}]])\n",
    "        fig.add_trace(\n",
    "        go.Scatter( x = cooking_error_quarter[\"quarter\"], y = cooking_error_quarter[\"생산수\"],\n",
    "        mode = 'lines', name = '분기별 간편식 생산품목 수'),\n",
    "        secondary_y=False,)\n",
    "        fig.add_trace(\n",
    "        go.Scatter( x = cooking_error_quarter[\"quarter\"], y = cooking_error_quarter[\"오류발생여부\"],\n",
    "        mode = 'lines', name = '분기별 오류발생 현황'),\n",
    "        secondary_y=True,)\n",
    "# # Add figure title\n",
    "        fig.update_layout(\n",
    "        title_text=\"분기별 생산품목과 오류발생\")\n",
    "        fig.update_xaxes(title_text=\"분기\")\n",
    "        fig.update_yaxes(title_text=\"<b>생산품목</b>\", secondary_y=False)\n",
    "        fig.update_yaxes(title_text=\"<b>오류발생</b>\", secondary_y=True)\n",
    "        return fig_line1\n",
    "    else:\n",
    "        fig = px.scatter(cooking_error_quarter, x=cooking_error_quarter[\"생산수\"], y=cooking_error_quarter[\"오류발생여부\"], trendline=\"ols\")\n",
    "        fig.update_layout(title_text=\"분기별 생산품목과 오류발생\")\n",
    "        return fig_line2\n",
    "\n",
    "    if __name__ == '__main__':\n",
    "        app.run_server(debug=True, mode='inline', host='127.0.0.6')"
   ]
  },
  {
   "cell_type": "code",
   "execution_count": null,
   "id": "e334ce45",
   "metadata": {},
   "outputs": [],
   "source": []
  },
  {
   "cell_type": "markdown",
   "id": "6dac43b4-945e-47f7-be60-165decac25b0",
   "metadata": {},
   "source": [
    "from dash import Dash, html, dcc, Input, Output\n",
    "import plotly.express as px\n",
    "import pandas as pd\n",
    "from jupyter_dash import JupyterDash\n",
    "\n",
    "import pandas as pd\n",
    "import plotly.express as px\n",
    "from jupyter_dash import JupyterDash\n",
    "import dash_html_components as html\n",
    "import dash_core_components as dcc\n",
    "\n",
    "년_간편식_HMR__구입_변화_예상_1 = pd.DataFrame({'names': ['현 수준 유지', '약간 증가', '약간 감소', '매우 감소'],\n",
    "                   'values': [74.9, 22.5, 2.4, 0.2]})\n",
    "import plotly.express as px\n",
    "\n",
    "fig = px.pie(년_간편식_HMR__구입_변화_예상_1, values=[74.9, 22.5, 2.4, 0.2], names=['현 수준 유지', '약간 증가', '약간 감소', ' 매우 감소'])\n",
    "fig.update_traces(textposition='inside', textinfo='percent+label')\n",
    "fig.update_layout(\n",
    "    annotations=[dict(x=0.5, y=1.2, showarrow=False, text='향후 1년 HMR 구입 변화 예상', font=dict(size=20))],\n",
    "    margin=dict(t=100)\n",
    ")\n",
    "app = JupyterDash(__name__)\n",
    "\n",
    "app.layout = html.Div([\n",
    "    dcc.Graph(id='graph', figure=fig)\n",
    "])\n",
    "\n",
    "app.run_server(mode='inline')\n",
    "\n",
    "\n",
    "\n",
    ",\n",
    "        dcc.RangeSlider(id='year-slider',\n",
    "                        min=year_earn['year'].min(),\n",
    "                        max=year_earn['year'].max(),\n",
    "                        value=[year_earn['year'].min(), year_earn['year'].max()],\n",
    "                        marks={str(year): str(year) for year in year_earn['year'].unique()}) "
   ]
  },
  {
   "cell_type": "code",
   "execution_count": null,
   "id": "63f69dcf",
   "metadata": {},
   "outputs": [],
   "source": [
    "cooking_error_quarter = pd.read_csv('data/cooking_error_quarter.csv')\n"
   ]
  }
 ],
 "metadata": {
  "kernelspec": {
   "display_name": "pkernel",
   "language": "python",
   "name": "py"
  },
  "language_info": {
   "codemirror_mode": {
    "name": "ipython",
    "version": 3
   },
   "file_extension": ".py",
   "mimetype": "text/x-python",
   "name": "python",
   "nbconvert_exporter": "python",
   "pygments_lexer": "ipython3",
   "version": "3.7.16"
  }
 },
 "nbformat": 4,
 "nbformat_minor": 5
}
