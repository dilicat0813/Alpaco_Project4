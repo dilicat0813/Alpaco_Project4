{
 "cells": [
  {
   "cell_type": "code",
   "execution_count": 1,
   "id": "5c265f94-5aa8-4794-a1ae-85c17d000257",
   "metadata": {},
   "outputs": [],
   "source": [
    "# !pip install dash\n",
    "# !pip install jupyter-dash\n",
    "# !pip install dash-bootstrap-components\n",
    "# !pip install statsmodels"
   ]
  },
  {
   "cell_type": "code",
   "execution_count": 2,
   "id": "cc129138",
   "metadata": {},
   "outputs": [],
   "source": [
    "import pandas as pd\n",
    "import plotly.express as px\n",
    "from jupyter_dash import JupyterDash\n",
    "from dash import Dash, dcc, html, Input, Output\n",
    "import dash_bootstrap_components as dbc\n",
    "import plotly.graph_objs as go\n",
    "import plotly.graph_objects as go\n",
    "from plotly.subplots import make_subplots\n",
    "\n",
    "# import year_earn, buyer form csv file\n",
    "year_earn = pd.read_csv('data/year_earn.csv')\n",
    "buyer = pd.read_csv('data/buyer.csv')\n",
    "\n",
    "#스캐터 5개 그래프 \n",
    "scatter5 = pd.read_csv('data/scatter5.csv')\n",
    "scatter5_names = ['충전실온도', '실링온도', '쿠킹온도', '쿠킹스팀압력', '실링압력']\n",
    "# fig1 = px.scatter(scatter5, x = scatter5['생산일자'], y = scatter5['쿠킹스팀압력'], color = scatter5['오류발생여부'])\n",
    "# fig2 = px.scatter(scatter5, x = scatter5['생산일자'], y = scatter5['충전실온도'], color = scatter5['오류발생여부'])\n",
    "# fig3 = px.scatter(scatter5, x = scatter5['생산일자'], y = scatter5['실링온도'], color = scatter5['오류발생여부'])\n",
    "# fig4 = px.scatter(scatter5, x = scatter5['생산일자'], y = scatter5['쿠킹온도'], color = scatter5['오류발생여부'])\n",
    "# fig5 = px.scatter(scatter5, x = scatter5['생산일자'], y = scatter5['실링압력'], color = scatter5['오류발생여부'])\n",
    "\n",
    "#파이그래프1(110)\n",
    "pie1 = pd.read_csv('data/pie1.csv')\n",
    "pie1 = pie1.drop('name_y', axis=1)\n",
    "pie1.rename(columns={'name_x': 'name'}, inplace=True) #간단한 드롭\n",
    "pie1= pie1.groupby('name')['Error_class'].count()\n",
    "# fig_pie1 = px.pie(pie1, values='Error_class', names=pie1.index)\n",
    "\n",
    "#파이그래프2(1074)\n",
    "pie2 = pd.read_csv('data/errored_pie.csv')\n",
    "pie2= pie2.groupby('name')['Error_class'].count()\n",
    "#fig_pie2 = px.pie(pie2, values='Error_class', names=pie2.index)\n",
    "\n",
    "#연단위 오류 발생률\n",
    "Error_per = pd.read_csv('data/Error_per.csv')\n",
    "Error_per['per']=Error_per['per'].round(2)\n",
    "# fig = px.line(Error_per, x=\"year\", y=\"per\", text=\"per\")\n",
    "# fig.update_traces(textposition=\"bottom right\")\n",
    "\n",
    "#바이올린 차트_생산시간\n",
    "violin_cooking = pd.read_csv('data/violin_cooking.csv')\n",
    "vio1 = px.violin(violin_cooking, box=True, y='생산시간')\n",
    "\n",
    "#바이올린 차트_오류발생시간\n",
    "violin_error = pd.read_csv('data/violin_error.csv')\n",
    "vio2 = px.violin(violin_error, box=True, y='오류조치시간_보정')\n",
    "\n",
    "#데이터 프레임 생성\n",
    "df = pd.DataFrame({\n",
    "    'year':[2016, 2017, 2018, 2019, 2020, 2021, 2022],\n",
    "    'market': [227000000000, 274000000000, 320000000000, 350000000000, 400000000000, 450000000000, 500000000000]\n",
    "})\n",
    "\n",
    "년_간편식_HMR__구입_변화_예상_1 = pd.DataFrame({'names': ['현 수준 유지', '약간 증가', '약간 감소', '매우 감소'],\n",
    "                   'values': [74.9, 22.5, 2.4, 0.2]})\n",
    "\n",
    "#id=update_graph2, fig3\n",
    "fig3 = px.pie(년_간편식_HMR__구입_변화_예상_1, values=[74.9, 22.5, 2.4, 0.2], names=['현 수준 유지', '약간 증가', '약간 감소', ' 매우 감소'])\n",
    "fig3.update_traces(textposition='inside', textinfo='percent+label')\n",
    "fig3.update_layout(\n",
    "    annotations=[dict(x=0.5, y=1.2, showarrow=False, text='향후 1년 HMR 구입 변화 예상', font=dict(size=20))],\n",
    "    margin=dict(t=100)\n",
    ")\n",
    "\n",
    "#라인2개 그래프 & 상관관계 그래프\n",
    "cooking_error_quarter = pd.read_csv('data/cooking_error_quarter.csv')\n",
    "\n",
    "#상관관계\n",
    "# fig = px.scatter(cooking_error_quarter, x=cooking_error_quarter[\"생산수\"], y=cooking_error_quarter[\"오류발생여부\"], trendline=\"ols\")\n",
    "# fig.update_layout(title_text=\"분기별 생산품목과 오류발생\")\n",
    "\n",
    "#라인2개 그래프\n",
    "# fig = make_subplots(specs=[[{\"secondary_y\": True}]])\n",
    "# fig.add_trace(\n",
    "#     go.Scatter( x = cooking_error_quarter[\"quarter\"], y = cooking_error_quarter[\"생산수\"],\n",
    "#     mode = 'lines', name = '분기별 간편식 생산품목 수'),\n",
    "#     secondary_y=False,)\n",
    "# fig.add_trace(\n",
    "#     go.Scatter( x = cooking_error_quarter[\"quarter\"], y = cooking_error_quarter[\"오류발생여부\"],\n",
    "#     mode = 'lines', name = '분기별 오류발생 현황'),\n",
    "#     secondary_y=True,)\n",
    "# # Add figure title\n",
    "# fig.update_layout(\n",
    "#     title_text=\"분기별 생산품목과 오류발생\")\n",
    "# fig.update_xaxes(title_text=\"분기\")\n",
    "# fig.update_yaxes(title_text=\"<b>생산품목</b>\", secondary_y=False)\n",
    "# fig.update_yaxes(title_text=\"<b>오류발생</b>\", secondary_y=True)"
   ]
  },
  {
   "cell_type": "code",
   "execution_count": 3,
   "id": "a3c175d9-5c38-4c96-b5a5-aec8f4f11926",
   "metadata": {},
   "outputs": [
    {
     "name": "stdout",
     "output_type": "stream",
     "text": [
      "Dash is running on http://127.0.0.6:8050/\n",
      "\n"
     ]
    },
    {
     "data": {
      "text/html": [
       "\n",
       "        <iframe\n",
       "            width=\"100%\"\n",
       "            height=\"650\"\n",
       "            src=\"http://127.0.0.6:8050/\"\n",
       "            frameborder=\"0\"\n",
       "            allowfullscreen\n",
       "            \n",
       "        ></iframe>\n",
       "        "
      ],
      "text/plain": [
       "<IPython.lib.display.IFrame at 0x1c44e27bb50>"
      ]
     },
     "metadata": {},
     "output_type": "display_data"
    }
   ],
   "source": [
    "def Header2(name, app):\n",
    "    title = html.H2(name, style={\"margin-top\": 5})\n",
    "    return dbc.Row([dbc.Col(title, md=9)])\n",
    "\n",
    "def Header1(name, app):\n",
    "    title = html.H1(name, style={\"margin-top\": 5})\n",
    "    return dbc.Row([dbc.Col(title, md=9)])\n",
    "\n",
    "# Card components\n",
    "\n",
    "# Basement Cards\n",
    "cards = [\n",
    "    dbc.Card(\n",
    "        [\n",
    "            html.H2(f\"{5/45*100}%\", className=\"card-title\"),\n",
    "            html.P(\"HMR Market Increasing\", className=\"card-text\"),\n",
    "        ],\n",
    "        body=True,\n",
    "        color=\"dark\",\n",
    "        inverse=True,\n",
    "    ),\n",
    "    dbc.Card(\n",
    "        [\n",
    "            html.H2(f\"계산식 미정\", className=\"card-title\"),\n",
    "            html.P(\"Decline in Company Sales\", className=\"card-text\"),\n",
    "        ],\n",
    "        body=True,\n",
    "        color=\"primary\",\n",
    "        inverse=True,\n",
    "    ),\n",
    "]\n",
    "\n",
    "# Analyze Cards\n",
    "cards2 = [\n",
    "    dbc.Card(\n",
    "        [\n",
    "            html.H2(f\"Analyze1\", className=\"card-title\"),\n",
    "            html.P(\"Error1\", className=\"card-text\"),\n",
    "        ],\n",
    "        body=True,\n",
    "        color=\"dark\",\n",
    "        inverse=True,\n",
    "    ),\n",
    "    dbc.Card(\n",
    "        [\n",
    "            html.H2(f\"Analyze2\", className=\"card-title\"),\n",
    "            html.P(\"Error2\", className=\"card-text\"),\n",
    "        ],\n",
    "        body=True,\n",
    "        color=\"primary\",\n",
    "        inverse=True,\n",
    "    ),\n",
    "]\n",
    "\n",
    "# Predict Cards(추후 추가)\n",
    "\n",
    "\n",
    "cards3 = [\n",
    "    dbc.Card(\n",
    "        [\n",
    "            html.H2(f\"Predict1\", className=\"card-title\"),\n",
    "            html.P(\"Modeling1\", className=\"card-text\"),\n",
    "        ],\n",
    "        body=True,\n",
    "        color=\"dark\",\n",
    "        inverse=True,\n",
    "    ),\n",
    "    dbc.Card(\n",
    "        [\n",
    "            html.H2(f\"Predict2\", className=\"card-title\"),\n",
    "            html.P(\"Modeling2\", className=\"card-text\"),\n",
    "        ],\n",
    "        body=True,\n",
    "        color=\"primary\",\n",
    "        inverse=True,\n",
    "    ),\n",
    "]\n",
    "\n",
    "# Graph components\n",
    "# Basement_Graphs\n",
    "graphs1 = [[dcc.Graph(id=\"update_graph\"), #1행 1열\n",
    "            dcc.RangeSlider(df['year'].min(),\n",
    "                            df['year'].max(),\n",
    "                            value=[df['year'].min(), df['year'].max()], #수정사항, 슬라이더 초기값(처음값과 끝값)\n",
    "                            marks={str(year): str(year) for year in df['year'].unique()}, #수정사항 RangeSlider, Slider 모두에 적용\n",
    "                            id='slider1')]\n",
    "            , [dcc.Graph(id=\"update_graph2\", figure=fig3)]] #1행 2열\n",
    "\n",
    "graphs2 = [[dcc.Graph(id='booking-with-graph'), #2행 1열\n",
    "            dcc.RangeSlider(id='year-slider',\n",
    "                            min=year_earn['year'].min(),\n",
    "                            max=year_earn['year'].max(),\n",
    "                            value=[year_earn['year'].min(), year_earn['year'].max()],\n",
    "                            marks={str(year): str(year) for year in year_earn['year'].unique()})],\n",
    "           [dcc.Graph(id='yearly-transaction-graph'), #2행 2열\n",
    "            dcc.RangeSlider(id='year-slider2',\n",
    "                            min= buyer['year'].min(),\n",
    "                            max= buyer['year'].max(),\n",
    "                            step=None,\n",
    "                            value=[buyer['year'].min(), buyer['year'].max()],\n",
    "                            marks={str(year): str(year) for year in buyer['year'].unique()})\n",
    "            ]]\n",
    "        \n",
    "# Analyze Graph\n",
    "\n",
    "graphs4 = [[dcc.Graph(id=\"pies\"),\n",
    "            dcc.Dropdown(id='pie-select',\n",
    "                         options=[{'label':'오류메세지 분류(총 110종)', 'value':'fig_pie1'},\n",
    "                                  {'label':'전체오류(1074건) 재분류 후 분포', 'value':'fig_pie2'}],\n",
    "                         value='fig_pie1'\n",
    "                         )]\n",
    "            ]\n",
    "\n",
    "# graphs3 = [[dcc.Graph(id=\"\"),\n",
    "#             dcc.Dropdown()],\n",
    "#            [dcc.Graph(id=\"\"),\n",
    "#             dcc.Dropdown()]]\n",
    "\n",
    "graphs5 = [[dcc.Graph(id=\"scatter-5\"),\n",
    "            dcc.Dropdown(id='yvar_name',\n",
    "                     options=scatter5_names,\n",
    "                     value=scatter5_names[0],\n",
    "                     placeholder='Select X-axis column')]  #Dropdown 변경은 자율\n",
    "           ]\n",
    "\n",
    "\n",
    "\n",
    "# Predict Graph(추후 추가)\n",
    "\n",
    "# graphs5 = [[dcc.Graph(id=\"\"),\n",
    "#             dcc.Dropdown()],  #Dropdown 변경은 자율\n",
    "#            [dcc.Graph(id=\"\"),\n",
    "#             dcc.Dropdown()]]\n",
    "\n",
    "# graphs6 = [[dcc.Graph(id=\"\"),\n",
    "#             dcc.Dropdown()],\n",
    "#            [dcc.Graph(id=\"\"),\n",
    "#             dcc.Dropdown()]]\n",
    "\n",
    "\n",
    "\n",
    "app = JupyterDash(__name__, external_stylesheets=[dbc.themes.BOOTSTRAP])\n",
    "\n",
    "app.layout = dbc.Container(\n",
    "    [\n",
    "        Header1(\"불량예측 모델을 통한 수익성 개선\", app),\n",
    "        html.Hr(),\n",
    "        Header2(\"Basement\", app),\n",
    "        html.Br(),\n",
    "        dbc.Row([dbc.Col(card) for card in cards]),\n",
    "        html.Br(),\n",
    "        dbc.Row([dbc.Col(graph) for graph in graphs1]),\n",
    "        html.Br(),\n",
    "        dbc.Row([dbc.Col(graph) for graph in graphs2]),\n",
    "        html.Br(),\n",
    "        html.Hr(),\n",
    "        Header2(\"Analyze\", app),\n",
    "        html.Br(),\n",
    "        dbc.Row([dbc.Col(card) for card in cards2]),        \n",
    "        html.Br(),\n",
    "        dbc.Row([dbc.Col(graph) for graph in graphs4]), #그래프4 (파이)\n",
    "        html.Br(),\n",
    "        dbc.Row([dbc.Col(graph) for graph in graphs5]), #그래프5 (스캐터)\n",
    "        html.Br(),\n",
    "        html.Hr(),\n",
    "        Header2(\"Predict\", app),\n",
    "        html.Br(),\n",
    "        dbc.Row([dbc.Col(card) for card in cards3]),\n",
    "        # html.Br(),\n",
    "        # dbc.Row([dbc.Col(graph) for graph in graphs3]), #그래프3 \n",
    "        # html.Br(),\n",
    "        # dbc.Row([dbc.Col(graph) for graph in graphs4]), #그래프4  \n",
    "    ],\n",
    "    fluid=False,\n",
    ")\n",
    "\n",
    "#Basement Graph Callback list\n",
    "    #그래프 1행 1열 콜백\n",
    "@app.callback(\n",
    "    Output(component_id='update_graph', component_property='figure'), \n",
    "    Input(component_id='slider1', component_property='value')\n",
    ")\n",
    "def update_graph(year):\n",
    "    filtered_df = df[(df['year'] >= year[0]) & (df['year'] <= year[1])] #수정사항, 슬라이더 값지정하는 임시 df생성\n",
    "    fig1 = px.bar(filtered_df, x=filtered_df['year'], y=filtered_df['market'])\n",
    "    fig1.update_layout(title_text=\"HMR Market Changes\",\n",
    "                      title_font_size=30)\n",
    "    return(fig1)\n",
    "\n",
    "\n",
    "    #그래프 2행 1열 콜백\n",
    "@app.callback(\n",
    "    Output(component_id='booking-with-graph', component_property='figure'), \n",
    "    Input(component_id='year-slider', component_property='value')\n",
    ")\n",
    "def update_graph2(year):\n",
    "    filtered_df2 = year_earn[(year_earn['year'] >= year[0]) & (year_earn['year'] <= year[1])]\n",
    "    fig2 = px.bar(filtered_df2, x='year', y='수주금액')\n",
    "    fig2.update_layout(title_text=\"연도별 수주금액추이\",title_font_size=30)\n",
    "    return(fig2)           \n",
    "\n",
    "    #그래프 2행 2열 콜백\n",
    "@app.callback(\n",
    "    Output(component_id='yearly-transaction-graph', component_property='figure'),\n",
    "    Input(component_id='year-slider2', component_property='value')\n",
    ")\n",
    "def update_figure(selected_years):\n",
    "    filtered_df3 = buyer[(buyer['year'] >= selected_years[0]) & (buyer['year'] <= selected_years[1])]\n",
    "    fig4 = go.Figure(data=[go.Bar(x=filtered_df3['year'], y=filtered_df3['거래처코드'])],\n",
    "                     layout=go.Layout(title=go.layout.Title(text=\"연도별 거래건수 변동추이\", x=0.5),\n",
    "                                      xaxis=dict(title='연도'),\n",
    "                                      yaxis=dict(title='거래건수'),\n",
    "                                      barmode='group')\n",
    "                    )\n",
    "    return fig4\n",
    "     \n",
    "#Analyze Graph Callback list\n",
    "    #그래프 1행 1열 콜백\n",
    "    #태호님/영광님\n",
    "\n",
    "    #그래프 1행 2열 콜백\n",
    "    #영광님 해주신거\n",
    "\n",
    "    #그래프 2행 1열 콜백\n",
    "    #종현님 해주실거\n",
    "\n",
    "    #그래프 2행 2열 콜백\n",
    "@app.callback(\n",
    "    Output(component_id='pies', component_property='figure'),\n",
    "     Input(component_id='pie-select', component_property='value')\n",
    ")\n",
    "def update_graph2by1(selected_value):\n",
    "    if selected_value == 'fig_pie1':\n",
    "        fig_pie1 = px.pie(pie1, values='Error_class', names=pie1.index)\n",
    "        return fig_pie1\n",
    "    else:\n",
    "        fig_pie2 = px.pie(pie2, values='Error_class', names=pie2.index)\n",
    "        return fig_pie2\n",
    "    \n",
    "    #그래프 3행 1열 콜백\n",
    "@app.callback(\n",
    "    Output(component_id='scatter-5', component_property='figure'),\n",
    "     Input(component_id='yvar_name', component_property='value')\n",
    ")\n",
    "def update_graph(yvar):\n",
    "    fig = px.scatter(scatter5, x=scatter5['생산일자'], y=yvar, color=scatter5['오류발생여부'])\n",
    "    fig.update_layout(title_text=\"오류발생요인(\"+yvar+')에 따른 오류제품 분포 ',\n",
    "                      title_font_size=30)\n",
    "    return(fig) \n",
    "#Predict Graph Callback list\n",
    "    #그래프 1행 1열 콜백\n",
    "\n",
    "    #그래프 1행 2열 콜백\n",
    "\n",
    "    #그래프 2행 1열 콜백\n",
    "\n",
    "    #그래프 2행 2열 콜백\n",
    "\n",
    "    #그래프 3행 1열 콜백\n",
    "\n",
    "if __name__ == '__main__':\n",
    "    app.run_server(debug=True, mode='inline', host='127.0.0.6')\n",
    "    "
   ]
  },
  {
   "cell_type": "code",
   "execution_count": 4,
   "id": "86dc0bb6",
   "metadata": {},
   "outputs": [
    {
     "name": "stdout",
     "output_type": "stream",
     "text": [
      "Dash is running on http://127.0.0.8:8050/\n",
      "\n"
     ]
    },
    {
     "ename": "OSError",
     "evalue": "Address 'http://127.0.0.8:8050' already in use.\n    Try passing a different port to run_server.",
     "output_type": "error",
     "traceback": [
      "\u001b[1;31m---------------------------------------------------------------------------\u001b[0m",
      "\u001b[1;31mOSError\u001b[0m                                   Traceback (most recent call last)",
      "Cell \u001b[1;32mIn[4], line 68\u001b[0m\n\u001b[0;32m     65\u001b[0m         \u001b[39mreturn\u001b[39;00m(fig2)\n\u001b[0;32m     67\u001b[0m \u001b[39mif\u001b[39;00m \u001b[39m__name__\u001b[39m \u001b[39m==\u001b[39m \u001b[39m'\u001b[39m\u001b[39m__main__\u001b[39m\u001b[39m'\u001b[39m:\n\u001b[1;32m---> 68\u001b[0m     app\u001b[39m.\u001b[39;49mrun_server(debug\u001b[39m=\u001b[39;49m\u001b[39mTrue\u001b[39;49;00m, mode\u001b[39m=\u001b[39;49m\u001b[39m'\u001b[39;49m\u001b[39minline\u001b[39;49m\u001b[39m'\u001b[39;49m, host\u001b[39m=\u001b[39;49m\u001b[39m'\u001b[39;49m\u001b[39m127.0.0.8\u001b[39;49m\u001b[39m'\u001b[39;49m)\n",
      "File \u001b[1;32m~\\AppData\\Roaming\\Python\\Python310\\site-packages\\jupyter_dash\\jupyter_app.py:339\u001b[0m, in \u001b[0;36mJupyterDash.run_server\u001b[1;34m(self, mode, width, height, inline_exceptions, **kwargs)\u001b[0m\n\u001b[0;32m    329\u001b[0m         url \u001b[39m=\u001b[39m \u001b[39m\"\u001b[39m\u001b[39mhttp://\u001b[39m\u001b[39m{host}\u001b[39;00m\u001b[39m:\u001b[39m\u001b[39m{port}\u001b[39;00m\u001b[39m\"\u001b[39m\u001b[39m.\u001b[39mformat(\n\u001b[0;32m    330\u001b[0m             host\u001b[39m=\u001b[39mhost, port\u001b[39m=\u001b[39mport, token\u001b[39m=\u001b[39mJupyterDash\u001b[39m.\u001b[39m_token\n\u001b[0;32m    331\u001b[0m         )\n\u001b[0;32m    332\u001b[0m         \u001b[39mraise\u001b[39;00m \u001b[39mOSError\u001b[39;00m(\n\u001b[0;32m    333\u001b[0m             \u001b[39m\"\u001b[39m\u001b[39mAddress \u001b[39m\u001b[39m'\u001b[39m\u001b[39m{url}\u001b[39;00m\u001b[39m'\u001b[39m\u001b[39m already in use.\u001b[39m\u001b[39m\\n\u001b[39;00m\u001b[39m\"\u001b[39m\n\u001b[0;32m    334\u001b[0m             \u001b[39m\"\u001b[39m\u001b[39m    Try passing a different port to run_server.\u001b[39m\u001b[39m\"\u001b[39m\u001b[39m.\u001b[39mformat(\n\u001b[0;32m    335\u001b[0m                 url\u001b[39m=\u001b[39murl\n\u001b[0;32m    336\u001b[0m             )\n\u001b[0;32m    337\u001b[0m         )\n\u001b[1;32m--> 339\u001b[0m wait_for_app()\n\u001b[0;32m    341\u001b[0m \u001b[39mif\u001b[39;00m JupyterDash\u001b[39m.\u001b[39m_in_colab:\n\u001b[0;32m    342\u001b[0m     \u001b[39mself\u001b[39m\u001b[39m.\u001b[39m_display_in_colab(dashboard_url, port, mode, width, height)\n",
      "File \u001b[1;32m~\\AppData\\Roaming\\Python\\Python310\\site-packages\\retrying.py:56\u001b[0m, in \u001b[0;36mretry.<locals>.wrap.<locals>.wrapped_f\u001b[1;34m(*args, **kw)\u001b[0m\n\u001b[0;32m     54\u001b[0m \u001b[39m@six\u001b[39m\u001b[39m.\u001b[39mwraps(f)\n\u001b[0;32m     55\u001b[0m \u001b[39mdef\u001b[39;00m \u001b[39mwrapped_f\u001b[39m(\u001b[39m*\u001b[39margs, \u001b[39m*\u001b[39m\u001b[39m*\u001b[39mkw):\n\u001b[1;32m---> 56\u001b[0m     \u001b[39mreturn\u001b[39;00m Retrying(\u001b[39m*\u001b[39mdargs, \u001b[39m*\u001b[39m\u001b[39m*\u001b[39mdkw)\u001b[39m.\u001b[39mcall(f, \u001b[39m*\u001b[39margs, \u001b[39m*\u001b[39m\u001b[39m*\u001b[39mkw)\n",
      "File \u001b[1;32m~\\AppData\\Roaming\\Python\\Python310\\site-packages\\retrying.py:266\u001b[0m, in \u001b[0;36mRetrying.call\u001b[1;34m(self, fn, *args, **kwargs)\u001b[0m\n\u001b[0;32m    263\u001b[0m \u001b[39mif\u001b[39;00m \u001b[39mself\u001b[39m\u001b[39m.\u001b[39mstop(attempt_number, delay_since_first_attempt_ms):\n\u001b[0;32m    264\u001b[0m     \u001b[39mif\u001b[39;00m \u001b[39mnot\u001b[39;00m \u001b[39mself\u001b[39m\u001b[39m.\u001b[39m_wrap_exception \u001b[39mand\u001b[39;00m attempt\u001b[39m.\u001b[39mhas_exception:\n\u001b[0;32m    265\u001b[0m         \u001b[39m# get() on an attempt with an exception should cause it to be raised, but raise just in case\u001b[39;00m\n\u001b[1;32m--> 266\u001b[0m         \u001b[39mraise\u001b[39;00m attempt\u001b[39m.\u001b[39;49mget()\n\u001b[0;32m    267\u001b[0m     \u001b[39melse\u001b[39;00m:\n\u001b[0;32m    268\u001b[0m         \u001b[39mraise\u001b[39;00m RetryError(attempt)\n",
      "File \u001b[1;32m~\\AppData\\Roaming\\Python\\Python310\\site-packages\\retrying.py:301\u001b[0m, in \u001b[0;36mAttempt.get\u001b[1;34m(self, wrap_exception)\u001b[0m\n\u001b[0;32m    299\u001b[0m         \u001b[39mraise\u001b[39;00m RetryError(\u001b[39mself\u001b[39m)\n\u001b[0;32m    300\u001b[0m     \u001b[39melse\u001b[39;00m:\n\u001b[1;32m--> 301\u001b[0m         six\u001b[39m.\u001b[39;49mreraise(\u001b[39mself\u001b[39;49m\u001b[39m.\u001b[39;49mvalue[\u001b[39m0\u001b[39;49m], \u001b[39mself\u001b[39;49m\u001b[39m.\u001b[39;49mvalue[\u001b[39m1\u001b[39;49m], \u001b[39mself\u001b[39;49m\u001b[39m.\u001b[39;49mvalue[\u001b[39m2\u001b[39;49m])\n\u001b[0;32m    302\u001b[0m \u001b[39melse\u001b[39;00m:\n\u001b[0;32m    303\u001b[0m     \u001b[39mreturn\u001b[39;00m \u001b[39mself\u001b[39m\u001b[39m.\u001b[39mvalue\n",
      "File \u001b[1;32m~\\AppData\\Roaming\\Python\\Python310\\site-packages\\six.py:719\u001b[0m, in \u001b[0;36mreraise\u001b[1;34m(tp, value, tb)\u001b[0m\n\u001b[0;32m    717\u001b[0m     \u001b[39mif\u001b[39;00m value\u001b[39m.\u001b[39m__traceback__ \u001b[39mis\u001b[39;00m \u001b[39mnot\u001b[39;00m tb:\n\u001b[0;32m    718\u001b[0m         \u001b[39mraise\u001b[39;00m value\u001b[39m.\u001b[39mwith_traceback(tb)\n\u001b[1;32m--> 719\u001b[0m     \u001b[39mraise\u001b[39;00m value\n\u001b[0;32m    720\u001b[0m \u001b[39mfinally\u001b[39;00m:\n\u001b[0;32m    721\u001b[0m     value \u001b[39m=\u001b[39m \u001b[39mNone\u001b[39;00m\n",
      "File \u001b[1;32m~\\AppData\\Roaming\\Python\\Python310\\site-packages\\retrying.py:251\u001b[0m, in \u001b[0;36mRetrying.call\u001b[1;34m(self, fn, *args, **kwargs)\u001b[0m\n\u001b[0;32m    248\u001b[0m     \u001b[39mself\u001b[39m\u001b[39m.\u001b[39m_before_attempts(attempt_number)\n\u001b[0;32m    250\u001b[0m \u001b[39mtry\u001b[39;00m:\n\u001b[1;32m--> 251\u001b[0m     attempt \u001b[39m=\u001b[39m Attempt(fn(\u001b[39m*\u001b[39margs, \u001b[39m*\u001b[39m\u001b[39m*\u001b[39mkwargs), attempt_number, \u001b[39mFalse\u001b[39;00m)\n\u001b[0;32m    252\u001b[0m \u001b[39mexcept\u001b[39;00m:\n\u001b[0;32m    253\u001b[0m     tb \u001b[39m=\u001b[39m sys\u001b[39m.\u001b[39mexc_info()\n",
      "File \u001b[1;32m~\\AppData\\Roaming\\Python\\Python310\\site-packages\\jupyter_dash\\jupyter_app.py:332\u001b[0m, in \u001b[0;36mJupyterDash.run_server.<locals>.wait_for_app\u001b[1;34m()\u001b[0m\n\u001b[0;32m    328\u001b[0m \u001b[39mif\u001b[39;00m res \u001b[39m!=\u001b[39m \u001b[39m\"\u001b[39m\u001b[39mAlive\u001b[39m\u001b[39m\"\u001b[39m:\n\u001b[0;32m    329\u001b[0m     url \u001b[39m=\u001b[39m \u001b[39m\"\u001b[39m\u001b[39mhttp://\u001b[39m\u001b[39m{host}\u001b[39;00m\u001b[39m:\u001b[39m\u001b[39m{port}\u001b[39;00m\u001b[39m\"\u001b[39m\u001b[39m.\u001b[39mformat(\n\u001b[0;32m    330\u001b[0m         host\u001b[39m=\u001b[39mhost, port\u001b[39m=\u001b[39mport, token\u001b[39m=\u001b[39mJupyterDash\u001b[39m.\u001b[39m_token\n\u001b[0;32m    331\u001b[0m     )\n\u001b[1;32m--> 332\u001b[0m     \u001b[39mraise\u001b[39;00m \u001b[39mOSError\u001b[39;00m(\n\u001b[0;32m    333\u001b[0m         \u001b[39m\"\u001b[39m\u001b[39mAddress \u001b[39m\u001b[39m'\u001b[39m\u001b[39m{url}\u001b[39;00m\u001b[39m'\u001b[39m\u001b[39m already in use.\u001b[39m\u001b[39m\\n\u001b[39;00m\u001b[39m\"\u001b[39m\n\u001b[0;32m    334\u001b[0m         \u001b[39m\"\u001b[39m\u001b[39m    Try passing a different port to run_server.\u001b[39m\u001b[39m\"\u001b[39m\u001b[39m.\u001b[39mformat(\n\u001b[0;32m    335\u001b[0m             url\u001b[39m=\u001b[39murl\n\u001b[0;32m    336\u001b[0m         )\n\u001b[0;32m    337\u001b[0m     )\n",
      "\u001b[1;31mOSError\u001b[0m: Address 'http://127.0.0.8:8050' already in use.\n    Try passing a different port to run_server."
     ]
    }
   ],
   "source": [
    "# !pip install dash\n",
    "# !pip install jupyter-dash\n",
    "# !pip install dash-bootstrap-components\n",
    "# !pip install statsmodels\n",
    "\n",
    "import pandas as pd\n",
    "\n",
    "# # pandas 출력 옵션 설정\n",
    "# pd.set_option('display.max_rows', None)\n",
    "# pd.set_option('display.max_columns', None)\n",
    "# pd.set_option('display.width', None)\n",
    "# pd.set_option('display.max_colwidth', None)\n",
    "import plotly.graph_objs as go\n",
    "import plotly.graph_objects as go\n",
    "from plotly.subplots import make_subplots\n",
    "\n",
    "from dash import Dash, html, dcc, Input, Output\n",
    "import plotly.express as px\n",
    "import pandas as pd\n",
    "from jupyter_dash import JupyterDash\n",
    "import dash_bootstrap_components as dbc\n",
    "cooking_error_quarter = pd.read_csv('data/cooking_error_quarter.csv')\n",
    "\n",
    "graphs = [[dcc.Graph(id=\"lines\"),\n",
    "            dcc.Dropdown(id='lines-select',\n",
    "                         options=[{'label':'분기별 생산품목과 오류발생', 'value':'fig_line1'},\n",
    "                                  {'label':'생산수에 따른 오류발생 여부', 'value':'fig_line2'}],\n",
    "                         value='fig_line1' #초기값 설정\n",
    "                         )]\n",
    "            ]\n",
    "app = JupyterDash(__name__, external_stylesheets=[dbc.themes.BOOTSTRAP])\n",
    "\n",
    "app.layout = dbc.Container(\n",
    "    [\n",
    "       dbc.Row([dbc.Col(graph) for graph in graphs])\n",
    "    ],\n",
    "    fluid=False,\n",
    ")\n",
    "\n",
    "@app.callback(\n",
    "    Output(component_id='lines', component_property='figure'),\n",
    "    Input(component_id='lines-select', component_property='value')\n",
    ")\n",
    "def update_graph(selected_value):\n",
    "    if selected_value == 'fig_line1':\n",
    "        fig = make_subplots(specs=[[{\"secondary_y\": True}]])\n",
    "        fig.add_trace(\n",
    "        go.Scatter( x = cooking_error_quarter[\"quarter\"], y = cooking_error_quarter[\"생산수\"],\n",
    "        mode = 'lines', name = '분기별 간편식 생산품목 수'),\n",
    "        secondary_y=False,)\n",
    "        fig.add_trace(\n",
    "        go.Scatter( x = cooking_error_quarter[\"quarter\"], y = cooking_error_quarter[\"오류발생여부\"],\n",
    "        mode = 'lines', name = '분기별 오류발생 현황'),\n",
    "        secondary_y=True,)\n",
    "# # Add figure title\n",
    "        fig.update_layout(\n",
    "        title_text=\"분기별 생산품목과 오류발생\")\n",
    "        fig.update_xaxes(title_text=\"분기\")\n",
    "        fig.update_yaxes(title_text=\"<b>생산품목</b>\", secondary_y=False)\n",
    "        fig.update_yaxes(title_text=\"<b>오류발생</b>\", secondary_y=True)\n",
    "        return(fig)\n",
    "    else:\n",
    "        fig2 = px.scatter(cooking_error_quarter, x=cooking_error_quarter[\"생산수\"], y=cooking_error_quarter[\"오류발생여부\"], trendline=\"ols\")\n",
    "        fig2.update_layout(title_text=\"분기별 생산품목과 오류발생\")\n",
    "        return(fig2)\n",
    "\n",
    "if __name__ == '__main__':\n",
    "    app.run_server(debug=True, mode='inline', host='127.0.0.8')"
   ]
  },
  {
   "cell_type": "code",
   "execution_count": null,
   "id": "e334ce45",
   "metadata": {},
   "outputs": [
    {
     "data": {
      "application/vnd.plotly.v1+json": {
       "config": {
        "plotlyServerURL": "https://plot.ly"
       },
       "data": [
        {
         "type": "bar",
         "x": [
          "Train",
          "Test"
         ],
         "y": [
          0.9949623474422228,
          0.9835895305359369
         ]
        }
       ],
       "layout": {
        "template": {
         "data": {
          "bar": [
           {
            "error_x": {
             "color": "#2a3f5f"
            },
            "error_y": {
             "color": "#2a3f5f"
            },
            "marker": {
             "line": {
              "color": "#E5ECF6",
              "width": 0.5
             },
             "pattern": {
              "fillmode": "overlay",
              "size": 10,
              "solidity": 0.2
             }
            },
            "type": "bar"
           }
          ],
          "barpolar": [
           {
            "marker": {
             "line": {
              "color": "#E5ECF6",
              "width": 0.5
             },
             "pattern": {
              "fillmode": "overlay",
              "size": 10,
              "solidity": 0.2
             }
            },
            "type": "barpolar"
           }
          ],
          "carpet": [
           {
            "aaxis": {
             "endlinecolor": "#2a3f5f",
             "gridcolor": "white",
             "linecolor": "white",
             "minorgridcolor": "white",
             "startlinecolor": "#2a3f5f"
            },
            "baxis": {
             "endlinecolor": "#2a3f5f",
             "gridcolor": "white",
             "linecolor": "white",
             "minorgridcolor": "white",
             "startlinecolor": "#2a3f5f"
            },
            "type": "carpet"
           }
          ],
          "choropleth": [
           {
            "colorbar": {
             "outlinewidth": 0,
             "ticks": ""
            },
            "type": "choropleth"
           }
          ],
          "contour": [
           {
            "colorbar": {
             "outlinewidth": 0,
             "ticks": ""
            },
            "colorscale": [
             [
              0,
              "#0d0887"
             ],
             [
              0.1111111111111111,
              "#46039f"
             ],
             [
              0.2222222222222222,
              "#7201a8"
             ],
             [
              0.3333333333333333,
              "#9c179e"
             ],
             [
              0.4444444444444444,
              "#bd3786"
             ],
             [
              0.5555555555555556,
              "#d8576b"
             ],
             [
              0.6666666666666666,
              "#ed7953"
             ],
             [
              0.7777777777777778,
              "#fb9f3a"
             ],
             [
              0.8888888888888888,
              "#fdca26"
             ],
             [
              1,
              "#f0f921"
             ]
            ],
            "type": "contour"
           }
          ],
          "contourcarpet": [
           {
            "colorbar": {
             "outlinewidth": 0,
             "ticks": ""
            },
            "type": "contourcarpet"
           }
          ],
          "heatmap": [
           {
            "colorbar": {
             "outlinewidth": 0,
             "ticks": ""
            },
            "colorscale": [
             [
              0,
              "#0d0887"
             ],
             [
              0.1111111111111111,
              "#46039f"
             ],
             [
              0.2222222222222222,
              "#7201a8"
             ],
             [
              0.3333333333333333,
              "#9c179e"
             ],
             [
              0.4444444444444444,
              "#bd3786"
             ],
             [
              0.5555555555555556,
              "#d8576b"
             ],
             [
              0.6666666666666666,
              "#ed7953"
             ],
             [
              0.7777777777777778,
              "#fb9f3a"
             ],
             [
              0.8888888888888888,
              "#fdca26"
             ],
             [
              1,
              "#f0f921"
             ]
            ],
            "type": "heatmap"
           }
          ],
          "heatmapgl": [
           {
            "colorbar": {
             "outlinewidth": 0,
             "ticks": ""
            },
            "colorscale": [
             [
              0,
              "#0d0887"
             ],
             [
              0.1111111111111111,
              "#46039f"
             ],
             [
              0.2222222222222222,
              "#7201a8"
             ],
             [
              0.3333333333333333,
              "#9c179e"
             ],
             [
              0.4444444444444444,
              "#bd3786"
             ],
             [
              0.5555555555555556,
              "#d8576b"
             ],
             [
              0.6666666666666666,
              "#ed7953"
             ],
             [
              0.7777777777777778,
              "#fb9f3a"
             ],
             [
              0.8888888888888888,
              "#fdca26"
             ],
             [
              1,
              "#f0f921"
             ]
            ],
            "type": "heatmapgl"
           }
          ],
          "histogram": [
           {
            "marker": {
             "pattern": {
              "fillmode": "overlay",
              "size": 10,
              "solidity": 0.2
             }
            },
            "type": "histogram"
           }
          ],
          "histogram2d": [
           {
            "colorbar": {
             "outlinewidth": 0,
             "ticks": ""
            },
            "colorscale": [
             [
              0,
              "#0d0887"
             ],
             [
              0.1111111111111111,
              "#46039f"
             ],
             [
              0.2222222222222222,
              "#7201a8"
             ],
             [
              0.3333333333333333,
              "#9c179e"
             ],
             [
              0.4444444444444444,
              "#bd3786"
             ],
             [
              0.5555555555555556,
              "#d8576b"
             ],
             [
              0.6666666666666666,
              "#ed7953"
             ],
             [
              0.7777777777777778,
              "#fb9f3a"
             ],
             [
              0.8888888888888888,
              "#fdca26"
             ],
             [
              1,
              "#f0f921"
             ]
            ],
            "type": "histogram2d"
           }
          ],
          "histogram2dcontour": [
           {
            "colorbar": {
             "outlinewidth": 0,
             "ticks": ""
            },
            "colorscale": [
             [
              0,
              "#0d0887"
             ],
             [
              0.1111111111111111,
              "#46039f"
             ],
             [
              0.2222222222222222,
              "#7201a8"
             ],
             [
              0.3333333333333333,
              "#9c179e"
             ],
             [
              0.4444444444444444,
              "#bd3786"
             ],
             [
              0.5555555555555556,
              "#d8576b"
             ],
             [
              0.6666666666666666,
              "#ed7953"
             ],
             [
              0.7777777777777778,
              "#fb9f3a"
             ],
             [
              0.8888888888888888,
              "#fdca26"
             ],
             [
              1,
              "#f0f921"
             ]
            ],
            "type": "histogram2dcontour"
           }
          ],
          "mesh3d": [
           {
            "colorbar": {
             "outlinewidth": 0,
             "ticks": ""
            },
            "type": "mesh3d"
           }
          ],
          "parcoords": [
           {
            "line": {
             "colorbar": {
              "outlinewidth": 0,
              "ticks": ""
             }
            },
            "type": "parcoords"
           }
          ],
          "pie": [
           {
            "automargin": true,
            "type": "pie"
           }
          ],
          "scatter": [
           {
            "fillpattern": {
             "fillmode": "overlay",
             "size": 10,
             "solidity": 0.2
            },
            "type": "scatter"
           }
          ],
          "scatter3d": [
           {
            "line": {
             "colorbar": {
              "outlinewidth": 0,
              "ticks": ""
             }
            },
            "marker": {
             "colorbar": {
              "outlinewidth": 0,
              "ticks": ""
             }
            },
            "type": "scatter3d"
           }
          ],
          "scattercarpet": [
           {
            "marker": {
             "colorbar": {
              "outlinewidth": 0,
              "ticks": ""
             }
            },
            "type": "scattercarpet"
           }
          ],
          "scattergeo": [
           {
            "marker": {
             "colorbar": {
              "outlinewidth": 0,
              "ticks": ""
             }
            },
            "type": "scattergeo"
           }
          ],
          "scattergl": [
           {
            "marker": {
             "colorbar": {
              "outlinewidth": 0,
              "ticks": ""
             }
            },
            "type": "scattergl"
           }
          ],
          "scattermapbox": [
           {
            "marker": {
             "colorbar": {
              "outlinewidth": 0,
              "ticks": ""
             }
            },
            "type": "scattermapbox"
           }
          ],
          "scatterpolar": [
           {
            "marker": {
             "colorbar": {
              "outlinewidth": 0,
              "ticks": ""
             }
            },
            "type": "scatterpolar"
           }
          ],
          "scatterpolargl": [
           {
            "marker": {
             "colorbar": {
              "outlinewidth": 0,
              "ticks": ""
             }
            },
            "type": "scatterpolargl"
           }
          ],
          "scatterternary": [
           {
            "marker": {
             "colorbar": {
              "outlinewidth": 0,
              "ticks": ""
             }
            },
            "type": "scatterternary"
           }
          ],
          "surface": [
           {
            "colorbar": {
             "outlinewidth": 0,
             "ticks": ""
            },
            "colorscale": [
             [
              0,
              "#0d0887"
             ],
             [
              0.1111111111111111,
              "#46039f"
             ],
             [
              0.2222222222222222,
              "#7201a8"
             ],
             [
              0.3333333333333333,
              "#9c179e"
             ],
             [
              0.4444444444444444,
              "#bd3786"
             ],
             [
              0.5555555555555556,
              "#d8576b"
             ],
             [
              0.6666666666666666,
              "#ed7953"
             ],
             [
              0.7777777777777778,
              "#fb9f3a"
             ],
             [
              0.8888888888888888,
              "#fdca26"
             ],
             [
              1,
              "#f0f921"
             ]
            ],
            "type": "surface"
           }
          ],
          "table": [
           {
            "cells": {
             "fill": {
              "color": "#EBF0F8"
             },
             "line": {
              "color": "white"
             }
            },
            "header": {
             "fill": {
              "color": "#C8D4E3"
             },
             "line": {
              "color": "white"
             }
            },
            "type": "table"
           }
          ]
         },
         "layout": {
          "annotationdefaults": {
           "arrowcolor": "#2a3f5f",
           "arrowhead": 0,
           "arrowwidth": 1
          },
          "autotypenumbers": "strict",
          "coloraxis": {
           "colorbar": {
            "outlinewidth": 0,
            "ticks": ""
           }
          },
          "colorscale": {
           "diverging": [
            [
             0,
             "#8e0152"
            ],
            [
             0.1,
             "#c51b7d"
            ],
            [
             0.2,
             "#de77ae"
            ],
            [
             0.3,
             "#f1b6da"
            ],
            [
             0.4,
             "#fde0ef"
            ],
            [
             0.5,
             "#f7f7f7"
            ],
            [
             0.6,
             "#e6f5d0"
            ],
            [
             0.7,
             "#b8e186"
            ],
            [
             0.8,
             "#7fbc41"
            ],
            [
             0.9,
             "#4d9221"
            ],
            [
             1,
             "#276419"
            ]
           ],
           "sequential": [
            [
             0,
             "#0d0887"
            ],
            [
             0.1111111111111111,
             "#46039f"
            ],
            [
             0.2222222222222222,
             "#7201a8"
            ],
            [
             0.3333333333333333,
             "#9c179e"
            ],
            [
             0.4444444444444444,
             "#bd3786"
            ],
            [
             0.5555555555555556,
             "#d8576b"
            ],
            [
             0.6666666666666666,
             "#ed7953"
            ],
            [
             0.7777777777777778,
             "#fb9f3a"
            ],
            [
             0.8888888888888888,
             "#fdca26"
            ],
            [
             1,
             "#f0f921"
            ]
           ],
           "sequentialminus": [
            [
             0,
             "#0d0887"
            ],
            [
             0.1111111111111111,
             "#46039f"
            ],
            [
             0.2222222222222222,
             "#7201a8"
            ],
            [
             0.3333333333333333,
             "#9c179e"
            ],
            [
             0.4444444444444444,
             "#bd3786"
            ],
            [
             0.5555555555555556,
             "#d8576b"
            ],
            [
             0.6666666666666666,
             "#ed7953"
            ],
            [
             0.7777777777777778,
             "#fb9f3a"
            ],
            [
             0.8888888888888888,
             "#fdca26"
            ],
            [
             1,
             "#f0f921"
            ]
           ]
          },
          "colorway": [
           "#636efa",
           "#EF553B",
           "#00cc96",
           "#ab63fa",
           "#FFA15A",
           "#19d3f3",
           "#FF6692",
           "#B6E880",
           "#FF97FF",
           "#FECB52"
          ],
          "font": {
           "color": "#2a3f5f"
          },
          "geo": {
           "bgcolor": "white",
           "lakecolor": "white",
           "landcolor": "#E5ECF6",
           "showlakes": true,
           "showland": true,
           "subunitcolor": "white"
          },
          "hoverlabel": {
           "align": "left"
          },
          "hovermode": "closest",
          "mapbox": {
           "style": "light"
          },
          "paper_bgcolor": "white",
          "plot_bgcolor": "#E5ECF6",
          "polar": {
           "angularaxis": {
            "gridcolor": "white",
            "linecolor": "white",
            "ticks": ""
           },
           "bgcolor": "#E5ECF6",
           "radialaxis": {
            "gridcolor": "white",
            "linecolor": "white",
            "ticks": ""
           }
          },
          "scene": {
           "xaxis": {
            "backgroundcolor": "#E5ECF6",
            "gridcolor": "white",
            "gridwidth": 2,
            "linecolor": "white",
            "showbackground": true,
            "ticks": "",
            "zerolinecolor": "white"
           },
           "yaxis": {
            "backgroundcolor": "#E5ECF6",
            "gridcolor": "white",
            "gridwidth": 2,
            "linecolor": "white",
            "showbackground": true,
            "ticks": "",
            "zerolinecolor": "white"
           },
           "zaxis": {
            "backgroundcolor": "#E5ECF6",
            "gridcolor": "white",
            "gridwidth": 2,
            "linecolor": "white",
            "showbackground": true,
            "ticks": "",
            "zerolinecolor": "white"
           }
          },
          "shapedefaults": {
           "line": {
            "color": "#2a3f5f"
           }
          },
          "ternary": {
           "aaxis": {
            "gridcolor": "white",
            "linecolor": "white",
            "ticks": ""
           },
           "baxis": {
            "gridcolor": "white",
            "linecolor": "white",
            "ticks": ""
           },
           "bgcolor": "#E5ECF6",
           "caxis": {
            "gridcolor": "white",
            "linecolor": "white",
            "ticks": ""
           }
          },
          "title": {
           "x": 0.05
          },
          "xaxis": {
           "automargin": true,
           "gridcolor": "white",
           "linecolor": "white",
           "ticks": "",
           "title": {
            "standoff": 15
           },
           "zerolinecolor": "white",
           "zerolinewidth": 2
          },
          "yaxis": {
           "automargin": true,
           "gridcolor": "white",
           "linecolor": "white",
           "ticks": "",
           "title": {
            "standoff": 15
           },
           "zerolinecolor": "white",
           "zerolinewidth": 2
          }
         }
        },
        "title": {
         "text": "Train/Test Score"
        },
        "yaxis": {
         "title": {
          "text": "Accuracy"
         }
        }
       }
      }
     },
     "metadata": {},
     "output_type": "display_data"
    },
    {
     "name": "stdout",
     "output_type": "stream",
     "text": [
      "Dash is running on http://127.0.0.8:8050/\n",
      "\n"
     ]
    },
    {
     "data": {
      "text/html": [
       "\n",
       "        <iframe\n",
       "            width=\"100%\"\n",
       "            height=\"650\"\n",
       "            src=\"http://127.0.0.8:8050/\"\n",
       "            frameborder=\"0\"\n",
       "            allowfullscreen\n",
       "            \n",
       "        ></iframe>\n",
       "        "
      ],
      "text/plain": [
       "<IPython.lib.display.IFrame at 0x17f1f3190c0>"
      ]
     },
     "metadata": {},
     "output_type": "display_data"
    }
   ],
   "source": [
    "import plotly.graph_objects as go\n",
    "\n",
    "fig = go.Figure(data=[go.Bar(x=['Train', 'Test'], y=[0.9949623474422228, 0.9835895305359369])])\n",
    "fig.update_layout(title='Train/Test Score', yaxis_title='Accuracy')\n",
    "fig.show()\n",
    "\n",
    "graphs = [[dcc.Graph(id=\"update_graph2\", figure=fig)]\n",
    "           ]\n",
    "app = JupyterDash(__name__, external_stylesheets=[dbc.themes.BOOTSTRAP])\n",
    "\n",
    "app.layout = dbc.Container(\n",
    "    [   \n",
    "       html.Br(),\n",
    "        dbc.Row([dbc.Col(graph) for graph in graphs])])\n",
    "\n",
    "\n",
    "\n",
    "if __name__ == '__main__':\n",
    "    app.run_server(debug=True, mode='inline', host='127.0.0.8')"
   ]
  },
  {
   "cell_type": "markdown",
   "id": "6dac43b4-945e-47f7-be60-165decac25b0",
   "metadata": {},
   "source": [
    "from dash import Dash, html, dcc, Input, Output\n",
    "import plotly.express as px\n",
    "import pandas as pd\n",
    "from jupyter_dash import JupyterDash\n",
    "\n",
    "import pandas as pd\n",
    "import plotly.express as px\n",
    "from jupyter_dash import JupyterDash\n",
    "import dash_html_components as html\n",
    "import dash_core_components as dcc\n",
    "\n",
    "년_간편식_HMR__구입_변화_예상_1 = pd.DataFrame({'names': ['현 수준 유지', '약간 증가', '약간 감소', '매우 감소'],\n",
    "                   'values': [74.9, 22.5, 2.4, 0.2]})\n",
    "import plotly.express as px\n",
    "\n",
    "fig = px.pie(년_간편식_HMR__구입_변화_예상_1, values=[74.9, 22.5, 2.4, 0.2], names=['현 수준 유지', '약간 증가', '약간 감소', ' 매우 감소'])\n",
    "fig.update_traces(textposition='inside', textinfo='percent+label')\n",
    "fig.update_layout(\n",
    "    annotations=[dict(x=0.5, y=1.2, showarrow=False, text='향후 1년 HMR 구입 변화 예상', font=dict(size=20))],\n",
    "    margin=dict(t=100)\n",
    ")\n",
    "app = JupyterDash(__name__)\n",
    "\n",
    "app.layout = html.Div([\n",
    "    dcc.Graph(id='graph', figure=fig)\n",
    "])\n",
    "\n",
    "app.run_server(mode='inline')\n",
    "\n",
    "\n",
    "\n",
    ",\n",
    "        dcc.RangeSlider(id='year-slider',\n",
    "                        min=year_earn['year'].min(),\n",
    "                        max=year_earn['year'].max(),\n",
    "                        value=[year_earn['year'].min(), year_earn['year'].max()],\n",
    "                        marks={str(year): str(year) for year in year_earn['year'].unique()}) "
   ]
  },
  {
   "cell_type": "code",
   "execution_count": 5,
   "id": "8ba96270",
   "metadata": {},
   "outputs": [
    {
     "name": "stdout",
     "output_type": "stream",
     "text": [
      "Defaulting to user installation because normal site-packages is not writeable\n",
      "Requirement already satisfied: catboost in c:\\users\\th760\\appdata\\roaming\\python\\python310\\site-packages (1.1.1)\n",
      "Requirement already satisfied: graphviz in c:\\users\\th760\\appdata\\roaming\\python\\python310\\site-packages (from catboost) (0.20.1)\n",
      "Requirement already satisfied: matplotlib in c:\\users\\th760\\appdata\\roaming\\python\\python310\\site-packages (from catboost) (3.7.1)\n",
      "Requirement already satisfied: numpy>=1.16.0 in c:\\users\\th760\\appdata\\roaming\\python\\python310\\site-packages (from catboost) (1.23.5)\n",
      "Requirement already satisfied: pandas>=0.24.0 in c:\\users\\th760\\appdata\\roaming\\python\\python310\\site-packages (from catboost) (2.0.0)\n",
      "Requirement already satisfied: scipy in c:\\users\\th760\\appdata\\roaming\\python\\python310\\site-packages (from catboost) (1.10.1)\n",
      "Requirement already satisfied: plotly in c:\\users\\th760\\appdata\\roaming\\python\\python310\\site-packages (from catboost) (5.14.1)\n",
      "Requirement already satisfied: six in c:\\users\\th760\\appdata\\roaming\\python\\python310\\site-packages (from catboost) (1.16.0)\n",
      "Requirement already satisfied: python-dateutil>=2.8.2 in c:\\users\\th760\\appdata\\roaming\\python\\python310\\site-packages (from pandas>=0.24.0->catboost) (2.8.2)\n",
      "Requirement already satisfied: pytz>=2020.1 in c:\\users\\th760\\appdata\\roaming\\python\\python310\\site-packages (from pandas>=0.24.0->catboost) (2023.3)\n",
      "Requirement already satisfied: tzdata>=2022.1 in c:\\users\\th760\\appdata\\roaming\\python\\python310\\site-packages (from pandas>=0.24.0->catboost) (2023.3)\n",
      "Requirement already satisfied: contourpy>=1.0.1 in c:\\users\\th760\\appdata\\roaming\\python\\python310\\site-packages (from matplotlib->catboost) (1.0.7)\n",
      "Requirement already satisfied: cycler>=0.10 in c:\\users\\th760\\appdata\\roaming\\python\\python310\\site-packages (from matplotlib->catboost) (0.11.0)\n",
      "Requirement already satisfied: fonttools>=4.22.0 in c:\\users\\th760\\appdata\\roaming\\python\\python310\\site-packages (from matplotlib->catboost) (4.39.3)\n",
      "Requirement already satisfied: kiwisolver>=1.0.1 in c:\\users\\th760\\appdata\\roaming\\python\\python310\\site-packages (from matplotlib->catboost) (1.4.4)\n",
      "Requirement already satisfied: packaging>=20.0 in c:\\users\\th760\\appdata\\roaming\\python\\python310\\site-packages (from matplotlib->catboost) (23.1)\n",
      "Requirement already satisfied: pillow>=6.2.0 in c:\\users\\th760\\appdata\\roaming\\python\\python310\\site-packages (from matplotlib->catboost) (9.5.0)\n",
      "Requirement already satisfied: pyparsing>=2.3.1 in c:\\users\\th760\\appdata\\roaming\\python\\python310\\site-packages (from matplotlib->catboost) (3.0.9)\n",
      "Requirement already satisfied: tenacity>=6.2.0 in c:\\users\\th760\\appdata\\roaming\\python\\python310\\site-packages (from plotly->catboost) (8.2.2)\n",
      "Note: you may need to restart the kernel to use updated packages.\n",
      "Learning rate set to 0.09201\n",
      "0:\tlearn: 1.1356003\ttotal: 158ms\tremaining: 2m 38s\n",
      "1:\tlearn: 0.9600317\ttotal: 176ms\tremaining: 1m 27s\n",
      "2:\tlearn: 0.8287757\ttotal: 204ms\tremaining: 1m 7s\n",
      "3:\tlearn: 0.7234999\ttotal: 214ms\tremaining: 53.2s\n",
      "4:\tlearn: 0.6375743\ttotal: 223ms\tremaining: 44.3s\n",
      "5:\tlearn: 0.5662998\ttotal: 234ms\tremaining: 38.8s\n",
      "6:\tlearn: 0.5060537\ttotal: 245ms\tremaining: 34.7s\n",
      "7:\tlearn: 0.4552699\ttotal: 254ms\tremaining: 31.5s\n",
      "8:\tlearn: 0.4106319\ttotal: 265ms\tremaining: 29.2s\n",
      "9:\tlearn: 0.3720505\ttotal: 274ms\tremaining: 27.1s\n",
      "10:\tlearn: 0.3380672\ttotal: 284ms\tremaining: 25.6s\n",
      "11:\tlearn: 0.3081440\ttotal: 295ms\tremaining: 24.2s\n",
      "12:\tlearn: 0.2817334\ttotal: 303ms\tremaining: 23s\n",
      "13:\tlearn: 0.2587311\ttotal: 313ms\tremaining: 22.1s\n",
      "14:\tlearn: 0.2379639\ttotal: 322ms\tremaining: 21.1s\n",
      "15:\tlearn: 0.2193259\ttotal: 333ms\tremaining: 20.5s\n",
      "16:\tlearn: 0.2027010\ttotal: 344ms\tremaining: 19.9s\n",
      "17:\tlearn: 0.1879276\ttotal: 354ms\tremaining: 19.3s\n",
      "18:\tlearn: 0.1745576\ttotal: 366ms\tremaining: 18.9s\n",
      "19:\tlearn: 0.1625297\ttotal: 380ms\tremaining: 18.6s\n",
      "20:\tlearn: 0.1514153\ttotal: 396ms\tremaining: 18.5s\n",
      "21:\tlearn: 0.1415623\ttotal: 414ms\tremaining: 18.4s\n",
      "22:\tlearn: 0.1328944\ttotal: 427ms\tremaining: 18.2s\n",
      "23:\tlearn: 0.1249096\ttotal: 440ms\tremaining: 17.9s\n",
      "24:\tlearn: 0.1178895\ttotal: 449ms\tremaining: 17.5s\n",
      "25:\tlearn: 0.1114415\ttotal: 459ms\tremaining: 17.2s\n",
      "26:\tlearn: 0.1055594\ttotal: 468ms\tremaining: 16.9s\n",
      "27:\tlearn: 0.1002748\ttotal: 479ms\tremaining: 16.6s\n",
      "28:\tlearn: 0.0951256\ttotal: 490ms\tremaining: 16.4s\n",
      "29:\tlearn: 0.0908696\ttotal: 499ms\tremaining: 16.1s\n",
      "30:\tlearn: 0.0866499\ttotal: 509ms\tremaining: 15.9s\n",
      "31:\tlearn: 0.0827987\ttotal: 517ms\tremaining: 15.7s\n",
      "32:\tlearn: 0.0794650\ttotal: 528ms\tremaining: 15.5s\n",
      "33:\tlearn: 0.0763168\ttotal: 537ms\tremaining: 15.3s\n",
      "34:\tlearn: 0.0735562\ttotal: 546ms\tremaining: 15.1s\n",
      "35:\tlearn: 0.0712280\ttotal: 556ms\tremaining: 14.9s\n",
      "36:\tlearn: 0.0688927\ttotal: 564ms\tremaining: 14.7s\n",
      "37:\tlearn: 0.0667844\ttotal: 575ms\tremaining: 14.6s\n",
      "38:\tlearn: 0.0649436\ttotal: 583ms\tremaining: 14.4s\n",
      "39:\tlearn: 0.0632373\ttotal: 595ms\tremaining: 14.3s\n",
      "40:\tlearn: 0.0615784\ttotal: 607ms\tremaining: 14.2s\n",
      "41:\tlearn: 0.0599598\ttotal: 623ms\tremaining: 14.2s\n",
      "42:\tlearn: 0.0586025\ttotal: 631ms\tremaining: 14s\n",
      "43:\tlearn: 0.0573437\ttotal: 641ms\tremaining: 13.9s\n",
      "44:\tlearn: 0.0562535\ttotal: 652ms\tremaining: 13.8s\n",
      "45:\tlearn: 0.0552370\ttotal: 660ms\tremaining: 13.7s\n",
      "46:\tlearn: 0.0544585\ttotal: 670ms\tremaining: 13.6s\n",
      "47:\tlearn: 0.0535833\ttotal: 679ms\tremaining: 13.5s\n",
      "48:\tlearn: 0.0528127\ttotal: 690ms\tremaining: 13.4s\n",
      "49:\tlearn: 0.0521077\ttotal: 700ms\tremaining: 13.3s\n",
      "50:\tlearn: 0.0514764\ttotal: 709ms\tremaining: 13.2s\n",
      "51:\tlearn: 0.0508774\ttotal: 719ms\tremaining: 13.1s\n",
      "52:\tlearn: 0.0502897\ttotal: 727ms\tremaining: 13s\n",
      "53:\tlearn: 0.0497759\ttotal: 738ms\tremaining: 12.9s\n",
      "54:\tlearn: 0.0492481\ttotal: 748ms\tremaining: 12.9s\n",
      "55:\tlearn: 0.0487763\ttotal: 757ms\tremaining: 12.8s\n",
      "56:\tlearn: 0.0484056\ttotal: 768ms\tremaining: 12.7s\n",
      "57:\tlearn: 0.0480680\ttotal: 777ms\tremaining: 12.6s\n",
      "58:\tlearn: 0.0477591\ttotal: 787ms\tremaining: 12.6s\n",
      "59:\tlearn: 0.0475090\ttotal: 798ms\tremaining: 12.5s\n",
      "60:\tlearn: 0.0471477\ttotal: 808ms\tremaining: 12.4s\n",
      "61:\tlearn: 0.0468152\ttotal: 818ms\tremaining: 12.4s\n",
      "62:\tlearn: 0.0464946\ttotal: 828ms\tremaining: 12.3s\n",
      "63:\tlearn: 0.0462174\ttotal: 840ms\tremaining: 12.3s\n",
      "64:\tlearn: 0.0460197\ttotal: 850ms\tremaining: 12.2s\n",
      "65:\tlearn: 0.0457768\ttotal: 858ms\tremaining: 12.1s\n",
      "66:\tlearn: 0.0456397\ttotal: 868ms\tremaining: 12.1s\n",
      "67:\tlearn: 0.0454486\ttotal: 878ms\tremaining: 12s\n",
      "68:\tlearn: 0.0452852\ttotal: 888ms\tremaining: 12s\n",
      "69:\tlearn: 0.0450852\ttotal: 898ms\tremaining: 11.9s\n",
      "70:\tlearn: 0.0449631\ttotal: 906ms\tremaining: 11.9s\n",
      "71:\tlearn: 0.0447801\ttotal: 917ms\tremaining: 11.8s\n",
      "72:\tlearn: 0.0446665\ttotal: 927ms\tremaining: 11.8s\n",
      "73:\tlearn: 0.0445314\ttotal: 935ms\tremaining: 11.7s\n",
      "74:\tlearn: 0.0443973\ttotal: 944ms\tremaining: 11.6s\n",
      "75:\tlearn: 0.0443071\ttotal: 953ms\tremaining: 11.6s\n",
      "76:\tlearn: 0.0442265\ttotal: 965ms\tremaining: 11.6s\n",
      "77:\tlearn: 0.0440961\ttotal: 975ms\tremaining: 11.5s\n",
      "78:\tlearn: 0.0439725\ttotal: 984ms\tremaining: 11.5s\n",
      "79:\tlearn: 0.0438597\ttotal: 994ms\tremaining: 11.4s\n",
      "80:\tlearn: 0.0437856\ttotal: 1s\tremaining: 11.4s\n",
      "81:\tlearn: 0.0436637\ttotal: 1.01s\tremaining: 11.3s\n",
      "82:\tlearn: 0.0435881\ttotal: 1.02s\tremaining: 11.3s\n",
      "83:\tlearn: 0.0434684\ttotal: 1.03s\tremaining: 11.2s\n",
      "84:\tlearn: 0.0433383\ttotal: 1.04s\tremaining: 11.2s\n",
      "85:\tlearn: 0.0432513\ttotal: 1.05s\tremaining: 11.2s\n",
      "86:\tlearn: 0.0431596\ttotal: 1.06s\tremaining: 11.2s\n",
      "87:\tlearn: 0.0430818\ttotal: 1.08s\tremaining: 11.2s\n",
      "88:\tlearn: 0.0429576\ttotal: 1.08s\tremaining: 11.1s\n",
      "89:\tlearn: 0.0428943\ttotal: 1.09s\tremaining: 11.1s\n",
      "90:\tlearn: 0.0428020\ttotal: 1.1s\tremaining: 11s\n",
      "91:\tlearn: 0.0427387\ttotal: 1.11s\tremaining: 11s\n",
      "92:\tlearn: 0.0425880\ttotal: 1.13s\tremaining: 11s\n",
      "93:\tlearn: 0.0425017\ttotal: 1.13s\tremaining: 10.9s\n",
      "94:\tlearn: 0.0423729\ttotal: 1.14s\tremaining: 10.9s\n",
      "95:\tlearn: 0.0422480\ttotal: 1.16s\tremaining: 10.9s\n",
      "96:\tlearn: 0.0421711\ttotal: 1.16s\tremaining: 10.8s\n",
      "97:\tlearn: 0.0421036\ttotal: 1.18s\tremaining: 10.8s\n",
      "98:\tlearn: 0.0420536\ttotal: 1.18s\tremaining: 10.8s\n",
      "99:\tlearn: 0.0419884\ttotal: 1.19s\tremaining: 10.8s\n",
      "100:\tlearn: 0.0419283\ttotal: 1.21s\tremaining: 10.7s\n",
      "101:\tlearn: 0.0418377\ttotal: 1.21s\tremaining: 10.7s\n",
      "102:\tlearn: 0.0417335\ttotal: 1.22s\tremaining: 10.7s\n",
      "103:\tlearn: 0.0416891\ttotal: 1.24s\tremaining: 10.6s\n",
      "104:\tlearn: 0.0415952\ttotal: 1.24s\tremaining: 10.6s\n",
      "105:\tlearn: 0.0415460\ttotal: 1.26s\tremaining: 10.6s\n",
      "106:\tlearn: 0.0414936\ttotal: 1.27s\tremaining: 10.6s\n",
      "107:\tlearn: 0.0413895\ttotal: 1.28s\tremaining: 10.6s\n",
      "108:\tlearn: 0.0412805\ttotal: 1.29s\tremaining: 10.6s\n",
      "109:\tlearn: 0.0412375\ttotal: 1.3s\tremaining: 10.5s\n",
      "110:\tlearn: 0.0411841\ttotal: 1.31s\tremaining: 10.5s\n",
      "111:\tlearn: 0.0411395\ttotal: 1.32s\tremaining: 10.5s\n",
      "112:\tlearn: 0.0410552\ttotal: 1.33s\tremaining: 10.4s\n",
      "113:\tlearn: 0.0409850\ttotal: 1.34s\tremaining: 10.4s\n",
      "114:\tlearn: 0.0409337\ttotal: 1.35s\tremaining: 10.4s\n",
      "115:\tlearn: 0.0408546\ttotal: 1.36s\tremaining: 10.3s\n",
      "116:\tlearn: 0.0407994\ttotal: 1.37s\tremaining: 10.3s\n",
      "117:\tlearn: 0.0407023\ttotal: 1.38s\tremaining: 10.3s\n",
      "118:\tlearn: 0.0406492\ttotal: 1.39s\tremaining: 10.3s\n",
      "119:\tlearn: 0.0405949\ttotal: 1.4s\tremaining: 10.2s\n",
      "120:\tlearn: 0.0405611\ttotal: 1.41s\tremaining: 10.2s\n",
      "121:\tlearn: 0.0405217\ttotal: 1.42s\tremaining: 10.2s\n",
      "122:\tlearn: 0.0404763\ttotal: 1.42s\tremaining: 10.2s\n",
      "123:\tlearn: 0.0404090\ttotal: 1.43s\tremaining: 10.1s\n",
      "124:\tlearn: 0.0403785\ttotal: 1.44s\tremaining: 10.1s\n",
      "125:\tlearn: 0.0403009\ttotal: 1.45s\tremaining: 10.1s\n",
      "126:\tlearn: 0.0402682\ttotal: 1.46s\tremaining: 10.1s\n",
      "127:\tlearn: 0.0402083\ttotal: 1.48s\tremaining: 10.1s\n",
      "128:\tlearn: 0.0401293\ttotal: 1.49s\tremaining: 10.1s\n",
      "129:\tlearn: 0.0400887\ttotal: 1.5s\tremaining: 10s\n",
      "130:\tlearn: 0.0400166\ttotal: 1.51s\tremaining: 10s\n",
      "131:\tlearn: 0.0399584\ttotal: 1.52s\tremaining: 9.99s\n",
      "132:\tlearn: 0.0399012\ttotal: 1.53s\tremaining: 9.97s\n",
      "133:\tlearn: 0.0398317\ttotal: 1.54s\tremaining: 9.94s\n",
      "134:\tlearn: 0.0397648\ttotal: 1.55s\tremaining: 9.95s\n",
      "135:\tlearn: 0.0397017\ttotal: 1.63s\tremaining: 10.4s\n",
      "136:\tlearn: 0.0396690\ttotal: 1.66s\tremaining: 10.5s\n",
      "137:\tlearn: 0.0395929\ttotal: 1.69s\tremaining: 10.5s\n",
      "138:\tlearn: 0.0395678\ttotal: 1.7s\tremaining: 10.5s\n",
      "139:\tlearn: 0.0395068\ttotal: 1.72s\tremaining: 10.5s\n",
      "140:\tlearn: 0.0394290\ttotal: 1.72s\tremaining: 10.5s\n",
      "141:\tlearn: 0.0393671\ttotal: 1.73s\tremaining: 10.5s\n",
      "142:\tlearn: 0.0392958\ttotal: 1.75s\tremaining: 10.5s\n",
      "143:\tlearn: 0.0392357\ttotal: 1.75s\tremaining: 10.4s\n",
      "144:\tlearn: 0.0391807\ttotal: 1.76s\tremaining: 10.4s\n",
      "145:\tlearn: 0.0391346\ttotal: 1.78s\tremaining: 10.4s\n",
      "146:\tlearn: 0.0390980\ttotal: 1.79s\tremaining: 10.4s\n",
      "147:\tlearn: 0.0390065\ttotal: 1.8s\tremaining: 10.3s\n",
      "148:\tlearn: 0.0389708\ttotal: 1.81s\tremaining: 10.3s\n",
      "149:\tlearn: 0.0389407\ttotal: 1.81s\tremaining: 10.3s\n",
      "150:\tlearn: 0.0388496\ttotal: 1.82s\tremaining: 10.3s\n",
      "151:\tlearn: 0.0387793\ttotal: 1.83s\tremaining: 10.2s\n",
      "152:\tlearn: 0.0387105\ttotal: 1.84s\tremaining: 10.2s\n",
      "153:\tlearn: 0.0386776\ttotal: 1.85s\tremaining: 10.2s\n",
      "154:\tlearn: 0.0386452\ttotal: 1.86s\tremaining: 10.1s\n",
      "155:\tlearn: 0.0385909\ttotal: 1.87s\tremaining: 10.1s\n",
      "156:\tlearn: 0.0385231\ttotal: 1.88s\tremaining: 10.1s\n",
      "157:\tlearn: 0.0384617\ttotal: 1.89s\tremaining: 10.1s\n",
      "158:\tlearn: 0.0384276\ttotal: 1.9s\tremaining: 10.1s\n",
      "159:\tlearn: 0.0383880\ttotal: 1.91s\tremaining: 10s\n",
      "160:\tlearn: 0.0383398\ttotal: 1.93s\tremaining: 10s\n",
      "161:\tlearn: 0.0382808\ttotal: 1.94s\tremaining: 10s\n",
      "162:\tlearn: 0.0382289\ttotal: 1.95s\tremaining: 9.99s\n",
      "163:\tlearn: 0.0381900\ttotal: 1.96s\tremaining: 9.97s\n",
      "164:\tlearn: 0.0381500\ttotal: 1.96s\tremaining: 9.94s\n",
      "165:\tlearn: 0.0381005\ttotal: 1.97s\tremaining: 9.92s\n",
      "166:\tlearn: 0.0380609\ttotal: 1.98s\tremaining: 9.9s\n",
      "167:\tlearn: 0.0380130\ttotal: 1.99s\tremaining: 9.87s\n",
      "168:\tlearn: 0.0379760\ttotal: 2s\tremaining: 9.85s\n",
      "169:\tlearn: 0.0379425\ttotal: 2.01s\tremaining: 9.82s\n",
      "170:\tlearn: 0.0379137\ttotal: 2.03s\tremaining: 9.83s\n",
      "171:\tlearn: 0.0378943\ttotal: 2.05s\tremaining: 9.87s\n",
      "172:\tlearn: 0.0378636\ttotal: 2.06s\tremaining: 9.87s\n",
      "173:\tlearn: 0.0378223\ttotal: 2.08s\tremaining: 9.9s\n",
      "174:\tlearn: 0.0377906\ttotal: 2.1s\tremaining: 9.92s\n",
      "175:\tlearn: 0.0377433\ttotal: 2.12s\tremaining: 9.9s\n",
      "176:\tlearn: 0.0377017\ttotal: 2.13s\tremaining: 9.88s\n",
      "177:\tlearn: 0.0376620\ttotal: 2.14s\tremaining: 9.88s\n",
      "178:\tlearn: 0.0376416\ttotal: 2.15s\tremaining: 9.86s\n",
      "179:\tlearn: 0.0375967\ttotal: 2.16s\tremaining: 9.84s\n",
      "180:\tlearn: 0.0375449\ttotal: 2.17s\tremaining: 9.81s\n",
      "181:\tlearn: 0.0375033\ttotal: 2.18s\tremaining: 9.79s\n",
      "182:\tlearn: 0.0374818\ttotal: 2.19s\tremaining: 9.76s\n",
      "183:\tlearn: 0.0374464\ttotal: 2.2s\tremaining: 9.74s\n",
      "184:\tlearn: 0.0373989\ttotal: 2.21s\tremaining: 9.72s\n",
      "185:\tlearn: 0.0373647\ttotal: 2.22s\tremaining: 9.7s\n",
      "186:\tlearn: 0.0373155\ttotal: 2.23s\tremaining: 9.68s\n",
      "187:\tlearn: 0.0372607\ttotal: 2.24s\tremaining: 9.66s\n",
      "188:\tlearn: 0.0372299\ttotal: 2.25s\tremaining: 9.64s\n",
      "189:\tlearn: 0.0371842\ttotal: 2.26s\tremaining: 9.63s\n",
      "190:\tlearn: 0.0371283\ttotal: 2.27s\tremaining: 9.6s\n",
      "191:\tlearn: 0.0370987\ttotal: 2.28s\tremaining: 9.58s\n",
      "192:\tlearn: 0.0370605\ttotal: 2.29s\tremaining: 9.56s\n",
      "193:\tlearn: 0.0370081\ttotal: 2.3s\tremaining: 9.54s\n",
      "194:\tlearn: 0.0369481\ttotal: 2.31s\tremaining: 9.53s\n",
      "195:\tlearn: 0.0368968\ttotal: 2.32s\tremaining: 9.5s\n",
      "196:\tlearn: 0.0368301\ttotal: 2.33s\tremaining: 9.49s\n",
      "197:\tlearn: 0.0367876\ttotal: 2.34s\tremaining: 9.46s\n",
      "198:\tlearn: 0.0367466\ttotal: 2.35s\tremaining: 9.46s\n",
      "199:\tlearn: 0.0366899\ttotal: 2.36s\tremaining: 9.44s\n",
      "200:\tlearn: 0.0366627\ttotal: 2.37s\tremaining: 9.41s\n",
      "201:\tlearn: 0.0366310\ttotal: 2.38s\tremaining: 9.4s\n",
      "202:\tlearn: 0.0365947\ttotal: 2.39s\tremaining: 9.38s\n",
      "203:\tlearn: 0.0365354\ttotal: 2.4s\tremaining: 9.36s\n",
      "204:\tlearn: 0.0365060\ttotal: 2.41s\tremaining: 9.34s\n",
      "205:\tlearn: 0.0364737\ttotal: 2.42s\tremaining: 9.32s\n",
      "206:\tlearn: 0.0364152\ttotal: 2.43s\tremaining: 9.3s\n",
      "207:\tlearn: 0.0363912\ttotal: 2.44s\tremaining: 9.28s\n",
      "208:\tlearn: 0.0363637\ttotal: 2.45s\tremaining: 9.26s\n",
      "209:\tlearn: 0.0363114\ttotal: 2.46s\tremaining: 9.24s\n",
      "210:\tlearn: 0.0362702\ttotal: 2.46s\tremaining: 9.21s\n",
      "211:\tlearn: 0.0362379\ttotal: 2.47s\tremaining: 9.2s\n",
      "212:\tlearn: 0.0361991\ttotal: 2.48s\tremaining: 9.17s\n",
      "213:\tlearn: 0.0361718\ttotal: 2.49s\tremaining: 9.16s\n",
      "214:\tlearn: 0.0361342\ttotal: 2.5s\tremaining: 9.14s\n",
      "215:\tlearn: 0.0360928\ttotal: 2.51s\tremaining: 9.12s\n",
      "216:\tlearn: 0.0360438\ttotal: 2.52s\tremaining: 9.1s\n",
      "217:\tlearn: 0.0359995\ttotal: 2.53s\tremaining: 9.08s\n",
      "218:\tlearn: 0.0359704\ttotal: 2.54s\tremaining: 9.06s\n",
      "219:\tlearn: 0.0359376\ttotal: 2.55s\tremaining: 9.05s\n",
      "220:\tlearn: 0.0359041\ttotal: 2.56s\tremaining: 9.03s\n",
      "221:\tlearn: 0.0358561\ttotal: 2.57s\tremaining: 9.02s\n",
      "222:\tlearn: 0.0358162\ttotal: 2.58s\tremaining: 9.01s\n",
      "223:\tlearn: 0.0357780\ttotal: 2.59s\tremaining: 8.98s\n",
      "224:\tlearn: 0.0357372\ttotal: 2.6s\tremaining: 8.97s\n",
      "225:\tlearn: 0.0357079\ttotal: 2.61s\tremaining: 8.94s\n",
      "226:\tlearn: 0.0356821\ttotal: 2.62s\tremaining: 8.93s\n",
      "227:\tlearn: 0.0356389\ttotal: 2.63s\tremaining: 8.91s\n",
      "228:\tlearn: 0.0356014\ttotal: 2.64s\tremaining: 8.89s\n",
      "229:\tlearn: 0.0355678\ttotal: 2.65s\tremaining: 8.87s\n",
      "230:\tlearn: 0.0355242\ttotal: 2.66s\tremaining: 8.85s\n",
      "231:\tlearn: 0.0354752\ttotal: 2.67s\tremaining: 8.84s\n",
      "232:\tlearn: 0.0354457\ttotal: 2.68s\tremaining: 8.82s\n",
      "233:\tlearn: 0.0354041\ttotal: 2.69s\tremaining: 8.8s\n",
      "234:\tlearn: 0.0353520\ttotal: 2.7s\tremaining: 8.79s\n",
      "235:\tlearn: 0.0353263\ttotal: 2.71s\tremaining: 8.76s\n",
      "236:\tlearn: 0.0352933\ttotal: 2.72s\tremaining: 8.75s\n",
      "237:\tlearn: 0.0352457\ttotal: 2.72s\tremaining: 8.72s\n",
      "238:\tlearn: 0.0352058\ttotal: 2.73s\tremaining: 8.71s\n",
      "239:\tlearn: 0.0351811\ttotal: 2.75s\tremaining: 8.69s\n",
      "240:\tlearn: 0.0351439\ttotal: 2.75s\tremaining: 8.67s\n",
      "241:\tlearn: 0.0351009\ttotal: 2.76s\tremaining: 8.66s\n",
      "242:\tlearn: 0.0350697\ttotal: 2.78s\tremaining: 8.66s\n",
      "243:\tlearn: 0.0350438\ttotal: 2.79s\tremaining: 8.64s\n",
      "244:\tlearn: 0.0350111\ttotal: 2.8s\tremaining: 8.63s\n",
      "245:\tlearn: 0.0349724\ttotal: 2.81s\tremaining: 8.62s\n",
      "246:\tlearn: 0.0349473\ttotal: 2.82s\tremaining: 8.6s\n",
      "247:\tlearn: 0.0349221\ttotal: 2.83s\tremaining: 8.58s\n",
      "248:\tlearn: 0.0348798\ttotal: 2.84s\tremaining: 8.56s\n",
      "249:\tlearn: 0.0348373\ttotal: 2.85s\tremaining: 8.55s\n",
      "250:\tlearn: 0.0347968\ttotal: 2.86s\tremaining: 8.53s\n",
      "251:\tlearn: 0.0347577\ttotal: 2.87s\tremaining: 8.51s\n",
      "252:\tlearn: 0.0347326\ttotal: 2.88s\tremaining: 8.5s\n",
      "253:\tlearn: 0.0347126\ttotal: 2.89s\tremaining: 8.5s\n",
      "254:\tlearn: 0.0346813\ttotal: 2.9s\tremaining: 8.48s\n",
      "255:\tlearn: 0.0346430\ttotal: 2.92s\tremaining: 8.48s\n",
      "256:\tlearn: 0.0346173\ttotal: 2.93s\tremaining: 8.47s\n",
      "257:\tlearn: 0.0345806\ttotal: 2.94s\tremaining: 8.46s\n",
      "258:\tlearn: 0.0345548\ttotal: 2.95s\tremaining: 8.44s\n",
      "259:\tlearn: 0.0344890\ttotal: 2.96s\tremaining: 8.42s\n",
      "260:\tlearn: 0.0344637\ttotal: 2.97s\tremaining: 8.4s\n",
      "261:\tlearn: 0.0344474\ttotal: 2.98s\tremaining: 8.4s\n",
      "262:\tlearn: 0.0344187\ttotal: 2.99s\tremaining: 8.38s\n",
      "263:\tlearn: 0.0343732\ttotal: 3s\tremaining: 8.37s\n",
      "264:\tlearn: 0.0343205\ttotal: 3.01s\tremaining: 8.35s\n",
      "265:\tlearn: 0.0342931\ttotal: 3.02s\tremaining: 8.34s\n",
      "266:\tlearn: 0.0342712\ttotal: 3.03s\tremaining: 8.32s\n",
      "267:\tlearn: 0.0342497\ttotal: 3.04s\tremaining: 8.31s\n",
      "268:\tlearn: 0.0342159\ttotal: 3.05s\tremaining: 8.29s\n",
      "269:\tlearn: 0.0341775\ttotal: 3.06s\tremaining: 8.27s\n",
      "270:\tlearn: 0.0341556\ttotal: 3.07s\tremaining: 8.26s\n",
      "271:\tlearn: 0.0340948\ttotal: 3.08s\tremaining: 8.24s\n",
      "272:\tlearn: 0.0340661\ttotal: 3.11s\tremaining: 8.27s\n",
      "273:\tlearn: 0.0340451\ttotal: 3.16s\tremaining: 8.37s\n",
      "274:\tlearn: 0.0340142\ttotal: 3.17s\tremaining: 8.37s\n",
      "275:\tlearn: 0.0339586\ttotal: 3.2s\tremaining: 8.38s\n",
      "276:\tlearn: 0.0339108\ttotal: 3.21s\tremaining: 8.37s\n",
      "277:\tlearn: 0.0338922\ttotal: 3.22s\tremaining: 8.36s\n",
      "278:\tlearn: 0.0338638\ttotal: 3.23s\tremaining: 8.34s\n",
      "279:\tlearn: 0.0338322\ttotal: 3.24s\tremaining: 8.33s\n",
      "280:\tlearn: 0.0337986\ttotal: 3.25s\tremaining: 8.31s\n",
      "281:\tlearn: 0.0337702\ttotal: 3.26s\tremaining: 8.3s\n",
      "282:\tlearn: 0.0337284\ttotal: 3.27s\tremaining: 8.28s\n",
      "283:\tlearn: 0.0336961\ttotal: 3.28s\tremaining: 8.27s\n",
      "284:\tlearn: 0.0336653\ttotal: 3.29s\tremaining: 8.25s\n",
      "285:\tlearn: 0.0336274\ttotal: 3.3s\tremaining: 8.24s\n",
      "286:\tlearn: 0.0335848\ttotal: 3.31s\tremaining: 8.22s\n",
      "287:\tlearn: 0.0335614\ttotal: 3.32s\tremaining: 8.21s\n",
      "288:\tlearn: 0.0335395\ttotal: 3.33s\tremaining: 8.2s\n",
      "289:\tlearn: 0.0334928\ttotal: 3.34s\tremaining: 8.18s\n",
      "290:\tlearn: 0.0334611\ttotal: 3.35s\tremaining: 8.17s\n",
      "291:\tlearn: 0.0334268\ttotal: 3.36s\tremaining: 8.15s\n",
      "292:\tlearn: 0.0333770\ttotal: 3.37s\tremaining: 8.14s\n",
      "293:\tlearn: 0.0333538\ttotal: 3.38s\tremaining: 8.13s\n",
      "294:\tlearn: 0.0333289\ttotal: 3.39s\tremaining: 8.11s\n",
      "295:\tlearn: 0.0333044\ttotal: 3.41s\tremaining: 8.1s\n",
      "296:\tlearn: 0.0332731\ttotal: 3.42s\tremaining: 8.09s\n",
      "297:\tlearn: 0.0332499\ttotal: 3.44s\tremaining: 8.09s\n",
      "298:\tlearn: 0.0332113\ttotal: 3.45s\tremaining: 8.08s\n",
      "299:\tlearn: 0.0331758\ttotal: 3.46s\tremaining: 8.08s\n",
      "300:\tlearn: 0.0331548\ttotal: 3.47s\tremaining: 8.07s\n",
      "301:\tlearn: 0.0331318\ttotal: 3.49s\tremaining: 8.06s\n",
      "302:\tlearn: 0.0331055\ttotal: 3.51s\tremaining: 8.08s\n",
      "303:\tlearn: 0.0330781\ttotal: 3.52s\tremaining: 8.06s\n",
      "304:\tlearn: 0.0330533\ttotal: 3.53s\tremaining: 8.05s\n",
      "305:\tlearn: 0.0330178\ttotal: 3.54s\tremaining: 8.04s\n",
      "306:\tlearn: 0.0329721\ttotal: 3.55s\tremaining: 8.02s\n",
      "307:\tlearn: 0.0329569\ttotal: 3.56s\tremaining: 8s\n",
      "308:\tlearn: 0.0329357\ttotal: 3.57s\tremaining: 7.98s\n",
      "309:\tlearn: 0.0329062\ttotal: 3.58s\tremaining: 7.97s\n",
      "310:\tlearn: 0.0328610\ttotal: 3.59s\tremaining: 7.96s\n",
      "311:\tlearn: 0.0328432\ttotal: 3.6s\tremaining: 7.94s\n",
      "312:\tlearn: 0.0328232\ttotal: 3.61s\tremaining: 7.93s\n",
      "313:\tlearn: 0.0328090\ttotal: 3.62s\tremaining: 7.92s\n",
      "314:\tlearn: 0.0327808\ttotal: 3.63s\tremaining: 7.9s\n",
      "315:\tlearn: 0.0327335\ttotal: 3.65s\tremaining: 7.89s\n",
      "316:\tlearn: 0.0326920\ttotal: 3.66s\tremaining: 7.88s\n",
      "317:\tlearn: 0.0326545\ttotal: 3.66s\tremaining: 7.86s\n",
      "318:\tlearn: 0.0326248\ttotal: 3.67s\tremaining: 7.84s\n",
      "319:\tlearn: 0.0325878\ttotal: 3.68s\tremaining: 7.83s\n",
      "320:\tlearn: 0.0325606\ttotal: 3.69s\tremaining: 7.81s\n",
      "321:\tlearn: 0.0325340\ttotal: 3.7s\tremaining: 7.79s\n",
      "322:\tlearn: 0.0324968\ttotal: 3.71s\tremaining: 7.78s\n",
      "323:\tlearn: 0.0324773\ttotal: 3.72s\tremaining: 7.76s\n",
      "324:\tlearn: 0.0324472\ttotal: 3.73s\tremaining: 7.75s\n",
      "325:\tlearn: 0.0324165\ttotal: 3.74s\tremaining: 7.73s\n",
      "326:\tlearn: 0.0323859\ttotal: 3.75s\tremaining: 7.71s\n",
      "327:\tlearn: 0.0323357\ttotal: 3.76s\tremaining: 7.7s\n",
      "328:\tlearn: 0.0323169\ttotal: 3.77s\tremaining: 7.68s\n",
      "329:\tlearn: 0.0322923\ttotal: 3.78s\tremaining: 7.67s\n",
      "330:\tlearn: 0.0322630\ttotal: 3.79s\tremaining: 7.65s\n",
      "331:\tlearn: 0.0322272\ttotal: 3.79s\tremaining: 7.63s\n",
      "332:\tlearn: 0.0321849\ttotal: 3.81s\tremaining: 7.62s\n",
      "333:\tlearn: 0.0321528\ttotal: 3.81s\tremaining: 7.61s\n",
      "334:\tlearn: 0.0321324\ttotal: 3.82s\tremaining: 7.59s\n",
      "335:\tlearn: 0.0321114\ttotal: 3.84s\tremaining: 7.58s\n",
      "336:\tlearn: 0.0320932\ttotal: 3.85s\tremaining: 7.58s\n",
      "337:\tlearn: 0.0320594\ttotal: 3.86s\tremaining: 7.57s\n",
      "338:\tlearn: 0.0320404\ttotal: 3.88s\tremaining: 7.57s\n",
      "339:\tlearn: 0.0320013\ttotal: 3.9s\tremaining: 7.57s\n",
      "340:\tlearn: 0.0319381\ttotal: 3.91s\tremaining: 7.56s\n",
      "341:\tlearn: 0.0319180\ttotal: 3.92s\tremaining: 7.54s\n",
      "342:\tlearn: 0.0319004\ttotal: 3.93s\tremaining: 7.53s\n",
      "343:\tlearn: 0.0318653\ttotal: 3.94s\tremaining: 7.51s\n",
      "344:\tlearn: 0.0318459\ttotal: 3.97s\tremaining: 7.53s\n",
      "345:\tlearn: 0.0318131\ttotal: 3.99s\tremaining: 7.54s\n",
      "346:\tlearn: 0.0317988\ttotal: 4s\tremaining: 7.52s\n",
      "347:\tlearn: 0.0317769\ttotal: 4.01s\tremaining: 7.51s\n",
      "348:\tlearn: 0.0317533\ttotal: 4.02s\tremaining: 7.5s\n",
      "349:\tlearn: 0.0317081\ttotal: 4.03s\tremaining: 7.49s\n",
      "350:\tlearn: 0.0316905\ttotal: 4.04s\tremaining: 7.47s\n",
      "351:\tlearn: 0.0316559\ttotal: 4.05s\tremaining: 7.46s\n",
      "352:\tlearn: 0.0316115\ttotal: 4.06s\tremaining: 7.44s\n",
      "353:\tlearn: 0.0315974\ttotal: 4.07s\tremaining: 7.43s\n",
      "354:\tlearn: 0.0315674\ttotal: 4.08s\tremaining: 7.41s\n",
      "355:\tlearn: 0.0315522\ttotal: 4.09s\tremaining: 7.4s\n",
      "356:\tlearn: 0.0315270\ttotal: 4.1s\tremaining: 7.38s\n",
      "357:\tlearn: 0.0314838\ttotal: 4.11s\tremaining: 7.37s\n",
      "358:\tlearn: 0.0314600\ttotal: 4.12s\tremaining: 7.36s\n",
      "359:\tlearn: 0.0314257\ttotal: 4.13s\tremaining: 7.34s\n",
      "360:\tlearn: 0.0313972\ttotal: 4.14s\tremaining: 7.32s\n",
      "361:\tlearn: 0.0313694\ttotal: 4.15s\tremaining: 7.31s\n",
      "362:\tlearn: 0.0313408\ttotal: 4.16s\tremaining: 7.3s\n",
      "363:\tlearn: 0.0313048\ttotal: 4.17s\tremaining: 7.29s\n",
      "364:\tlearn: 0.0312734\ttotal: 4.18s\tremaining: 7.28s\n",
      "365:\tlearn: 0.0312357\ttotal: 4.19s\tremaining: 7.26s\n",
      "366:\tlearn: 0.0312000\ttotal: 4.2s\tremaining: 7.25s\n",
      "367:\tlearn: 0.0311743\ttotal: 4.21s\tremaining: 7.23s\n",
      "368:\tlearn: 0.0311336\ttotal: 4.22s\tremaining: 7.22s\n",
      "369:\tlearn: 0.0311240\ttotal: 4.23s\tremaining: 7.2s\n",
      "370:\tlearn: 0.0310967\ttotal: 4.24s\tremaining: 7.19s\n",
      "371:\tlearn: 0.0310655\ttotal: 4.25s\tremaining: 7.17s\n",
      "372:\tlearn: 0.0310501\ttotal: 4.26s\tremaining: 7.16s\n",
      "373:\tlearn: 0.0310249\ttotal: 4.27s\tremaining: 7.15s\n",
      "374:\tlearn: 0.0309921\ttotal: 4.28s\tremaining: 7.13s\n",
      "375:\tlearn: 0.0309622\ttotal: 4.29s\tremaining: 7.12s\n",
      "376:\tlearn: 0.0309471\ttotal: 4.3s\tremaining: 7.1s\n",
      "377:\tlearn: 0.0309228\ttotal: 4.31s\tremaining: 7.09s\n",
      "378:\tlearn: 0.0308908\ttotal: 4.32s\tremaining: 7.07s\n",
      "379:\tlearn: 0.0308529\ttotal: 4.33s\tremaining: 7.06s\n",
      "380:\tlearn: 0.0308292\ttotal: 4.34s\tremaining: 7.04s\n",
      "381:\tlearn: 0.0308035\ttotal: 4.35s\tremaining: 7.03s\n",
      "382:\tlearn: 0.0307690\ttotal: 4.36s\tremaining: 7.02s\n",
      "383:\tlearn: 0.0307260\ttotal: 4.37s\tremaining: 7s\n",
      "384:\tlearn: 0.0307061\ttotal: 4.38s\tremaining: 6.99s\n",
      "385:\tlearn: 0.0306804\ttotal: 4.39s\tremaining: 6.98s\n",
      "386:\tlearn: 0.0306580\ttotal: 4.4s\tremaining: 6.97s\n",
      "387:\tlearn: 0.0306476\ttotal: 4.41s\tremaining: 6.96s\n",
      "388:\tlearn: 0.0306291\ttotal: 4.42s\tremaining: 6.94s\n",
      "389:\tlearn: 0.0306149\ttotal: 4.43s\tremaining: 6.93s\n",
      "390:\tlearn: 0.0305998\ttotal: 4.44s\tremaining: 6.92s\n",
      "391:\tlearn: 0.0305846\ttotal: 4.46s\tremaining: 6.91s\n",
      "392:\tlearn: 0.0305599\ttotal: 4.47s\tremaining: 6.91s\n",
      "393:\tlearn: 0.0305169\ttotal: 4.5s\tremaining: 6.91s\n",
      "394:\tlearn: 0.0304873\ttotal: 4.52s\tremaining: 6.92s\n",
      "395:\tlearn: 0.0304664\ttotal: 4.53s\tremaining: 6.91s\n",
      "396:\tlearn: 0.0304441\ttotal: 4.55s\tremaining: 6.91s\n",
      "397:\tlearn: 0.0304162\ttotal: 4.56s\tremaining: 6.9s\n",
      "398:\tlearn: 0.0303907\ttotal: 4.57s\tremaining: 6.88s\n",
      "399:\tlearn: 0.0303683\ttotal: 4.58s\tremaining: 6.87s\n",
      "400:\tlearn: 0.0303474\ttotal: 4.59s\tremaining: 6.86s\n",
      "401:\tlearn: 0.0303118\ttotal: 4.6s\tremaining: 6.85s\n",
      "402:\tlearn: 0.0302911\ttotal: 4.62s\tremaining: 6.84s\n",
      "403:\tlearn: 0.0302717\ttotal: 4.63s\tremaining: 6.82s\n",
      "404:\tlearn: 0.0302472\ttotal: 4.63s\tremaining: 6.81s\n",
      "405:\tlearn: 0.0302258\ttotal: 4.64s\tremaining: 6.79s\n",
      "406:\tlearn: 0.0301899\ttotal: 4.65s\tremaining: 6.78s\n",
      "407:\tlearn: 0.0301582\ttotal: 4.66s\tremaining: 6.76s\n",
      "408:\tlearn: 0.0301389\ttotal: 4.67s\tremaining: 6.75s\n",
      "409:\tlearn: 0.0301201\ttotal: 4.68s\tremaining: 6.74s\n",
      "410:\tlearn: 0.0300984\ttotal: 4.69s\tremaining: 6.72s\n",
      "411:\tlearn: 0.0300701\ttotal: 4.7s\tremaining: 6.71s\n",
      "412:\tlearn: 0.0300383\ttotal: 4.71s\tremaining: 6.69s\n",
      "413:\tlearn: 0.0300178\ttotal: 4.72s\tremaining: 6.68s\n",
      "414:\tlearn: 0.0299999\ttotal: 4.73s\tremaining: 6.67s\n",
      "415:\tlearn: 0.0299780\ttotal: 4.74s\tremaining: 6.65s\n",
      "416:\tlearn: 0.0299507\ttotal: 4.75s\tremaining: 6.64s\n",
      "417:\tlearn: 0.0299138\ttotal: 4.76s\tremaining: 6.62s\n",
      "418:\tlearn: 0.0298943\ttotal: 4.77s\tremaining: 6.61s\n",
      "419:\tlearn: 0.0298821\ttotal: 4.78s\tremaining: 6.6s\n",
      "420:\tlearn: 0.0298438\ttotal: 4.79s\tremaining: 6.58s\n",
      "421:\tlearn: 0.0298115\ttotal: 4.8s\tremaining: 6.58s\n",
      "422:\tlearn: 0.0297870\ttotal: 4.82s\tremaining: 6.57s\n",
      "423:\tlearn: 0.0297728\ttotal: 4.83s\tremaining: 6.55s\n",
      "424:\tlearn: 0.0297325\ttotal: 4.84s\tremaining: 6.54s\n",
      "425:\tlearn: 0.0297235\ttotal: 4.84s\tremaining: 6.53s\n",
      "426:\tlearn: 0.0297061\ttotal: 4.85s\tremaining: 6.51s\n",
      "427:\tlearn: 0.0296908\ttotal: 4.86s\tremaining: 6.5s\n",
      "428:\tlearn: 0.0296770\ttotal: 4.87s\tremaining: 6.49s\n",
      "429:\tlearn: 0.0296610\ttotal: 4.88s\tremaining: 6.47s\n",
      "430:\tlearn: 0.0296354\ttotal: 4.89s\tremaining: 6.46s\n",
      "431:\tlearn: 0.0296171\ttotal: 4.9s\tremaining: 6.45s\n",
      "432:\tlearn: 0.0295945\ttotal: 4.91s\tremaining: 6.43s\n",
      "433:\tlearn: 0.0295807\ttotal: 4.92s\tremaining: 6.42s\n",
      "434:\tlearn: 0.0295539\ttotal: 4.93s\tremaining: 6.41s\n",
      "435:\tlearn: 0.0295379\ttotal: 4.94s\tremaining: 6.39s\n",
      "436:\tlearn: 0.0295096\ttotal: 4.95s\tremaining: 6.38s\n",
      "437:\tlearn: 0.0294953\ttotal: 4.96s\tremaining: 6.36s\n",
      "438:\tlearn: 0.0294497\ttotal: 4.97s\tremaining: 6.35s\n",
      "439:\tlearn: 0.0294261\ttotal: 4.98s\tremaining: 6.34s\n",
      "440:\tlearn: 0.0294025\ttotal: 4.99s\tremaining: 6.32s\n",
      "441:\tlearn: 0.0293762\ttotal: 5s\tremaining: 6.31s\n",
      "442:\tlearn: 0.0293584\ttotal: 5.01s\tremaining: 6.3s\n",
      "443:\tlearn: 0.0293338\ttotal: 5.02s\tremaining: 6.29s\n",
      "444:\tlearn: 0.0293099\ttotal: 5.03s\tremaining: 6.27s\n",
      "445:\tlearn: 0.0292976\ttotal: 5.04s\tremaining: 6.26s\n",
      "446:\tlearn: 0.0292711\ttotal: 5.05s\tremaining: 6.25s\n",
      "447:\tlearn: 0.0292371\ttotal: 5.06s\tremaining: 6.24s\n",
      "448:\tlearn: 0.0292189\ttotal: 5.07s\tremaining: 6.22s\n",
      "449:\tlearn: 0.0291869\ttotal: 5.08s\tremaining: 6.21s\n",
      "450:\tlearn: 0.0291623\ttotal: 5.09s\tremaining: 6.19s\n",
      "451:\tlearn: 0.0291442\ttotal: 5.1s\tremaining: 6.18s\n",
      "452:\tlearn: 0.0291281\ttotal: 5.11s\tremaining: 6.17s\n",
      "453:\tlearn: 0.0291122\ttotal: 5.12s\tremaining: 6.15s\n",
      "454:\tlearn: 0.0290879\ttotal: 5.13s\tremaining: 6.14s\n",
      "455:\tlearn: 0.0290488\ttotal: 5.14s\tremaining: 6.13s\n",
      "456:\tlearn: 0.0290237\ttotal: 5.15s\tremaining: 6.12s\n",
      "457:\tlearn: 0.0289934\ttotal: 5.16s\tremaining: 6.11s\n",
      "458:\tlearn: 0.0289693\ttotal: 5.17s\tremaining: 6.09s\n",
      "459:\tlearn: 0.0289456\ttotal: 5.18s\tremaining: 6.08s\n",
      "460:\tlearn: 0.0289195\ttotal: 5.19s\tremaining: 6.06s\n",
      "461:\tlearn: 0.0288881\ttotal: 5.2s\tremaining: 6.05s\n",
      "462:\tlearn: 0.0288634\ttotal: 5.21s\tremaining: 6.04s\n",
      "463:\tlearn: 0.0288446\ttotal: 5.22s\tremaining: 6.03s\n",
      "464:\tlearn: 0.0288252\ttotal: 5.23s\tremaining: 6.02s\n",
      "465:\tlearn: 0.0288080\ttotal: 5.24s\tremaining: 6s\n",
      "466:\tlearn: 0.0287904\ttotal: 5.25s\tremaining: 6s\n",
      "467:\tlearn: 0.0287578\ttotal: 5.26s\tremaining: 5.98s\n",
      "468:\tlearn: 0.0287348\ttotal: 5.27s\tremaining: 5.97s\n",
      "469:\tlearn: 0.0287096\ttotal: 5.28s\tremaining: 5.96s\n",
      "470:\tlearn: 0.0286881\ttotal: 5.29s\tremaining: 5.94s\n",
      "471:\tlearn: 0.0286638\ttotal: 5.3s\tremaining: 5.93s\n",
      "472:\tlearn: 0.0286498\ttotal: 5.31s\tremaining: 5.92s\n",
      "473:\tlearn: 0.0286362\ttotal: 5.32s\tremaining: 5.91s\n",
      "474:\tlearn: 0.0286019\ttotal: 5.33s\tremaining: 5.89s\n",
      "475:\tlearn: 0.0285817\ttotal: 5.34s\tremaining: 5.88s\n",
      "476:\tlearn: 0.0285592\ttotal: 5.35s\tremaining: 5.86s\n",
      "477:\tlearn: 0.0285464\ttotal: 5.36s\tremaining: 5.85s\n",
      "478:\tlearn: 0.0285275\ttotal: 5.37s\tremaining: 5.84s\n",
      "479:\tlearn: 0.0285159\ttotal: 5.38s\tremaining: 5.82s\n",
      "480:\tlearn: 0.0285035\ttotal: 5.39s\tremaining: 5.81s\n",
      "481:\tlearn: 0.0284759\ttotal: 5.39s\tremaining: 5.8s\n",
      "482:\tlearn: 0.0284601\ttotal: 5.41s\tremaining: 5.79s\n",
      "483:\tlearn: 0.0284479\ttotal: 5.41s\tremaining: 5.77s\n",
      "484:\tlearn: 0.0284322\ttotal: 5.42s\tremaining: 5.76s\n",
      "485:\tlearn: 0.0284071\ttotal: 5.43s\tremaining: 5.75s\n",
      "486:\tlearn: 0.0283901\ttotal: 5.45s\tremaining: 5.74s\n",
      "487:\tlearn: 0.0283728\ttotal: 5.46s\tremaining: 5.72s\n",
      "488:\tlearn: 0.0283593\ttotal: 5.47s\tremaining: 5.71s\n",
      "489:\tlearn: 0.0283337\ttotal: 5.48s\tremaining: 5.7s\n",
      "490:\tlearn: 0.0282973\ttotal: 5.49s\tremaining: 5.69s\n",
      "491:\tlearn: 0.0282602\ttotal: 5.5s\tremaining: 5.68s\n",
      "492:\tlearn: 0.0282482\ttotal: 5.51s\tremaining: 5.67s\n",
      "493:\tlearn: 0.0282357\ttotal: 5.52s\tremaining: 5.66s\n",
      "494:\tlearn: 0.0282244\ttotal: 5.53s\tremaining: 5.64s\n",
      "495:\tlearn: 0.0282038\ttotal: 5.54s\tremaining: 5.63s\n",
      "496:\tlearn: 0.0281777\ttotal: 5.55s\tremaining: 5.62s\n",
      "497:\tlearn: 0.0281544\ttotal: 5.56s\tremaining: 5.6s\n",
      "498:\tlearn: 0.0281372\ttotal: 5.57s\tremaining: 5.59s\n",
      "499:\tlearn: 0.0281172\ttotal: 5.58s\tremaining: 5.58s\n",
      "500:\tlearn: 0.0280868\ttotal: 5.59s\tremaining: 5.57s\n",
      "501:\tlearn: 0.0280720\ttotal: 5.6s\tremaining: 5.56s\n",
      "502:\tlearn: 0.0280516\ttotal: 5.61s\tremaining: 5.54s\n",
      "503:\tlearn: 0.0280333\ttotal: 5.62s\tremaining: 5.53s\n",
      "504:\tlearn: 0.0280040\ttotal: 5.63s\tremaining: 5.52s\n",
      "505:\tlearn: 0.0279806\ttotal: 5.64s\tremaining: 5.5s\n",
      "506:\tlearn: 0.0279601\ttotal: 5.65s\tremaining: 5.49s\n",
      "507:\tlearn: 0.0279451\ttotal: 5.66s\tremaining: 5.48s\n",
      "508:\tlearn: 0.0279180\ttotal: 5.67s\tremaining: 5.47s\n",
      "509:\tlearn: 0.0279017\ttotal: 5.68s\tremaining: 5.46s\n",
      "510:\tlearn: 0.0278724\ttotal: 5.69s\tremaining: 5.44s\n",
      "511:\tlearn: 0.0278450\ttotal: 5.7s\tremaining: 5.43s\n",
      "512:\tlearn: 0.0278067\ttotal: 5.71s\tremaining: 5.42s\n",
      "513:\tlearn: 0.0277957\ttotal: 5.72s\tremaining: 5.41s\n",
      "514:\tlearn: 0.0277818\ttotal: 5.73s\tremaining: 5.39s\n",
      "515:\tlearn: 0.0277714\ttotal: 5.74s\tremaining: 5.38s\n",
      "516:\tlearn: 0.0277534\ttotal: 5.75s\tremaining: 5.37s\n",
      "517:\tlearn: 0.0277385\ttotal: 5.75s\tremaining: 5.36s\n",
      "518:\tlearn: 0.0277185\ttotal: 5.77s\tremaining: 5.34s\n",
      "519:\tlearn: 0.0277019\ttotal: 5.78s\tremaining: 5.33s\n",
      "520:\tlearn: 0.0276836\ttotal: 5.79s\tremaining: 5.32s\n",
      "521:\tlearn: 0.0276652\ttotal: 5.8s\tremaining: 5.31s\n",
      "522:\tlearn: 0.0276490\ttotal: 5.84s\tremaining: 5.33s\n",
      "523:\tlearn: 0.0276202\ttotal: 5.88s\tremaining: 5.34s\n",
      "524:\tlearn: 0.0276080\ttotal: 5.9s\tremaining: 5.34s\n",
      "525:\tlearn: 0.0275835\ttotal: 5.91s\tremaining: 5.33s\n",
      "526:\tlearn: 0.0275764\ttotal: 5.92s\tremaining: 5.32s\n",
      "527:\tlearn: 0.0275579\ttotal: 5.93s\tremaining: 5.3s\n",
      "528:\tlearn: 0.0275275\ttotal: 5.94s\tremaining: 5.29s\n",
      "529:\tlearn: 0.0275023\ttotal: 5.95s\tremaining: 5.28s\n",
      "530:\tlearn: 0.0274771\ttotal: 5.96s\tremaining: 5.26s\n",
      "531:\tlearn: 0.0274643\ttotal: 5.97s\tremaining: 5.25s\n",
      "532:\tlearn: 0.0274437\ttotal: 5.98s\tremaining: 5.24s\n",
      "533:\tlearn: 0.0274229\ttotal: 5.99s\tremaining: 5.23s\n",
      "534:\tlearn: 0.0274112\ttotal: 6s\tremaining: 5.21s\n",
      "535:\tlearn: 0.0273940\ttotal: 6.01s\tremaining: 5.2s\n",
      "536:\tlearn: 0.0273817\ttotal: 6.02s\tremaining: 5.19s\n",
      "537:\tlearn: 0.0273655\ttotal: 6.03s\tremaining: 5.17s\n",
      "538:\tlearn: 0.0273469\ttotal: 6.04s\tremaining: 5.16s\n",
      "539:\tlearn: 0.0273239\ttotal: 6.05s\tremaining: 5.15s\n",
      "540:\tlearn: 0.0273081\ttotal: 6.06s\tremaining: 5.14s\n",
      "541:\tlearn: 0.0272772\ttotal: 6.07s\tremaining: 5.13s\n",
      "542:\tlearn: 0.0272518\ttotal: 6.08s\tremaining: 5.12s\n",
      "543:\tlearn: 0.0272378\ttotal: 6.09s\tremaining: 5.1s\n",
      "544:\tlearn: 0.0272283\ttotal: 6.1s\tremaining: 5.09s\n",
      "545:\tlearn: 0.0272134\ttotal: 6.11s\tremaining: 5.08s\n",
      "546:\tlearn: 0.0271820\ttotal: 6.12s\tremaining: 5.07s\n",
      "547:\tlearn: 0.0271700\ttotal: 6.13s\tremaining: 5.05s\n",
      "548:\tlearn: 0.0271517\ttotal: 6.14s\tremaining: 5.04s\n",
      "549:\tlearn: 0.0271400\ttotal: 6.15s\tremaining: 5.03s\n",
      "550:\tlearn: 0.0271158\ttotal: 6.16s\tremaining: 5.02s\n",
      "551:\tlearn: 0.0271018\ttotal: 6.17s\tremaining: 5.01s\n",
      "552:\tlearn: 0.0270814\ttotal: 6.18s\tremaining: 5s\n",
      "553:\tlearn: 0.0270636\ttotal: 6.19s\tremaining: 4.98s\n",
      "554:\tlearn: 0.0270484\ttotal: 6.2s\tremaining: 4.97s\n",
      "555:\tlearn: 0.0270258\ttotal: 6.22s\tremaining: 4.97s\n",
      "556:\tlearn: 0.0270105\ttotal: 6.24s\tremaining: 4.96s\n",
      "557:\tlearn: 0.0269922\ttotal: 6.25s\tremaining: 4.95s\n",
      "558:\tlearn: 0.0269733\ttotal: 6.27s\tremaining: 4.94s\n",
      "559:\tlearn: 0.0269446\ttotal: 6.28s\tremaining: 4.93s\n",
      "560:\tlearn: 0.0269136\ttotal: 6.29s\tremaining: 4.92s\n",
      "561:\tlearn: 0.0269060\ttotal: 6.3s\tremaining: 4.91s\n",
      "562:\tlearn: 0.0268959\ttotal: 6.31s\tremaining: 4.9s\n",
      "563:\tlearn: 0.0268793\ttotal: 6.32s\tremaining: 4.88s\n",
      "564:\tlearn: 0.0268671\ttotal: 6.33s\tremaining: 4.87s\n",
      "565:\tlearn: 0.0268242\ttotal: 6.34s\tremaining: 4.86s\n",
      "566:\tlearn: 0.0268007\ttotal: 6.35s\tremaining: 4.85s\n",
      "567:\tlearn: 0.0267679\ttotal: 6.36s\tremaining: 4.83s\n",
      "568:\tlearn: 0.0267588\ttotal: 6.37s\tremaining: 4.82s\n",
      "569:\tlearn: 0.0267430\ttotal: 6.38s\tremaining: 4.81s\n",
      "570:\tlearn: 0.0267310\ttotal: 6.38s\tremaining: 4.8s\n",
      "571:\tlearn: 0.0267182\ttotal: 6.39s\tremaining: 4.79s\n",
      "572:\tlearn: 0.0267014\ttotal: 6.4s\tremaining: 4.77s\n",
      "573:\tlearn: 0.0266764\ttotal: 6.41s\tremaining: 4.76s\n",
      "574:\tlearn: 0.0266479\ttotal: 6.42s\tremaining: 4.75s\n",
      "575:\tlearn: 0.0266232\ttotal: 6.43s\tremaining: 4.74s\n",
      "576:\tlearn: 0.0266086\ttotal: 6.44s\tremaining: 4.72s\n",
      "577:\tlearn: 0.0265920\ttotal: 6.45s\tremaining: 4.71s\n",
      "578:\tlearn: 0.0265851\ttotal: 6.46s\tremaining: 4.7s\n",
      "579:\tlearn: 0.0265599\ttotal: 6.47s\tremaining: 4.69s\n",
      "580:\tlearn: 0.0265366\ttotal: 6.48s\tremaining: 4.67s\n",
      "581:\tlearn: 0.0265185\ttotal: 6.5s\tremaining: 4.66s\n",
      "582:\tlearn: 0.0264940\ttotal: 6.5s\tremaining: 4.65s\n",
      "583:\tlearn: 0.0264716\ttotal: 6.51s\tremaining: 4.64s\n",
      "584:\tlearn: 0.0264615\ttotal: 6.52s\tremaining: 4.63s\n",
      "585:\tlearn: 0.0264389\ttotal: 6.53s\tremaining: 4.62s\n",
      "586:\tlearn: 0.0264142\ttotal: 6.54s\tremaining: 4.6s\n",
      "587:\tlearn: 0.0263952\ttotal: 6.55s\tremaining: 4.59s\n",
      "588:\tlearn: 0.0263656\ttotal: 6.56s\tremaining: 4.58s\n",
      "589:\tlearn: 0.0263480\ttotal: 6.57s\tremaining: 4.57s\n",
      "590:\tlearn: 0.0263348\ttotal: 6.58s\tremaining: 4.55s\n",
      "591:\tlearn: 0.0263266\ttotal: 6.59s\tremaining: 4.54s\n",
      "592:\tlearn: 0.0262933\ttotal: 6.6s\tremaining: 4.53s\n",
      "593:\tlearn: 0.0262789\ttotal: 6.61s\tremaining: 4.52s\n",
      "594:\tlearn: 0.0262603\ttotal: 6.62s\tremaining: 4.51s\n",
      "595:\tlearn: 0.0262369\ttotal: 6.63s\tremaining: 4.49s\n",
      "596:\tlearn: 0.0262193\ttotal: 6.64s\tremaining: 4.48s\n",
      "597:\tlearn: 0.0262124\ttotal: 6.65s\tremaining: 4.47s\n",
      "598:\tlearn: 0.0261906\ttotal: 6.66s\tremaining: 4.46s\n",
      "599:\tlearn: 0.0261816\ttotal: 6.67s\tremaining: 4.45s\n",
      "600:\tlearn: 0.0261610\ttotal: 6.68s\tremaining: 4.43s\n",
      "601:\tlearn: 0.0261432\ttotal: 6.69s\tremaining: 4.42s\n",
      "602:\tlearn: 0.0261352\ttotal: 6.7s\tremaining: 4.41s\n",
      "603:\tlearn: 0.0261258\ttotal: 6.71s\tremaining: 4.4s\n",
      "604:\tlearn: 0.0260956\ttotal: 6.72s\tremaining: 4.39s\n",
      "605:\tlearn: 0.0260643\ttotal: 6.73s\tremaining: 4.38s\n",
      "606:\tlearn: 0.0260575\ttotal: 6.74s\tremaining: 4.36s\n",
      "607:\tlearn: 0.0260428\ttotal: 6.75s\tremaining: 4.35s\n",
      "608:\tlearn: 0.0260368\ttotal: 6.76s\tremaining: 4.34s\n",
      "609:\tlearn: 0.0260164\ttotal: 6.77s\tremaining: 4.33s\n",
      "610:\tlearn: 0.0259949\ttotal: 6.78s\tremaining: 4.32s\n",
      "611:\tlearn: 0.0259771\ttotal: 6.79s\tremaining: 4.3s\n",
      "612:\tlearn: 0.0259432\ttotal: 6.8s\tremaining: 4.29s\n",
      "613:\tlearn: 0.0259294\ttotal: 6.81s\tremaining: 4.28s\n",
      "614:\tlearn: 0.0259107\ttotal: 6.82s\tremaining: 4.27s\n",
      "615:\tlearn: 0.0258986\ttotal: 6.83s\tremaining: 4.25s\n",
      "616:\tlearn: 0.0258792\ttotal: 6.84s\tremaining: 4.24s\n",
      "617:\tlearn: 0.0258665\ttotal: 6.85s\tremaining: 4.23s\n",
      "618:\tlearn: 0.0258440\ttotal: 6.86s\tremaining: 4.22s\n",
      "619:\tlearn: 0.0258344\ttotal: 6.87s\tremaining: 4.21s\n",
      "620:\tlearn: 0.0258069\ttotal: 6.87s\tremaining: 4.2s\n",
      "621:\tlearn: 0.0257862\ttotal: 6.88s\tremaining: 4.18s\n",
      "622:\tlearn: 0.0257557\ttotal: 6.9s\tremaining: 4.17s\n",
      "623:\tlearn: 0.0257375\ttotal: 6.91s\tremaining: 4.16s\n",
      "624:\tlearn: 0.0257100\ttotal: 6.92s\tremaining: 4.15s\n",
      "625:\tlearn: 0.0256957\ttotal: 6.93s\tremaining: 4.14s\n",
      "626:\tlearn: 0.0256760\ttotal: 6.94s\tremaining: 4.13s\n",
      "627:\tlearn: 0.0256670\ttotal: 6.95s\tremaining: 4.12s\n",
      "628:\tlearn: 0.0256315\ttotal: 6.96s\tremaining: 4.1s\n",
      "629:\tlearn: 0.0256145\ttotal: 6.97s\tremaining: 4.09s\n",
      "630:\tlearn: 0.0255999\ttotal: 6.98s\tremaining: 4.08s\n",
      "631:\tlearn: 0.0255928\ttotal: 6.99s\tremaining: 4.07s\n",
      "632:\tlearn: 0.0255651\ttotal: 7s\tremaining: 4.06s\n",
      "633:\tlearn: 0.0255449\ttotal: 7.01s\tremaining: 4.04s\n",
      "634:\tlearn: 0.0255338\ttotal: 7.01s\tremaining: 4.03s\n",
      "635:\tlearn: 0.0255174\ttotal: 7.03s\tremaining: 4.02s\n",
      "636:\tlearn: 0.0255016\ttotal: 7.03s\tremaining: 4.01s\n",
      "637:\tlearn: 0.0254871\ttotal: 7.04s\tremaining: 4s\n",
      "638:\tlearn: 0.0254649\ttotal: 7.05s\tremaining: 3.98s\n",
      "639:\tlearn: 0.0254367\ttotal: 7.06s\tremaining: 3.97s\n",
      "640:\tlearn: 0.0254194\ttotal: 7.07s\tremaining: 3.96s\n",
      "641:\tlearn: 0.0253986\ttotal: 7.08s\tremaining: 3.95s\n",
      "642:\tlearn: 0.0253877\ttotal: 7.09s\tremaining: 3.94s\n",
      "643:\tlearn: 0.0253771\ttotal: 7.1s\tremaining: 3.92s\n",
      "644:\tlearn: 0.0253692\ttotal: 7.11s\tremaining: 3.91s\n",
      "645:\tlearn: 0.0253488\ttotal: 7.12s\tremaining: 3.9s\n",
      "646:\tlearn: 0.0253328\ttotal: 7.13s\tremaining: 3.89s\n",
      "647:\tlearn: 0.0253196\ttotal: 7.14s\tremaining: 3.88s\n",
      "648:\tlearn: 0.0253003\ttotal: 7.15s\tremaining: 3.87s\n",
      "649:\tlearn: 0.0252840\ttotal: 7.16s\tremaining: 3.86s\n",
      "650:\tlearn: 0.0252603\ttotal: 7.17s\tremaining: 3.85s\n",
      "651:\tlearn: 0.0252387\ttotal: 7.18s\tremaining: 3.83s\n",
      "652:\tlearn: 0.0252062\ttotal: 7.19s\tremaining: 3.82s\n",
      "653:\tlearn: 0.0251711\ttotal: 7.21s\tremaining: 3.81s\n",
      "654:\tlearn: 0.0251558\ttotal: 7.21s\tremaining: 3.8s\n",
      "655:\tlearn: 0.0251429\ttotal: 7.23s\tremaining: 3.79s\n",
      "656:\tlearn: 0.0251303\ttotal: 7.24s\tremaining: 3.78s\n",
      "657:\tlearn: 0.0251158\ttotal: 7.25s\tremaining: 3.77s\n",
      "658:\tlearn: 0.0251087\ttotal: 7.26s\tremaining: 3.75s\n",
      "659:\tlearn: 0.0251025\ttotal: 7.26s\tremaining: 3.74s\n",
      "660:\tlearn: 0.0250869\ttotal: 7.27s\tremaining: 3.73s\n",
      "661:\tlearn: 0.0250773\ttotal: 7.28s\tremaining: 3.72s\n",
      "662:\tlearn: 0.0250645\ttotal: 7.29s\tremaining: 3.71s\n",
      "663:\tlearn: 0.0250487\ttotal: 7.3s\tremaining: 3.69s\n",
      "664:\tlearn: 0.0250240\ttotal: 7.32s\tremaining: 3.69s\n",
      "665:\tlearn: 0.0250114\ttotal: 7.33s\tremaining: 3.67s\n",
      "666:\tlearn: 0.0249956\ttotal: 7.34s\tremaining: 3.66s\n",
      "667:\tlearn: 0.0249781\ttotal: 7.35s\tremaining: 3.65s\n",
      "668:\tlearn: 0.0249570\ttotal: 7.36s\tremaining: 3.64s\n",
      "669:\tlearn: 0.0249491\ttotal: 7.37s\tremaining: 3.63s\n",
      "670:\tlearn: 0.0249236\ttotal: 7.38s\tremaining: 3.62s\n",
      "671:\tlearn: 0.0249118\ttotal: 7.38s\tremaining: 3.6s\n",
      "672:\tlearn: 0.0248846\ttotal: 7.39s\tremaining: 3.59s\n",
      "673:\tlearn: 0.0248719\ttotal: 7.4s\tremaining: 3.58s\n",
      "674:\tlearn: 0.0248627\ttotal: 7.42s\tremaining: 3.57s\n",
      "675:\tlearn: 0.0248507\ttotal: 7.42s\tremaining: 3.56s\n",
      "676:\tlearn: 0.0248345\ttotal: 7.43s\tremaining: 3.55s\n",
      "677:\tlearn: 0.0248228\ttotal: 7.44s\tremaining: 3.54s\n",
      "678:\tlearn: 0.0248025\ttotal: 7.45s\tremaining: 3.52s\n",
      "679:\tlearn: 0.0247893\ttotal: 7.46s\tremaining: 3.51s\n",
      "680:\tlearn: 0.0247749\ttotal: 7.47s\tremaining: 3.5s\n",
      "681:\tlearn: 0.0247600\ttotal: 7.48s\tremaining: 3.49s\n",
      "682:\tlearn: 0.0247317\ttotal: 7.49s\tremaining: 3.48s\n",
      "683:\tlearn: 0.0247085\ttotal: 7.5s\tremaining: 3.46s\n",
      "684:\tlearn: 0.0246915\ttotal: 7.51s\tremaining: 3.46s\n",
      "685:\tlearn: 0.0246743\ttotal: 7.53s\tremaining: 3.45s\n",
      "686:\tlearn: 0.0246612\ttotal: 7.54s\tremaining: 3.44s\n",
      "687:\tlearn: 0.0246370\ttotal: 7.55s\tremaining: 3.42s\n",
      "688:\tlearn: 0.0246301\ttotal: 7.56s\tremaining: 3.41s\n",
      "689:\tlearn: 0.0246169\ttotal: 7.57s\tremaining: 3.4s\n",
      "690:\tlearn: 0.0246064\ttotal: 7.58s\tremaining: 3.39s\n",
      "691:\tlearn: 0.0245805\ttotal: 7.59s\tremaining: 3.38s\n",
      "692:\tlearn: 0.0245708\ttotal: 7.6s\tremaining: 3.37s\n",
      "693:\tlearn: 0.0245548\ttotal: 7.61s\tremaining: 3.35s\n",
      "694:\tlearn: 0.0245319\ttotal: 7.62s\tremaining: 3.34s\n",
      "695:\tlearn: 0.0245167\ttotal: 7.63s\tremaining: 3.33s\n",
      "696:\tlearn: 0.0245013\ttotal: 7.63s\tremaining: 3.32s\n",
      "697:\tlearn: 0.0244853\ttotal: 7.64s\tremaining: 3.31s\n",
      "698:\tlearn: 0.0244777\ttotal: 7.66s\tremaining: 3.3s\n",
      "699:\tlearn: 0.0244704\ttotal: 7.66s\tremaining: 3.28s\n",
      "700:\tlearn: 0.0244584\ttotal: 7.67s\tremaining: 3.27s\n",
      "701:\tlearn: 0.0244401\ttotal: 7.68s\tremaining: 3.26s\n",
      "702:\tlearn: 0.0244215\ttotal: 7.69s\tremaining: 3.25s\n",
      "703:\tlearn: 0.0244060\ttotal: 7.7s\tremaining: 3.24s\n",
      "704:\tlearn: 0.0243879\ttotal: 7.71s\tremaining: 3.23s\n",
      "705:\tlearn: 0.0243811\ttotal: 7.72s\tremaining: 3.21s\n",
      "706:\tlearn: 0.0243648\ttotal: 7.73s\tremaining: 3.21s\n",
      "707:\tlearn: 0.0243583\ttotal: 7.75s\tremaining: 3.19s\n",
      "708:\tlearn: 0.0243454\ttotal: 7.76s\tremaining: 3.18s\n",
      "709:\tlearn: 0.0243304\ttotal: 7.76s\tremaining: 3.17s\n",
      "710:\tlearn: 0.0243138\ttotal: 7.77s\tremaining: 3.16s\n",
      "711:\tlearn: 0.0243066\ttotal: 7.78s\tremaining: 3.15s\n",
      "712:\tlearn: 0.0242960\ttotal: 7.79s\tremaining: 3.14s\n",
      "713:\tlearn: 0.0242751\ttotal: 7.8s\tremaining: 3.13s\n",
      "714:\tlearn: 0.0242663\ttotal: 7.81s\tremaining: 3.11s\n",
      "715:\tlearn: 0.0242490\ttotal: 7.82s\tremaining: 3.1s\n",
      "716:\tlearn: 0.0242394\ttotal: 7.83s\tremaining: 3.09s\n",
      "717:\tlearn: 0.0242261\ttotal: 7.84s\tremaining: 3.08s\n",
      "718:\tlearn: 0.0242185\ttotal: 7.85s\tremaining: 3.07s\n",
      "719:\tlearn: 0.0242082\ttotal: 7.86s\tremaining: 3.06s\n",
      "720:\tlearn: 0.0242029\ttotal: 7.87s\tremaining: 3.04s\n",
      "721:\tlearn: 0.0241878\ttotal: 7.88s\tremaining: 3.03s\n",
      "722:\tlearn: 0.0241754\ttotal: 7.88s\tremaining: 3.02s\n",
      "723:\tlearn: 0.0241523\ttotal: 7.89s\tremaining: 3.01s\n",
      "724:\tlearn: 0.0241404\ttotal: 7.9s\tremaining: 3s\n",
      "725:\tlearn: 0.0241312\ttotal: 7.92s\tremaining: 2.99s\n",
      "726:\tlearn: 0.0241120\ttotal: 7.93s\tremaining: 2.98s\n",
      "727:\tlearn: 0.0240955\ttotal: 7.94s\tremaining: 2.97s\n",
      "728:\tlearn: 0.0240728\ttotal: 7.95s\tremaining: 2.96s\n",
      "729:\tlearn: 0.0240580\ttotal: 7.96s\tremaining: 2.94s\n",
      "730:\tlearn: 0.0240442\ttotal: 7.97s\tremaining: 2.93s\n",
      "731:\tlearn: 0.0240352\ttotal: 7.98s\tremaining: 2.92s\n",
      "732:\tlearn: 0.0240133\ttotal: 7.99s\tremaining: 2.91s\n",
      "733:\tlearn: 0.0240073\ttotal: 7.99s\tremaining: 2.9s\n",
      "734:\tlearn: 0.0239940\ttotal: 8s\tremaining: 2.89s\n",
      "735:\tlearn: 0.0239717\ttotal: 8.01s\tremaining: 2.87s\n",
      "736:\tlearn: 0.0239468\ttotal: 8.02s\tremaining: 2.86s\n",
      "737:\tlearn: 0.0239218\ttotal: 8.03s\tremaining: 2.85s\n",
      "738:\tlearn: 0.0239060\ttotal: 8.04s\tremaining: 2.84s\n",
      "739:\tlearn: 0.0238859\ttotal: 8.06s\tremaining: 2.83s\n",
      "740:\tlearn: 0.0238726\ttotal: 8.07s\tremaining: 2.82s\n",
      "741:\tlearn: 0.0238594\ttotal: 8.1s\tremaining: 2.82s\n",
      "742:\tlearn: 0.0238491\ttotal: 8.11s\tremaining: 2.81s\n",
      "743:\tlearn: 0.0238295\ttotal: 8.12s\tremaining: 2.79s\n",
      "744:\tlearn: 0.0238161\ttotal: 8.14s\tremaining: 2.79s\n",
      "745:\tlearn: 0.0238024\ttotal: 8.15s\tremaining: 2.77s\n",
      "746:\tlearn: 0.0237898\ttotal: 8.16s\tremaining: 2.76s\n",
      "747:\tlearn: 0.0237775\ttotal: 8.17s\tremaining: 2.75s\n",
      "748:\tlearn: 0.0237596\ttotal: 8.18s\tremaining: 2.74s\n",
      "749:\tlearn: 0.0237467\ttotal: 8.19s\tremaining: 2.73s\n",
      "750:\tlearn: 0.0237337\ttotal: 8.2s\tremaining: 2.72s\n",
      "751:\tlearn: 0.0237168\ttotal: 8.21s\tremaining: 2.71s\n",
      "752:\tlearn: 0.0236874\ttotal: 8.22s\tremaining: 2.7s\n",
      "753:\tlearn: 0.0236766\ttotal: 8.23s\tremaining: 2.69s\n",
      "754:\tlearn: 0.0236482\ttotal: 8.24s\tremaining: 2.67s\n",
      "755:\tlearn: 0.0236425\ttotal: 8.25s\tremaining: 2.66s\n",
      "756:\tlearn: 0.0236294\ttotal: 8.26s\tremaining: 2.65s\n",
      "757:\tlearn: 0.0236206\ttotal: 8.27s\tremaining: 2.64s\n",
      "758:\tlearn: 0.0236009\ttotal: 8.28s\tremaining: 2.63s\n",
      "759:\tlearn: 0.0235887\ttotal: 8.29s\tremaining: 2.62s\n",
      "760:\tlearn: 0.0235708\ttotal: 8.3s\tremaining: 2.6s\n",
      "761:\tlearn: 0.0235569\ttotal: 8.31s\tremaining: 2.59s\n",
      "762:\tlearn: 0.0235404\ttotal: 8.31s\tremaining: 2.58s\n",
      "763:\tlearn: 0.0235276\ttotal: 8.32s\tremaining: 2.57s\n",
      "764:\tlearn: 0.0235202\ttotal: 8.33s\tremaining: 2.56s\n",
      "765:\tlearn: 0.0235102\ttotal: 8.35s\tremaining: 2.55s\n",
      "766:\tlearn: 0.0234997\ttotal: 8.36s\tremaining: 2.54s\n",
      "767:\tlearn: 0.0234807\ttotal: 8.37s\tremaining: 2.53s\n",
      "768:\tlearn: 0.0234657\ttotal: 8.38s\tremaining: 2.52s\n",
      "769:\tlearn: 0.0234549\ttotal: 8.39s\tremaining: 2.5s\n",
      "770:\tlearn: 0.0234413\ttotal: 8.41s\tremaining: 2.5s\n",
      "771:\tlearn: 0.0234241\ttotal: 8.43s\tremaining: 2.49s\n",
      "772:\tlearn: 0.0234131\ttotal: 8.45s\tremaining: 2.48s\n",
      "773:\tlearn: 0.0234061\ttotal: 8.46s\tremaining: 2.47s\n",
      "774:\tlearn: 0.0233911\ttotal: 8.47s\tremaining: 2.46s\n",
      "775:\tlearn: 0.0233813\ttotal: 8.48s\tremaining: 2.45s\n",
      "776:\tlearn: 0.0233666\ttotal: 8.49s\tremaining: 2.44s\n",
      "777:\tlearn: 0.0233497\ttotal: 8.5s\tremaining: 2.43s\n",
      "778:\tlearn: 0.0233393\ttotal: 8.51s\tremaining: 2.41s\n",
      "779:\tlearn: 0.0233276\ttotal: 8.52s\tremaining: 2.4s\n",
      "780:\tlearn: 0.0233120\ttotal: 8.53s\tremaining: 2.39s\n",
      "781:\tlearn: 0.0232922\ttotal: 8.54s\tremaining: 2.38s\n",
      "782:\tlearn: 0.0232869\ttotal: 8.55s\tremaining: 2.37s\n",
      "783:\tlearn: 0.0232696\ttotal: 8.56s\tremaining: 2.36s\n",
      "784:\tlearn: 0.0232621\ttotal: 8.57s\tremaining: 2.35s\n",
      "785:\tlearn: 0.0232395\ttotal: 8.58s\tremaining: 2.33s\n",
      "786:\tlearn: 0.0232151\ttotal: 8.59s\tremaining: 2.33s\n",
      "787:\tlearn: 0.0232047\ttotal: 8.6s\tremaining: 2.31s\n",
      "788:\tlearn: 0.0231961\ttotal: 8.61s\tremaining: 2.3s\n",
      "789:\tlearn: 0.0231794\ttotal: 8.62s\tremaining: 2.29s\n",
      "790:\tlearn: 0.0231528\ttotal: 8.63s\tremaining: 2.28s\n",
      "791:\tlearn: 0.0231388\ttotal: 8.64s\tremaining: 2.27s\n",
      "792:\tlearn: 0.0231238\ttotal: 8.64s\tremaining: 2.26s\n",
      "793:\tlearn: 0.0231186\ttotal: 8.65s\tremaining: 2.25s\n",
      "794:\tlearn: 0.0231001\ttotal: 8.66s\tremaining: 2.23s\n",
      "795:\tlearn: 0.0230835\ttotal: 8.67s\tremaining: 2.22s\n",
      "796:\tlearn: 0.0230718\ttotal: 8.68s\tremaining: 2.21s\n",
      "797:\tlearn: 0.0230554\ttotal: 8.7s\tremaining: 2.2s\n",
      "798:\tlearn: 0.0230397\ttotal: 8.71s\tremaining: 2.19s\n",
      "799:\tlearn: 0.0230342\ttotal: 8.72s\tremaining: 2.18s\n",
      "800:\tlearn: 0.0230140\ttotal: 8.74s\tremaining: 2.17s\n",
      "801:\tlearn: 0.0229899\ttotal: 8.76s\tremaining: 2.16s\n",
      "802:\tlearn: 0.0229789\ttotal: 8.78s\tremaining: 2.15s\n",
      "803:\tlearn: 0.0229664\ttotal: 8.8s\tremaining: 2.14s\n",
      "804:\tlearn: 0.0229478\ttotal: 8.81s\tremaining: 2.13s\n",
      "805:\tlearn: 0.0229326\ttotal: 8.82s\tremaining: 2.12s\n",
      "806:\tlearn: 0.0229200\ttotal: 8.83s\tremaining: 2.11s\n",
      "807:\tlearn: 0.0229079\ttotal: 8.84s\tremaining: 2.1s\n",
      "808:\tlearn: 0.0228991\ttotal: 8.85s\tremaining: 2.09s\n",
      "809:\tlearn: 0.0228803\ttotal: 8.86s\tremaining: 2.08s\n",
      "810:\tlearn: 0.0228724\ttotal: 8.87s\tremaining: 2.07s\n",
      "811:\tlearn: 0.0228652\ttotal: 8.88s\tremaining: 2.06s\n",
      "812:\tlearn: 0.0228536\ttotal: 8.89s\tremaining: 2.04s\n",
      "813:\tlearn: 0.0228354\ttotal: 8.9s\tremaining: 2.03s\n",
      "814:\tlearn: 0.0228206\ttotal: 8.91s\tremaining: 2.02s\n",
      "815:\tlearn: 0.0228153\ttotal: 8.92s\tremaining: 2.01s\n",
      "816:\tlearn: 0.0227988\ttotal: 8.93s\tremaining: 2s\n",
      "817:\tlearn: 0.0227889\ttotal: 8.94s\tremaining: 1.99s\n",
      "818:\tlearn: 0.0227741\ttotal: 8.95s\tremaining: 1.98s\n",
      "819:\tlearn: 0.0227673\ttotal: 8.96s\tremaining: 1.97s\n",
      "820:\tlearn: 0.0227592\ttotal: 8.96s\tremaining: 1.95s\n",
      "821:\tlearn: 0.0227485\ttotal: 8.97s\tremaining: 1.94s\n",
      "822:\tlearn: 0.0227380\ttotal: 8.98s\tremaining: 1.93s\n",
      "823:\tlearn: 0.0227237\ttotal: 9s\tremaining: 1.92s\n",
      "824:\tlearn: 0.0227159\ttotal: 9.01s\tremaining: 1.91s\n",
      "825:\tlearn: 0.0226939\ttotal: 9.02s\tremaining: 1.9s\n",
      "826:\tlearn: 0.0226834\ttotal: 9.04s\tremaining: 1.89s\n",
      "827:\tlearn: 0.0226719\ttotal: 9.06s\tremaining: 1.88s\n",
      "828:\tlearn: 0.0226527\ttotal: 9.09s\tremaining: 1.87s\n",
      "829:\tlearn: 0.0226493\ttotal: 9.1s\tremaining: 1.86s\n",
      "830:\tlearn: 0.0226339\ttotal: 9.11s\tremaining: 1.85s\n",
      "831:\tlearn: 0.0226256\ttotal: 9.13s\tremaining: 1.84s\n",
      "832:\tlearn: 0.0226190\ttotal: 9.14s\tremaining: 1.83s\n",
      "833:\tlearn: 0.0225998\ttotal: 9.15s\tremaining: 1.82s\n",
      "834:\tlearn: 0.0225791\ttotal: 9.16s\tremaining: 1.81s\n",
      "835:\tlearn: 0.0225597\ttotal: 9.17s\tremaining: 1.8s\n",
      "836:\tlearn: 0.0225470\ttotal: 9.18s\tremaining: 1.79s\n",
      "837:\tlearn: 0.0225310\ttotal: 9.19s\tremaining: 1.78s\n",
      "838:\tlearn: 0.0225217\ttotal: 9.2s\tremaining: 1.77s\n",
      "839:\tlearn: 0.0225053\ttotal: 9.22s\tremaining: 1.76s\n",
      "840:\tlearn: 0.0224864\ttotal: 9.23s\tremaining: 1.74s\n",
      "841:\tlearn: 0.0224787\ttotal: 9.24s\tremaining: 1.73s\n",
      "842:\tlearn: 0.0224732\ttotal: 9.25s\tremaining: 1.72s\n",
      "843:\tlearn: 0.0224625\ttotal: 9.26s\tremaining: 1.71s\n",
      "844:\tlearn: 0.0224402\ttotal: 9.27s\tremaining: 1.7s\n",
      "845:\tlearn: 0.0224247\ttotal: 9.28s\tremaining: 1.69s\n",
      "846:\tlearn: 0.0224176\ttotal: 9.29s\tremaining: 1.68s\n",
      "847:\tlearn: 0.0224105\ttotal: 9.29s\tremaining: 1.67s\n",
      "848:\tlearn: 0.0223932\ttotal: 9.31s\tremaining: 1.66s\n",
      "849:\tlearn: 0.0223713\ttotal: 9.32s\tremaining: 1.64s\n",
      "850:\tlearn: 0.0223623\ttotal: 9.34s\tremaining: 1.63s\n",
      "851:\tlearn: 0.0223470\ttotal: 9.35s\tremaining: 1.62s\n",
      "852:\tlearn: 0.0223285\ttotal: 9.38s\tremaining: 1.62s\n",
      "853:\tlearn: 0.0223196\ttotal: 9.39s\tremaining: 1.6s\n",
      "854:\tlearn: 0.0223050\ttotal: 9.4s\tremaining: 1.59s\n",
      "855:\tlearn: 0.0222905\ttotal: 9.42s\tremaining: 1.58s\n",
      "856:\tlearn: 0.0222818\ttotal: 9.43s\tremaining: 1.57s\n",
      "857:\tlearn: 0.0222659\ttotal: 9.44s\tremaining: 1.56s\n",
      "858:\tlearn: 0.0222595\ttotal: 9.45s\tremaining: 1.55s\n",
      "859:\tlearn: 0.0222391\ttotal: 9.46s\tremaining: 1.54s\n",
      "860:\tlearn: 0.0222181\ttotal: 9.47s\tremaining: 1.53s\n",
      "861:\tlearn: 0.0222016\ttotal: 9.48s\tremaining: 1.52s\n",
      "862:\tlearn: 0.0221840\ttotal: 9.49s\tremaining: 1.51s\n",
      "863:\tlearn: 0.0221665\ttotal: 9.5s\tremaining: 1.5s\n",
      "864:\tlearn: 0.0221534\ttotal: 9.51s\tremaining: 1.48s\n",
      "865:\tlearn: 0.0221355\ttotal: 9.52s\tremaining: 1.47s\n",
      "866:\tlearn: 0.0221156\ttotal: 9.53s\tremaining: 1.46s\n",
      "867:\tlearn: 0.0220973\ttotal: 9.54s\tremaining: 1.45s\n",
      "868:\tlearn: 0.0220861\ttotal: 9.55s\tremaining: 1.44s\n",
      "869:\tlearn: 0.0220757\ttotal: 9.56s\tremaining: 1.43s\n",
      "870:\tlearn: 0.0220562\ttotal: 9.57s\tremaining: 1.42s\n",
      "871:\tlearn: 0.0220485\ttotal: 9.58s\tremaining: 1.41s\n",
      "872:\tlearn: 0.0220313\ttotal: 9.59s\tremaining: 1.39s\n",
      "873:\tlearn: 0.0220215\ttotal: 9.6s\tremaining: 1.38s\n",
      "874:\tlearn: 0.0219930\ttotal: 9.61s\tremaining: 1.37s\n",
      "875:\tlearn: 0.0219780\ttotal: 9.62s\tremaining: 1.36s\n",
      "876:\tlearn: 0.0219686\ttotal: 9.63s\tremaining: 1.35s\n",
      "877:\tlearn: 0.0219555\ttotal: 9.64s\tremaining: 1.34s\n",
      "878:\tlearn: 0.0219448\ttotal: 9.65s\tremaining: 1.33s\n",
      "879:\tlearn: 0.0219326\ttotal: 9.66s\tremaining: 1.32s\n",
      "880:\tlearn: 0.0219178\ttotal: 9.67s\tremaining: 1.31s\n",
      "881:\tlearn: 0.0219019\ttotal: 9.68s\tremaining: 1.29s\n",
      "882:\tlearn: 0.0218917\ttotal: 9.69s\tremaining: 1.28s\n",
      "883:\tlearn: 0.0218851\ttotal: 9.7s\tremaining: 1.27s\n",
      "884:\tlearn: 0.0218731\ttotal: 9.71s\tremaining: 1.26s\n",
      "885:\tlearn: 0.0218570\ttotal: 9.72s\tremaining: 1.25s\n",
      "886:\tlearn: 0.0218489\ttotal: 9.73s\tremaining: 1.24s\n",
      "887:\tlearn: 0.0218374\ttotal: 9.74s\tremaining: 1.23s\n",
      "888:\tlearn: 0.0218200\ttotal: 9.75s\tremaining: 1.22s\n",
      "889:\tlearn: 0.0218073\ttotal: 9.76s\tremaining: 1.21s\n",
      "890:\tlearn: 0.0217974\ttotal: 9.77s\tremaining: 1.19s\n",
      "891:\tlearn: 0.0217831\ttotal: 9.78s\tremaining: 1.18s\n",
      "892:\tlearn: 0.0217706\ttotal: 9.79s\tremaining: 1.17s\n",
      "893:\tlearn: 0.0217554\ttotal: 9.79s\tremaining: 1.16s\n",
      "894:\tlearn: 0.0217500\ttotal: 9.8s\tremaining: 1.15s\n",
      "895:\tlearn: 0.0217367\ttotal: 9.81s\tremaining: 1.14s\n",
      "896:\tlearn: 0.0217217\ttotal: 9.82s\tremaining: 1.13s\n",
      "897:\tlearn: 0.0217077\ttotal: 9.84s\tremaining: 1.12s\n",
      "898:\tlearn: 0.0216896\ttotal: 9.84s\tremaining: 1.11s\n",
      "899:\tlearn: 0.0216763\ttotal: 9.86s\tremaining: 1.09s\n",
      "900:\tlearn: 0.0216611\ttotal: 9.87s\tremaining: 1.08s\n",
      "901:\tlearn: 0.0216541\ttotal: 9.87s\tremaining: 1.07s\n",
      "902:\tlearn: 0.0216428\ttotal: 9.88s\tremaining: 1.06s\n",
      "903:\tlearn: 0.0216258\ttotal: 9.89s\tremaining: 1.05s\n",
      "904:\tlearn: 0.0216107\ttotal: 9.9s\tremaining: 1.04s\n",
      "905:\tlearn: 0.0215863\ttotal: 9.91s\tremaining: 1.03s\n",
      "906:\tlearn: 0.0215699\ttotal: 9.92s\tremaining: 1.02s\n",
      "907:\tlearn: 0.0215600\ttotal: 9.93s\tremaining: 1.01s\n",
      "908:\tlearn: 0.0215460\ttotal: 9.94s\tremaining: 995ms\n",
      "909:\tlearn: 0.0215387\ttotal: 9.95s\tremaining: 984ms\n",
      "910:\tlearn: 0.0215328\ttotal: 9.96s\tremaining: 973ms\n",
      "911:\tlearn: 0.0215254\ttotal: 9.97s\tremaining: 962ms\n",
      "912:\tlearn: 0.0215185\ttotal: 9.98s\tremaining: 951ms\n",
      "913:\tlearn: 0.0215067\ttotal: 9.99s\tremaining: 940ms\n",
      "914:\tlearn: 0.0214963\ttotal: 10s\tremaining: 929ms\n",
      "915:\tlearn: 0.0214907\ttotal: 10s\tremaining: 918ms\n",
      "916:\tlearn: 0.0214752\ttotal: 10s\tremaining: 907ms\n",
      "917:\tlearn: 0.0214647\ttotal: 10s\tremaining: 896ms\n",
      "918:\tlearn: 0.0214566\ttotal: 10s\tremaining: 885ms\n",
      "919:\tlearn: 0.0214442\ttotal: 10.1s\tremaining: 874ms\n",
      "920:\tlearn: 0.0214315\ttotal: 10.1s\tremaining: 863ms\n",
      "921:\tlearn: 0.0214152\ttotal: 10.1s\tremaining: 852ms\n",
      "922:\tlearn: 0.0214072\ttotal: 10.1s\tremaining: 841ms\n",
      "923:\tlearn: 0.0213881\ttotal: 10.1s\tremaining: 830ms\n",
      "924:\tlearn: 0.0213787\ttotal: 10.1s\tremaining: 819ms\n",
      "925:\tlearn: 0.0213577\ttotal: 10.1s\tremaining: 808ms\n",
      "926:\tlearn: 0.0213420\ttotal: 10.1s\tremaining: 797ms\n",
      "927:\tlearn: 0.0213352\ttotal: 10.1s\tremaining: 786ms\n",
      "928:\tlearn: 0.0213283\ttotal: 10.1s\tremaining: 775ms\n",
      "929:\tlearn: 0.0213220\ttotal: 10.1s\tremaining: 764ms\n",
      "930:\tlearn: 0.0213089\ttotal: 10.2s\tremaining: 753ms\n",
      "931:\tlearn: 0.0212929\ttotal: 10.2s\tremaining: 742ms\n",
      "932:\tlearn: 0.0212824\ttotal: 10.2s\tremaining: 731ms\n",
      "933:\tlearn: 0.0212753\ttotal: 10.2s\tremaining: 720ms\n",
      "934:\tlearn: 0.0212657\ttotal: 10.2s\tremaining: 709ms\n",
      "935:\tlearn: 0.0212570\ttotal: 10.2s\tremaining: 698ms\n",
      "936:\tlearn: 0.0212514\ttotal: 10.2s\tremaining: 687ms\n",
      "937:\tlearn: 0.0212363\ttotal: 10.2s\tremaining: 676ms\n",
      "938:\tlearn: 0.0212235\ttotal: 10.2s\tremaining: 665ms\n",
      "939:\tlearn: 0.0212100\ttotal: 10.3s\tremaining: 654ms\n",
      "940:\tlearn: 0.0212005\ttotal: 10.3s\tremaining: 644ms\n",
      "941:\tlearn: 0.0211916\ttotal: 10.3s\tremaining: 633ms\n",
      "942:\tlearn: 0.0211778\ttotal: 10.3s\tremaining: 623ms\n",
      "943:\tlearn: 0.0211629\ttotal: 10.3s\tremaining: 612ms\n",
      "944:\tlearn: 0.0211578\ttotal: 10.3s\tremaining: 601ms\n",
      "945:\tlearn: 0.0211436\ttotal: 10.3s\tremaining: 590ms\n",
      "946:\tlearn: 0.0211378\ttotal: 10.4s\tremaining: 581ms\n",
      "947:\tlearn: 0.0211223\ttotal: 10.4s\tremaining: 571ms\n",
      "948:\tlearn: 0.0211110\ttotal: 10.4s\tremaining: 560ms\n",
      "949:\tlearn: 0.0210964\ttotal: 10.4s\tremaining: 549ms\n",
      "950:\tlearn: 0.0210690\ttotal: 10.4s\tremaining: 538ms\n",
      "951:\tlearn: 0.0210564\ttotal: 10.4s\tremaining: 527ms\n",
      "952:\tlearn: 0.0210410\ttotal: 10.5s\tremaining: 516ms\n",
      "953:\tlearn: 0.0210237\ttotal: 10.5s\tremaining: 505ms\n",
      "954:\tlearn: 0.0210101\ttotal: 10.5s\tremaining: 494ms\n",
      "955:\tlearn: 0.0210020\ttotal: 10.5s\tremaining: 483ms\n",
      "956:\tlearn: 0.0209912\ttotal: 10.5s\tremaining: 472ms\n",
      "957:\tlearn: 0.0209802\ttotal: 10.5s\tremaining: 461ms\n",
      "958:\tlearn: 0.0209722\ttotal: 10.5s\tremaining: 451ms\n",
      "959:\tlearn: 0.0209557\ttotal: 10.6s\tremaining: 440ms\n",
      "960:\tlearn: 0.0209453\ttotal: 10.6s\tremaining: 429ms\n",
      "961:\tlearn: 0.0209276\ttotal: 10.6s\tremaining: 418ms\n",
      "962:\tlearn: 0.0209181\ttotal: 10.6s\tremaining: 407ms\n",
      "963:\tlearn: 0.0208982\ttotal: 10.6s\tremaining: 396ms\n",
      "964:\tlearn: 0.0208912\ttotal: 10.6s\tremaining: 385ms\n",
      "965:\tlearn: 0.0208851\ttotal: 10.6s\tremaining: 374ms\n",
      "966:\tlearn: 0.0208709\ttotal: 10.6s\tremaining: 363ms\n",
      "967:\tlearn: 0.0208566\ttotal: 10.6s\tremaining: 352ms\n",
      "968:\tlearn: 0.0208500\ttotal: 10.7s\tremaining: 341ms\n",
      "969:\tlearn: 0.0208332\ttotal: 10.7s\tremaining: 330ms\n",
      "970:\tlearn: 0.0208164\ttotal: 10.7s\tremaining: 319ms\n",
      "971:\tlearn: 0.0208090\ttotal: 10.7s\tremaining: 308ms\n",
      "972:\tlearn: 0.0207886\ttotal: 10.7s\tremaining: 297ms\n",
      "973:\tlearn: 0.0207693\ttotal: 10.7s\tremaining: 286ms\n",
      "974:\tlearn: 0.0207517\ttotal: 10.7s\tremaining: 275ms\n",
      "975:\tlearn: 0.0207465\ttotal: 10.7s\tremaining: 264ms\n",
      "976:\tlearn: 0.0207372\ttotal: 10.7s\tremaining: 253ms\n",
      "977:\tlearn: 0.0207182\ttotal: 10.7s\tremaining: 242ms\n",
      "978:\tlearn: 0.0207069\ttotal: 10.8s\tremaining: 231ms\n",
      "979:\tlearn: 0.0206972\ttotal: 10.8s\tremaining: 220ms\n",
      "980:\tlearn: 0.0206888\ttotal: 10.8s\tremaining: 209ms\n",
      "981:\tlearn: 0.0206817\ttotal: 10.8s\tremaining: 198ms\n",
      "982:\tlearn: 0.0206698\ttotal: 10.8s\tremaining: 187ms\n",
      "983:\tlearn: 0.0206539\ttotal: 10.8s\tremaining: 176ms\n",
      "984:\tlearn: 0.0206489\ttotal: 10.8s\tremaining: 165ms\n",
      "985:\tlearn: 0.0206381\ttotal: 10.8s\tremaining: 154ms\n",
      "986:\tlearn: 0.0206248\ttotal: 10.8s\tremaining: 143ms\n",
      "987:\tlearn: 0.0206117\ttotal: 10.8s\tremaining: 132ms\n",
      "988:\tlearn: 0.0206050\ttotal: 10.8s\tremaining: 121ms\n",
      "989:\tlearn: 0.0205892\ttotal: 10.9s\tremaining: 110ms\n",
      "990:\tlearn: 0.0205823\ttotal: 10.9s\tremaining: 98.7ms\n",
      "991:\tlearn: 0.0205677\ttotal: 10.9s\tremaining: 87.7ms\n",
      "992:\tlearn: 0.0205576\ttotal: 10.9s\tremaining: 76.8ms\n",
      "993:\tlearn: 0.0205497\ttotal: 10.9s\tremaining: 65.8ms\n",
      "994:\tlearn: 0.0205337\ttotal: 10.9s\tremaining: 54.8ms\n",
      "995:\tlearn: 0.0205122\ttotal: 10.9s\tremaining: 43.9ms\n",
      "996:\tlearn: 0.0205006\ttotal: 10.9s\tremaining: 32.9ms\n",
      "997:\tlearn: 0.0204918\ttotal: 10.9s\tremaining: 21.9ms\n",
      "998:\tlearn: 0.0204841\ttotal: 10.9s\tremaining: 11ms\n",
      "999:\tlearn: 0.0204806\ttotal: 11s\tremaining: 0us\n",
      "Dash is running on http://127.0.0.5:8050/\n",
      "\n"
     ]
    },
    {
     "data": {
      "text/html": [
       "\n",
       "        <iframe\n",
       "            width=\"100%\"\n",
       "            height=\"650\"\n",
       "            src=\"http://127.0.0.5:8050/\"\n",
       "            frameborder=\"0\"\n",
       "            allowfullscreen\n",
       "            \n",
       "        ></iframe>\n",
       "        "
      ],
      "text/plain": [
       "<IPython.lib.display.IFrame at 0x1c461ed7be0>"
      ]
     },
     "metadata": {},
     "output_type": "display_data"
    }
   ],
   "source": [
    "modeling1 = pd.read_csv('data/catboost_mulit.csv')\n",
    "\n",
    "y = modeling1['Error_class']\n",
    "X = modeling1.drop(['Error_class'], axis = 1)\n",
    "\n",
    "from sklearn.model_selection import train_test_split\n",
    "X_train, X_test, y_train, y_test = train_test_split(X, y, test_size=0.2, stratify=y, random_state=42)\n",
    "%pip install catboost\n",
    "\n",
    "from catboost import CatBoostClassifier\n",
    "m = CatBoostClassifier()\n",
    "m.fit(X_train, y_train)\n",
    "m.score(X_train, y_train)\n",
    "m.score(X_test, y_test)\n",
    "y_pred = m.predict(X_test)\n",
    "from sklearn.metrics import classification_report\n",
    "report = classification_report(y_test, y_pred)\n",
    "importance = m.feature_importances_\n",
    "\n",
    "radio_items = dcc.RadioItems(\n",
    "    id='barr',\n",
    "    options=[\n",
    "        {'label': 'Train/Test Score', 'value': 'bar_1'},\n",
    "        {'label': 'catboost multiclass', 'value': 'bar_2'}\n",
    "    ],\n",
    "    value='bar_2'\n",
    ")\n",
    "\n",
    "graphs = [\n",
    "    dcc.Graph(id=\"bars\")\n",
    "]\n",
    "\n",
    "app = JupyterDash(__name__, external_stylesheets=[dbc.themes.BOOTSTRAP])\n",
    "\n",
    "app.layout = dbc.Container(\n",
    "    [\n",
    "        html.Br(),\n",
    "        radio_items,\n",
    "        dbc.Row([dbc.Col(graph) for graph in graphs])\n",
    "    ]\n",
    ")\n",
    "\n",
    "@app.callback(\n",
    "    Output(component_id=\"bars\", component_property='figure'),\n",
    "    Input(component_id='barr', component_property='value')\n",
    ")\n",
    "\n",
    "def update_graph(selected_value):\n",
    "    if selected_value == 'bar_2':\n",
    "       fig = go.Figure(data=[go.Bar(x=['Train', 'Test'], y=[0.9949623474422228, 0.9835895305359369])])\n",
    "       fig.update_layout(title='Train/Test Score', yaxis_title='Accuracy')\n",
    "       return fig\n",
    "\n",
    "    else:    \n",
    "       fig2 = go.Figure([go.Bar(x=X.columns, y=importance)])\n",
    "       return fig2\n",
    "if __name__ == '__main__':\n",
    "    app.run_server(debug=True, mode='inline', host='127.0.0.5')"
   ]
  }
 ],
 "metadata": {
  "kernelspec": {
   "display_name": "Python 3",
   "language": "python",
   "name": "python3"
  },
  "language_info": {
   "codemirror_mode": {
    "name": "ipython",
    "version": 3
   },
   "file_extension": ".py",
   "mimetype": "text/x-python",
   "name": "python",
   "nbconvert_exporter": "python",
   "pygments_lexer": "ipython3",
   "version": "3.10.10"
  }
 },
 "nbformat": 4,
 "nbformat_minor": 5
}
