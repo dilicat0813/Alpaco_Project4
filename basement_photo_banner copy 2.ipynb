{
 "cells": [
  {
   "cell_type": "code",
   "execution_count": 2,
   "id": "5c265f94-5aa8-4794-a1ae-85c17d000257",
   "metadata": {},
   "outputs": [],
   "source": [
    "# Install modules\n",
    "\n",
    "# %pip install dash\n",
    "#%pip install jupyter-dash\n",
    "#%pip install dash-bootstrap-components\n",
    "#%pip install statsmodels\n",
    "\n",
    "# Import Modules\n",
    "import dash\n",
    "import pandas as pd\n",
    "import plotly.express as px\n",
    "from jupyter_dash import JupyterDash\n",
    "from dash import Dash, dcc, html, Input, Output, State\n",
    "import dash_bootstrap_components as dbc\n",
    "import plotly.graph_objs as go\n",
    "import plotly.graph_objects as go\n",
    "from plotly.subplots import make_subplots\n",
    "# from dash.dependencies import Input, Output, State\n",
    "import dash\n",
    "import dash_html_components as html\n",
    "import dash_core_components as dcc\n",
    "from dash.dependencies import Input, Output"
   ]
  },
  {
   "cell_type": "code",
   "execution_count": 22,
   "id": "d0f136e3",
   "metadata": {},
   "outputs": [
    {
     "name": "stdout",
     "output_type": "stream",
     "text": [
      "Dash is running on http://127.0.0.5:8050/\n",
      "\n",
      "Dash app running on http://127.0.0.5:8050/\n"
     ]
    }
   ],
   "source": [
    "import dash\n",
    "import dash_html_components as html\n",
    "import dash_core_components as dcc\n",
    "from dash.dependencies import Input, Output\n",
    "import base64\n",
    "\n",
    "app = JupyterDash(__name__)\n",
    "image_filename1 = 'data/결론그림.png'\n",
    "encoded_image1 = base64.b64encode(open(image_filename1, 'rb').read())\n",
    "\n",
    "image_filename2 = 'data/공정도식도.png'\n",
    "encoded_image2 = base64.b64encode(open(image_filename2, 'rb').read())\n",
    "app.layout = html.Div([\n",
    "    dbc.Button('결론 그림', id='button-1', color='primary', className='mr-1'),\n",
    "    dbc.Button('공정 도식도', id='button-2', color='primary', className='mr-1'),\n",
    "    html.Br(),\n",
    "    html.Img(id='image-display', className='img-fluid', width=1000),\n",
    "])\n",
    "\n",
    "@app.callback(Output('image-display', 'src'),\n",
    "              [Input('button-1', 'n_clicks'),\n",
    "               Input('button-2', 'n_clicks')])\n",
    "def display_image(button1, button2):\n",
    "    ctx = dash.callback_context\n",
    "    if not ctx.triggered:\n",
    "        return dash.no_update\n",
    "    else:\n",
    "        button_id = ctx.triggered[0]['prop_id'].split('.')[0]\n",
    "        if button_id == 'button-1':\n",
    "            return 'data:image/png;base64,{}'.format(encoded_image1.decode())\n",
    "        elif button_id == 'button-2':\n",
    "            return 'data:image/png;base64,{}'.format(encoded_image2.decode())\n",
    "\n",
    "if __name__ == '__main__':\n",
    "    app.run_server(debug=True, host='127.0.0.5')\n"
   ]
  }
 ],
 "metadata": {
  "kernelspec": {
   "display_name": "Python 3 (ipykernel)",
   "language": "python",
   "name": "python3"
  },
  "language_info": {
   "codemirror_mode": {
    "name": "ipython",
    "version": 3
   },
   "file_extension": ".py",
   "mimetype": "text/x-python",
   "name": "python",
   "nbconvert_exporter": "python",
   "pygments_lexer": "ipython3",
   "version": "3.10.10"
  }
 },
 "nbformat": 4,
 "nbformat_minor": 5
}
