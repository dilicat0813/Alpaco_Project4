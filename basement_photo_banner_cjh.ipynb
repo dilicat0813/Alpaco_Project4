{
 "cells": [
  {
   "cell_type": "code",
   "execution_count": 4,
   "id": "5c265f94-5aa8-4794-a1ae-85c17d000257",
   "metadata": {},
   "outputs": [
    {
     "name": "stdout",
     "output_type": "stream",
     "text": [
      "Requirement already satisfied: dash in c:\\anconda3\\envs\\dash_project\\lib\\site-packages (2.9.3)\n",
      "Requirement already satisfied: plotly>=5.0.0 in c:\\anconda3\\envs\\dash_project\\lib\\site-packages (from dash) (5.14.1)\n",
      "Requirement already satisfied: dash-core-components==2.0.0 in c:\\anconda3\\envs\\dash_project\\lib\\site-packages (from dash) (2.0.0)\n",
      "Requirement already satisfied: dash-html-components==2.0.0 in c:\\anconda3\\envs\\dash_project\\lib\\site-packages (from dash) (2.0.0)\n",
      "Requirement already satisfied: Flask>=1.0.4 in c:\\anconda3\\envs\\dash_project\\lib\\site-packages (from dash) (2.2.3)\n",
      "Requirement already satisfied: dash-table==5.0.0 in c:\\anconda3\\envs\\dash_project\\lib\\site-packages (from dash) (5.0.0)\n",
      "Requirement already satisfied: Werkzeug>=2.2.2 in c:\\anconda3\\envs\\dash_project\\lib\\site-packages (from Flask>=1.0.4->dash) (2.2.3)\n",
      "Requirement already satisfied: itsdangerous>=2.0 in c:\\anconda3\\envs\\dash_project\\lib\\site-packages (from Flask>=1.0.4->dash) (2.1.2)\n",
      "Requirement already satisfied: click>=8.0 in c:\\anconda3\\envs\\dash_project\\lib\\site-packages (from Flask>=1.0.4->dash) (8.1.3)\n",
      "Requirement already satisfied: Jinja2>=3.0 in c:\\anconda3\\envs\\dash_project\\lib\\site-packages (from Flask>=1.0.4->dash) (3.1.2)\n",
      "Requirement already satisfied: packaging in c:\\anconda3\\envs\\dash_project\\lib\\site-packages (from plotly>=5.0.0->dash) (23.0)\n",
      "Requirement already satisfied: tenacity>=6.2.0 in c:\\anconda3\\envs\\dash_project\\lib\\site-packages (from plotly>=5.0.0->dash) (8.2.2)\n",
      "Requirement already satisfied: colorama in c:\\anconda3\\envs\\dash_project\\lib\\site-packages (from click>=8.0->Flask>=1.0.4->dash) (0.4.6)\n",
      "Requirement already satisfied: MarkupSafe>=2.0 in c:\\anconda3\\envs\\dash_project\\lib\\site-packages (from Jinja2>=3.0->Flask>=1.0.4->dash) (2.1.1)\n",
      "Note: you may need to restart the kernel to use updated packages.\n",
      "Requirement already satisfied: dash-bootstrap-components in c:\\anconda3\\envs\\dash_project\\lib\\site-packages (1.4.1)\n",
      "Requirement already satisfied: dash>=2.0.0 in c:\\anconda3\\envs\\dash_project\\lib\\site-packages (from dash-bootstrap-components) (2.9.3)\n",
      "Requirement already satisfied: dash-html-components==2.0.0 in c:\\anconda3\\envs\\dash_project\\lib\\site-packages (from dash>=2.0.0->dash-bootstrap-components) (2.0.0)\n",
      "Requirement already satisfied: Flask>=1.0.4 in c:\\anconda3\\envs\\dash_project\\lib\\site-packages (from dash>=2.0.0->dash-bootstrap-components) (2.2.3)\n",
      "Requirement already satisfied: plotly>=5.0.0 in c:\\anconda3\\envs\\dash_project\\lib\\site-packages (from dash>=2.0.0->dash-bootstrap-components) (5.14.1)\n",
      "Requirement already satisfied: dash-table==5.0.0 in c:\\anconda3\\envs\\dash_project\\lib\\site-packages (from dash>=2.0.0->dash-bootstrap-components) (5.0.0)\n",
      "Requirement already satisfied: dash-core-components==2.0.0 in c:\\anconda3\\envs\\dash_project\\lib\\site-packages (from dash>=2.0.0->dash-bootstrap-components) (2.0.0)\n",
      "Requirement already satisfied: itsdangerous>=2.0 in c:\\anconda3\\envs\\dash_project\\lib\\site-packages (from Flask>=1.0.4->dash>=2.0.0->dash-bootstrap-components) (2.1.2)\n",
      "Requirement already satisfied: Jinja2>=3.0 in c:\\anconda3\\envs\\dash_project\\lib\\site-packages (from Flask>=1.0.4->dash>=2.0.0->dash-bootstrap-components) (3.1.2)\n",
      "Requirement already satisfied: click>=8.0 in c:\\anconda3\\envs\\dash_project\\lib\\site-packages (from Flask>=1.0.4->dash>=2.0.0->dash-bootstrap-components) (8.1.3)\n",
      "Requirement already satisfied: Werkzeug>=2.2.2 in c:\\anconda3\\envs\\dash_project\\lib\\site-packages (from Flask>=1.0.4->dash>=2.0.0->dash-bootstrap-components) (2.2.3)\n",
      "Requirement already satisfied: packaging in c:\\anconda3\\envs\\dash_project\\lib\\site-packages (from plotly>=5.0.0->dash>=2.0.0->dash-bootstrap-components) (23.0)\n",
      "Requirement already satisfied: tenacity>=6.2.0 in c:\\anconda3\\envs\\dash_project\\lib\\site-packages (from plotly>=5.0.0->dash>=2.0.0->dash-bootstrap-components) (8.2.2)\n",
      "Requirement already satisfied: colorama in c:\\anconda3\\envs\\dash_project\\lib\\site-packages (from click>=8.0->Flask>=1.0.4->dash>=2.0.0->dash-bootstrap-components) (0.4.6)\n",
      "Requirement already satisfied: MarkupSafe>=2.0 in c:\\anconda3\\envs\\dash_project\\lib\\site-packages (from Jinja2>=3.0->Flask>=1.0.4->dash>=2.0.0->dash-bootstrap-components) (2.1.1)\n",
      "Note: you may need to restart the kernel to use updated packages.\n"
     ]
    }
   ],
   "source": [
    "# Install modules\n",
    "\n",
    "%pip install dash\n",
    "#%pip install jupyter-dash\n",
    "%pip install dash-bootstrap-components\n",
    "#%pip install statsmodels\n",
    "\n",
    "# Import Modules\n",
    "import dash\n",
    "import pandas as pd\n",
    "import plotly.express as px\n",
    "from jupyter_dash import JupyterDash\n",
    "from dash import Dash, dcc, html, Input, Output, State\n",
    "import dash_bootstrap_components as dbc\n",
    "import plotly.graph_objs as go\n",
    "import plotly.graph_objects as go\n",
    "from plotly.subplots import make_subplots\n",
    "# from dash.dependencies import Input, Output, State\n",
    "import dash\n",
    "import dash_html_components as html\n",
    "import dash_core_components as dcc\n",
    "from dash.dependencies import Input, Output"
   ]
  },
  {
   "cell_type": "code",
   "execution_count": 8,
   "id": "2cd24cf5",
   "metadata": {},
   "outputs": [
    {
     "name": "stdout",
     "output_type": "stream",
     "text": [
      "Dash is running on http://127.0.0.2:8050/\n",
      "\n",
      "Dash app running on http://127.0.0.2:8050/\n"
     ]
    }
   ],
   "source": [
    "import dash\n",
    "import dash_core_components as dcc\n",
    "import dash_bootstrap_components as dbc\n",
    "import dash_html_components as html\n",
    "from dash.dependencies import Input, Output\n",
    "from jupyter_dash import JupyterDash\n",
    "\n",
    "\n",
    "\n",
    "app = JupyterDash(__name__)\n",
    "\n",
    "\n",
    "app.layout = dbc.Container(\n",
    "    [\n",
    "        html.Img(id='image'),\n",
    "        dbc.Button('공정도식도', id='btn-1', n_clicks=0, className='mr-1'),\n",
    "        dbc.Button('결론', id='btn-2', n_clicks=0, className='mr-2')\n",
    "    ],\n",
    "    fluid=False,\n",
    ")\n",
    "\n",
    "@app.callback(\n",
    "    Output('image', 'src'),\n",
    "    [Input('btn-1', 'n_clicks'),\n",
    "     Input('btn-2', 'n_clicks')],\n",
    "    [State('btn-1', 'n_clicks_timestamp'),\n",
    "     State('btn-2', 'n_clicks_timestamp')]\n",
    ")\n",
    "def update_image(btn1, btn2, ts1, ts2):\n",
    "    ts1 = ts1 or 0  # 클릭 시간이 NoneType인 경우 기본값 0으로 설정\n",
    "    ts2 = ts2 or 0\n",
    "\n",
    "    last_clicked = max(ts1, ts2)\n",
    "    if last_clicked == ts1:\n",
    "        return 'data/공정도식도.png'\n",
    "    elif last_clicked == ts2:\n",
    "        return 'data/결론그림.png'\n",
    "    else:\n",
    "        return 'data/공정도식도.png'\n",
    "\n",
    "if __name__ == '__main__':\n",
    "    app.run_server(debug=True,host='127.0.0.2')\n"
   ]
  },
  {
   "cell_type": "code",
   "execution_count": 9,
   "id": "2a536393",
   "metadata": {},
   "outputs": [
    {
     "name": "stdout",
     "output_type": "stream",
     "text": [
      "Dash is running on http://127.0.0.2:8050/\n",
      "\n",
      "Dash app running on http://127.0.0.2:8050/\n"
     ]
    }
   ],
   "source": [
    "import dash\n",
    "import dash_bootstrap_components as dbc\n",
    "import dash_html_components as html\n",
    "from dash.dependencies import Input, Output, State\n",
    "from jupyter_dash import JupyterDash\n",
    "\n",
    "\n",
    "app = JupyterDash(__name__)\n",
    "\n",
    "app.layout = dbc.Container(\n",
    "    [\n",
    "        html.Img(id='image'),\n",
    "        dbc.Button('공정도식도', id='btn-1', n_clicks=0, className='mr-1'),\n",
    "        dbc.Button('결론', id='btn-2', n_clicks=0, className='mr-2')\n",
    "    ],\n",
    "    fluid=False,\n",
    ")\n",
    "\n",
    "@app.callback(\n",
    "    Output('image', 'src'),\n",
    "    [Input('btn-1', 'n_clicks'),\n",
    "     Input('btn-2', 'n_clicks')],\n",
    "    [State('btn-1', 'n_clicks_timestamp'),\n",
    "     State('btn-2', 'n_clicks_timestamp')]\n",
    ")\n",
    "def update_image(btn1, btn2, ts1, ts2):\n",
    "    ts1 = ts1 or 0  # 클릭 시간이 NoneType인 경우 기본값 0으로 설정\n",
    "    ts2 = ts2 or 0\n",
    "\n",
    "    last_clicked = max(ts1, ts2)\n",
    "    if last_clicked == ts1:\n",
    "        return 'data/공정도식도.png'\n",
    "    elif last_clicked == ts2:\n",
    "        return 'data/결론그림.png'\n",
    "    else:\n",
    "        return 'data/공정도식도.png'\n",
    "\n",
    "if __name__ == '__main__':\n",
    "    app.run_server(debug=True, host='127.0.0.2')\n"
   ]
  }
 ],
 "metadata": {
  "kernelspec": {
   "display_name": "Python 3 (ipykernel)",
   "language": "python",
   "name": "python3"
  },
  "language_info": {
   "codemirror_mode": {
    "name": "ipython",
    "version": 3
   },
   "file_extension": ".py",
   "mimetype": "text/x-python",
   "name": "python",
   "nbconvert_exporter": "python",
   "pygments_lexer": "ipython3",
   "version": "3.10.10"
  }
 },
 "nbformat": 4,
 "nbformat_minor": 5
}
