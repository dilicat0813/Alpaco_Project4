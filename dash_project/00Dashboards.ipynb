{
 "cells": [
  {
   "cell_type": "markdown",
   "id": "16eab4d0-56c6-49dd-a6e6-4d747be9001e",
   "metadata": {},
   "source": [
    "# Dash board "
   ]
  },
  {
   "cell_type": "markdown",
   "id": "e0c2f33e-f4df-41b2-8b55-f74c8eb3ee89",
   "metadata": {},
   "source": [
    "## Dash board 란?\n",
    "\n",
    "1. 대시보드: https://ko.wikipedia.org/wiki/%EB%8C%80%EC%8B%9C%EB%B3%B4%EB%93%9C\n",
    "\n",
    "<img src='https://i.imgur.com/UjlVTyq.png'>\n",
    "\n",
    "1. 자동차 대시보드\n",
    "\n",
    "    대시보드는 각종 계기류와 공조장치, 인포테인먼트 시스템 등의 장치를 모아 놓은 실내 주요 부품이다. \n",
    "    - https://www.hyundai.co.kr/story/CONT0000000000037754#target23"
   ]
  },
  {
   "cell_type": "markdown",
   "id": "bca78fec-4d0b-4af4-b9ee-7e5943097372",
   "metadata": {},
   "source": [
    "# 지표누리"
   ]
  },
  {
   "cell_type": "markdown",
   "id": "5b5cdbb1-bf35-4776-9bee-468b219b39f1",
   "metadata": {},
   "source": [
    "## 한국의 사회지표\n",
    "\n",
    "<img src='https://i.imgur.com/7e9K5yn.png'>"
   ]
  },
  {
   "cell_type": "markdown",
   "id": "2ad3be2c-6661-4177-807f-3f4eef8edd78",
   "metadata": {},
   "source": [
    "<img src='https://i.imgur.com/GVDKDeu.png'>"
   ]
  },
  {
   "cell_type": "markdown",
   "id": "64f16d9f-17d5-4751-8e23-ca007abb8e47",
   "metadata": {},
   "source": [
    "<img src='https://i.imgur.com/WNQ8jpe.png'>"
   ]
  },
  {
   "cell_type": "markdown",
   "id": "60cc9f43-0c15-4d8d-8831-bd870c8b2164",
   "metadata": {
    "jupyter": {
     "source_hidden": true
    },
    "tags": []
   },
   "source": [
    "## e-나라지표\n",
    "\n",
    "https://www.index.go.kr/unity/potal/eNara/main/EnaraMain.do?cdNo=000\n",
    "\n",
    "<img src='https://i.imgur.com/LJVcOHR.png'>"
   ]
  },
  {
   "cell_type": "code",
   "execution_count": null,
   "id": "e829f443-cb9c-460b-9c62-bbabf2917d53",
   "metadata": {},
   "outputs": [],
   "source": []
  },
  {
   "cell_type": "code",
   "execution_count": null,
   "id": "a52988e2-d984-487c-a414-26f582addb9e",
   "metadata": {},
   "outputs": [],
   "source": []
  },
  {
   "cell_type": "markdown",
   "id": "45582863-5055-4542-b1dd-78da8fec37e2",
   "metadata": {},
   "source": [
    "# 금융 데이터"
   ]
  },
  {
   "cell_type": "markdown",
   "id": "fa9dd7b7-cf20-40e2-9396-49a874e46b0d",
   "metadata": {
    "jupyter": {
     "source_hidden": true
    },
    "tags": []
   },
   "source": [
    "## 세계증시 - 미래에셋\n",
    "\n",
    "<img src='https://i.imgur.com/w59X4N2.png'>"
   ]
  },
  {
   "cell_type": "markdown",
   "id": "f834d35d-3dbe-41e0-b713-8fd0c2e03794",
   "metadata": {},
   "source": [
    "## Market map - finviz.com\n",
    "\n",
    "<img src='https://i.imgur.com/uHshwyj.png'>"
   ]
  },
  {
   "cell_type": "markdown",
   "id": "440e8ada-9149-4d9e-8e07-ed65beb2a4fb",
   "metadata": {},
   "source": [
    "## FX - marketwatch\n",
    "\n",
    "<img src='https://i.imgur.com/71heCNi.png'>"
   ]
  },
  {
   "cell_type": "markdown",
   "id": "e56e468b-b455-426a-8061-f6e9e26fab75",
   "metadata": {},
   "source": [
    "## 통계 - KRX\n",
    "\n",
    "<img src='https://i.imgur.com/IfQQal6.png'>"
   ]
  },
  {
   "cell_type": "code",
   "execution_count": null,
   "id": "319714d6-377f-4d62-904b-238e056bb47b",
   "metadata": {},
   "outputs": [],
   "source": []
  },
  {
   "cell_type": "code",
   "execution_count": null,
   "id": "9c3ee114-d6c8-4c5a-add7-0c7b52a57a2f",
   "metadata": {},
   "outputs": [],
   "source": []
  },
  {
   "cell_type": "code",
   "execution_count": null,
   "id": "8ad92668-ff19-42fd-83a9-c775f086a0e3",
   "metadata": {},
   "outputs": [],
   "source": []
  },
  {
   "cell_type": "code",
   "execution_count": null,
   "id": "fc98ed87-4cdc-4628-b052-350c1776e80f",
   "metadata": {},
   "outputs": [],
   "source": []
  },
  {
   "cell_type": "markdown",
   "id": "d5d3971f-46a9-4cad-9fa4-7a7b8e57b44e",
   "metadata": {},
   "source": [
    "# Various dashboard\n",
    "\n",
    "Google/Bing 등 image 검색 \"dashboard\""
   ]
  },
  {
   "cell_type": "markdown",
   "id": "b137fe2b-279b-41aa-81ed-495583ece4c7",
   "metadata": {},
   "source": [
    "## Excel dashboard templates\n",
    "\n",
    "https://www.thesmallman.com/dashboards\n",
    "\n",
    "<img src='https://images.squarespace-cdn.com/content/v1/57cfc8a3d482e945c66724f7/31d66ba1-a8e0-441c-8267-d16c50159a02/DashboardUsageExlCloud.PNG?format=500w'>"
   ]
  }
 ],
 "metadata": {
  "kernelspec": {
   "display_name": "Python 3 (ipykernel)",
   "language": "python",
   "name": "python3"
  },
  "language_info": {
   "codemirror_mode": {
    "name": "ipython",
    "version": 3
   },
   "file_extension": ".py",
   "mimetype": "text/x-python",
   "name": "python",
   "nbconvert_exporter": "python",
   "pygments_lexer": "ipython3",
   "version": "3.10.8"
  }
 },
 "nbformat": 4,
 "nbformat_minor": 5
}
