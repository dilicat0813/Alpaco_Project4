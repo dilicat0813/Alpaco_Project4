{
 "cells": [
  {
   "cell_type": "code",
   "execution_count": 1,
   "id": "8962d084-0552-4f20-830a-d85ac07c1bf5",
   "metadata": {
    "tags": []
   },
   "outputs": [],
   "source": [
    "import pandas as pd"
   ]
  },
  {
   "cell_type": "code",
   "execution_count": 2,
   "id": "5437e824-f977-4ea9-9378-df4661557cdf",
   "metadata": {
    "tags": []
   },
   "outputs": [],
   "source": [
    "import plotly.express as px\n",
    "from jupyter_dash import JupyterDash\n",
    "from dash import Dash, dcc, html, Input, Output"
   ]
  },
  {
   "cell_type": "markdown",
   "id": "aa751466-ae45-43ee-b05f-85841b1acf56",
   "metadata": {},
   "source": [
    "# Dash app의 Layout이란?\n",
    "\n",
    "Dash app의 layout(이하 레이아웃)은 어플리케이션이 어떻게 보일지를 표현하는 것이다. 레이아웃은 컴포넌트의 계층적 트리이다. \n",
    "\n",
    "\n",
    "\n",
    "https://dash.plotly.com/layout\n",
    "\n",
    "\n",
    "1. [dash_core_components gallery](https://dash.plotly.com/dash-core-components)\n",
    "    `dash_core_components` library는 고레벨 컴포넌트(ex. 컨트롤, 그래프 등)을 생성한다.\n",
    "\n",
    "2. [dash_html_components gallery](https://dash.plotly.com/dash-html-components)\n",
    "    `dash_html_components` library는 모든 html태그와 태그의 속성(ex. style, id 등)에 대한 class를 제공한다. \n",
    " "
   ]
  },
  {
   "cell_type": "markdown",
   "id": "aa8e1be9-ef11-4ff9-ba50-5d796a05433c",
   "metadata": {},
   "source": [
    "## children\n",
    "\n",
    "html 에 하위 태그를 구성한다. html태그안에 children속성은 \"children=\" 이라고 명시해주지 않아도 괄호 안에 적으면 children속성으로 처리된다.  children 키워드를 생략할 경우에는 반드시 첫번째 인자로 적어야한다.\n",
    "\n",
    "즉, html.H1(children='Hello Dash')를 html.H1('Hello Dash')로 적을 수 있다. children에는 문자열, 숫자, 단일 컴포넌트 혹은 여러 컴포넌트가 올 수 있다. "
   ]
  },
  {
   "cell_type": "code",
   "execution_count": 3,
   "id": "f2b20161-008b-41d6-ad8b-893145cb136d",
   "metadata": {},
   "outputs": [
    {
     "name": "stdout",
     "output_type": "stream",
     "text": [
      "Dash is running on http://127.0.0.1:8050/\n",
      "\n"
     ]
    },
    {
     "data": {
      "text/html": [
       "\n",
       "        <iframe\n",
       "            width=\"100%\"\n",
       "            height=\"650\"\n",
       "            src=\"http://127.0.0.1:8050/\"\n",
       "            frameborder=\"0\"\n",
       "            allowfullscreen\n",
       "            \n",
       "        ></iframe>\n",
       "        "
      ],
      "text/plain": [
       "<IPython.lib.display.IFrame at 0x26b3ee43a90>"
      ]
     },
     "metadata": {},
     "output_type": "display_data"
    }
   ],
   "source": [
    "df = px.data.iris() # iris data 불러오기\n",
    "# plotly를 이용한 산점도\n",
    "fig = px.scatter(df, x=\"sepal_length\", y=\"sepal_width\", \n",
    "                  color=\"species\")\n",
    "\n",
    "# app = Dash(__name__)\n",
    "app = JupyterDash(__name__)\n",
    "app.layout = html.Div(children=[\n",
    "    # Dash HTML Components module로 HTML 작성 \n",
    "    html.H1(children='첫번째 Dash 연습'),\n",
    "    html.Div(children='''\n",
    "        대시를 이용하여 웹어플리케이션 작성 연습...\n",
    "    '''),\n",
    "    # dash.core.component(dcc)의 그래프컴포넌트로 plotly 그래프 렌더링\n",
    "    dcc.Graph(\n",
    "        id='graph1',\n",
    "        figure=fig\n",
    "    )\n",
    "])\n",
    "\n",
    "if __name__ == '__main__':\n",
    "    app.run_server(debug=True, mode='inline')"
   ]
  },
  {
   "cell_type": "markdown",
   "id": "63193102-2d42-4bb3-aaa3-dd1d4b2bcdf9",
   "metadata": {},
   "source": [
    "debug=True,로 Hot Loading이 가능하다"
   ]
  },
  {
   "cell_type": "code",
   "execution_count": null,
   "id": "84dd001a-e943-4d2f-b738-7608867d25ee",
   "metadata": {},
   "outputs": [],
   "source": []
  },
  {
   "cell_type": "code",
   "execution_count": null,
   "id": "5a9d115f-3e08-4b20-a45d-04a0d187fbd8",
   "metadata": {},
   "outputs": [],
   "source": []
  },
  {
   "cell_type": "markdown",
   "id": "c440a807-6f43-4e37-b930-87f837e481bb",
   "metadata": {},
   "source": [
    "# dash_html_components\n",
    "\n",
    "[dash_html_components gallery](https://dash.plotly.com/dash-html-components)\n",
    " - `dash_html_components` library는 모든 html태그와 태그의 속성(ex. style, id 등)에 대한 class를 제공한다. \n",
    " "
   ]
  },
  {
   "cell_type": "markdown",
   "id": "58f97cbc-721f-40a8-a6ed-57dfcaad9a6e",
   "metadata": {},
   "source": [
    "## 모든 HTML 태그\n",
    "\n",
    "dash.html 모듈은 모든 HTML 태그를 지원한다."
   ]
  },
  {
   "cell_type": "code",
   "execution_count": 4,
   "id": "295e7a64-798b-45d9-a3b9-b81c6ed2228f",
   "metadata": {
    "tags": []
   },
   "outputs": [
    {
     "name": "stdout",
     "output_type": "stream",
     "text": [
      "Dash is running on http://127.0.0.1:8050/\n",
      "\n"
     ]
    },
    {
     "data": {
      "text/html": [
       "\n",
       "        <iframe\n",
       "            width=\"100%\"\n",
       "            height=\"650\"\n",
       "            src=\"http://127.0.0.1:8050/\"\n",
       "            frameborder=\"0\"\n",
       "            allowfullscreen\n",
       "            \n",
       "        ></iframe>\n",
       "        "
      ],
      "text/plain": [
       "<IPython.lib.display.IFrame at 0x26b3ee7bb80>"
      ]
     },
     "metadata": {},
     "output_type": "display_data"
    }
   ],
   "source": [
    "# app = Dash(__name__)\n",
    "app = JupyterDash(__name__)\n",
    "\n",
    "colors = {\n",
    "    'background': '#111111',\n",
    "    'text': '#7FDBFF'\n",
    "}\n",
    "\n",
    "# assume you have a \"long-form\" data frame\n",
    "# see https://plotly.com/python/px-arguments/ for more options\n",
    "df = pd.DataFrame({\n",
    "    \"Fruit\": [\"Apples\", \"Oranges\", \"Bananas\", \"Apples\", \"Oranges\", \"Bananas\"],\n",
    "    \"Amount\": [4, 1, 2, 2, 4, 5],\n",
    "    \"City\": [\"SF\", \"SF\", \"SF\", \"Montreal\", \"Montreal\", \"Montreal\"]\n",
    "})\n",
    "\n",
    "fig = px.bar(df, x=\"Fruit\", y=\"Amount\", color=\"City\", barmode=\"group\")\n",
    "\n",
    "fig.update_layout(\n",
    "    plot_bgcolor=colors['background'],\n",
    "    paper_bgcolor=colors['background'],\n",
    "    font_color=colors['text']\n",
    ")\n",
    "\n",
    "app.layout = html.Div(style={'backgroundColor': colors['background']}, children=[\n",
    "    html.H1(\n",
    "        children='Hello Dash',\n",
    "        style={\n",
    "            'textAlign': 'center',\n",
    "            'color': colors['text']\n",
    "        }\n",
    "    ),\n",
    "\n",
    "    html.Div(children='Dash: A web application framework for your data.', style={\n",
    "        'textAlign': 'center',\n",
    "        'color': colors['text']\n",
    "    }),\n",
    "\n",
    "    dcc.Graph(\n",
    "        id='example-graph-2',\n",
    "        figure=fig\n",
    "    )\n",
    "])\n",
    "\n",
    "if __name__ == '__main__':\n",
    "    app.run_server(debug=True, mode='inline')"
   ]
  },
  {
   "cell_type": "code",
   "execution_count": null,
   "id": "56448e19-2556-4e31-b4f0-8633d92180a4",
   "metadata": {},
   "outputs": [],
   "source": []
  },
  {
   "cell_type": "markdown",
   "id": "847b0821-b9c3-4481-8d85-dc7cfb91c383",
   "metadata": {},
   "source": [
    "## dash_html_components에 스타일 적용하기\n",
    "\n",
    "html 태그 스타일의 key는 camelCase로 해야한다.\n",
    "스타일 속성은 dictionary형태로 적용한다\n",
    "예) style={ 'textAlign': 'center', 'color': '#888' }\n",
    "html의 class는 dash에서는 className으로 사용한다."
   ]
  },
  {
   "cell_type": "code",
   "execution_count": null,
   "id": "b647a99b-1111-4673-8a3d-2ba4c8a41682",
   "metadata": {},
   "outputs": [],
   "source": []
  },
  {
   "cell_type": "markdown",
   "id": "60c09564-5121-4cd0-b6ea-0680dc88ce7d",
   "metadata": {},
   "source": [
    "## 외부 스타일 시트 적용하기\n",
    "\n"
   ]
  },
  {
   "cell_type": "code",
   "execution_count": null,
   "id": "acc6a7c5-2230-43dd-8f4e-1240be738b34",
   "metadata": {},
   "outputs": [],
   "source": []
  },
  {
   "cell_type": "code",
   "execution_count": 7,
   "id": "539fcf56-3a1b-47e9-b389-7831c803162d",
   "metadata": {},
   "outputs": [
    {
     "name": "stdout",
     "output_type": "stream",
     "text": [
      "Dash is running on http://127.0.0.1:8050/\n",
      "\n"
     ]
    },
    {
     "data": {
      "text/html": [
       "\n",
       "        <iframe\n",
       "            width=\"100%\"\n",
       "            height=\"650\"\n",
       "            src=\"http://127.0.0.1:8050/\"\n",
       "            frameborder=\"0\"\n",
       "            allowfullscreen\n",
       "            \n",
       "        ></iframe>\n",
       "        "
      ],
      "text/plain": [
       "<IPython.lib.display.IFrame at 0x218450c78b0>"
      ]
     },
     "metadata": {},
     "output_type": "display_data"
    }
   ],
   "source": [
    "df = px.data.iris() # iris data 불러오기\n",
    "# plotly를 이용한 산점도\n",
    "fig = px.scatter(df, x=\"sepal_length\", y=\"sepal_width\", \n",
    "                  color=\"species\")\n",
    "\n",
    "external_stylesheets = ['https://codepen.io/chriddyp/pen/bWLwgP.css']\n",
    "\n",
    "# app = Dash(__name__, external_stylesheets=external_stylesheets)\n",
    "app = JupyterDash(__name__, external_stylesheets=external_stylesheets)\n",
    "# app layout: html과 dcc 모듈을 이용\n",
    "app.layout = html.Div(children=[\n",
    "    # Dash HTML Components module로 HTML 작성 \n",
    "    html.H1(children='첫번째 Dash 연습'),\n",
    "    html.Div(children='''\n",
    "        대시를 이용하여 웹어플리케이션 작성 연습...\n",
    "    '''),\n",
    "    # dash.core.component(dcc)의 그래프컴포넌트로 plotly 그래프 렌더링\n",
    "    dcc.Graph(\n",
    "        id='graph1',\n",
    "        figure=fig\n",
    "    )\n",
    "])\n",
    "\n",
    "if __name__ == '__main__':\n",
    "    app.run_server(debug=True, mode='inline')"
   ]
  },
  {
   "cell_type": "code",
   "execution_count": null,
   "id": "a5fb2328-42cd-4e1e-949b-7bd71dcdacee",
   "metadata": {},
   "outputs": [],
   "source": []
  },
  {
   "cell_type": "code",
   "execution_count": null,
   "id": "5077daa0-38ad-4d55-af1d-8b0a93daf9ee",
   "metadata": {},
   "outputs": [],
   "source": []
  },
  {
   "cell_type": "code",
   "execution_count": null,
   "id": "e036a09a-6e65-4a17-9317-854afe48abf9",
   "metadata": {},
   "outputs": [],
   "source": []
  },
  {
   "cell_type": "code",
   "execution_count": null,
   "id": "76c5e418-50a7-47e9-9c12-4cb57c608b8a",
   "metadata": {},
   "outputs": [],
   "source": []
  },
  {
   "cell_type": "code",
   "execution_count": null,
   "id": "1355d261-2db2-44ea-b64a-fceb75e82355",
   "metadata": {},
   "outputs": [],
   "source": []
  },
  {
   "cell_type": "markdown",
   "id": "6b1cc034-527b-4e92-a967-8417d91dcd53",
   "metadata": {},
   "source": [
    "## 재사용 가능한 컴포넌트는 파이썬의 함수로\n",
    "\n",
    "판다스의 데이터프레임을 인자로 받아 테이블을 생성하는 아래 코드의 예제를 보자. 데이터프레임이 바뀌어도 손쉽게 테이블을 생성할 수 있다.\n"
   ]
  },
  {
   "cell_type": "code",
   "execution_count": 6,
   "id": "37f12576-80f3-428c-bd40-7dcef7ee3c43",
   "metadata": {
    "tags": []
   },
   "outputs": [
    {
     "name": "stdout",
     "output_type": "stream",
     "text": [
      "Dash is running on http://127.0.0.1:8050/\n",
      "\n"
     ]
    },
    {
     "data": {
      "text/html": [
       "\n",
       "        <iframe\n",
       "            width=\"100%\"\n",
       "            height=\"650\"\n",
       "            src=\"http://127.0.0.1:8050/\"\n",
       "            frameborder=\"0\"\n",
       "            allowfullscreen\n",
       "            \n",
       "        ></iframe>\n",
       "        "
      ],
      "text/plain": [
       "<IPython.lib.display.IFrame at 0x21846e941f0>"
      ]
     },
     "metadata": {},
     "output_type": "display_data"
    }
   ],
   "source": [
    "df = pd.read_csv('https://gist.githubusercontent.com/chriddyp/c78bf172206ce24f77d6363a2d754b59/raw/c353e8ef842413cae56ae3920b8fd78468aa4cb2/usa-agricultural-exports-2011.csv')\n",
    "\n",
    "\n",
    "def generate_table(dataframe, max_rows=10):\n",
    "    return html.Table([\n",
    "        html.Thead(\n",
    "            html.Tr([html.Th(col) for col in dataframe.columns])\n",
    "        ),\n",
    "        html.Tbody([\n",
    "            html.Tr([\n",
    "                html.Td(dataframe.iloc[i][col]) for col in dataframe.columns\n",
    "            ]) for i in range(min(len(dataframe), max_rows))\n",
    "        ])\n",
    "    ])\n",
    "\n",
    "\n",
    "external_stylesheets = ['https://codepen.io/chriddyp/pen/bWLwgP.css']\n",
    "\n",
    "# app = Dash(__name__, external_stylesheets=external_stylesheets)\n",
    "app = JupyterDash(__name__, external_stylesheets=external_stylesheets)\n",
    "\n",
    "app.layout = html.Div(children=[\n",
    "    html.H4(children='US Agriculture Exports (2011)'),\n",
    "    generate_table(df)\n",
    "])\n",
    "\n",
    "if __name__ == '__main__':\n",
    "    app.run_server(debug=True, mode='inline')"
   ]
  },
  {
   "cell_type": "code",
   "execution_count": null,
   "id": "f0bd3425-2e6a-45de-8ff5-2fe595949baa",
   "metadata": {},
   "outputs": [],
   "source": []
  },
  {
   "cell_type": "markdown",
   "id": "1c3ea946-cb05-434d-835b-78aa76a64618",
   "metadata": {},
   "source": [
    "# dash core components\n",
    "\n",
    "dash core components라이브러리는 사용자에게 편리한 여러 고차 컴포넌트들을 제공한다. 덕분에 사용자가 일일이 개발하지 않아도 그래프, 슬라이더, 여러 컨트롤 같은 복잡한 컴포넌트를 쉽게 사용가능하다.\n",
    "\n",
    "https://dash.plotly.com/dash-core-components"
   ]
  },
  {
   "cell_type": "markdown",
   "id": "042d6504-6511-46c3-b054-4f3939184383",
   "metadata": {},
   "source": [
    "### Graph"
   ]
  },
  {
   "cell_type": "code",
   "execution_count": 8,
   "id": "ebf77b25-2abd-46e7-890c-5e22678cb4b5",
   "metadata": {
    "tags": []
   },
   "outputs": [
    {
     "name": "stdout",
     "output_type": "stream",
     "text": [
      "Dash is running on http://127.0.0.1:8050/\n",
      "\n"
     ]
    },
    {
     "data": {
      "text/html": [
       "\n",
       "        <iframe\n",
       "            width=\"100%\"\n",
       "            height=\"650\"\n",
       "            src=\"http://127.0.0.1:8050/\"\n",
       "            frameborder=\"0\"\n",
       "            allowfullscreen\n",
       "            \n",
       "        ></iframe>\n",
       "        "
      ],
      "text/plain": [
       "<IPython.lib.display.IFrame at 0x21846bec370>"
      ]
     },
     "metadata": {},
     "output_type": "display_data"
    }
   ],
   "source": [
    "# dash core components(이하 dcc)의 graph 컴포넌트 사용 예제이다.\n",
    "\n",
    "# app = Dash(__name__)\n",
    "app = JupyterDash(__name__)\n",
    "\n",
    "df = pd.read_csv('https://gist.githubusercontent.com/chriddyp/5d1ea79569ed194d432e56108a04d188/raw/a9f9e8076b837d541398e999dcbac2b2826a81f8/gdp-life-exp-2007.csv')\n",
    "\n",
    "fig = px.scatter(df, x=\"gdp per capita\", y=\"life expectancy\",\n",
    "                 size=\"population\", color=\"continent\", hover_name=\"country\",\n",
    "                 log_x=True, size_max=60)\n",
    "\n",
    "app.layout = html.Div([\n",
    "    dcc.Graph(\n",
    "        id='life-exp-vs-gdp',\n",
    "        figure=fig\n",
    "    )\n",
    "])\n",
    "\n",
    "if __name__ == '__main__':\n",
    "    app.run_server(debug=True, mode='inline')"
   ]
  },
  {
   "cell_type": "code",
   "execution_count": 10,
   "id": "2194c513-40bf-456e-8b11-2fe589406392",
   "metadata": {
    "tags": []
   },
   "outputs": [
    {
     "name": "stdout",
     "output_type": "stream",
     "text": [
      "<class 'pandas.core.frame.DataFrame'>\n",
      "RangeIndex: 142 entries, 0 to 141\n",
      "Data columns (total 6 columns):\n",
      " #   Column           Non-Null Count  Dtype  \n",
      "---  ------           --------------  -----  \n",
      " 0   Unnamed: 0       142 non-null    int64  \n",
      " 1   country          142 non-null    object \n",
      " 2   continent        142 non-null    object \n",
      " 3   population       142 non-null    float64\n",
      " 4   life expectancy  142 non-null    float64\n",
      " 5   gdp per capita   142 non-null    float64\n",
      "dtypes: float64(3), int64(1), object(2)\n",
      "memory usage: 6.8+ KB\n"
     ]
    }
   ],
   "source": [
    "df.info()"
   ]
  },
  {
   "cell_type": "markdown",
   "id": "eea7e188-02bd-48fb-a6b6-47d53da5e8ec",
   "metadata": {},
   "source": [
    "### - dropdown"
   ]
  },
  {
   "cell_type": "code",
   "execution_count": 11,
   "id": "2c84130c-ea09-4f6e-8d85-1b2e4c6757da",
   "metadata": {
    "tags": []
   },
   "outputs": [
    {
     "name": "stdout",
     "output_type": "stream",
     "text": [
      "Dash is running on http://127.0.0.1:8050/\n",
      "\n"
     ]
    },
    {
     "data": {
      "text/html": [
       "\n",
       "        <iframe\n",
       "            width=\"100%\"\n",
       "            height=\"650\"\n",
       "            src=\"http://127.0.0.1:8050/\"\n",
       "            frameborder=\"0\"\n",
       "            allowfullscreen\n",
       "            \n",
       "        ></iframe>\n",
       "        "
      ],
      "text/plain": [
       "<IPython.lib.display.IFrame at 0x218481374f0>"
      ]
     },
     "metadata": {},
     "output_type": "display_data"
    }
   ],
   "source": [
    "app = JupyterDash(__name__)\n",
    "\n",
    "app.layout = html.Div([\n",
    "    # dcc.Dropdown(['New York City', 'Montréal', 'San Francisco'], 'Montréal')\n",
    "    dcc.Dropdown(df.columns)\n",
    "])\n",
    "\n",
    "if __name__ == '__main__':\n",
    "    app.run_server(debug=True, mode='inline')"
   ]
  },
  {
   "cell_type": "code",
   "execution_count": null,
   "id": "0d351771-90b8-48b4-8810-1f8d702ac40d",
   "metadata": {},
   "outputs": [],
   "source": []
  },
  {
   "cell_type": "code",
   "execution_count": 14,
   "id": "d3a56836-1075-4cea-9616-9810a81bdc7f",
   "metadata": {
    "tags": []
   },
   "outputs": [
    {
     "name": "stdout",
     "output_type": "stream",
     "text": [
      "Dash is running on http://127.0.0.1:8050/\n",
      "\n"
     ]
    },
    {
     "data": {
      "text/html": [
       "\n",
       "        <iframe\n",
       "            width=\"100%\"\n",
       "            height=\"650\"\n",
       "            src=\"http://127.0.0.1:8050/\"\n",
       "            frameborder=\"0\"\n",
       "            allowfullscreen\n",
       "            \n",
       "        ></iframe>\n",
       "        "
      ],
      "text/plain": [
       "<IPython.lib.display.IFrame at 0x218481d7eb0>"
      ]
     },
     "metadata": {},
     "output_type": "display_data"
    }
   ],
   "source": [
    "app = JupyterDash(__name__)\n",
    "\n",
    "app.layout = html.Div([\n",
    "    dcc.Dropdown(['New York City', 'Montréal', 'San Francisco'], 'Montréal', multi=True)\n",
    "])\n",
    "\n",
    "if __name__ == '__main__':\n",
    "    app.run_server(debug=True, mode='inline')"
   ]
  },
  {
   "cell_type": "code",
   "execution_count": null,
   "id": "edd286b9-8a2e-4b43-aa96-c76dff7521f5",
   "metadata": {},
   "outputs": [],
   "source": []
  },
  {
   "cell_type": "markdown",
   "id": "ceca6e52-a570-42dc-99cb-1dbc5ce4f17b",
   "metadata": {},
   "source": [
    "### - Slider"
   ]
  },
  {
   "cell_type": "code",
   "execution_count": 15,
   "id": "0c955b5e-3fa7-40e9-9f80-049eba020027",
   "metadata": {
    "tags": []
   },
   "outputs": [
    {
     "name": "stdout",
     "output_type": "stream",
     "text": [
      "Dash is running on http://127.0.0.1:8050/\n",
      "\n"
     ]
    },
    {
     "data": {
      "text/html": [
       "\n",
       "        <iframe\n",
       "            width=\"100%\"\n",
       "            height=\"650\"\n",
       "            src=\"http://127.0.0.1:8050/\"\n",
       "            frameborder=\"0\"\n",
       "            allowfullscreen\n",
       "            \n",
       "        ></iframe>\n",
       "        "
      ],
      "text/plain": [
       "<IPython.lib.display.IFrame at 0x218480e4970>"
      ]
     },
     "metadata": {},
     "output_type": "display_data"
    }
   ],
   "source": [
    "# app = Dash(__name__)\n",
    "app = JupyterDash(__name__)\n",
    "\n",
    "app.layout = html.Div([\n",
    "    dcc.Slider(0, 9, marks={i: f'Label{i}' for i in range(10)}, value=5)\n",
    "])\n",
    "\n",
    "if __name__ == '__main__':\n",
    "    app.run_server(debug=True, mode='inline')"
   ]
  },
  {
   "cell_type": "code",
   "execution_count": null,
   "id": "46ab25e8-df86-49e9-9ad2-af8337627f94",
   "metadata": {},
   "outputs": [],
   "source": []
  },
  {
   "cell_type": "code",
   "execution_count": null,
   "id": "00643acc-aa94-4054-9218-bea2c918270d",
   "metadata": {},
   "outputs": [],
   "source": []
  },
  {
   "cell_type": "markdown",
   "id": "6e438a31-993a-416f-a10e-2c939d5870ea",
   "metadata": {},
   "source": [
    "### - Input\n",
    "\n",
    "외부 입력을 받아 콜백과 연동해 동적인 결과를 얻어낼 수 있다."
   ]
  },
  {
   "cell_type": "code",
   "execution_count": 23,
   "id": "13aeac2f-4498-43db-a40b-7661167aff68",
   "metadata": {
    "tags": []
   },
   "outputs": [
    {
     "name": "stdout",
     "output_type": "stream",
     "text": [
      "Dash is running on http://127.0.0.1:8050/\n",
      "\n"
     ]
    },
    {
     "data": {
      "text/html": [
       "\n",
       "        <iframe\n",
       "            width=\"100%\"\n",
       "            height=\"650\"\n",
       "            src=\"http://127.0.0.1:8050/\"\n",
       "            frameborder=\"0\"\n",
       "            allowfullscreen\n",
       "            \n",
       "        ></iframe>\n",
       "        "
      ],
      "text/plain": [
       "<IPython.lib.display.IFrame at 0x218492ff880>"
      ]
     },
     "metadata": {},
     "output_type": "display_data"
    }
   ],
   "source": [
    "# app = Dash(__name__)\n",
    "app = JupyterDash(__name__)\n",
    "\n",
    "app.layout = html.Div([\n",
    "    dcc.Input(\n",
    "        placeholder='Enter a value...',\n",
    "        type='text',\n",
    "        value=''\n",
    "    )\n",
    "])\n",
    "\n",
    "if __name__ == '__main__':\n",
    "    app.run_server(debug=True, mode='inline')"
   ]
  },
  {
   "cell_type": "code",
   "execution_count": null,
   "id": "f280a6c6-04ff-44d4-bb57-51339bee6a95",
   "metadata": {},
   "outputs": [],
   "source": []
  },
  {
   "cell_type": "markdown",
   "id": "938658e5-2354-4ce0-8d7f-3ae5426a0628",
   "metadata": {},
   "source": [
    "### - Markdown\n",
    "\n",
    "dcc를 통해 마크다운 문법도 사용 가능하다. dcc.Markdown에 children으로 마크다운 문법을 넣을 수 있다. 마크다운은 ``` {마크다운 문법으로 작성된 글} ```형식으로 사용할 수 있다. (backquote 3개씩 앞뒤로 감싸기)"
   ]
  },
  {
   "cell_type": "code",
   "execution_count": 6,
   "id": "718cbfb2-23e6-4dfa-af1d-c4febafc64c7",
   "metadata": {},
   "outputs": [
    {
     "name": "stdout",
     "output_type": "stream",
     "text": [
      "Dash is running on http://127.0.0.1:8050/\n",
      "\n"
     ]
    },
    {
     "data": {
      "text/html": [
       "\n",
       "        <iframe\n",
       "            width=\"100%\"\n",
       "            height=\"650\"\n",
       "            src=\"http://127.0.0.1:8050/\"\n",
       "            frameborder=\"0\"\n",
       "            allowfullscreen\n",
       "            \n",
       "        ></iframe>\n",
       "        "
      ],
      "text/plain": [
       "<IPython.lib.display.IFrame at 0x26b3fbf5d50>"
      ]
     },
     "metadata": {},
     "output_type": "display_data"
    }
   ],
   "source": [
    "# app = Dash(__name__)\n",
    "app = JupyterDash(__name__)\n",
    "\n",
    "markdown_text = '''\n",
    "### Dash and Markdown\n",
    "\n",
    "Dash apps can be written in Markdown.\n",
    "> Dash uses the [CommonMark](http://commonmark.org/)\n",
    "specification of Markdown.\n",
    "Check out their [60 Second Markdown Tutorial](http://commonmark.org/help/)\n",
    "if this is your first introduction to Markdown!\n",
    "'''\n",
    "\n",
    "app.layout = html.Div(children=[\n",
    "    html.H1(children='HTML components'),\n",
    "    html.Div(children='''\n",
    "        대시를 이용하여 웹어플리케이션 작성 연습...\n",
    "    '''),\n",
    "    dcc.Markdown(children=markdown_text)\n",
    "])\n",
    "\n",
    "if __name__ == '__main__':\n",
    "    app.run_server(debug=True, mode='inline')"
   ]
  },
  {
   "cell_type": "markdown",
   "id": "684ed380-7437-425b-a177-1fdd1ea55437",
   "metadata": {},
   "source": [
    "> Dash 마크다운은 http://commonmark.org/help/ 을 사용하고 있다."
   ]
  },
  {
   "cell_type": "code",
   "execution_count": null,
   "id": "d72df87e-4d63-4c51-b8ff-43625907b2d3",
   "metadata": {},
   "outputs": [],
   "source": []
  },
  {
   "cell_type": "code",
   "execution_count": null,
   "id": "88a1f4e5-1b9b-4a5a-9c80-ef740a18ce9c",
   "metadata": {},
   "outputs": [],
   "source": []
  },
  {
   "cell_type": "code",
   "execution_count": null,
   "id": "af9392f4-5909-4b41-a4bb-e26c21bcbb19",
   "metadata": {},
   "outputs": [],
   "source": []
  },
  {
   "cell_type": "markdown",
   "id": "9dab24ed-98ec-4551-a2bf-c717587febe4",
   "metadata": {},
   "source": [
    "### - Upload Component\n",
    "\n",
    "The `dcc.Upload` component allows users to upload files into your app through drag-and-drop or the system's native file explorer."
   ]
  },
  {
   "cell_type": "code",
   "execution_count": null,
   "id": "66dec4e4-f42e-4b8b-b243-da5a5ee436f2",
   "metadata": {},
   "outputs": [],
   "source": []
  },
  {
   "cell_type": "code",
   "execution_count": null,
   "id": "b692335f-8843-433c-a91c-d9b5664c703a",
   "metadata": {},
   "outputs": [],
   "source": []
  },
  {
   "cell_type": "code",
   "execution_count": null,
   "id": "91a6e1d3-c79d-44a6-9cc3-d88c9a9b8971",
   "metadata": {},
   "outputs": [],
   "source": []
  }
 ],
 "metadata": {
  "kernelspec": {
   "display_name": "Python 3 (ipykernel)",
   "language": "python",
   "name": "python3"
  },
  "language_info": {
   "codemirror_mode": {
    "name": "ipython",
    "version": 3
   },
   "file_extension": ".py",
   "mimetype": "text/x-python",
   "name": "python",
   "nbconvert_exporter": "python",
   "pygments_lexer": "ipython3",
   "version": "3.10.8"
  }
 },
 "nbformat": 4,
 "nbformat_minor": 5
}
