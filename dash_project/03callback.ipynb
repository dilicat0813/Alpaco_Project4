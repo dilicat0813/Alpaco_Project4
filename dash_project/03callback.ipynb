{
 "cells": [
  {
   "cell_type": "markdown",
   "id": "1e67a01c-1d78-4fde-8032-10c47d6fa644",
   "metadata": {},
   "source": [
    "# 콜백\n",
    "\n",
    "사용자의 입력에 따라 변하는 어플리케이션을 개발해야하는 경우가 있다. 입력에서 발생하는 변화를 감지해 호출되는 콜백 함수를 지원한다.\n",
    "\n",
    " - https://dash.plotly.com/basic-callbacks"
   ]
  },
  {
   "cell_type": "code",
   "execution_count": 2,
   "id": "290b02d6-0c8c-444b-b86b-6caa9d36a006",
   "metadata": {
    "tags": []
   },
   "outputs": [],
   "source": [
    "import pandas as pd"
   ]
  },
  {
   "cell_type": "code",
   "execution_count": 3,
   "id": "40f09b6c-092e-46e2-ba45-f118826684c4",
   "metadata": {
    "tags": []
   },
   "outputs": [],
   "source": [
    "import plotly.express as px\n",
    "from jupyter_dash import JupyterDash\n",
    "from dash import Dash, dcc, html, Input, Output"
   ]
  },
  {
   "cell_type": "code",
   "execution_count": null,
   "id": "79d28d2d-7ea1-470c-9764-1f079229f896",
   "metadata": {},
   "outputs": [],
   "source": []
  },
  {
   "cell_type": "code",
   "execution_count": null,
   "id": "dd71c535-0f3c-4ee8-8617-43ca79b1fbee",
   "metadata": {},
   "outputs": [],
   "source": []
  },
  {
   "cell_type": "markdown",
   "id": "5011c934-d857-4562-9412-6729eb1c60c5",
   "metadata": {},
   "source": [
    "Dash 콜백은 어플리케이션의 \"입력\"및 \"출력\" 에 사용자 이벤트를 처리할 함수에 `@app.callback` 데코레이터로 선언적으로 표현된다. \n",
    "\n",
    "```python\n",
    "@app.callback(\n",
    "    Output(component_id='my-output', component_property='children'),\n",
    "    Input(component_id='my-input', component_property='value')\n",
    ")\n",
    "def update_output_div(input_value):\n",
    "    return 'Output: {}'.format(input_value)\n",
    "\n",
    "```"
   ]
  },
  {
   "cell_type": "markdown",
   "id": "e59791ac-7f7d-4414-88fb-8399cfeaddca",
   "metadata": {},
   "source": [
    "아래 샘플 코드는 Dash에게 \"Input\"(입력) 컴포넌트의 값(value)이 변할 때마다 \"Output\"(출력) 컴포넌트의 chlildren을 업데이트하라고 알려주는 것이다.\n",
    "\n",
    "- `@app.callback` 데코레이터로 래핑된 함수의 이름은 사용자가 원하는 대로 지정할 수 있다. 컨벤션은 콜백 아웃풋을 나타내는 함수명을 사용하는 것이다.\n",
    "- 함수 인수도 어떤 이름이든 사용할 수 있다. 하지만 인수의 순서는 맞춰줘야 한다.(데코레이터와 동일한 순서로)\n",
    "- `@app.callback` 데코레이터의 입력 또는 출력으로 참조 할 때 app.layout에서 Dash 컴포넌트에 지정한 것과 동일한 ID를 사용해야 한다.\n",
    "- `@app.callback` 데코레이터는 콜백 함수 선언 바로 위에 있어야합니다. 데코레이터와 함수 정의 사이에 빈 줄이 있으면 콜백 등록이 되지 않는다."
   ]
  },
  {
   "cell_type": "code",
   "execution_count": 4,
   "id": "57a7ce4c-509a-4c63-b0a7-8d78f5dfce66",
   "metadata": {
    "tags": []
   },
   "outputs": [
    {
     "name": "stdout",
     "output_type": "stream",
     "text": [
      "Dash is running on http://127.0.0.1:8050/\n",
      "\n"
     ]
    },
    {
     "data": {
      "text/html": [
       "\n",
       "        <iframe\n",
       "            width=\"100%\"\n",
       "            height=\"650\"\n",
       "            src=\"http://127.0.0.1:8050/\"\n",
       "            frameborder=\"0\"\n",
       "            allowfullscreen\n",
       "            \n",
       "        ></iframe>\n",
       "        "
      ],
      "text/plain": [
       "<IPython.lib.display.IFrame at 0x1e4db529b70>"
      ]
     },
     "metadata": {},
     "output_type": "display_data"
    }
   ],
   "source": [
    "external_stylesheets = ['https://codepen.io/chriddyp/pen/bWLwgP.css']\n",
    "# app = Dash(__name__)\n",
    "app = JupyterDash(__name__, external_stylesheets=external_stylesheets)\n",
    "\n",
    "app.layout = html.Div([\n",
    "    html.H6(\"Change the value in the text box to see callbacks in action!\"),\n",
    "    html.Div([\"Input: \",\n",
    "              dcc.Input(id='my-input', value='initial value', type='text')]),\n",
    "    html.Br(),\n",
    "    html.Div(id='my-output'),\n",
    "])\n",
    "\n",
    "\n",
    "@app.callback(\n",
    "    Output(component_id='my-output', component_property='children'),\n",
    "    Input(component_id='my-input', component_property='value')\n",
    ")\n",
    "def update_output_div(input_value):\n",
    "    return 'Output: {}'.format(input_value)\n",
    "\n",
    "\n",
    "if __name__ == '__main__':\n",
    "    app.run_server(debug=True, mode='inline')"
   ]
  },
  {
   "cell_type": "code",
   "execution_count": null,
   "id": "dc7ccd54-cf05-4953-87a5-9602b8653660",
   "metadata": {},
   "outputs": [],
   "source": []
  },
  {
   "cell_type": "markdown",
   "id": "703f2917-8b9f-4be2-b6b7-80100bf0b828",
   "metadata": {},
   "source": [
    "### 슬라이더 처리 콜백\n",
    "\n",
    "dcc.Slidera가 a를 업데이트하는 또 다른 예를 살펴보겠습니다 dcc.Graph.\n",
    "\n",
    " -  update_figure이 함수는 이 새 값으로 데이터 프레임을 필터링하고 figure객체를 생성한 다음 대시 애플리케이션에 반환합니다."
   ]
  },
  {
   "cell_type": "code",
   "execution_count": 7,
   "id": "a830882a-e153-418e-b261-b280ed191cb5",
   "metadata": {
    "tags": []
   },
   "outputs": [
    {
     "name": "stdout",
     "output_type": "stream",
     "text": [
      "Dash is running on http://127.0.0.1:8050/\n",
      "\n"
     ]
    },
    {
     "data": {
      "text/html": [
       "\n",
       "        <iframe\n",
       "            width=\"100%\"\n",
       "            height=\"650\"\n",
       "            src=\"http://127.0.0.1:8050/\"\n",
       "            frameborder=\"0\"\n",
       "            allowfullscreen\n",
       "            \n",
       "        ></iframe>\n",
       "        "
      ],
      "text/plain": [
       "<IPython.lib.display.IFrame at 0x1e4dc64fca0>"
      ]
     },
     "metadata": {},
     "output_type": "display_data"
    }
   ],
   "source": [
    "df = pd.read_csv('https://raw.githubusercontent.com/plotly/datasets/master/gapminderDataFiveYear.csv')\n",
    "\n",
    "# app = Dash(__name__)\n",
    "app = JupyterDash(__name__)\n",
    "\n",
    "app.layout = html.Div([\n",
    "    dcc.Graph(id='graph-with-slider'),\n",
    "    dcc.Slider(\n",
    "        df['year'].min(),\n",
    "        df['year'].max(),\n",
    "        step=None,\n",
    "        value=df['year'].min(),\n",
    "        marks={str(year): str(year) for year in df['year'].unique()},\n",
    "        id='year-slider'\n",
    "    )\n",
    "])\n",
    "\n",
    "\n",
    "@app.callback(\n",
    "    Output('graph-with-slider', 'figure'),\n",
    "    Input('year-slider', 'value'))\n",
    "def update_figure(selected_year):\n",
    "    filtered_df = df[df.year == selected_year]\n",
    "\n",
    "    fig = px.scatter(filtered_df, x=\"gdpPercap\", y=\"lifeExp\",\n",
    "                     size=\"pop\", color=\"continent\", hover_name=\"country\",\n",
    "                     log_x=True, size_max=55)\n",
    "\n",
    "    fig.update_layout(transition_duration=500)\n",
    "\n",
    "    return fig\n",
    "\n",
    "\n",
    "if __name__ == '__main__':\n",
    "    app.run_server(debug=True, mode='inline')"
   ]
  },
  {
   "cell_type": "code",
   "execution_count": null,
   "id": "57ffb770-fd89-488f-8384-dcafd2912f8d",
   "metadata": {},
   "outputs": [],
   "source": []
  },
  {
   "cell_type": "markdown",
   "id": "2d16b59b-2903-429d-adec-949726851d5e",
   "metadata": {},
   "source": [
    "## 여러 콜백 수행하기\n",
    "\n",
    "콜백함수에 여러개의 입력과 출력을 사용할 수 있다. @app.callback 데코레이터 내에 정의한 순서만 맞춰주자.\n",
    "\n",
    "html의 form과 비슷한 패턴으로 입력을 받아야하는 경우가 있는데 이때는 콜백함수에 해당하는 모든 인풋을 넣는 것으로 해결 가능하다. "
   ]
  },
  {
   "cell_type": "code",
   "execution_count": 5,
   "id": "5df7aafc-47e4-4303-9ecc-50d48afa59e7",
   "metadata": {
    "tags": []
   },
   "outputs": [
    {
     "name": "stdout",
     "output_type": "stream",
     "text": [
      "Dash is running on http://127.0.0.1:8050/\n",
      "\n"
     ]
    },
    {
     "data": {
      "text/html": [
       "\n",
       "        <iframe\n",
       "            width=\"100%\"\n",
       "            height=\"650\"\n",
       "            src=\"http://127.0.0.1:8050/\"\n",
       "            frameborder=\"0\"\n",
       "            allowfullscreen\n",
       "            \n",
       "        ></iframe>\n",
       "        "
      ],
      "text/plain": [
       "<IPython.lib.display.IFrame at 0x1e7f5f192d0>"
      ]
     },
     "metadata": {},
     "output_type": "display_data"
    }
   ],
   "source": [
    "external_stylesheets = [\"https://codepen.io/chriddyp/pen/bWLwgP.css\"]\n",
    "\n",
    "# app = Dash(__name__, external_stylesheets=external_stylesheets)\n",
    "app = JupyterDash(__name__, external_stylesheets=external_stylesheets)\n",
    "\n",
    "app.layout = html.Div(\n",
    "    [\n",
    "        dcc.Input(id=\"input-1\", type=\"text\", value=\"Montréal\"),\n",
    "        dcc.Input(id=\"input-2\", type=\"text\", value=\"Canada\"),\n",
    "        html.Div(id=\"number-output\"),\n",
    "    ]\n",
    ")\n",
    "\n",
    "\n",
    "@app.callback(\n",
    "    Output(\"number-output\", \"children\"),\n",
    "    Input(\"input-1\", \"value\"),\n",
    "    Input(\"input-2\", \"value\"),\n",
    ")\n",
    "def update_output(input1, input2):\n",
    "    return u'Input 1 is \"{}\" and Input 2 is \"{}\"'.format(input1, input2)\n",
    "\n",
    "\n",
    "if __name__ == \"__main__\":\n",
    "    app.run_server(debug=True, mode='inline')"
   ]
  },
  {
   "cell_type": "code",
   "execution_count": null,
   "id": "61d2136e-ac6b-48e1-bd7f-01f13db7c5a3",
   "metadata": {},
   "outputs": [],
   "source": []
  },
  {
   "cell_type": "code",
   "execution_count": null,
   "id": "33de8eaa-54a9-486c-8168-97c9ea41f270",
   "metadata": {},
   "outputs": [],
   "source": []
  }
 ],
 "metadata": {
  "kernelspec": {
   "display_name": "Python 3 (ipykernel)",
   "language": "python",
   "name": "python3"
  },
  "language_info": {
   "codemirror_mode": {
    "name": "ipython",
    "version": 3
   },
   "file_extension": ".py",
   "mimetype": "text/x-python",
   "name": "python",
   "nbconvert_exporter": "python",
   "pygments_lexer": "ipython3",
   "version": "3.10.8"
  }
 },
 "nbformat": 4,
 "nbformat_minor": 5
}
