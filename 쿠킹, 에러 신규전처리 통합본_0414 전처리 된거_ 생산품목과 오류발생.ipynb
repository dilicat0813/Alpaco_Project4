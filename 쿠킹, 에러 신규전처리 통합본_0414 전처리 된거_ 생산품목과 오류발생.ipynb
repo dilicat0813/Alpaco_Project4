{
 "cells": [
  {
   "cell_type": "code",
   "execution_count": 95,
   "metadata": {
    "executionInfo": {
     "elapsed": 457,
     "status": "ok",
     "timestamp": 1681465101957,
     "user": {
      "displayName": "민환경",
      "userId": "09420419513115657626"
     },
     "user_tz": -540
    },
    "id": "E7pghmJ-u5fX"
   },
   "outputs": [],
   "source": [
    "import pandas as pd\n",
    "product_name = pd.read_csv('data/Product_Name.csv')\n",
    "cooking_data = pd.read_csv('data/Cooking_data_set2.csv')\n",
    "error_message = pd.read_csv('data/Error_Message2.csv')"
   ]
  },
  {
   "cell_type": "code",
   "execution_count": 96,
   "metadata": {
    "executionInfo": {
     "elapsed": 2,
     "status": "ok",
     "timestamp": 1681465101957,
     "user": {
      "displayName": "민환경",
      "userId": "09420419513115657626"
     },
     "user_tz": -540
    },
    "id": "8q_83uXF4RoM"
   },
   "outputs": [],
   "source": [
    "def t1(x):\n",
    "  if x == -129489:\n",
    "    return 111\n",
    "  elif x < 0:\n",
    "    return x + 1440\n",
    "  else:\n",
    "    return x\n",
    "\n",
    "error_message['오류조치시간_보정'] = error_message['오류조치시간'].apply(t1)"
   ]
  },
  {
   "cell_type": "code",
   "execution_count": 97,
   "metadata": {
    "colab": {
     "base_uri": "https://localhost:8080/",
     "height": 424
    },
    "executionInfo": {
     "elapsed": 7,
     "status": "ok",
     "timestamp": 1681465102534,
     "user": {
      "displayName": "민환경",
      "userId": "09420419513115657626"
     },
     "user_tz": -540
    },
    "id": "EUCV0mqWvEP6",
    "outputId": "1025b2ca-01ad-4dc6-bce3-29fe96696fdb"
   },
   "outputs": [
    {
     "data": {
      "text/html": [
       "<div>\n",
       "<style scoped>\n",
       "    .dataframe tbody tr th:only-of-type {\n",
       "        vertical-align: middle;\n",
       "    }\n",
       "\n",
       "    .dataframe tbody tr th {\n",
       "        vertical-align: top;\n",
       "    }\n",
       "\n",
       "    .dataframe thead th {\n",
       "        text-align: right;\n",
       "    }\n",
       "</style>\n",
       "<table border=\"1\" class=\"dataframe\">\n",
       "  <thead>\n",
       "    <tr style=\"text-align: right;\">\n",
       "      <th></th>\n",
       "      <th>순번</th>\n",
       "      <th>생산라인코드</th>\n",
       "      <th>생산일자</th>\n",
       "      <th>작업장코드</th>\n",
       "      <th>충전실온도</th>\n",
       "      <th>실링온도</th>\n",
       "      <th>쿠킹온도</th>\n",
       "      <th>쿠킹스팀압력</th>\n",
       "      <th>실링압력</th>\n",
       "      <th>생산시간</th>\n",
       "      <th>고유코드</th>\n",
       "    </tr>\n",
       "  </thead>\n",
       "  <tbody>\n",
       "    <tr>\n",
       "      <th>56</th>\n",
       "      <td>14</td>\n",
       "      <td>D004</td>\n",
       "      <td>2011-01-05</td>\n",
       "      <td>W005</td>\n",
       "      <td>70.895704</td>\n",
       "      <td>112.595704</td>\n",
       "      <td>148.067154</td>\n",
       "      <td>23.648</td>\n",
       "      <td>209.952</td>\n",
       "      <td>74.31</td>\n",
       "      <td>14D0042011-01-05W005</td>\n",
       "    </tr>\n",
       "    <tr>\n",
       "      <th>201</th>\n",
       "      <td>15</td>\n",
       "      <td>P004</td>\n",
       "      <td>2011-01-13</td>\n",
       "      <td>W007</td>\n",
       "      <td>71.146536</td>\n",
       "      <td>112.946536</td>\n",
       "      <td>148.477486</td>\n",
       "      <td>23.687</td>\n",
       "      <td>214.481</td>\n",
       "      <td>79.37</td>\n",
       "      <td>15P0042011-01-13W007</td>\n",
       "    </tr>\n",
       "    <tr>\n",
       "      <th>607</th>\n",
       "      <td>35</td>\n",
       "      <td>D005</td>\n",
       "      <td>2011-02-09</td>\n",
       "      <td>W005</td>\n",
       "      <td>70.786575</td>\n",
       "      <td>91.886575</td>\n",
       "      <td>127.177375</td>\n",
       "      <td>23.527</td>\n",
       "      <td>201.511</td>\n",
       "      <td>78.39</td>\n",
       "      <td>35D0052011-02-09W005</td>\n",
       "    </tr>\n",
       "    <tr>\n",
       "      <th>609</th>\n",
       "      <td>37</td>\n",
       "      <td>D005</td>\n",
       "      <td>2011-02-09</td>\n",
       "      <td>W005</td>\n",
       "      <td>71.429939</td>\n",
       "      <td>104.829939</td>\n",
       "      <td>140.173339</td>\n",
       "      <td>23.562</td>\n",
       "      <td>203.099</td>\n",
       "      <td>70.93</td>\n",
       "      <td>37D0052011-02-09W005</td>\n",
       "    </tr>\n",
       "    <tr>\n",
       "      <th>1163</th>\n",
       "      <td>10</td>\n",
       "      <td>P004</td>\n",
       "      <td>2011-03-11</td>\n",
       "      <td>W007</td>\n",
       "      <td>70.325152</td>\n",
       "      <td>85.725152</td>\n",
       "      <td>121.298002</td>\n",
       "      <td>23.715</td>\n",
       "      <td>207.616</td>\n",
       "      <td>79.62</td>\n",
       "      <td>10P0042011-03-11W007</td>\n",
       "    </tr>\n",
       "    <tr>\n",
       "      <th>...</th>\n",
       "      <td>...</td>\n",
       "      <td>...</td>\n",
       "      <td>...</td>\n",
       "      <td>...</td>\n",
       "      <td>...</td>\n",
       "      <td>...</td>\n",
       "      <td>...</td>\n",
       "      <td>...</td>\n",
       "      <td>...</td>\n",
       "      <td>...</td>\n",
       "      <td>...</td>\n",
       "    </tr>\n",
       "    <tr>\n",
       "      <th>23761</th>\n",
       "      <td>3</td>\n",
       "      <td>D088</td>\n",
       "      <td>2021-08-13</td>\n",
       "      <td>W005</td>\n",
       "      <td>72.564937</td>\n",
       "      <td>104.164936</td>\n",
       "      <td>140.203386</td>\n",
       "      <td>24.026</td>\n",
       "      <td>210.795</td>\n",
       "      <td>73.80</td>\n",
       "      <td>3D0882021-08-13W005</td>\n",
       "    </tr>\n",
       "    <tr>\n",
       "      <th>23784</th>\n",
       "      <td>2</td>\n",
       "      <td>D088</td>\n",
       "      <td>2021-08-24</td>\n",
       "      <td>W005</td>\n",
       "      <td>73.111739</td>\n",
       "      <td>107.011739</td>\n",
       "      <td>143.230439</td>\n",
       "      <td>24.146</td>\n",
       "      <td>211.204</td>\n",
       "      <td>78.47</td>\n",
       "      <td>2D0882021-08-24W005</td>\n",
       "    </tr>\n",
       "    <tr>\n",
       "      <th>23795</th>\n",
       "      <td>5</td>\n",
       "      <td>D088</td>\n",
       "      <td>2021-08-26</td>\n",
       "      <td>W005</td>\n",
       "      <td>72.152000</td>\n",
       "      <td>97.852000</td>\n",
       "      <td>133.518700</td>\n",
       "      <td>23.778</td>\n",
       "      <td>205.632</td>\n",
       "      <td>77.16</td>\n",
       "      <td>5D0882021-08-26W005</td>\n",
       "    </tr>\n",
       "    <tr>\n",
       "      <th>23871</th>\n",
       "      <td>4</td>\n",
       "      <td>D088</td>\n",
       "      <td>2021-09-14</td>\n",
       "      <td>W005</td>\n",
       "      <td>72.025837</td>\n",
       "      <td>116.725837</td>\n",
       "      <td>151.910137</td>\n",
       "      <td>23.456</td>\n",
       "      <td>202.626</td>\n",
       "      <td>75.62</td>\n",
       "      <td>4D0882021-09-14W005</td>\n",
       "    </tr>\n",
       "    <tr>\n",
       "      <th>23872</th>\n",
       "      <td>5</td>\n",
       "      <td>D088</td>\n",
       "      <td>2021-09-14</td>\n",
       "      <td>W005</td>\n",
       "      <td>71.810587</td>\n",
       "      <td>96.610587</td>\n",
       "      <td>131.730737</td>\n",
       "      <td>23.413</td>\n",
       "      <td>210.036</td>\n",
       "      <td>74.44</td>\n",
       "      <td>5D0882021-09-14W005</td>\n",
       "    </tr>\n",
       "  </tbody>\n",
       "</table>\n",
       "<p>252 rows × 11 columns</p>\n",
       "</div>"
      ],
      "text/plain": [
       "       순번 생산라인코드        생산일자 작업장코드      충전실온도        실링온도        쿠킹온도  쿠킹스팀압력  \\\n",
       "56     14   D004  2011-01-05  W005  70.895704  112.595704  148.067154  23.648   \n",
       "201    15   P004  2011-01-13  W007  71.146536  112.946536  148.477486  23.687   \n",
       "607    35   D005  2011-02-09  W005  70.786575   91.886575  127.177375  23.527   \n",
       "609    37   D005  2011-02-09  W005  71.429939  104.829939  140.173339  23.562   \n",
       "1163   10   P004  2011-03-11  W007  70.325152   85.725152  121.298002  23.715   \n",
       "...    ..    ...         ...   ...        ...         ...         ...     ...   \n",
       "23761   3   D088  2021-08-13  W005  72.564937  104.164936  140.203386  24.026   \n",
       "23784   2   D088  2021-08-24  W005  73.111739  107.011739  143.230439  24.146   \n",
       "23795   5   D088  2021-08-26  W005  72.152000   97.852000  133.518700  23.778   \n",
       "23871   4   D088  2021-09-14  W005  72.025837  116.725837  151.910137  23.456   \n",
       "23872   5   D088  2021-09-14  W005  71.810587   96.610587  131.730737  23.413   \n",
       "\n",
       "          실링압력   생산시간                  고유코드  \n",
       "56     209.952  74.31  14D0042011-01-05W005  \n",
       "201    214.481  79.37  15P0042011-01-13W007  \n",
       "607    201.511  78.39  35D0052011-02-09W005  \n",
       "609    203.099  70.93  37D0052011-02-09W005  \n",
       "1163   207.616  79.62  10P0042011-03-11W007  \n",
       "...        ...    ...                   ...  \n",
       "23761  210.795  73.80   3D0882021-08-13W005  \n",
       "23784  211.204  78.47   2D0882021-08-24W005  \n",
       "23795  205.632  77.16   5D0882021-08-26W005  \n",
       "23871  202.626  75.62   4D0882021-09-14W005  \n",
       "23872  210.036  74.44   5D0882021-09-14W005  \n",
       "\n",
       "[252 rows x 11 columns]"
      ]
     },
     "execution_count": 97,
     "metadata": {},
     "output_type": "execute_result"
    }
   ],
   "source": [
    "#날짜, 순번순 오름차순 정렬\n",
    "cooking_data = cooking_data.sort_values(by=['생산일자', '순번'])\n",
    "cooking_data['순번'] = cooking_data['순번'].astype(str)\n",
    "cooking_data['고유코드'] = cooking_data['순번']+cooking_data['생산라인코드']+cooking_data['생산일자']+cooking_data['작업장코드']\n",
    "cooking_data[cooking_data['고유코드'].duplicated()]\n"
   ]
  },
  {
   "cell_type": "code",
   "execution_count": 98,
   "metadata": {
    "executionInfo": {
     "elapsed": 6,
     "status": "ok",
     "timestamp": 1681465102535,
     "user": {
      "displayName": "민환경",
      "userId": "09420419513115657626"
     },
     "user_tz": -540
    },
    "id": "j3z88dJO7aqz"
   },
   "outputs": [],
   "source": [
    "cooking_data['중복대상'] = cooking_data.duplicated(subset='고유코드')\n",
    "#cooking_data[cooking_data['고유코드'] =='14D0042011-01-05W005']\n",
    "#cooking_data\n"
   ]
  },
  {
   "cell_type": "code",
   "execution_count": 99,
   "metadata": {
    "executionInfo": {
     "elapsed": 6,
     "status": "ok",
     "timestamp": 1681465102535,
     "user": {
      "displayName": "민환경",
      "userId": "09420419513115657626"
     },
     "user_tz": -540
    },
    "id": "GfsFZcG8Fr7s"
   },
   "outputs": [],
   "source": [
    "cooking_data['순번'] = cooking_data['순번'].astype(int)\n",
    "\n",
    "def find_dup(cooking_data):\n",
    "    if cooking_data['중복대상'] == True:\n",
    "        return cooking_data['순번'] + 100\n",
    "    else:\n",
    "        return cooking_data['순번']\n",
    "\n",
    "cooking_data['순번'] = cooking_data.apply(find_dup, axis=1)\n"
   ]
  },
  {
   "cell_type": "code",
   "execution_count": 100,
   "metadata": {
    "executionInfo": {
     "elapsed": 6,
     "status": "ok",
     "timestamp": 1681465102535,
     "user": {
      "displayName": "민환경",
      "userId": "09420419513115657626"
     },
     "user_tz": -540
    },
    "id": "Pubwhft0Fuua"
   },
   "outputs": [],
   "source": [
    "cooking_data['순번'] = cooking_data['순번'].astype(str)\n",
    "cooking_data['고유코드2'] = cooking_data['순번']+cooking_data['생산라인코드']+cooking_data['생산일자']+cooking_data['작업장코드']"
   ]
  },
  {
   "cell_type": "code",
   "execution_count": 101,
   "metadata": {
    "colab": {
     "base_uri": "https://localhost:8080/",
     "height": 424
    },
    "executionInfo": {
     "elapsed": 6,
     "status": "ok",
     "timestamp": 1681465102536,
     "user": {
      "displayName": "민환경",
      "userId": "09420419513115657626"
     },
     "user_tz": -540
    },
    "id": "yULqYbVGvJj6",
    "outputId": "e7af5039-7f0e-41a5-840f-990ef441d7d6"
   },
   "outputs": [
    {
     "data": {
      "text/html": [
       "<div>\n",
       "<style scoped>\n",
       "    .dataframe tbody tr th:only-of-type {\n",
       "        vertical-align: middle;\n",
       "    }\n",
       "\n",
       "    .dataframe tbody tr th {\n",
       "        vertical-align: top;\n",
       "    }\n",
       "\n",
       "    .dataframe thead th {\n",
       "        text-align: right;\n",
       "    }\n",
       "</style>\n",
       "<table border=\"1\" class=\"dataframe\">\n",
       "  <thead>\n",
       "    <tr style=\"text-align: right;\">\n",
       "      <th></th>\n",
       "      <th>순번</th>\n",
       "      <th>생산라인코드</th>\n",
       "      <th>생산일자</th>\n",
       "      <th>발생시간</th>\n",
       "      <th>종료시간</th>\n",
       "      <th>오류조치시간</th>\n",
       "      <th>비가동코드</th>\n",
       "      <th>Error_Message</th>\n",
       "      <th>오류발생작업장명</th>\n",
       "      <th>오류조치시간_보정</th>\n",
       "    </tr>\n",
       "  </thead>\n",
       "  <tbody>\n",
       "    <tr>\n",
       "      <th>0</th>\n",
       "      <td>10</td>\n",
       "      <td>D004</td>\n",
       "      <td>2011-01-03</td>\n",
       "      <td>14:16</td>\n",
       "      <td>14:24</td>\n",
       "      <td>8</td>\n",
       "      <td>W0056B4</td>\n",
       "      <td>위치조정</td>\n",
       "      <td>충전실</td>\n",
       "      <td>8</td>\n",
       "    </tr>\n",
       "    <tr>\n",
       "      <th>1</th>\n",
       "      <td>7</td>\n",
       "      <td>D011</td>\n",
       "      <td>2011-01-04</td>\n",
       "      <td>18:54</td>\n",
       "      <td>19:03</td>\n",
       "      <td>9</td>\n",
       "      <td>W005711</td>\n",
       "      <td>대기</td>\n",
       "      <td>충전실</td>\n",
       "      <td>9</td>\n",
       "    </tr>\n",
       "    <tr>\n",
       "      <th>2</th>\n",
       "      <td>2</td>\n",
       "      <td>C002</td>\n",
       "      <td>2011-01-05</td>\n",
       "      <td>9:51</td>\n",
       "      <td>9:58</td>\n",
       "      <td>7</td>\n",
       "      <td>W003452</td>\n",
       "      <td>충전</td>\n",
       "      <td>쿠킹실</td>\n",
       "      <td>7</td>\n",
       "    </tr>\n",
       "    <tr>\n",
       "      <th>3</th>\n",
       "      <td>13</td>\n",
       "      <td>P004</td>\n",
       "      <td>2011-01-05</td>\n",
       "      <td>18:20</td>\n",
       "      <td>20:44</td>\n",
       "      <td>144</td>\n",
       "      <td>W0076B2</td>\n",
       "      <td>구동부</td>\n",
       "      <td>포장실</td>\n",
       "      <td>144</td>\n",
       "    </tr>\n",
       "    <tr>\n",
       "      <th>6</th>\n",
       "      <td>5</td>\n",
       "      <td>C007</td>\n",
       "      <td>2011-01-10</td>\n",
       "      <td>9:55</td>\n",
       "      <td>10:05</td>\n",
       "      <td>10</td>\n",
       "      <td>W003452</td>\n",
       "      <td>충전</td>\n",
       "      <td>쿠킹실</td>\n",
       "      <td>10</td>\n",
       "    </tr>\n",
       "    <tr>\n",
       "      <th>...</th>\n",
       "      <td>...</td>\n",
       "      <td>...</td>\n",
       "      <td>...</td>\n",
       "      <td>...</td>\n",
       "      <td>...</td>\n",
       "      <td>...</td>\n",
       "      <td>...</td>\n",
       "      <td>...</td>\n",
       "      <td>...</td>\n",
       "      <td>...</td>\n",
       "    </tr>\n",
       "    <tr>\n",
       "      <th>1070</th>\n",
       "      <td>1</td>\n",
       "      <td>C045</td>\n",
       "      <td>2021-10-25</td>\n",
       "      <td>8:58</td>\n",
       "      <td>9:04</td>\n",
       "      <td>6</td>\n",
       "      <td>W003446</td>\n",
       "      <td>ph 이상</td>\n",
       "      <td>쿠킹실</td>\n",
       "      <td>6</td>\n",
       "    </tr>\n",
       "    <tr>\n",
       "      <th>1069</th>\n",
       "      <td>3</td>\n",
       "      <td>D084</td>\n",
       "      <td>2021-10-25</td>\n",
       "      <td>9:46</td>\n",
       "      <td>11:49</td>\n",
       "      <td>123</td>\n",
       "      <td>W005713</td>\n",
       "      <td>수리</td>\n",
       "      <td>충전실</td>\n",
       "      <td>123</td>\n",
       "    </tr>\n",
       "    <tr>\n",
       "      <th>1072</th>\n",
       "      <td>1</td>\n",
       "      <td>D005</td>\n",
       "      <td>2021-10-28</td>\n",
       "      <td>10:50</td>\n",
       "      <td>11:06</td>\n",
       "      <td>16</td>\n",
       "      <td>W0058Z9</td>\n",
       "      <td>기타</td>\n",
       "      <td>충전실</td>\n",
       "      <td>16</td>\n",
       "    </tr>\n",
       "    <tr>\n",
       "      <th>1071</th>\n",
       "      <td>7</td>\n",
       "      <td>D088</td>\n",
       "      <td>2021-10-28</td>\n",
       "      <td>8:57</td>\n",
       "      <td>9:33</td>\n",
       "      <td>36</td>\n",
       "      <td>W0054F1</td>\n",
       "      <td>품목 교체</td>\n",
       "      <td>충전실</td>\n",
       "      <td>36</td>\n",
       "    </tr>\n",
       "    <tr>\n",
       "      <th>1073</th>\n",
       "      <td>7</td>\n",
       "      <td>D087</td>\n",
       "      <td>2021-10-28</td>\n",
       "      <td>14:15</td>\n",
       "      <td>14:35</td>\n",
       "      <td>20</td>\n",
       "      <td>W005722</td>\n",
       "      <td>공정</td>\n",
       "      <td>충전실</td>\n",
       "      <td>20</td>\n",
       "    </tr>\n",
       "  </tbody>\n",
       "</table>\n",
       "<p>1074 rows × 10 columns</p>\n",
       "</div>"
      ],
      "text/plain": [
       "      순번 생산라인코드        생산일자   발생시간   종료시간  오류조치시간    비가동코드 Error_Message  \\\n",
       "0     10   D004  2011-01-03  14:16  14:24       8  W0056B4          위치조정   \n",
       "1      7   D011  2011-01-04  18:54  19:03       9  W005711            대기   \n",
       "2      2   C002  2011-01-05   9:51   9:58       7  W003452            충전   \n",
       "3     13   P004  2011-01-05  18:20  20:44     144  W0076B2           구동부   \n",
       "6      5   C007  2011-01-10   9:55  10:05      10  W003452            충전   \n",
       "...   ..    ...         ...    ...    ...     ...      ...           ...   \n",
       "1070   1   C045  2021-10-25   8:58   9:04       6  W003446         ph 이상   \n",
       "1069   3   D084  2021-10-25   9:46  11:49     123  W005713            수리   \n",
       "1072   1   D005  2021-10-28  10:50  11:06      16  W0058Z9            기타   \n",
       "1071   7   D088  2021-10-28   8:57   9:33      36  W0054F1         품목 교체   \n",
       "1073   7   D087  2021-10-28  14:15  14:35      20  W005722            공정   \n",
       "\n",
       "     오류발생작업장명  오류조치시간_보정  \n",
       "0         충전실          8  \n",
       "1         충전실          9  \n",
       "2         쿠킹실          7  \n",
       "3         포장실        144  \n",
       "6         쿠킹실         10  \n",
       "...       ...        ...  \n",
       "1070      쿠킹실          6  \n",
       "1069      충전실        123  \n",
       "1072      충전실         16  \n",
       "1071      충전실         36  \n",
       "1073      충전실         20  \n",
       "\n",
       "[1074 rows x 10 columns]"
      ]
     },
     "execution_count": 101,
     "metadata": {},
     "output_type": "execute_result"
    }
   ],
   "source": [
    "#error_message.query('오류조치시간 < 0')\n",
    "error_message = error_message.sort_values(by=['생산일자', '순번'])\n",
    "error_message"
   ]
  },
  {
   "cell_type": "code",
   "execution_count": 102,
   "metadata": {
    "colab": {
     "base_uri": "https://localhost:8080/",
     "height": 81
    },
    "executionInfo": {
     "elapsed": 6,
     "status": "ok",
     "timestamp": 1681465102536,
     "user": {
      "displayName": "민환경",
      "userId": "09420419513115657626"
     },
     "user_tz": -540
    },
    "id": "xtf2ImJY12Vi",
    "outputId": "d7f0a847-3274-417d-b4f6-81df919b96a8"
   },
   "outputs": [
    {
     "data": {
      "text/html": [
       "<div>\n",
       "<style scoped>\n",
       "    .dataframe tbody tr th:only-of-type {\n",
       "        vertical-align: middle;\n",
       "    }\n",
       "\n",
       "    .dataframe tbody tr th {\n",
       "        vertical-align: top;\n",
       "    }\n",
       "\n",
       "    .dataframe thead th {\n",
       "        text-align: right;\n",
       "    }\n",
       "</style>\n",
       "<table border=\"1\" class=\"dataframe\">\n",
       "  <thead>\n",
       "    <tr style=\"text-align: right;\">\n",
       "      <th></th>\n",
       "      <th>순번</th>\n",
       "      <th>생산라인코드</th>\n",
       "      <th>생산일자</th>\n",
       "      <th>발생시간</th>\n",
       "      <th>종료시간</th>\n",
       "      <th>오류조치시간</th>\n",
       "      <th>비가동코드</th>\n",
       "      <th>Error_Message</th>\n",
       "      <th>오류발생작업장명</th>\n",
       "      <th>오류조치시간_보정</th>\n",
       "      <th>작업장코드</th>\n",
       "      <th>고유코드2</th>\n",
       "    </tr>\n",
       "  </thead>\n",
       "  <tbody>\n",
       "    <tr>\n",
       "      <th>337</th>\n",
       "      <td>1</td>\n",
       "      <td>D007</td>\n",
       "      <td>2015-12-30</td>\n",
       "      <td>7:10</td>\n",
       "      <td>8:15</td>\n",
       "      <td>65</td>\n",
       "      <td>W005645</td>\n",
       "      <td>실린더</td>\n",
       "      <td>충전실</td>\n",
       "      <td>65</td>\n",
       "      <td>W005</td>\n",
       "      <td>1D0072015-12-30W005</td>\n",
       "    </tr>\n",
       "  </tbody>\n",
       "</table>\n",
       "</div>"
      ],
      "text/plain": [
       "    순번 생산라인코드        생산일자  발생시간  종료시간  오류조치시간    비가동코드 Error_Message 오류발생작업장명  \\\n",
       "337  1   D007  2015-12-30  7:10  8:15      65  W005645           실린더      충전실   \n",
       "\n",
       "     오류조치시간_보정 작업장코드                고유코드2  \n",
       "337         65  W005  1D0072015-12-30W005  "
      ]
     },
     "execution_count": 102,
     "metadata": {},
     "output_type": "execute_result"
    }
   ],
   "source": [
    "#에러메세지\n",
    "error_message['작업장코드'] = error_message['비가동코드'].str.slice(0,4)\n",
    "error_message['순번'] = error_message['순번'].astype(str)\n",
    "error_message['고유코드2'] = error_message['순번']+error_message['생산라인코드']+error_message['생산일자']+error_message['작업장코드']\n",
    "#error_message['중복대상'] = error_message.duplicated(subset='고유코드')\n",
    "#error_message[error_message['중복대상'] == True]\n",
    "error_message = error_message.drop(336)\n",
    "error_message[error_message['고유코드2'] == '1D0072015-12-30W005']"
   ]
  },
  {
   "cell_type": "code",
   "execution_count": 103,
   "metadata": {
    "executionInfo": {
     "elapsed": 5,
     "status": "ok",
     "timestamp": 1681465102536,
     "user": {
      "displayName": "민환경",
      "userId": "09420419513115657626"
     },
     "user_tz": -540
    },
    "id": "NhFg6XTdDUTk"
   },
   "outputs": [],
   "source": [
    "error_message.reset_index(drop=True, inplace=True)"
   ]
  },
  {
   "cell_type": "code",
   "execution_count": 104,
   "metadata": {
    "colab": {
     "base_uri": "https://localhost:8080/",
     "height": 111
    },
    "executionInfo": {
     "elapsed": 428,
     "status": "ok",
     "timestamp": 1681465102959,
     "user": {
      "displayName": "민환경",
      "userId": "09420419513115657626"
     },
     "user_tz": -540
    },
    "id": "M4wkvCNB29xu",
    "outputId": "c47ea305-edcd-4340-b824-7df9739385d8"
   },
   "outputs": [
    {
     "data": {
      "text/html": [
       "<div>\n",
       "<style scoped>\n",
       "    .dataframe tbody tr th:only-of-type {\n",
       "        vertical-align: middle;\n",
       "    }\n",
       "\n",
       "    .dataframe tbody tr th {\n",
       "        vertical-align: top;\n",
       "    }\n",
       "\n",
       "    .dataframe thead th {\n",
       "        text-align: right;\n",
       "    }\n",
       "</style>\n",
       "<table border=\"1\" class=\"dataframe\">\n",
       "  <thead>\n",
       "    <tr style=\"text-align: right;\">\n",
       "      <th></th>\n",
       "      <th>순번</th>\n",
       "      <th>생산라인코드</th>\n",
       "      <th>생산일자</th>\n",
       "      <th>작업장코드</th>\n",
       "      <th>충전실온도</th>\n",
       "      <th>실링온도</th>\n",
       "      <th>쿠킹온도</th>\n",
       "      <th>쿠킹스팀압력</th>\n",
       "      <th>실링압력</th>\n",
       "      <th>생산시간</th>\n",
       "      <th>고유코드</th>\n",
       "      <th>중복대상</th>\n",
       "      <th>고유코드2</th>\n",
       "      <th>오류발생작업장명</th>\n",
       "      <th>Error_Message</th>\n",
       "      <th>발생시간</th>\n",
       "      <th>종료시간</th>\n",
       "      <th>오류조치시간_보정</th>\n",
       "      <th>비가동코드</th>\n",
       "    </tr>\n",
       "  </thead>\n",
       "  <tbody>\n",
       "  </tbody>\n",
       "</table>\n",
       "</div>"
      ],
      "text/plain": [
       "Empty DataFrame\n",
       "Columns: [순번, 생산라인코드, 생산일자, 작업장코드, 충전실온도, 실링온도, 쿠킹온도, 쿠킹스팀압력, 실링압력, 생산시간, 고유코드, 중복대상, 고유코드2, 오류발생작업장명, Error_Message, 발생시간, 종료시간, 오류조치시간_보정, 비가동코드]\n",
       "Index: []"
      ]
     },
     "execution_count": 104,
     "metadata": {},
     "output_type": "execute_result"
    }
   ],
   "source": [
    "error_base = error_message[['고유코드2', '오류발생작업장명','Error_Message','발생시간', '종료시간', '오류조치시간_보정','비가동코드']]\n",
    "merge1 = pd.merge(left=cooking_data, right=error_base, how='left', on=['고유코드2'], sort=False)\n",
    "#merge1 = merge1.drop(['고유코드'],axis=1)\n",
    "merge1[merge1.duplicated(subset='고유코드2')]\n",
    "#merge1.query('고유코드 ==\"14D0042011-01-05W005\"')"
   ]
  },
  {
   "cell_type": "code",
   "execution_count": 105,
   "metadata": {
    "executionInfo": {
     "elapsed": 7,
     "status": "ok",
     "timestamp": 1681465102960,
     "user": {
      "displayName": "민환경",
      "userId": "09420419513115657626"
     },
     "user_tz": -540
    },
    "id": "MprR-DHLGsJu"
   },
   "outputs": [],
   "source": [
    "merge1.drop('고유코드', axis=1, inplace=True)"
   ]
  },
  {
   "cell_type": "code",
   "execution_count": 106,
   "metadata": {
    "colab": {
     "base_uri": "https://localhost:8080/"
    },
    "executionInfo": {
     "elapsed": 6,
     "status": "ok",
     "timestamp": 1681465102960,
     "user": {
      "displayName": "민환경",
      "userId": "09420419513115657626"
     },
     "user_tz": -540
    },
    "id": "Lt26dkaOGzYf",
    "outputId": "b1ed28f5-2cf6-4113-fb7d-f0b039a980f8"
   },
   "outputs": [
    {
     "data": {
      "text/plain": [
       "순번                   0\n",
       "생산라인코드               0\n",
       "생산일자                 0\n",
       "작업장코드                0\n",
       "충전실온도                0\n",
       "실링온도                28\n",
       "쿠킹온도                28\n",
       "쿠킹스팀압력               0\n",
       "실링압력                 0\n",
       "생산시간              1074\n",
       "중복대상                 0\n",
       "고유코드2                0\n",
       "오류발생작업장명         22996\n",
       "Error_Message    22996\n",
       "발생시간             22996\n",
       "종료시간             22996\n",
       "오류조치시간_보정        22996\n",
       "비가동코드            22996\n",
       "dtype: int64"
      ]
     },
     "execution_count": 106,
     "metadata": {},
     "output_type": "execute_result"
    }
   ],
   "source": [
    "merge1.isnull().sum()"
   ]
  },
  {
   "cell_type": "code",
   "execution_count": 107,
   "metadata": {
    "executionInfo": {
     "elapsed": 4,
     "status": "ok",
     "timestamp": 1681465102960,
     "user": {
      "displayName": "민환경",
      "userId": "09420419513115657626"
     },
     "user_tz": -540
    },
    "id": "05B-jihbwxni"
   },
   "outputs": [],
   "source": [
    "#오류발생여부 0, 1 분류류\n",
    "merge1['오류발생여부'] = merge1['생산시간'].apply(lambda x: 0 if not pd.isna(x) else 1)"
   ]
  },
  {
   "cell_type": "code",
   "execution_count": 108,
   "metadata": {
    "colab": {
     "base_uri": "https://localhost:8080/",
     "height": 659
    },
    "executionInfo": {
     "elapsed": 4,
     "status": "ok",
     "timestamp": 1681465102960,
     "user": {
      "displayName": "민환경",
      "userId": "09420419513115657626"
     },
     "user_tz": -540
    },
    "id": "dhmY9HqNG-Bo",
    "outputId": "a13b0555-8bc7-468c-93d9-04927b345199"
   },
   "outputs": [
    {
     "data": {
      "text/html": [
       "<div>\n",
       "<style scoped>\n",
       "    .dataframe tbody tr th:only-of-type {\n",
       "        vertical-align: middle;\n",
       "    }\n",
       "\n",
       "    .dataframe tbody tr th {\n",
       "        vertical-align: top;\n",
       "    }\n",
       "\n",
       "    .dataframe thead th {\n",
       "        text-align: right;\n",
       "    }\n",
       "</style>\n",
       "<table border=\"1\" class=\"dataframe\">\n",
       "  <thead>\n",
       "    <tr style=\"text-align: right;\">\n",
       "      <th></th>\n",
       "      <th>순번</th>\n",
       "      <th>생산라인코드</th>\n",
       "      <th>생산일자</th>\n",
       "      <th>작업장코드</th>\n",
       "      <th>충전실온도</th>\n",
       "      <th>실링온도</th>\n",
       "      <th>쿠킹온도</th>\n",
       "      <th>쿠킹스팀압력</th>\n",
       "      <th>실링압력</th>\n",
       "      <th>생산시간</th>\n",
       "      <th>중복대상</th>\n",
       "      <th>고유코드2</th>\n",
       "      <th>오류발생작업장명</th>\n",
       "      <th>Error_Message</th>\n",
       "      <th>발생시간</th>\n",
       "      <th>종료시간</th>\n",
       "      <th>오류조치시간_보정</th>\n",
       "      <th>비가동코드</th>\n",
       "      <th>오류발생여부</th>\n",
       "    </tr>\n",
       "  </thead>\n",
       "  <tbody>\n",
       "    <tr>\n",
       "      <th>9</th>\n",
       "      <td>10</td>\n",
       "      <td>D004</td>\n",
       "      <td>2011-01-03</td>\n",
       "      <td>W005</td>\n",
       "      <td>71.125831</td>\n",
       "      <td>93.425831</td>\n",
       "      <td>127.878281</td>\n",
       "      <td>22.968</td>\n",
       "      <td>201.430</td>\n",
       "      <td>NaN</td>\n",
       "      <td>False</td>\n",
       "      <td>10D0042011-01-03W005</td>\n",
       "      <td>충전실</td>\n",
       "      <td>위치조정</td>\n",
       "      <td>14:16</td>\n",
       "      <td>14:24</td>\n",
       "      <td>8.0</td>\n",
       "      <td>W0056B4</td>\n",
       "      <td>1</td>\n",
       "    </tr>\n",
       "    <tr>\n",
       "      <th>23</th>\n",
       "      <td>7</td>\n",
       "      <td>D011</td>\n",
       "      <td>2011-01-04</td>\n",
       "      <td>W005</td>\n",
       "      <td>71.587470</td>\n",
       "      <td>103.987470</td>\n",
       "      <td>138.736120</td>\n",
       "      <td>23.166</td>\n",
       "      <td>204.974</td>\n",
       "      <td>NaN</td>\n",
       "      <td>False</td>\n",
       "      <td>7D0112011-01-04W005</td>\n",
       "      <td>충전실</td>\n",
       "      <td>대기</td>\n",
       "      <td>18:54</td>\n",
       "      <td>19:03</td>\n",
       "      <td>9.0</td>\n",
       "      <td>W005711</td>\n",
       "      <td>1</td>\n",
       "    </tr>\n",
       "    <tr>\n",
       "      <th>43</th>\n",
       "      <td>2</td>\n",
       "      <td>C002</td>\n",
       "      <td>2011-01-05</td>\n",
       "      <td>W003</td>\n",
       "      <td>70.540995</td>\n",
       "      <td>102.440995</td>\n",
       "      <td>137.135195</td>\n",
       "      <td>23.129</td>\n",
       "      <td>204.249</td>\n",
       "      <td>NaN</td>\n",
       "      <td>False</td>\n",
       "      <td>2C0022011-01-05W003</td>\n",
       "      <td>쿠킹실</td>\n",
       "      <td>충전</td>\n",
       "      <td>9:51</td>\n",
       "      <td>9:58</td>\n",
       "      <td>7.0</td>\n",
       "      <td>W003452</td>\n",
       "      <td>1</td>\n",
       "    </tr>\n",
       "    <tr>\n",
       "      <th>55</th>\n",
       "      <td>13</td>\n",
       "      <td>P004</td>\n",
       "      <td>2011-01-05</td>\n",
       "      <td>W007</td>\n",
       "      <td>71.401189</td>\n",
       "      <td>111.901189</td>\n",
       "      <td>146.585739</td>\n",
       "      <td>23.123</td>\n",
       "      <td>200.068</td>\n",
       "      <td>NaN</td>\n",
       "      <td>False</td>\n",
       "      <td>13P0042011-01-05W007</td>\n",
       "      <td>포장실</td>\n",
       "      <td>구동부</td>\n",
       "      <td>18:20</td>\n",
       "      <td>20:44</td>\n",
       "      <td>144.0</td>\n",
       "      <td>W0076B2</td>\n",
       "      <td>1</td>\n",
       "    </tr>\n",
       "    <tr>\n",
       "      <th>123</th>\n",
       "      <td>5</td>\n",
       "      <td>C007</td>\n",
       "      <td>2011-01-10</td>\n",
       "      <td>W003</td>\n",
       "      <td>71.428486</td>\n",
       "      <td>125.128486</td>\n",
       "      <td>159.591086</td>\n",
       "      <td>22.975</td>\n",
       "      <td>198.316</td>\n",
       "      <td>NaN</td>\n",
       "      <td>False</td>\n",
       "      <td>5C0072011-01-10W003</td>\n",
       "      <td>쿠킹실</td>\n",
       "      <td>충전</td>\n",
       "      <td>9:55</td>\n",
       "      <td>10:05</td>\n",
       "      <td>10.0</td>\n",
       "      <td>W003452</td>\n",
       "      <td>1</td>\n",
       "    </tr>\n",
       "    <tr>\n",
       "      <th>...</th>\n",
       "      <td>...</td>\n",
       "      <td>...</td>\n",
       "      <td>...</td>\n",
       "      <td>...</td>\n",
       "      <td>...</td>\n",
       "      <td>...</td>\n",
       "      <td>...</td>\n",
       "      <td>...</td>\n",
       "      <td>...</td>\n",
       "      <td>...</td>\n",
       "      <td>...</td>\n",
       "      <td>...</td>\n",
       "      <td>...</td>\n",
       "      <td>...</td>\n",
       "      <td>...</td>\n",
       "      <td>...</td>\n",
       "      <td>...</td>\n",
       "      <td>...</td>\n",
       "      <td>...</td>\n",
       "    </tr>\n",
       "    <tr>\n",
       "      <th>24030</th>\n",
       "      <td>1</td>\n",
       "      <td>C045</td>\n",
       "      <td>2021-10-25</td>\n",
       "      <td>W003</td>\n",
       "      <td>69.827929</td>\n",
       "      <td>86.927929</td>\n",
       "      <td>121.388229</td>\n",
       "      <td>22.974</td>\n",
       "      <td>200.317</td>\n",
       "      <td>NaN</td>\n",
       "      <td>False</td>\n",
       "      <td>1C0452021-10-25W003</td>\n",
       "      <td>쿠킹실</td>\n",
       "      <td>ph 이상</td>\n",
       "      <td>8:58</td>\n",
       "      <td>9:04</td>\n",
       "      <td>6.0</td>\n",
       "      <td>W003446</td>\n",
       "      <td>1</td>\n",
       "    </tr>\n",
       "    <tr>\n",
       "      <th>24032</th>\n",
       "      <td>3</td>\n",
       "      <td>D084</td>\n",
       "      <td>2021-10-25</td>\n",
       "      <td>W005</td>\n",
       "      <td>71.671267</td>\n",
       "      <td>112.571266</td>\n",
       "      <td>147.339967</td>\n",
       "      <td>23.179</td>\n",
       "      <td>211.102</td>\n",
       "      <td>NaN</td>\n",
       "      <td>False</td>\n",
       "      <td>3D0842021-10-25W005</td>\n",
       "      <td>충전실</td>\n",
       "      <td>수리</td>\n",
       "      <td>9:46</td>\n",
       "      <td>11:49</td>\n",
       "      <td>123.0</td>\n",
       "      <td>W005713</td>\n",
       "      <td>1</td>\n",
       "    </tr>\n",
       "    <tr>\n",
       "      <th>24049</th>\n",
       "      <td>1</td>\n",
       "      <td>D005</td>\n",
       "      <td>2021-10-28</td>\n",
       "      <td>W005</td>\n",
       "      <td>71.764168</td>\n",
       "      <td>108.664168</td>\n",
       "      <td>142.862968</td>\n",
       "      <td>22.799</td>\n",
       "      <td>201.039</td>\n",
       "      <td>NaN</td>\n",
       "      <td>False</td>\n",
       "      <td>1D0052021-10-28W005</td>\n",
       "      <td>충전실</td>\n",
       "      <td>기타</td>\n",
       "      <td>10:50</td>\n",
       "      <td>11:06</td>\n",
       "      <td>16.0</td>\n",
       "      <td>W0058Z9</td>\n",
       "      <td>1</td>\n",
       "    </tr>\n",
       "    <tr>\n",
       "      <th>24056</th>\n",
       "      <td>7</td>\n",
       "      <td>D088</td>\n",
       "      <td>2021-10-28</td>\n",
       "      <td>W005</td>\n",
       "      <td>72.585609</td>\n",
       "      <td>93.885609</td>\n",
       "      <td>128.549109</td>\n",
       "      <td>23.109</td>\n",
       "      <td>204.160</td>\n",
       "      <td>NaN</td>\n",
       "      <td>False</td>\n",
       "      <td>7D0882021-10-28W005</td>\n",
       "      <td>충전실</td>\n",
       "      <td>품목 교체</td>\n",
       "      <td>8:57</td>\n",
       "      <td>9:33</td>\n",
       "      <td>36.0</td>\n",
       "      <td>W0054F1</td>\n",
       "      <td>1</td>\n",
       "    </tr>\n",
       "    <tr>\n",
       "      <th>24057</th>\n",
       "      <td>7</td>\n",
       "      <td>D087</td>\n",
       "      <td>2021-10-28</td>\n",
       "      <td>W005</td>\n",
       "      <td>70.610616</td>\n",
       "      <td>103.710616</td>\n",
       "      <td>138.257466</td>\n",
       "      <td>23.031</td>\n",
       "      <td>199.343</td>\n",
       "      <td>NaN</td>\n",
       "      <td>False</td>\n",
       "      <td>7D0872021-10-28W005</td>\n",
       "      <td>충전실</td>\n",
       "      <td>공정</td>\n",
       "      <td>14:15</td>\n",
       "      <td>14:35</td>\n",
       "      <td>20.0</td>\n",
       "      <td>W005722</td>\n",
       "      <td>1</td>\n",
       "    </tr>\n",
       "  </tbody>\n",
       "</table>\n",
       "<p>1074 rows × 19 columns</p>\n",
       "</div>"
      ],
      "text/plain": [
       "       순번 생산라인코드        생산일자 작업장코드      충전실온도        실링온도        쿠킹온도  쿠킹스팀압력  \\\n",
       "9      10   D004  2011-01-03  W005  71.125831   93.425831  127.878281  22.968   \n",
       "23      7   D011  2011-01-04  W005  71.587470  103.987470  138.736120  23.166   \n",
       "43      2   C002  2011-01-05  W003  70.540995  102.440995  137.135195  23.129   \n",
       "55     13   P004  2011-01-05  W007  71.401189  111.901189  146.585739  23.123   \n",
       "123     5   C007  2011-01-10  W003  71.428486  125.128486  159.591086  22.975   \n",
       "...    ..    ...         ...   ...        ...         ...         ...     ...   \n",
       "24030   1   C045  2021-10-25  W003  69.827929   86.927929  121.388229  22.974   \n",
       "24032   3   D084  2021-10-25  W005  71.671267  112.571266  147.339967  23.179   \n",
       "24049   1   D005  2021-10-28  W005  71.764168  108.664168  142.862968  22.799   \n",
       "24056   7   D088  2021-10-28  W005  72.585609   93.885609  128.549109  23.109   \n",
       "24057   7   D087  2021-10-28  W005  70.610616  103.710616  138.257466  23.031   \n",
       "\n",
       "          실링압력  생산시간   중복대상                 고유코드2 오류발생작업장명 Error_Message  \\\n",
       "9      201.430   NaN  False  10D0042011-01-03W005      충전실          위치조정   \n",
       "23     204.974   NaN  False   7D0112011-01-04W005      충전실            대기   \n",
       "43     204.249   NaN  False   2C0022011-01-05W003      쿠킹실            충전   \n",
       "55     200.068   NaN  False  13P0042011-01-05W007      포장실           구동부   \n",
       "123    198.316   NaN  False   5C0072011-01-10W003      쿠킹실            충전   \n",
       "...        ...   ...    ...                   ...      ...           ...   \n",
       "24030  200.317   NaN  False   1C0452021-10-25W003      쿠킹실         ph 이상   \n",
       "24032  211.102   NaN  False   3D0842021-10-25W005      충전실            수리   \n",
       "24049  201.039   NaN  False   1D0052021-10-28W005      충전실            기타   \n",
       "24056  204.160   NaN  False   7D0882021-10-28W005      충전실         품목 교체   \n",
       "24057  199.343   NaN  False   7D0872021-10-28W005      충전실            공정   \n",
       "\n",
       "        발생시간   종료시간  오류조치시간_보정    비가동코드  오류발생여부  \n",
       "9      14:16  14:24        8.0  W0056B4       1  \n",
       "23     18:54  19:03        9.0  W005711       1  \n",
       "43      9:51   9:58        7.0  W003452       1  \n",
       "55     18:20  20:44      144.0  W0076B2       1  \n",
       "123     9:55  10:05       10.0  W003452       1  \n",
       "...      ...    ...        ...      ...     ...  \n",
       "24030   8:58   9:04        6.0  W003446       1  \n",
       "24032   9:46  11:49      123.0  W005713       1  \n",
       "24049  10:50  11:06       16.0  W0058Z9       1  \n",
       "24056   8:57   9:33       36.0  W0054F1       1  \n",
       "24057  14:15  14:35       20.0  W005722       1  \n",
       "\n",
       "[1074 rows x 19 columns]"
      ]
     },
     "execution_count": 108,
     "metadata": {},
     "output_type": "execute_result"
    }
   ],
   "source": [
    "merge1[merge1['오류발생여부'] == 1]"
   ]
  },
  {
   "cell_type": "code",
   "execution_count": 109,
   "metadata": {
    "executionInfo": {
     "elapsed": 547,
     "status": "ok",
     "timestamp": 1681465168612,
     "user": {
      "displayName": "민환경",
      "userId": "09420419513115657626"
     },
     "user_tz": -540
    },
    "id": "9mR7R4L8w-yK"
   },
   "outputs": [],
   "source": [
    "# cooking_merge = pd.merge(left=cooking_data, right=error_message, how='left', on=['순번','생산라인코드','생산일자'], sort=False)\n",
    "# cooking_merge['오류발생여부'] = cooking_merge['Error_Message'].apply(lambda x: 1 if not pd.isna(x) else 0)\n",
    "# cooking_merge['오류발생여부'].sum()\n",
    "\n",
    "merge1.drop('중복대상', axis=1, inplace=True)"
   ]
  },
  {
   "cell_type": "code",
   "execution_count": 110,
   "metadata": {
    "colab": {
     "base_uri": "https://localhost:8080/",
     "height": 659
    },
    "executionInfo": {
     "elapsed": 654,
     "status": "ok",
     "timestamp": 1681465293075,
     "user": {
      "displayName": "민환경",
      "userId": "09420419513115657626"
     },
     "user_tz": -540
    },
    "id": "wXR2HR16IlxZ",
    "outputId": "0c7a96b2-0408-4733-9b76-e4a8e9af432c"
   },
   "outputs": [
    {
     "data": {
      "text/html": [
       "<div>\n",
       "<style scoped>\n",
       "    .dataframe tbody tr th:only-of-type {\n",
       "        vertical-align: middle;\n",
       "    }\n",
       "\n",
       "    .dataframe tbody tr th {\n",
       "        vertical-align: top;\n",
       "    }\n",
       "\n",
       "    .dataframe thead th {\n",
       "        text-align: right;\n",
       "    }\n",
       "</style>\n",
       "<table border=\"1\" class=\"dataframe\">\n",
       "  <thead>\n",
       "    <tr style=\"text-align: right;\">\n",
       "      <th></th>\n",
       "      <th>순번</th>\n",
       "      <th>생산라인코드</th>\n",
       "      <th>생산일자</th>\n",
       "      <th>작업장코드</th>\n",
       "      <th>충전실온도</th>\n",
       "      <th>실링온도</th>\n",
       "      <th>쿠킹온도</th>\n",
       "      <th>쿠킹스팀압력</th>\n",
       "      <th>실링압력</th>\n",
       "      <th>생산시간</th>\n",
       "      <th>고유코드2</th>\n",
       "      <th>오류발생작업장명</th>\n",
       "      <th>Error_Message</th>\n",
       "      <th>발생시간</th>\n",
       "      <th>종료시간</th>\n",
       "      <th>오류조치시간_보정</th>\n",
       "      <th>비가동코드</th>\n",
       "      <th>오류발생여부</th>\n",
       "    </tr>\n",
       "  </thead>\n",
       "  <tbody>\n",
       "    <tr>\n",
       "      <th>9</th>\n",
       "      <td>10</td>\n",
       "      <td>D004</td>\n",
       "      <td>2011-01-03</td>\n",
       "      <td>W005</td>\n",
       "      <td>71.125831</td>\n",
       "      <td>93.425831</td>\n",
       "      <td>127.878281</td>\n",
       "      <td>22.968</td>\n",
       "      <td>201.430</td>\n",
       "      <td>NaN</td>\n",
       "      <td>10D0042011-01-03W005</td>\n",
       "      <td>충전실</td>\n",
       "      <td>위치조정</td>\n",
       "      <td>14:16</td>\n",
       "      <td>14:24</td>\n",
       "      <td>8.0</td>\n",
       "      <td>W0056B4</td>\n",
       "      <td>1</td>\n",
       "    </tr>\n",
       "    <tr>\n",
       "      <th>23</th>\n",
       "      <td>7</td>\n",
       "      <td>D011</td>\n",
       "      <td>2011-01-04</td>\n",
       "      <td>W005</td>\n",
       "      <td>71.587470</td>\n",
       "      <td>103.987470</td>\n",
       "      <td>138.736120</td>\n",
       "      <td>23.166</td>\n",
       "      <td>204.974</td>\n",
       "      <td>NaN</td>\n",
       "      <td>7D0112011-01-04W005</td>\n",
       "      <td>충전실</td>\n",
       "      <td>대기</td>\n",
       "      <td>18:54</td>\n",
       "      <td>19:03</td>\n",
       "      <td>9.0</td>\n",
       "      <td>W005711</td>\n",
       "      <td>1</td>\n",
       "    </tr>\n",
       "    <tr>\n",
       "      <th>43</th>\n",
       "      <td>2</td>\n",
       "      <td>C002</td>\n",
       "      <td>2011-01-05</td>\n",
       "      <td>W003</td>\n",
       "      <td>70.540995</td>\n",
       "      <td>102.440995</td>\n",
       "      <td>137.135195</td>\n",
       "      <td>23.129</td>\n",
       "      <td>204.249</td>\n",
       "      <td>NaN</td>\n",
       "      <td>2C0022011-01-05W003</td>\n",
       "      <td>쿠킹실</td>\n",
       "      <td>충전</td>\n",
       "      <td>9:51</td>\n",
       "      <td>9:58</td>\n",
       "      <td>7.0</td>\n",
       "      <td>W003452</td>\n",
       "      <td>1</td>\n",
       "    </tr>\n",
       "    <tr>\n",
       "      <th>55</th>\n",
       "      <td>13</td>\n",
       "      <td>P004</td>\n",
       "      <td>2011-01-05</td>\n",
       "      <td>W007</td>\n",
       "      <td>71.401189</td>\n",
       "      <td>111.901189</td>\n",
       "      <td>146.585739</td>\n",
       "      <td>23.123</td>\n",
       "      <td>200.068</td>\n",
       "      <td>NaN</td>\n",
       "      <td>13P0042011-01-05W007</td>\n",
       "      <td>포장실</td>\n",
       "      <td>구동부</td>\n",
       "      <td>18:20</td>\n",
       "      <td>20:44</td>\n",
       "      <td>144.0</td>\n",
       "      <td>W0076B2</td>\n",
       "      <td>1</td>\n",
       "    </tr>\n",
       "    <tr>\n",
       "      <th>123</th>\n",
       "      <td>5</td>\n",
       "      <td>C007</td>\n",
       "      <td>2011-01-10</td>\n",
       "      <td>W003</td>\n",
       "      <td>71.428486</td>\n",
       "      <td>125.128486</td>\n",
       "      <td>159.591086</td>\n",
       "      <td>22.975</td>\n",
       "      <td>198.316</td>\n",
       "      <td>NaN</td>\n",
       "      <td>5C0072011-01-10W003</td>\n",
       "      <td>쿠킹실</td>\n",
       "      <td>충전</td>\n",
       "      <td>9:55</td>\n",
       "      <td>10:05</td>\n",
       "      <td>10.0</td>\n",
       "      <td>W003452</td>\n",
       "      <td>1</td>\n",
       "    </tr>\n",
       "    <tr>\n",
       "      <th>...</th>\n",
       "      <td>...</td>\n",
       "      <td>...</td>\n",
       "      <td>...</td>\n",
       "      <td>...</td>\n",
       "      <td>...</td>\n",
       "      <td>...</td>\n",
       "      <td>...</td>\n",
       "      <td>...</td>\n",
       "      <td>...</td>\n",
       "      <td>...</td>\n",
       "      <td>...</td>\n",
       "      <td>...</td>\n",
       "      <td>...</td>\n",
       "      <td>...</td>\n",
       "      <td>...</td>\n",
       "      <td>...</td>\n",
       "      <td>...</td>\n",
       "      <td>...</td>\n",
       "    </tr>\n",
       "    <tr>\n",
       "      <th>24030</th>\n",
       "      <td>1</td>\n",
       "      <td>C045</td>\n",
       "      <td>2021-10-25</td>\n",
       "      <td>W003</td>\n",
       "      <td>69.827929</td>\n",
       "      <td>86.927929</td>\n",
       "      <td>121.388229</td>\n",
       "      <td>22.974</td>\n",
       "      <td>200.317</td>\n",
       "      <td>NaN</td>\n",
       "      <td>1C0452021-10-25W003</td>\n",
       "      <td>쿠킹실</td>\n",
       "      <td>ph 이상</td>\n",
       "      <td>8:58</td>\n",
       "      <td>9:04</td>\n",
       "      <td>6.0</td>\n",
       "      <td>W003446</td>\n",
       "      <td>1</td>\n",
       "    </tr>\n",
       "    <tr>\n",
       "      <th>24032</th>\n",
       "      <td>3</td>\n",
       "      <td>D084</td>\n",
       "      <td>2021-10-25</td>\n",
       "      <td>W005</td>\n",
       "      <td>71.671267</td>\n",
       "      <td>112.571266</td>\n",
       "      <td>147.339967</td>\n",
       "      <td>23.179</td>\n",
       "      <td>211.102</td>\n",
       "      <td>NaN</td>\n",
       "      <td>3D0842021-10-25W005</td>\n",
       "      <td>충전실</td>\n",
       "      <td>수리</td>\n",
       "      <td>9:46</td>\n",
       "      <td>11:49</td>\n",
       "      <td>123.0</td>\n",
       "      <td>W005713</td>\n",
       "      <td>1</td>\n",
       "    </tr>\n",
       "    <tr>\n",
       "      <th>24049</th>\n",
       "      <td>1</td>\n",
       "      <td>D005</td>\n",
       "      <td>2021-10-28</td>\n",
       "      <td>W005</td>\n",
       "      <td>71.764168</td>\n",
       "      <td>108.664168</td>\n",
       "      <td>142.862968</td>\n",
       "      <td>22.799</td>\n",
       "      <td>201.039</td>\n",
       "      <td>NaN</td>\n",
       "      <td>1D0052021-10-28W005</td>\n",
       "      <td>충전실</td>\n",
       "      <td>기타</td>\n",
       "      <td>10:50</td>\n",
       "      <td>11:06</td>\n",
       "      <td>16.0</td>\n",
       "      <td>W0058Z9</td>\n",
       "      <td>1</td>\n",
       "    </tr>\n",
       "    <tr>\n",
       "      <th>24056</th>\n",
       "      <td>7</td>\n",
       "      <td>D088</td>\n",
       "      <td>2021-10-28</td>\n",
       "      <td>W005</td>\n",
       "      <td>72.585609</td>\n",
       "      <td>93.885609</td>\n",
       "      <td>128.549109</td>\n",
       "      <td>23.109</td>\n",
       "      <td>204.160</td>\n",
       "      <td>NaN</td>\n",
       "      <td>7D0882021-10-28W005</td>\n",
       "      <td>충전실</td>\n",
       "      <td>품목 교체</td>\n",
       "      <td>8:57</td>\n",
       "      <td>9:33</td>\n",
       "      <td>36.0</td>\n",
       "      <td>W0054F1</td>\n",
       "      <td>1</td>\n",
       "    </tr>\n",
       "    <tr>\n",
       "      <th>24057</th>\n",
       "      <td>7</td>\n",
       "      <td>D087</td>\n",
       "      <td>2021-10-28</td>\n",
       "      <td>W005</td>\n",
       "      <td>70.610616</td>\n",
       "      <td>103.710616</td>\n",
       "      <td>138.257466</td>\n",
       "      <td>23.031</td>\n",
       "      <td>199.343</td>\n",
       "      <td>NaN</td>\n",
       "      <td>7D0872021-10-28W005</td>\n",
       "      <td>충전실</td>\n",
       "      <td>공정</td>\n",
       "      <td>14:15</td>\n",
       "      <td>14:35</td>\n",
       "      <td>20.0</td>\n",
       "      <td>W005722</td>\n",
       "      <td>1</td>\n",
       "    </tr>\n",
       "  </tbody>\n",
       "</table>\n",
       "<p>1074 rows × 18 columns</p>\n",
       "</div>"
      ],
      "text/plain": [
       "       순번 생산라인코드        생산일자 작업장코드      충전실온도        실링온도        쿠킹온도  쿠킹스팀압력  \\\n",
       "9      10   D004  2011-01-03  W005  71.125831   93.425831  127.878281  22.968   \n",
       "23      7   D011  2011-01-04  W005  71.587470  103.987470  138.736120  23.166   \n",
       "43      2   C002  2011-01-05  W003  70.540995  102.440995  137.135195  23.129   \n",
       "55     13   P004  2011-01-05  W007  71.401189  111.901189  146.585739  23.123   \n",
       "123     5   C007  2011-01-10  W003  71.428486  125.128486  159.591086  22.975   \n",
       "...    ..    ...         ...   ...        ...         ...         ...     ...   \n",
       "24030   1   C045  2021-10-25  W003  69.827929   86.927929  121.388229  22.974   \n",
       "24032   3   D084  2021-10-25  W005  71.671267  112.571266  147.339967  23.179   \n",
       "24049   1   D005  2021-10-28  W005  71.764168  108.664168  142.862968  22.799   \n",
       "24056   7   D088  2021-10-28  W005  72.585609   93.885609  128.549109  23.109   \n",
       "24057   7   D087  2021-10-28  W005  70.610616  103.710616  138.257466  23.031   \n",
       "\n",
       "          실링압력  생산시간                 고유코드2 오류발생작업장명 Error_Message   발생시간  \\\n",
       "9      201.430   NaN  10D0042011-01-03W005      충전실          위치조정  14:16   \n",
       "23     204.974   NaN   7D0112011-01-04W005      충전실            대기  18:54   \n",
       "43     204.249   NaN   2C0022011-01-05W003      쿠킹실            충전   9:51   \n",
       "55     200.068   NaN  13P0042011-01-05W007      포장실           구동부  18:20   \n",
       "123    198.316   NaN   5C0072011-01-10W003      쿠킹실            충전   9:55   \n",
       "...        ...   ...                   ...      ...           ...    ...   \n",
       "24030  200.317   NaN   1C0452021-10-25W003      쿠킹실         ph 이상   8:58   \n",
       "24032  211.102   NaN   3D0842021-10-25W005      충전실            수리   9:46   \n",
       "24049  201.039   NaN   1D0052021-10-28W005      충전실            기타  10:50   \n",
       "24056  204.160   NaN   7D0882021-10-28W005      충전실         품목 교체   8:57   \n",
       "24057  199.343   NaN   7D0872021-10-28W005      충전실            공정  14:15   \n",
       "\n",
       "        종료시간  오류조치시간_보정    비가동코드  오류발생여부  \n",
       "9      14:24        8.0  W0056B4       1  \n",
       "23     19:03        9.0  W005711       1  \n",
       "43      9:58        7.0  W003452       1  \n",
       "55     20:44      144.0  W0076B2       1  \n",
       "123    10:05       10.0  W003452       1  \n",
       "...      ...        ...      ...     ...  \n",
       "24030   9:04        6.0  W003446       1  \n",
       "24032  11:49      123.0  W005713       1  \n",
       "24049  11:06       16.0  W0058Z9       1  \n",
       "24056   9:33       36.0  W0054F1       1  \n",
       "24057  14:35       20.0  W005722       1  \n",
       "\n",
       "[1074 rows x 18 columns]"
      ]
     },
     "execution_count": 110,
     "metadata": {},
     "output_type": "execute_result"
    }
   ],
   "source": [
    "merge1[merge1['생산시간'].isnull()]"
   ]
  },
  {
   "cell_type": "code",
   "execution_count": 111,
   "metadata": {
    "colab": {
     "base_uri": "https://localhost:8080/",
     "height": 659
    },
    "executionInfo": {
     "elapsed": 513,
     "status": "ok",
     "timestamp": 1681465295803,
     "user": {
      "displayName": "민환경",
      "userId": "09420419513115657626"
     },
     "user_tz": -540
    },
    "id": "j0Rh0iOaJDNh",
    "outputId": "997fe523-5469-401c-ecf7-a60db03585fd"
   },
   "outputs": [
    {
     "data": {
      "text/html": [
       "<div>\n",
       "<style scoped>\n",
       "    .dataframe tbody tr th:only-of-type {\n",
       "        vertical-align: middle;\n",
       "    }\n",
       "\n",
       "    .dataframe tbody tr th {\n",
       "        vertical-align: top;\n",
       "    }\n",
       "\n",
       "    .dataframe thead th {\n",
       "        text-align: right;\n",
       "    }\n",
       "</style>\n",
       "<table border=\"1\" class=\"dataframe\">\n",
       "  <thead>\n",
       "    <tr style=\"text-align: right;\">\n",
       "      <th></th>\n",
       "      <th>순번</th>\n",
       "      <th>생산라인코드</th>\n",
       "      <th>생산일자</th>\n",
       "      <th>작업장코드</th>\n",
       "      <th>충전실온도</th>\n",
       "      <th>실링온도</th>\n",
       "      <th>쿠킹온도</th>\n",
       "      <th>쿠킹스팀압력</th>\n",
       "      <th>실링압력</th>\n",
       "      <th>생산시간</th>\n",
       "      <th>고유코드2</th>\n",
       "      <th>오류발생작업장명</th>\n",
       "      <th>Error_Message</th>\n",
       "      <th>발생시간</th>\n",
       "      <th>종료시간</th>\n",
       "      <th>오류조치시간_보정</th>\n",
       "      <th>비가동코드</th>\n",
       "      <th>오류발생여부</th>\n",
       "    </tr>\n",
       "  </thead>\n",
       "  <tbody>\n",
       "    <tr>\n",
       "      <th>0</th>\n",
       "      <td>1</td>\n",
       "      <td>C002</td>\n",
       "      <td>2011-01-03</td>\n",
       "      <td>W003</td>\n",
       "      <td>70.386480</td>\n",
       "      <td>102.086480</td>\n",
       "      <td>136.926080</td>\n",
       "      <td>23.226</td>\n",
       "      <td>212.043</td>\n",
       "      <td>70.83</td>\n",
       "      <td>1C0022011-01-03W003</td>\n",
       "      <td>NaN</td>\n",
       "      <td>NaN</td>\n",
       "      <td>NaN</td>\n",
       "      <td>NaN</td>\n",
       "      <td>NaN</td>\n",
       "      <td>NaN</td>\n",
       "      <td>0</td>\n",
       "    </tr>\n",
       "    <tr>\n",
       "      <th>1</th>\n",
       "      <td>2</td>\n",
       "      <td>C007</td>\n",
       "      <td>2011-01-03</td>\n",
       "      <td>W003</td>\n",
       "      <td>72.179318</td>\n",
       "      <td>114.079318</td>\n",
       "      <td>149.928068</td>\n",
       "      <td>23.899</td>\n",
       "      <td>211.625</td>\n",
       "      <td>73.40</td>\n",
       "      <td>2C0072011-01-03W003</td>\n",
       "      <td>NaN</td>\n",
       "      <td>NaN</td>\n",
       "      <td>NaN</td>\n",
       "      <td>NaN</td>\n",
       "      <td>NaN</td>\n",
       "      <td>NaN</td>\n",
       "      <td>0</td>\n",
       "    </tr>\n",
       "    <tr>\n",
       "      <th>2</th>\n",
       "      <td>3</td>\n",
       "      <td>C001</td>\n",
       "      <td>2011-01-03</td>\n",
       "      <td>W003</td>\n",
       "      <td>71.669853</td>\n",
       "      <td>96.769853</td>\n",
       "      <td>131.742003</td>\n",
       "      <td>23.315</td>\n",
       "      <td>201.844</td>\n",
       "      <td>70.37</td>\n",
       "      <td>3C0012011-01-03W003</td>\n",
       "      <td>NaN</td>\n",
       "      <td>NaN</td>\n",
       "      <td>NaN</td>\n",
       "      <td>NaN</td>\n",
       "      <td>NaN</td>\n",
       "      <td>NaN</td>\n",
       "      <td>0</td>\n",
       "    </tr>\n",
       "    <tr>\n",
       "      <th>3</th>\n",
       "      <td>4</td>\n",
       "      <td>D004</td>\n",
       "      <td>2011-01-03</td>\n",
       "      <td>W005</td>\n",
       "      <td>72.674475</td>\n",
       "      <td>108.574475</td>\n",
       "      <td>143.510725</td>\n",
       "      <td>23.291</td>\n",
       "      <td>212.419</td>\n",
       "      <td>71.92</td>\n",
       "      <td>4D0042011-01-03W005</td>\n",
       "      <td>NaN</td>\n",
       "      <td>NaN</td>\n",
       "      <td>NaN</td>\n",
       "      <td>NaN</td>\n",
       "      <td>NaN</td>\n",
       "      <td>NaN</td>\n",
       "      <td>0</td>\n",
       "    </tr>\n",
       "    <tr>\n",
       "      <th>4</th>\n",
       "      <td>5</td>\n",
       "      <td>D004</td>\n",
       "      <td>2011-01-03</td>\n",
       "      <td>W005</td>\n",
       "      <td>71.725982</td>\n",
       "      <td>86.825982</td>\n",
       "      <td>122.311132</td>\n",
       "      <td>23.657</td>\n",
       "      <td>209.525</td>\n",
       "      <td>72.75</td>\n",
       "      <td>5D0042011-01-03W005</td>\n",
       "      <td>NaN</td>\n",
       "      <td>NaN</td>\n",
       "      <td>NaN</td>\n",
       "      <td>NaN</td>\n",
       "      <td>NaN</td>\n",
       "      <td>NaN</td>\n",
       "      <td>0</td>\n",
       "    </tr>\n",
       "    <tr>\n",
       "      <th>...</th>\n",
       "      <td>...</td>\n",
       "      <td>...</td>\n",
       "      <td>...</td>\n",
       "      <td>...</td>\n",
       "      <td>...</td>\n",
       "      <td>...</td>\n",
       "      <td>...</td>\n",
       "      <td>...</td>\n",
       "      <td>...</td>\n",
       "      <td>...</td>\n",
       "      <td>...</td>\n",
       "      <td>...</td>\n",
       "      <td>...</td>\n",
       "      <td>...</td>\n",
       "      <td>...</td>\n",
       "      <td>...</td>\n",
       "      <td>...</td>\n",
       "      <td>...</td>\n",
       "    </tr>\n",
       "    <tr>\n",
       "      <th>24064</th>\n",
       "      <td>4</td>\n",
       "      <td>D088</td>\n",
       "      <td>2021-10-29</td>\n",
       "      <td>W005</td>\n",
       "      <td>70.664452</td>\n",
       "      <td>65.764452</td>\n",
       "      <td>100.773102</td>\n",
       "      <td>23.339</td>\n",
       "      <td>209.513</td>\n",
       "      <td>72.12</td>\n",
       "      <td>4D0882021-10-29W005</td>\n",
       "      <td>NaN</td>\n",
       "      <td>NaN</td>\n",
       "      <td>NaN</td>\n",
       "      <td>NaN</td>\n",
       "      <td>NaN</td>\n",
       "      <td>NaN</td>\n",
       "      <td>0</td>\n",
       "    </tr>\n",
       "    <tr>\n",
       "      <th>24065</th>\n",
       "      <td>5</td>\n",
       "      <td>P003</td>\n",
       "      <td>2021-10-29</td>\n",
       "      <td>W007</td>\n",
       "      <td>71.015225</td>\n",
       "      <td>106.115225</td>\n",
       "      <td>141.148725</td>\n",
       "      <td>23.356</td>\n",
       "      <td>205.288</td>\n",
       "      <td>76.03</td>\n",
       "      <td>5P0032021-10-29W007</td>\n",
       "      <td>NaN</td>\n",
       "      <td>NaN</td>\n",
       "      <td>NaN</td>\n",
       "      <td>NaN</td>\n",
       "      <td>NaN</td>\n",
       "      <td>NaN</td>\n",
       "      <td>0</td>\n",
       "    </tr>\n",
       "    <tr>\n",
       "      <th>24066</th>\n",
       "      <td>8</td>\n",
       "      <td>D087</td>\n",
       "      <td>2021-10-29</td>\n",
       "      <td>W005</td>\n",
       "      <td>71.727125</td>\n",
       "      <td>98.127125</td>\n",
       "      <td>133.960875</td>\n",
       "      <td>23.889</td>\n",
       "      <td>209.983</td>\n",
       "      <td>77.27</td>\n",
       "      <td>8D0872021-10-29W005</td>\n",
       "      <td>NaN</td>\n",
       "      <td>NaN</td>\n",
       "      <td>NaN</td>\n",
       "      <td>NaN</td>\n",
       "      <td>NaN</td>\n",
       "      <td>NaN</td>\n",
       "      <td>0</td>\n",
       "    </tr>\n",
       "    <tr>\n",
       "      <th>24067</th>\n",
       "      <td>9</td>\n",
       "      <td>D088</td>\n",
       "      <td>2021-10-29</td>\n",
       "      <td>W005</td>\n",
       "      <td>69.732381</td>\n",
       "      <td>98.432381</td>\n",
       "      <td>133.916831</td>\n",
       "      <td>23.656</td>\n",
       "      <td>213.413</td>\n",
       "      <td>76.63</td>\n",
       "      <td>9D0882021-10-29W005</td>\n",
       "      <td>NaN</td>\n",
       "      <td>NaN</td>\n",
       "      <td>NaN</td>\n",
       "      <td>NaN</td>\n",
       "      <td>NaN</td>\n",
       "      <td>NaN</td>\n",
       "      <td>0</td>\n",
       "    </tr>\n",
       "    <tr>\n",
       "      <th>24068</th>\n",
       "      <td>10</td>\n",
       "      <td>D088</td>\n",
       "      <td>2021-10-29</td>\n",
       "      <td>W005</td>\n",
       "      <td>71.459932</td>\n",
       "      <td>107.559932</td>\n",
       "      <td>143.598182</td>\n",
       "      <td>24.026</td>\n",
       "      <td>215.243</td>\n",
       "      <td>81.00</td>\n",
       "      <td>10D0882021-10-29W005</td>\n",
       "      <td>NaN</td>\n",
       "      <td>NaN</td>\n",
       "      <td>NaN</td>\n",
       "      <td>NaN</td>\n",
       "      <td>NaN</td>\n",
       "      <td>NaN</td>\n",
       "      <td>0</td>\n",
       "    </tr>\n",
       "  </tbody>\n",
       "</table>\n",
       "<p>24069 rows × 18 columns</p>\n",
       "</div>"
      ],
      "text/plain": [
       "       순번 생산라인코드        생산일자 작업장코드      충전실온도        실링온도        쿠킹온도  쿠킹스팀압력  \\\n",
       "0       1   C002  2011-01-03  W003  70.386480  102.086480  136.926080  23.226   \n",
       "1       2   C007  2011-01-03  W003  72.179318  114.079318  149.928068  23.899   \n",
       "2       3   C001  2011-01-03  W003  71.669853   96.769853  131.742003  23.315   \n",
       "3       4   D004  2011-01-03  W005  72.674475  108.574475  143.510725  23.291   \n",
       "4       5   D004  2011-01-03  W005  71.725982   86.825982  122.311132  23.657   \n",
       "...    ..    ...         ...   ...        ...         ...         ...     ...   \n",
       "24064   4   D088  2021-10-29  W005  70.664452   65.764452  100.773102  23.339   \n",
       "24065   5   P003  2021-10-29  W007  71.015225  106.115225  141.148725  23.356   \n",
       "24066   8   D087  2021-10-29  W005  71.727125   98.127125  133.960875  23.889   \n",
       "24067   9   D088  2021-10-29  W005  69.732381   98.432381  133.916831  23.656   \n",
       "24068  10   D088  2021-10-29  W005  71.459932  107.559932  143.598182  24.026   \n",
       "\n",
       "          실링압력   생산시간                 고유코드2 오류발생작업장명 Error_Message 발생시간 종료시간  \\\n",
       "0      212.043  70.83   1C0022011-01-03W003      NaN           NaN  NaN  NaN   \n",
       "1      211.625  73.40   2C0072011-01-03W003      NaN           NaN  NaN  NaN   \n",
       "2      201.844  70.37   3C0012011-01-03W003      NaN           NaN  NaN  NaN   \n",
       "3      212.419  71.92   4D0042011-01-03W005      NaN           NaN  NaN  NaN   \n",
       "4      209.525  72.75   5D0042011-01-03W005      NaN           NaN  NaN  NaN   \n",
       "...        ...    ...                   ...      ...           ...  ...  ...   \n",
       "24064  209.513  72.12   4D0882021-10-29W005      NaN           NaN  NaN  NaN   \n",
       "24065  205.288  76.03   5P0032021-10-29W007      NaN           NaN  NaN  NaN   \n",
       "24066  209.983  77.27   8D0872021-10-29W005      NaN           NaN  NaN  NaN   \n",
       "24067  213.413  76.63   9D0882021-10-29W005      NaN           NaN  NaN  NaN   \n",
       "24068  215.243  81.00  10D0882021-10-29W005      NaN           NaN  NaN  NaN   \n",
       "\n",
       "       오류조치시간_보정 비가동코드  오류발생여부  \n",
       "0            NaN   NaN       0  \n",
       "1            NaN   NaN       0  \n",
       "2            NaN   NaN       0  \n",
       "3            NaN   NaN       0  \n",
       "4            NaN   NaN       0  \n",
       "...          ...   ...     ...  \n",
       "24064        NaN   NaN       0  \n",
       "24065        NaN   NaN       0  \n",
       "24066        NaN   NaN       0  \n",
       "24067        NaN   NaN       0  \n",
       "24068        NaN   NaN       0  \n",
       "\n",
       "[24069 rows x 18 columns]"
      ]
     },
     "execution_count": 111,
     "metadata": {},
     "output_type": "execute_result"
    }
   ],
   "source": [
    "merge1"
   ]
  },
  {
   "cell_type": "code",
   "execution_count": 112,
   "metadata": {},
   "outputs": [
    {
     "data": {
      "text/plain": [
       "1074"
      ]
     },
     "execution_count": 112,
     "metadata": {},
     "output_type": "execute_result"
    }
   ],
   "source": [
    "merge1['오류발생여부'].sum()"
   ]
  },
  {
   "cell_type": "code",
   "execution_count": 113,
   "metadata": {},
   "outputs": [],
   "source": [
    "cooking_process = merge1.copy()"
   ]
  },
  {
   "cell_type": "code",
   "execution_count": 114,
   "metadata": {},
   "outputs": [
    {
     "data": {
      "application/vnd.plotly.v1+json": {
       "config": {
        "plotlyServerURL": "https://plot.ly"
       },
       "data": [
        {
         "hovertemplate": "생산년도=%{x}<br>작업장코드=%{y}<extra></extra>",
         "legendgroup": "",
         "line": {
          "color": "#636efa",
          "dash": "solid"
         },
         "marker": {
          "symbol": "circle"
         },
         "mode": "lines",
         "name": "",
         "orientation": "v",
         "showlegend": false,
         "type": "scatter",
         "x": [
          2011,
          2012,
          2013,
          2014,
          2015,
          2016,
          2017,
          2018,
          2019,
          2020,
          2021
         ],
         "xaxis": "x",
         "y": [
          3959,
          1521,
          969,
          470,
          357,
          687,
          5386,
          4201,
          3053,
          2294,
          1172
         ],
         "yaxis": "y"
        }
       ],
       "layout": {
        "legend": {
         "tracegroupgap": 0
        },
        "template": {
         "data": {
          "bar": [
           {
            "error_x": {
             "color": "#2a3f5f"
            },
            "error_y": {
             "color": "#2a3f5f"
            },
            "marker": {
             "line": {
              "color": "#E5ECF6",
              "width": 0.5
             },
             "pattern": {
              "fillmode": "overlay",
              "size": 10,
              "solidity": 0.2
             }
            },
            "type": "bar"
           }
          ],
          "barpolar": [
           {
            "marker": {
             "line": {
              "color": "#E5ECF6",
              "width": 0.5
             },
             "pattern": {
              "fillmode": "overlay",
              "size": 10,
              "solidity": 0.2
             }
            },
            "type": "barpolar"
           }
          ],
          "carpet": [
           {
            "aaxis": {
             "endlinecolor": "#2a3f5f",
             "gridcolor": "white",
             "linecolor": "white",
             "minorgridcolor": "white",
             "startlinecolor": "#2a3f5f"
            },
            "baxis": {
             "endlinecolor": "#2a3f5f",
             "gridcolor": "white",
             "linecolor": "white",
             "minorgridcolor": "white",
             "startlinecolor": "#2a3f5f"
            },
            "type": "carpet"
           }
          ],
          "choropleth": [
           {
            "colorbar": {
             "outlinewidth": 0,
             "ticks": ""
            },
            "type": "choropleth"
           }
          ],
          "contour": [
           {
            "colorbar": {
             "outlinewidth": 0,
             "ticks": ""
            },
            "colorscale": [
             [
              0,
              "#0d0887"
             ],
             [
              0.1111111111111111,
              "#46039f"
             ],
             [
              0.2222222222222222,
              "#7201a8"
             ],
             [
              0.3333333333333333,
              "#9c179e"
             ],
             [
              0.4444444444444444,
              "#bd3786"
             ],
             [
              0.5555555555555556,
              "#d8576b"
             ],
             [
              0.6666666666666666,
              "#ed7953"
             ],
             [
              0.7777777777777778,
              "#fb9f3a"
             ],
             [
              0.8888888888888888,
              "#fdca26"
             ],
             [
              1,
              "#f0f921"
             ]
            ],
            "type": "contour"
           }
          ],
          "contourcarpet": [
           {
            "colorbar": {
             "outlinewidth": 0,
             "ticks": ""
            },
            "type": "contourcarpet"
           }
          ],
          "heatmap": [
           {
            "colorbar": {
             "outlinewidth": 0,
             "ticks": ""
            },
            "colorscale": [
             [
              0,
              "#0d0887"
             ],
             [
              0.1111111111111111,
              "#46039f"
             ],
             [
              0.2222222222222222,
              "#7201a8"
             ],
             [
              0.3333333333333333,
              "#9c179e"
             ],
             [
              0.4444444444444444,
              "#bd3786"
             ],
             [
              0.5555555555555556,
              "#d8576b"
             ],
             [
              0.6666666666666666,
              "#ed7953"
             ],
             [
              0.7777777777777778,
              "#fb9f3a"
             ],
             [
              0.8888888888888888,
              "#fdca26"
             ],
             [
              1,
              "#f0f921"
             ]
            ],
            "type": "heatmap"
           }
          ],
          "heatmapgl": [
           {
            "colorbar": {
             "outlinewidth": 0,
             "ticks": ""
            },
            "colorscale": [
             [
              0,
              "#0d0887"
             ],
             [
              0.1111111111111111,
              "#46039f"
             ],
             [
              0.2222222222222222,
              "#7201a8"
             ],
             [
              0.3333333333333333,
              "#9c179e"
             ],
             [
              0.4444444444444444,
              "#bd3786"
             ],
             [
              0.5555555555555556,
              "#d8576b"
             ],
             [
              0.6666666666666666,
              "#ed7953"
             ],
             [
              0.7777777777777778,
              "#fb9f3a"
             ],
             [
              0.8888888888888888,
              "#fdca26"
             ],
             [
              1,
              "#f0f921"
             ]
            ],
            "type": "heatmapgl"
           }
          ],
          "histogram": [
           {
            "marker": {
             "pattern": {
              "fillmode": "overlay",
              "size": 10,
              "solidity": 0.2
             }
            },
            "type": "histogram"
           }
          ],
          "histogram2d": [
           {
            "colorbar": {
             "outlinewidth": 0,
             "ticks": ""
            },
            "colorscale": [
             [
              0,
              "#0d0887"
             ],
             [
              0.1111111111111111,
              "#46039f"
             ],
             [
              0.2222222222222222,
              "#7201a8"
             ],
             [
              0.3333333333333333,
              "#9c179e"
             ],
             [
              0.4444444444444444,
              "#bd3786"
             ],
             [
              0.5555555555555556,
              "#d8576b"
             ],
             [
              0.6666666666666666,
              "#ed7953"
             ],
             [
              0.7777777777777778,
              "#fb9f3a"
             ],
             [
              0.8888888888888888,
              "#fdca26"
             ],
             [
              1,
              "#f0f921"
             ]
            ],
            "type": "histogram2d"
           }
          ],
          "histogram2dcontour": [
           {
            "colorbar": {
             "outlinewidth": 0,
             "ticks": ""
            },
            "colorscale": [
             [
              0,
              "#0d0887"
             ],
             [
              0.1111111111111111,
              "#46039f"
             ],
             [
              0.2222222222222222,
              "#7201a8"
             ],
             [
              0.3333333333333333,
              "#9c179e"
             ],
             [
              0.4444444444444444,
              "#bd3786"
             ],
             [
              0.5555555555555556,
              "#d8576b"
             ],
             [
              0.6666666666666666,
              "#ed7953"
             ],
             [
              0.7777777777777778,
              "#fb9f3a"
             ],
             [
              0.8888888888888888,
              "#fdca26"
             ],
             [
              1,
              "#f0f921"
             ]
            ],
            "type": "histogram2dcontour"
           }
          ],
          "mesh3d": [
           {
            "colorbar": {
             "outlinewidth": 0,
             "ticks": ""
            },
            "type": "mesh3d"
           }
          ],
          "parcoords": [
           {
            "line": {
             "colorbar": {
              "outlinewidth": 0,
              "ticks": ""
             }
            },
            "type": "parcoords"
           }
          ],
          "pie": [
           {
            "automargin": true,
            "type": "pie"
           }
          ],
          "scatter": [
           {
            "fillpattern": {
             "fillmode": "overlay",
             "size": 10,
             "solidity": 0.2
            },
            "type": "scatter"
           }
          ],
          "scatter3d": [
           {
            "line": {
             "colorbar": {
              "outlinewidth": 0,
              "ticks": ""
             }
            },
            "marker": {
             "colorbar": {
              "outlinewidth": 0,
              "ticks": ""
             }
            },
            "type": "scatter3d"
           }
          ],
          "scattercarpet": [
           {
            "marker": {
             "colorbar": {
              "outlinewidth": 0,
              "ticks": ""
             }
            },
            "type": "scattercarpet"
           }
          ],
          "scattergeo": [
           {
            "marker": {
             "colorbar": {
              "outlinewidth": 0,
              "ticks": ""
             }
            },
            "type": "scattergeo"
           }
          ],
          "scattergl": [
           {
            "marker": {
             "colorbar": {
              "outlinewidth": 0,
              "ticks": ""
             }
            },
            "type": "scattergl"
           }
          ],
          "scattermapbox": [
           {
            "marker": {
             "colorbar": {
              "outlinewidth": 0,
              "ticks": ""
             }
            },
            "type": "scattermapbox"
           }
          ],
          "scatterpolar": [
           {
            "marker": {
             "colorbar": {
              "outlinewidth": 0,
              "ticks": ""
             }
            },
            "type": "scatterpolar"
           }
          ],
          "scatterpolargl": [
           {
            "marker": {
             "colorbar": {
              "outlinewidth": 0,
              "ticks": ""
             }
            },
            "type": "scatterpolargl"
           }
          ],
          "scatterternary": [
           {
            "marker": {
             "colorbar": {
              "outlinewidth": 0,
              "ticks": ""
             }
            },
            "type": "scatterternary"
           }
          ],
          "surface": [
           {
            "colorbar": {
             "outlinewidth": 0,
             "ticks": ""
            },
            "colorscale": [
             [
              0,
              "#0d0887"
             ],
             [
              0.1111111111111111,
              "#46039f"
             ],
             [
              0.2222222222222222,
              "#7201a8"
             ],
             [
              0.3333333333333333,
              "#9c179e"
             ],
             [
              0.4444444444444444,
              "#bd3786"
             ],
             [
              0.5555555555555556,
              "#d8576b"
             ],
             [
              0.6666666666666666,
              "#ed7953"
             ],
             [
              0.7777777777777778,
              "#fb9f3a"
             ],
             [
              0.8888888888888888,
              "#fdca26"
             ],
             [
              1,
              "#f0f921"
             ]
            ],
            "type": "surface"
           }
          ],
          "table": [
           {
            "cells": {
             "fill": {
              "color": "#EBF0F8"
             },
             "line": {
              "color": "white"
             }
            },
            "header": {
             "fill": {
              "color": "#C8D4E3"
             },
             "line": {
              "color": "white"
             }
            },
            "type": "table"
           }
          ]
         },
         "layout": {
          "annotationdefaults": {
           "arrowcolor": "#2a3f5f",
           "arrowhead": 0,
           "arrowwidth": 1
          },
          "autotypenumbers": "strict",
          "coloraxis": {
           "colorbar": {
            "outlinewidth": 0,
            "ticks": ""
           }
          },
          "colorscale": {
           "diverging": [
            [
             0,
             "#8e0152"
            ],
            [
             0.1,
             "#c51b7d"
            ],
            [
             0.2,
             "#de77ae"
            ],
            [
             0.3,
             "#f1b6da"
            ],
            [
             0.4,
             "#fde0ef"
            ],
            [
             0.5,
             "#f7f7f7"
            ],
            [
             0.6,
             "#e6f5d0"
            ],
            [
             0.7,
             "#b8e186"
            ],
            [
             0.8,
             "#7fbc41"
            ],
            [
             0.9,
             "#4d9221"
            ],
            [
             1,
             "#276419"
            ]
           ],
           "sequential": [
            [
             0,
             "#0d0887"
            ],
            [
             0.1111111111111111,
             "#46039f"
            ],
            [
             0.2222222222222222,
             "#7201a8"
            ],
            [
             0.3333333333333333,
             "#9c179e"
            ],
            [
             0.4444444444444444,
             "#bd3786"
            ],
            [
             0.5555555555555556,
             "#d8576b"
            ],
            [
             0.6666666666666666,
             "#ed7953"
            ],
            [
             0.7777777777777778,
             "#fb9f3a"
            ],
            [
             0.8888888888888888,
             "#fdca26"
            ],
            [
             1,
             "#f0f921"
            ]
           ],
           "sequentialminus": [
            [
             0,
             "#0d0887"
            ],
            [
             0.1111111111111111,
             "#46039f"
            ],
            [
             0.2222222222222222,
             "#7201a8"
            ],
            [
             0.3333333333333333,
             "#9c179e"
            ],
            [
             0.4444444444444444,
             "#bd3786"
            ],
            [
             0.5555555555555556,
             "#d8576b"
            ],
            [
             0.6666666666666666,
             "#ed7953"
            ],
            [
             0.7777777777777778,
             "#fb9f3a"
            ],
            [
             0.8888888888888888,
             "#fdca26"
            ],
            [
             1,
             "#f0f921"
            ]
           ]
          },
          "colorway": [
           "#636efa",
           "#EF553B",
           "#00cc96",
           "#ab63fa",
           "#FFA15A",
           "#19d3f3",
           "#FF6692",
           "#B6E880",
           "#FF97FF",
           "#FECB52"
          ],
          "font": {
           "color": "#2a3f5f"
          },
          "geo": {
           "bgcolor": "white",
           "lakecolor": "white",
           "landcolor": "#E5ECF6",
           "showlakes": true,
           "showland": true,
           "subunitcolor": "white"
          },
          "hoverlabel": {
           "align": "left"
          },
          "hovermode": "closest",
          "mapbox": {
           "style": "light"
          },
          "paper_bgcolor": "white",
          "plot_bgcolor": "#E5ECF6",
          "polar": {
           "angularaxis": {
            "gridcolor": "white",
            "linecolor": "white",
            "ticks": ""
           },
           "bgcolor": "#E5ECF6",
           "radialaxis": {
            "gridcolor": "white",
            "linecolor": "white",
            "ticks": ""
           }
          },
          "scene": {
           "xaxis": {
            "backgroundcolor": "#E5ECF6",
            "gridcolor": "white",
            "gridwidth": 2,
            "linecolor": "white",
            "showbackground": true,
            "ticks": "",
            "zerolinecolor": "white"
           },
           "yaxis": {
            "backgroundcolor": "#E5ECF6",
            "gridcolor": "white",
            "gridwidth": 2,
            "linecolor": "white",
            "showbackground": true,
            "ticks": "",
            "zerolinecolor": "white"
           },
           "zaxis": {
            "backgroundcolor": "#E5ECF6",
            "gridcolor": "white",
            "gridwidth": 2,
            "linecolor": "white",
            "showbackground": true,
            "ticks": "",
            "zerolinecolor": "white"
           }
          },
          "shapedefaults": {
           "line": {
            "color": "#2a3f5f"
           }
          },
          "ternary": {
           "aaxis": {
            "gridcolor": "white",
            "linecolor": "white",
            "ticks": ""
           },
           "baxis": {
            "gridcolor": "white",
            "linecolor": "white",
            "ticks": ""
           },
           "bgcolor": "#E5ECF6",
           "caxis": {
            "gridcolor": "white",
            "linecolor": "white",
            "ticks": ""
           }
          },
          "title": {
           "x": 0.05
          },
          "xaxis": {
           "automargin": true,
           "gridcolor": "white",
           "linecolor": "white",
           "ticks": "",
           "title": {
            "standoff": 15
           },
           "zerolinecolor": "white",
           "zerolinewidth": 2
          },
          "yaxis": {
           "automargin": true,
           "gridcolor": "white",
           "linecolor": "white",
           "ticks": "",
           "title": {
            "standoff": 15
           },
           "zerolinecolor": "white",
           "zerolinewidth": 2
          }
         }
        },
        "title": {
         "text": "분기별 간편식 생산품목 수"
        },
        "xaxis": {
         "anchor": "y",
         "domain": [
          0,
          1
         ],
         "title": {
          "text": "생산년도"
         }
        },
        "yaxis": {
         "anchor": "x",
         "domain": [
          0,
          1
         ],
         "title": {
          "text": "작업장코드"
         }
        }
       }
      },
      "text/html": [
       "<div>                            <div id=\"cfa6d820-4592-4f93-831e-3ca2ef3ee5c0\" class=\"plotly-graph-div\" style=\"height:525px; width:100%;\"></div>            <script type=\"text/javascript\">                require([\"plotly\"], function(Plotly) {                    window.PLOTLYENV=window.PLOTLYENV || {};                                    if (document.getElementById(\"cfa6d820-4592-4f93-831e-3ca2ef3ee5c0\")) {                    Plotly.newPlot(                        \"cfa6d820-4592-4f93-831e-3ca2ef3ee5c0\",                        [{\"hovertemplate\":\"\\uc0dd\\uc0b0\\ub144\\ub3c4=%{x}<br>\\uc791\\uc5c5\\uc7a5\\ucf54\\ub4dc=%{y}<extra></extra>\",\"legendgroup\":\"\",\"line\":{\"color\":\"#636efa\",\"dash\":\"solid\"},\"marker\":{\"symbol\":\"circle\"},\"mode\":\"lines\",\"name\":\"\",\"orientation\":\"v\",\"showlegend\":false,\"x\":[2011,2012,2013,2014,2015,2016,2017,2018,2019,2020,2021],\"xaxis\":\"x\",\"y\":[3959,1521,969,470,357,687,5386,4201,3053,2294,1172],\"yaxis\":\"y\",\"type\":\"scatter\"}],                        {\"template\":{\"data\":{\"histogram2dcontour\":[{\"type\":\"histogram2dcontour\",\"colorbar\":{\"outlinewidth\":0,\"ticks\":\"\"},\"colorscale\":[[0.0,\"#0d0887\"],[0.1111111111111111,\"#46039f\"],[0.2222222222222222,\"#7201a8\"],[0.3333333333333333,\"#9c179e\"],[0.4444444444444444,\"#bd3786\"],[0.5555555555555556,\"#d8576b\"],[0.6666666666666666,\"#ed7953\"],[0.7777777777777778,\"#fb9f3a\"],[0.8888888888888888,\"#fdca26\"],[1.0,\"#f0f921\"]]}],\"choropleth\":[{\"type\":\"choropleth\",\"colorbar\":{\"outlinewidth\":0,\"ticks\":\"\"}}],\"histogram2d\":[{\"type\":\"histogram2d\",\"colorbar\":{\"outlinewidth\":0,\"ticks\":\"\"},\"colorscale\":[[0.0,\"#0d0887\"],[0.1111111111111111,\"#46039f\"],[0.2222222222222222,\"#7201a8\"],[0.3333333333333333,\"#9c179e\"],[0.4444444444444444,\"#bd3786\"],[0.5555555555555556,\"#d8576b\"],[0.6666666666666666,\"#ed7953\"],[0.7777777777777778,\"#fb9f3a\"],[0.8888888888888888,\"#fdca26\"],[1.0,\"#f0f921\"]]}],\"heatmap\":[{\"type\":\"heatmap\",\"colorbar\":{\"outlinewidth\":0,\"ticks\":\"\"},\"colorscale\":[[0.0,\"#0d0887\"],[0.1111111111111111,\"#46039f\"],[0.2222222222222222,\"#7201a8\"],[0.3333333333333333,\"#9c179e\"],[0.4444444444444444,\"#bd3786\"],[0.5555555555555556,\"#d8576b\"],[0.6666666666666666,\"#ed7953\"],[0.7777777777777778,\"#fb9f3a\"],[0.8888888888888888,\"#fdca26\"],[1.0,\"#f0f921\"]]}],\"heatmapgl\":[{\"type\":\"heatmapgl\",\"colorbar\":{\"outlinewidth\":0,\"ticks\":\"\"},\"colorscale\":[[0.0,\"#0d0887\"],[0.1111111111111111,\"#46039f\"],[0.2222222222222222,\"#7201a8\"],[0.3333333333333333,\"#9c179e\"],[0.4444444444444444,\"#bd3786\"],[0.5555555555555556,\"#d8576b\"],[0.6666666666666666,\"#ed7953\"],[0.7777777777777778,\"#fb9f3a\"],[0.8888888888888888,\"#fdca26\"],[1.0,\"#f0f921\"]]}],\"contourcarpet\":[{\"type\":\"contourcarpet\",\"colorbar\":{\"outlinewidth\":0,\"ticks\":\"\"}}],\"contour\":[{\"type\":\"contour\",\"colorbar\":{\"outlinewidth\":0,\"ticks\":\"\"},\"colorscale\":[[0.0,\"#0d0887\"],[0.1111111111111111,\"#46039f\"],[0.2222222222222222,\"#7201a8\"],[0.3333333333333333,\"#9c179e\"],[0.4444444444444444,\"#bd3786\"],[0.5555555555555556,\"#d8576b\"],[0.6666666666666666,\"#ed7953\"],[0.7777777777777778,\"#fb9f3a\"],[0.8888888888888888,\"#fdca26\"],[1.0,\"#f0f921\"]]}],\"surface\":[{\"type\":\"surface\",\"colorbar\":{\"outlinewidth\":0,\"ticks\":\"\"},\"colorscale\":[[0.0,\"#0d0887\"],[0.1111111111111111,\"#46039f\"],[0.2222222222222222,\"#7201a8\"],[0.3333333333333333,\"#9c179e\"],[0.4444444444444444,\"#bd3786\"],[0.5555555555555556,\"#d8576b\"],[0.6666666666666666,\"#ed7953\"],[0.7777777777777778,\"#fb9f3a\"],[0.8888888888888888,\"#fdca26\"],[1.0,\"#f0f921\"]]}],\"mesh3d\":[{\"type\":\"mesh3d\",\"colorbar\":{\"outlinewidth\":0,\"ticks\":\"\"}}],\"scatter\":[{\"fillpattern\":{\"fillmode\":\"overlay\",\"size\":10,\"solidity\":0.2},\"type\":\"scatter\"}],\"parcoords\":[{\"type\":\"parcoords\",\"line\":{\"colorbar\":{\"outlinewidth\":0,\"ticks\":\"\"}}}],\"scatterpolargl\":[{\"type\":\"scatterpolargl\",\"marker\":{\"colorbar\":{\"outlinewidth\":0,\"ticks\":\"\"}}}],\"bar\":[{\"error_x\":{\"color\":\"#2a3f5f\"},\"error_y\":{\"color\":\"#2a3f5f\"},\"marker\":{\"line\":{\"color\":\"#E5ECF6\",\"width\":0.5},\"pattern\":{\"fillmode\":\"overlay\",\"size\":10,\"solidity\":0.2}},\"type\":\"bar\"}],\"scattergeo\":[{\"type\":\"scattergeo\",\"marker\":{\"colorbar\":{\"outlinewidth\":0,\"ticks\":\"\"}}}],\"scatterpolar\":[{\"type\":\"scatterpolar\",\"marker\":{\"colorbar\":{\"outlinewidth\":0,\"ticks\":\"\"}}}],\"histogram\":[{\"marker\":{\"pattern\":{\"fillmode\":\"overlay\",\"size\":10,\"solidity\":0.2}},\"type\":\"histogram\"}],\"scattergl\":[{\"type\":\"scattergl\",\"marker\":{\"colorbar\":{\"outlinewidth\":0,\"ticks\":\"\"}}}],\"scatter3d\":[{\"type\":\"scatter3d\",\"line\":{\"colorbar\":{\"outlinewidth\":0,\"ticks\":\"\"}},\"marker\":{\"colorbar\":{\"outlinewidth\":0,\"ticks\":\"\"}}}],\"scattermapbox\":[{\"type\":\"scattermapbox\",\"marker\":{\"colorbar\":{\"outlinewidth\":0,\"ticks\":\"\"}}}],\"scatterternary\":[{\"type\":\"scatterternary\",\"marker\":{\"colorbar\":{\"outlinewidth\":0,\"ticks\":\"\"}}}],\"scattercarpet\":[{\"type\":\"scattercarpet\",\"marker\":{\"colorbar\":{\"outlinewidth\":0,\"ticks\":\"\"}}}],\"carpet\":[{\"aaxis\":{\"endlinecolor\":\"#2a3f5f\",\"gridcolor\":\"white\",\"linecolor\":\"white\",\"minorgridcolor\":\"white\",\"startlinecolor\":\"#2a3f5f\"},\"baxis\":{\"endlinecolor\":\"#2a3f5f\",\"gridcolor\":\"white\",\"linecolor\":\"white\",\"minorgridcolor\":\"white\",\"startlinecolor\":\"#2a3f5f\"},\"type\":\"carpet\"}],\"table\":[{\"cells\":{\"fill\":{\"color\":\"#EBF0F8\"},\"line\":{\"color\":\"white\"}},\"header\":{\"fill\":{\"color\":\"#C8D4E3\"},\"line\":{\"color\":\"white\"}},\"type\":\"table\"}],\"barpolar\":[{\"marker\":{\"line\":{\"color\":\"#E5ECF6\",\"width\":0.5},\"pattern\":{\"fillmode\":\"overlay\",\"size\":10,\"solidity\":0.2}},\"type\":\"barpolar\"}],\"pie\":[{\"automargin\":true,\"type\":\"pie\"}]},\"layout\":{\"autotypenumbers\":\"strict\",\"colorway\":[\"#636efa\",\"#EF553B\",\"#00cc96\",\"#ab63fa\",\"#FFA15A\",\"#19d3f3\",\"#FF6692\",\"#B6E880\",\"#FF97FF\",\"#FECB52\"],\"font\":{\"color\":\"#2a3f5f\"},\"hovermode\":\"closest\",\"hoverlabel\":{\"align\":\"left\"},\"paper_bgcolor\":\"white\",\"plot_bgcolor\":\"#E5ECF6\",\"polar\":{\"bgcolor\":\"#E5ECF6\",\"angularaxis\":{\"gridcolor\":\"white\",\"linecolor\":\"white\",\"ticks\":\"\"},\"radialaxis\":{\"gridcolor\":\"white\",\"linecolor\":\"white\",\"ticks\":\"\"}},\"ternary\":{\"bgcolor\":\"#E5ECF6\",\"aaxis\":{\"gridcolor\":\"white\",\"linecolor\":\"white\",\"ticks\":\"\"},\"baxis\":{\"gridcolor\":\"white\",\"linecolor\":\"white\",\"ticks\":\"\"},\"caxis\":{\"gridcolor\":\"white\",\"linecolor\":\"white\",\"ticks\":\"\"}},\"coloraxis\":{\"colorbar\":{\"outlinewidth\":0,\"ticks\":\"\"}},\"colorscale\":{\"sequential\":[[0.0,\"#0d0887\"],[0.1111111111111111,\"#46039f\"],[0.2222222222222222,\"#7201a8\"],[0.3333333333333333,\"#9c179e\"],[0.4444444444444444,\"#bd3786\"],[0.5555555555555556,\"#d8576b\"],[0.6666666666666666,\"#ed7953\"],[0.7777777777777778,\"#fb9f3a\"],[0.8888888888888888,\"#fdca26\"],[1.0,\"#f0f921\"]],\"sequentialminus\":[[0.0,\"#0d0887\"],[0.1111111111111111,\"#46039f\"],[0.2222222222222222,\"#7201a8\"],[0.3333333333333333,\"#9c179e\"],[0.4444444444444444,\"#bd3786\"],[0.5555555555555556,\"#d8576b\"],[0.6666666666666666,\"#ed7953\"],[0.7777777777777778,\"#fb9f3a\"],[0.8888888888888888,\"#fdca26\"],[1.0,\"#f0f921\"]],\"diverging\":[[0,\"#8e0152\"],[0.1,\"#c51b7d\"],[0.2,\"#de77ae\"],[0.3,\"#f1b6da\"],[0.4,\"#fde0ef\"],[0.5,\"#f7f7f7\"],[0.6,\"#e6f5d0\"],[0.7,\"#b8e186\"],[0.8,\"#7fbc41\"],[0.9,\"#4d9221\"],[1,\"#276419\"]]},\"xaxis\":{\"gridcolor\":\"white\",\"linecolor\":\"white\",\"ticks\":\"\",\"title\":{\"standoff\":15},\"zerolinecolor\":\"white\",\"automargin\":true,\"zerolinewidth\":2},\"yaxis\":{\"gridcolor\":\"white\",\"linecolor\":\"white\",\"ticks\":\"\",\"title\":{\"standoff\":15},\"zerolinecolor\":\"white\",\"automargin\":true,\"zerolinewidth\":2},\"scene\":{\"xaxis\":{\"backgroundcolor\":\"#E5ECF6\",\"gridcolor\":\"white\",\"linecolor\":\"white\",\"showbackground\":true,\"ticks\":\"\",\"zerolinecolor\":\"white\",\"gridwidth\":2},\"yaxis\":{\"backgroundcolor\":\"#E5ECF6\",\"gridcolor\":\"white\",\"linecolor\":\"white\",\"showbackground\":true,\"ticks\":\"\",\"zerolinecolor\":\"white\",\"gridwidth\":2},\"zaxis\":{\"backgroundcolor\":\"#E5ECF6\",\"gridcolor\":\"white\",\"linecolor\":\"white\",\"showbackground\":true,\"ticks\":\"\",\"zerolinecolor\":\"white\",\"gridwidth\":2}},\"shapedefaults\":{\"line\":{\"color\":\"#2a3f5f\"}},\"annotationdefaults\":{\"arrowcolor\":\"#2a3f5f\",\"arrowhead\":0,\"arrowwidth\":1},\"geo\":{\"bgcolor\":\"white\",\"landcolor\":\"#E5ECF6\",\"subunitcolor\":\"white\",\"showland\":true,\"showlakes\":true,\"lakecolor\":\"white\"},\"title\":{\"x\":0.05},\"mapbox\":{\"style\":\"light\"}}},\"xaxis\":{\"anchor\":\"y\",\"domain\":[0.0,1.0],\"title\":{\"text\":\"\\uc0dd\\uc0b0\\ub144\\ub3c4\"}},\"yaxis\":{\"anchor\":\"x\",\"domain\":[0.0,1.0],\"title\":{\"text\":\"\\uc791\\uc5c5\\uc7a5\\ucf54\\ub4dc\"}},\"legend\":{\"tracegroupgap\":0},\"title\":{\"text\":\"\\ubd84\\uae30\\ubcc4 \\uac04\\ud3b8\\uc2dd \\uc0dd\\uc0b0\\ud488\\ubaa9 \\uc218\"}},                        {\"responsive\": true}                    ).then(function(){\n",
       "                            \n",
       "var gd = document.getElementById('cfa6d820-4592-4f93-831e-3ca2ef3ee5c0');\n",
       "var x = new MutationObserver(function (mutations, observer) {{\n",
       "        var display = window.getComputedStyle(gd).display;\n",
       "        if (!display || display === 'none') {{\n",
       "            console.log([gd, 'removed!']);\n",
       "            Plotly.purge(gd);\n",
       "            observer.disconnect();\n",
       "        }}\n",
       "}});\n",
       "\n",
       "// Listen for the removal of the full notebook cells\n",
       "var notebookContainer = gd.closest('#notebook-container');\n",
       "if (notebookContainer) {{\n",
       "    x.observe(notebookContainer, {childList: true});\n",
       "}}\n",
       "\n",
       "// Listen for the clearing of the current output cell\n",
       "var outputEl = gd.closest('.output');\n",
       "if (outputEl) {{\n",
       "    x.observe(outputEl, {childList: true});\n",
       "}}\n",
       "\n",
       "                        })                };                });            </script>        </div>"
      ]
     },
     "metadata": {},
     "output_type": "display_data"
    },
    {
     "data": {
      "application/vnd.plotly.v1+json": {
       "config": {
        "plotlyServerURL": "https://plot.ly"
       },
       "data": [
        {
         "hovertemplate": "생산년도=%{x}<br>오류발생여부=%{y}<extra></extra>",
         "legendgroup": "",
         "line": {
          "color": "#636efa",
          "dash": "solid"
         },
         "marker": {
          "symbol": "circle"
         },
         "mode": "lines",
         "name": "",
         "orientation": "v",
         "showlegend": false,
         "type": "scatter",
         "x": [
          2011,
          2012,
          2013,
          2014,
          2015,
          2016,
          2017,
          2018,
          2019,
          2020,
          2021
         ],
         "xaxis": "x",
         "y": [
          187,
          66,
          48,
          7,
          30,
          23,
          240,
          188,
          127,
          101,
          57
         ],
         "yaxis": "y"
        }
       ],
       "layout": {
        "legend": {
         "tracegroupgap": 0
        },
        "template": {
         "data": {
          "bar": [
           {
            "error_x": {
             "color": "#2a3f5f"
            },
            "error_y": {
             "color": "#2a3f5f"
            },
            "marker": {
             "line": {
              "color": "#E5ECF6",
              "width": 0.5
             },
             "pattern": {
              "fillmode": "overlay",
              "size": 10,
              "solidity": 0.2
             }
            },
            "type": "bar"
           }
          ],
          "barpolar": [
           {
            "marker": {
             "line": {
              "color": "#E5ECF6",
              "width": 0.5
             },
             "pattern": {
              "fillmode": "overlay",
              "size": 10,
              "solidity": 0.2
             }
            },
            "type": "barpolar"
           }
          ],
          "carpet": [
           {
            "aaxis": {
             "endlinecolor": "#2a3f5f",
             "gridcolor": "white",
             "linecolor": "white",
             "minorgridcolor": "white",
             "startlinecolor": "#2a3f5f"
            },
            "baxis": {
             "endlinecolor": "#2a3f5f",
             "gridcolor": "white",
             "linecolor": "white",
             "minorgridcolor": "white",
             "startlinecolor": "#2a3f5f"
            },
            "type": "carpet"
           }
          ],
          "choropleth": [
           {
            "colorbar": {
             "outlinewidth": 0,
             "ticks": ""
            },
            "type": "choropleth"
           }
          ],
          "contour": [
           {
            "colorbar": {
             "outlinewidth": 0,
             "ticks": ""
            },
            "colorscale": [
             [
              0,
              "#0d0887"
             ],
             [
              0.1111111111111111,
              "#46039f"
             ],
             [
              0.2222222222222222,
              "#7201a8"
             ],
             [
              0.3333333333333333,
              "#9c179e"
             ],
             [
              0.4444444444444444,
              "#bd3786"
             ],
             [
              0.5555555555555556,
              "#d8576b"
             ],
             [
              0.6666666666666666,
              "#ed7953"
             ],
             [
              0.7777777777777778,
              "#fb9f3a"
             ],
             [
              0.8888888888888888,
              "#fdca26"
             ],
             [
              1,
              "#f0f921"
             ]
            ],
            "type": "contour"
           }
          ],
          "contourcarpet": [
           {
            "colorbar": {
             "outlinewidth": 0,
             "ticks": ""
            },
            "type": "contourcarpet"
           }
          ],
          "heatmap": [
           {
            "colorbar": {
             "outlinewidth": 0,
             "ticks": ""
            },
            "colorscale": [
             [
              0,
              "#0d0887"
             ],
             [
              0.1111111111111111,
              "#46039f"
             ],
             [
              0.2222222222222222,
              "#7201a8"
             ],
             [
              0.3333333333333333,
              "#9c179e"
             ],
             [
              0.4444444444444444,
              "#bd3786"
             ],
             [
              0.5555555555555556,
              "#d8576b"
             ],
             [
              0.6666666666666666,
              "#ed7953"
             ],
             [
              0.7777777777777778,
              "#fb9f3a"
             ],
             [
              0.8888888888888888,
              "#fdca26"
             ],
             [
              1,
              "#f0f921"
             ]
            ],
            "type": "heatmap"
           }
          ],
          "heatmapgl": [
           {
            "colorbar": {
             "outlinewidth": 0,
             "ticks": ""
            },
            "colorscale": [
             [
              0,
              "#0d0887"
             ],
             [
              0.1111111111111111,
              "#46039f"
             ],
             [
              0.2222222222222222,
              "#7201a8"
             ],
             [
              0.3333333333333333,
              "#9c179e"
             ],
             [
              0.4444444444444444,
              "#bd3786"
             ],
             [
              0.5555555555555556,
              "#d8576b"
             ],
             [
              0.6666666666666666,
              "#ed7953"
             ],
             [
              0.7777777777777778,
              "#fb9f3a"
             ],
             [
              0.8888888888888888,
              "#fdca26"
             ],
             [
              1,
              "#f0f921"
             ]
            ],
            "type": "heatmapgl"
           }
          ],
          "histogram": [
           {
            "marker": {
             "pattern": {
              "fillmode": "overlay",
              "size": 10,
              "solidity": 0.2
             }
            },
            "type": "histogram"
           }
          ],
          "histogram2d": [
           {
            "colorbar": {
             "outlinewidth": 0,
             "ticks": ""
            },
            "colorscale": [
             [
              0,
              "#0d0887"
             ],
             [
              0.1111111111111111,
              "#46039f"
             ],
             [
              0.2222222222222222,
              "#7201a8"
             ],
             [
              0.3333333333333333,
              "#9c179e"
             ],
             [
              0.4444444444444444,
              "#bd3786"
             ],
             [
              0.5555555555555556,
              "#d8576b"
             ],
             [
              0.6666666666666666,
              "#ed7953"
             ],
             [
              0.7777777777777778,
              "#fb9f3a"
             ],
             [
              0.8888888888888888,
              "#fdca26"
             ],
             [
              1,
              "#f0f921"
             ]
            ],
            "type": "histogram2d"
           }
          ],
          "histogram2dcontour": [
           {
            "colorbar": {
             "outlinewidth": 0,
             "ticks": ""
            },
            "colorscale": [
             [
              0,
              "#0d0887"
             ],
             [
              0.1111111111111111,
              "#46039f"
             ],
             [
              0.2222222222222222,
              "#7201a8"
             ],
             [
              0.3333333333333333,
              "#9c179e"
             ],
             [
              0.4444444444444444,
              "#bd3786"
             ],
             [
              0.5555555555555556,
              "#d8576b"
             ],
             [
              0.6666666666666666,
              "#ed7953"
             ],
             [
              0.7777777777777778,
              "#fb9f3a"
             ],
             [
              0.8888888888888888,
              "#fdca26"
             ],
             [
              1,
              "#f0f921"
             ]
            ],
            "type": "histogram2dcontour"
           }
          ],
          "mesh3d": [
           {
            "colorbar": {
             "outlinewidth": 0,
             "ticks": ""
            },
            "type": "mesh3d"
           }
          ],
          "parcoords": [
           {
            "line": {
             "colorbar": {
              "outlinewidth": 0,
              "ticks": ""
             }
            },
            "type": "parcoords"
           }
          ],
          "pie": [
           {
            "automargin": true,
            "type": "pie"
           }
          ],
          "scatter": [
           {
            "fillpattern": {
             "fillmode": "overlay",
             "size": 10,
             "solidity": 0.2
            },
            "type": "scatter"
           }
          ],
          "scatter3d": [
           {
            "line": {
             "colorbar": {
              "outlinewidth": 0,
              "ticks": ""
             }
            },
            "marker": {
             "colorbar": {
              "outlinewidth": 0,
              "ticks": ""
             }
            },
            "type": "scatter3d"
           }
          ],
          "scattercarpet": [
           {
            "marker": {
             "colorbar": {
              "outlinewidth": 0,
              "ticks": ""
             }
            },
            "type": "scattercarpet"
           }
          ],
          "scattergeo": [
           {
            "marker": {
             "colorbar": {
              "outlinewidth": 0,
              "ticks": ""
             }
            },
            "type": "scattergeo"
           }
          ],
          "scattergl": [
           {
            "marker": {
             "colorbar": {
              "outlinewidth": 0,
              "ticks": ""
             }
            },
            "type": "scattergl"
           }
          ],
          "scattermapbox": [
           {
            "marker": {
             "colorbar": {
              "outlinewidth": 0,
              "ticks": ""
             }
            },
            "type": "scattermapbox"
           }
          ],
          "scatterpolar": [
           {
            "marker": {
             "colorbar": {
              "outlinewidth": 0,
              "ticks": ""
             }
            },
            "type": "scatterpolar"
           }
          ],
          "scatterpolargl": [
           {
            "marker": {
             "colorbar": {
              "outlinewidth": 0,
              "ticks": ""
             }
            },
            "type": "scatterpolargl"
           }
          ],
          "scatterternary": [
           {
            "marker": {
             "colorbar": {
              "outlinewidth": 0,
              "ticks": ""
             }
            },
            "type": "scatterternary"
           }
          ],
          "surface": [
           {
            "colorbar": {
             "outlinewidth": 0,
             "ticks": ""
            },
            "colorscale": [
             [
              0,
              "#0d0887"
             ],
             [
              0.1111111111111111,
              "#46039f"
             ],
             [
              0.2222222222222222,
              "#7201a8"
             ],
             [
              0.3333333333333333,
              "#9c179e"
             ],
             [
              0.4444444444444444,
              "#bd3786"
             ],
             [
              0.5555555555555556,
              "#d8576b"
             ],
             [
              0.6666666666666666,
              "#ed7953"
             ],
             [
              0.7777777777777778,
              "#fb9f3a"
             ],
             [
              0.8888888888888888,
              "#fdca26"
             ],
             [
              1,
              "#f0f921"
             ]
            ],
            "type": "surface"
           }
          ],
          "table": [
           {
            "cells": {
             "fill": {
              "color": "#EBF0F8"
             },
             "line": {
              "color": "white"
             }
            },
            "header": {
             "fill": {
              "color": "#C8D4E3"
             },
             "line": {
              "color": "white"
             }
            },
            "type": "table"
           }
          ]
         },
         "layout": {
          "annotationdefaults": {
           "arrowcolor": "#2a3f5f",
           "arrowhead": 0,
           "arrowwidth": 1
          },
          "autotypenumbers": "strict",
          "coloraxis": {
           "colorbar": {
            "outlinewidth": 0,
            "ticks": ""
           }
          },
          "colorscale": {
           "diverging": [
            [
             0,
             "#8e0152"
            ],
            [
             0.1,
             "#c51b7d"
            ],
            [
             0.2,
             "#de77ae"
            ],
            [
             0.3,
             "#f1b6da"
            ],
            [
             0.4,
             "#fde0ef"
            ],
            [
             0.5,
             "#f7f7f7"
            ],
            [
             0.6,
             "#e6f5d0"
            ],
            [
             0.7,
             "#b8e186"
            ],
            [
             0.8,
             "#7fbc41"
            ],
            [
             0.9,
             "#4d9221"
            ],
            [
             1,
             "#276419"
            ]
           ],
           "sequential": [
            [
             0,
             "#0d0887"
            ],
            [
             0.1111111111111111,
             "#46039f"
            ],
            [
             0.2222222222222222,
             "#7201a8"
            ],
            [
             0.3333333333333333,
             "#9c179e"
            ],
            [
             0.4444444444444444,
             "#bd3786"
            ],
            [
             0.5555555555555556,
             "#d8576b"
            ],
            [
             0.6666666666666666,
             "#ed7953"
            ],
            [
             0.7777777777777778,
             "#fb9f3a"
            ],
            [
             0.8888888888888888,
             "#fdca26"
            ],
            [
             1,
             "#f0f921"
            ]
           ],
           "sequentialminus": [
            [
             0,
             "#0d0887"
            ],
            [
             0.1111111111111111,
             "#46039f"
            ],
            [
             0.2222222222222222,
             "#7201a8"
            ],
            [
             0.3333333333333333,
             "#9c179e"
            ],
            [
             0.4444444444444444,
             "#bd3786"
            ],
            [
             0.5555555555555556,
             "#d8576b"
            ],
            [
             0.6666666666666666,
             "#ed7953"
            ],
            [
             0.7777777777777778,
             "#fb9f3a"
            ],
            [
             0.8888888888888888,
             "#fdca26"
            ],
            [
             1,
             "#f0f921"
            ]
           ]
          },
          "colorway": [
           "#636efa",
           "#EF553B",
           "#00cc96",
           "#ab63fa",
           "#FFA15A",
           "#19d3f3",
           "#FF6692",
           "#B6E880",
           "#FF97FF",
           "#FECB52"
          ],
          "font": {
           "color": "#2a3f5f"
          },
          "geo": {
           "bgcolor": "white",
           "lakecolor": "white",
           "landcolor": "#E5ECF6",
           "showlakes": true,
           "showland": true,
           "subunitcolor": "white"
          },
          "hoverlabel": {
           "align": "left"
          },
          "hovermode": "closest",
          "mapbox": {
           "style": "light"
          },
          "paper_bgcolor": "white",
          "plot_bgcolor": "#E5ECF6",
          "polar": {
           "angularaxis": {
            "gridcolor": "white",
            "linecolor": "white",
            "ticks": ""
           },
           "bgcolor": "#E5ECF6",
           "radialaxis": {
            "gridcolor": "white",
            "linecolor": "white",
            "ticks": ""
           }
          },
          "scene": {
           "xaxis": {
            "backgroundcolor": "#E5ECF6",
            "gridcolor": "white",
            "gridwidth": 2,
            "linecolor": "white",
            "showbackground": true,
            "ticks": "",
            "zerolinecolor": "white"
           },
           "yaxis": {
            "backgroundcolor": "#E5ECF6",
            "gridcolor": "white",
            "gridwidth": 2,
            "linecolor": "white",
            "showbackground": true,
            "ticks": "",
            "zerolinecolor": "white"
           },
           "zaxis": {
            "backgroundcolor": "#E5ECF6",
            "gridcolor": "white",
            "gridwidth": 2,
            "linecolor": "white",
            "showbackground": true,
            "ticks": "",
            "zerolinecolor": "white"
           }
          },
          "shapedefaults": {
           "line": {
            "color": "#2a3f5f"
           }
          },
          "ternary": {
           "aaxis": {
            "gridcolor": "white",
            "linecolor": "white",
            "ticks": ""
           },
           "baxis": {
            "gridcolor": "white",
            "linecolor": "white",
            "ticks": ""
           },
           "bgcolor": "#E5ECF6",
           "caxis": {
            "gridcolor": "white",
            "linecolor": "white",
            "ticks": ""
           }
          },
          "title": {
           "x": 0.05
          },
          "xaxis": {
           "automargin": true,
           "gridcolor": "white",
           "linecolor": "white",
           "ticks": "",
           "title": {
            "standoff": 15
           },
           "zerolinecolor": "white",
           "zerolinewidth": 2
          },
          "yaxis": {
           "automargin": true,
           "gridcolor": "white",
           "linecolor": "white",
           "ticks": "",
           "title": {
            "standoff": 15
           },
           "zerolinecolor": "white",
           "zerolinewidth": 2
          }
         }
        },
        "title": {
         "text": "분기별 오류발생 현황 "
        },
        "xaxis": {
         "anchor": "y",
         "domain": [
          0,
          1
         ],
         "title": {
          "text": "생산년도"
         }
        },
        "yaxis": {
         "anchor": "x",
         "domain": [
          0,
          1
         ],
         "title": {
          "text": "오류발생여부"
         }
        }
       }
      },
      "text/html": [
       "<div>                            <div id=\"8316a917-bb48-4262-8355-a6ce4c010954\" class=\"plotly-graph-div\" style=\"height:525px; width:100%;\"></div>            <script type=\"text/javascript\">                require([\"plotly\"], function(Plotly) {                    window.PLOTLYENV=window.PLOTLYENV || {};                                    if (document.getElementById(\"8316a917-bb48-4262-8355-a6ce4c010954\")) {                    Plotly.newPlot(                        \"8316a917-bb48-4262-8355-a6ce4c010954\",                        [{\"hovertemplate\":\"\\uc0dd\\uc0b0\\ub144\\ub3c4=%{x}<br>\\uc624\\ub958\\ubc1c\\uc0dd\\uc5ec\\ubd80=%{y}<extra></extra>\",\"legendgroup\":\"\",\"line\":{\"color\":\"#636efa\",\"dash\":\"solid\"},\"marker\":{\"symbol\":\"circle\"},\"mode\":\"lines\",\"name\":\"\",\"orientation\":\"v\",\"showlegend\":false,\"x\":[2011,2012,2013,2014,2015,2016,2017,2018,2019,2020,2021],\"xaxis\":\"x\",\"y\":[187,66,48,7,30,23,240,188,127,101,57],\"yaxis\":\"y\",\"type\":\"scatter\"}],                        {\"template\":{\"data\":{\"histogram2dcontour\":[{\"type\":\"histogram2dcontour\",\"colorbar\":{\"outlinewidth\":0,\"ticks\":\"\"},\"colorscale\":[[0.0,\"#0d0887\"],[0.1111111111111111,\"#46039f\"],[0.2222222222222222,\"#7201a8\"],[0.3333333333333333,\"#9c179e\"],[0.4444444444444444,\"#bd3786\"],[0.5555555555555556,\"#d8576b\"],[0.6666666666666666,\"#ed7953\"],[0.7777777777777778,\"#fb9f3a\"],[0.8888888888888888,\"#fdca26\"],[1.0,\"#f0f921\"]]}],\"choropleth\":[{\"type\":\"choropleth\",\"colorbar\":{\"outlinewidth\":0,\"ticks\":\"\"}}],\"histogram2d\":[{\"type\":\"histogram2d\",\"colorbar\":{\"outlinewidth\":0,\"ticks\":\"\"},\"colorscale\":[[0.0,\"#0d0887\"],[0.1111111111111111,\"#46039f\"],[0.2222222222222222,\"#7201a8\"],[0.3333333333333333,\"#9c179e\"],[0.4444444444444444,\"#bd3786\"],[0.5555555555555556,\"#d8576b\"],[0.6666666666666666,\"#ed7953\"],[0.7777777777777778,\"#fb9f3a\"],[0.8888888888888888,\"#fdca26\"],[1.0,\"#f0f921\"]]}],\"heatmap\":[{\"type\":\"heatmap\",\"colorbar\":{\"outlinewidth\":0,\"ticks\":\"\"},\"colorscale\":[[0.0,\"#0d0887\"],[0.1111111111111111,\"#46039f\"],[0.2222222222222222,\"#7201a8\"],[0.3333333333333333,\"#9c179e\"],[0.4444444444444444,\"#bd3786\"],[0.5555555555555556,\"#d8576b\"],[0.6666666666666666,\"#ed7953\"],[0.7777777777777778,\"#fb9f3a\"],[0.8888888888888888,\"#fdca26\"],[1.0,\"#f0f921\"]]}],\"heatmapgl\":[{\"type\":\"heatmapgl\",\"colorbar\":{\"outlinewidth\":0,\"ticks\":\"\"},\"colorscale\":[[0.0,\"#0d0887\"],[0.1111111111111111,\"#46039f\"],[0.2222222222222222,\"#7201a8\"],[0.3333333333333333,\"#9c179e\"],[0.4444444444444444,\"#bd3786\"],[0.5555555555555556,\"#d8576b\"],[0.6666666666666666,\"#ed7953\"],[0.7777777777777778,\"#fb9f3a\"],[0.8888888888888888,\"#fdca26\"],[1.0,\"#f0f921\"]]}],\"contourcarpet\":[{\"type\":\"contourcarpet\",\"colorbar\":{\"outlinewidth\":0,\"ticks\":\"\"}}],\"contour\":[{\"type\":\"contour\",\"colorbar\":{\"outlinewidth\":0,\"ticks\":\"\"},\"colorscale\":[[0.0,\"#0d0887\"],[0.1111111111111111,\"#46039f\"],[0.2222222222222222,\"#7201a8\"],[0.3333333333333333,\"#9c179e\"],[0.4444444444444444,\"#bd3786\"],[0.5555555555555556,\"#d8576b\"],[0.6666666666666666,\"#ed7953\"],[0.7777777777777778,\"#fb9f3a\"],[0.8888888888888888,\"#fdca26\"],[1.0,\"#f0f921\"]]}],\"surface\":[{\"type\":\"surface\",\"colorbar\":{\"outlinewidth\":0,\"ticks\":\"\"},\"colorscale\":[[0.0,\"#0d0887\"],[0.1111111111111111,\"#46039f\"],[0.2222222222222222,\"#7201a8\"],[0.3333333333333333,\"#9c179e\"],[0.4444444444444444,\"#bd3786\"],[0.5555555555555556,\"#d8576b\"],[0.6666666666666666,\"#ed7953\"],[0.7777777777777778,\"#fb9f3a\"],[0.8888888888888888,\"#fdca26\"],[1.0,\"#f0f921\"]]}],\"mesh3d\":[{\"type\":\"mesh3d\",\"colorbar\":{\"outlinewidth\":0,\"ticks\":\"\"}}],\"scatter\":[{\"fillpattern\":{\"fillmode\":\"overlay\",\"size\":10,\"solidity\":0.2},\"type\":\"scatter\"}],\"parcoords\":[{\"type\":\"parcoords\",\"line\":{\"colorbar\":{\"outlinewidth\":0,\"ticks\":\"\"}}}],\"scatterpolargl\":[{\"type\":\"scatterpolargl\",\"marker\":{\"colorbar\":{\"outlinewidth\":0,\"ticks\":\"\"}}}],\"bar\":[{\"error_x\":{\"color\":\"#2a3f5f\"},\"error_y\":{\"color\":\"#2a3f5f\"},\"marker\":{\"line\":{\"color\":\"#E5ECF6\",\"width\":0.5},\"pattern\":{\"fillmode\":\"overlay\",\"size\":10,\"solidity\":0.2}},\"type\":\"bar\"}],\"scattergeo\":[{\"type\":\"scattergeo\",\"marker\":{\"colorbar\":{\"outlinewidth\":0,\"ticks\":\"\"}}}],\"scatterpolar\":[{\"type\":\"scatterpolar\",\"marker\":{\"colorbar\":{\"outlinewidth\":0,\"ticks\":\"\"}}}],\"histogram\":[{\"marker\":{\"pattern\":{\"fillmode\":\"overlay\",\"size\":10,\"solidity\":0.2}},\"type\":\"histogram\"}],\"scattergl\":[{\"type\":\"scattergl\",\"marker\":{\"colorbar\":{\"outlinewidth\":0,\"ticks\":\"\"}}}],\"scatter3d\":[{\"type\":\"scatter3d\",\"line\":{\"colorbar\":{\"outlinewidth\":0,\"ticks\":\"\"}},\"marker\":{\"colorbar\":{\"outlinewidth\":0,\"ticks\":\"\"}}}],\"scattermapbox\":[{\"type\":\"scattermapbox\",\"marker\":{\"colorbar\":{\"outlinewidth\":0,\"ticks\":\"\"}}}],\"scatterternary\":[{\"type\":\"scatterternary\",\"marker\":{\"colorbar\":{\"outlinewidth\":0,\"ticks\":\"\"}}}],\"scattercarpet\":[{\"type\":\"scattercarpet\",\"marker\":{\"colorbar\":{\"outlinewidth\":0,\"ticks\":\"\"}}}],\"carpet\":[{\"aaxis\":{\"endlinecolor\":\"#2a3f5f\",\"gridcolor\":\"white\",\"linecolor\":\"white\",\"minorgridcolor\":\"white\",\"startlinecolor\":\"#2a3f5f\"},\"baxis\":{\"endlinecolor\":\"#2a3f5f\",\"gridcolor\":\"white\",\"linecolor\":\"white\",\"minorgridcolor\":\"white\",\"startlinecolor\":\"#2a3f5f\"},\"type\":\"carpet\"}],\"table\":[{\"cells\":{\"fill\":{\"color\":\"#EBF0F8\"},\"line\":{\"color\":\"white\"}},\"header\":{\"fill\":{\"color\":\"#C8D4E3\"},\"line\":{\"color\":\"white\"}},\"type\":\"table\"}],\"barpolar\":[{\"marker\":{\"line\":{\"color\":\"#E5ECF6\",\"width\":0.5},\"pattern\":{\"fillmode\":\"overlay\",\"size\":10,\"solidity\":0.2}},\"type\":\"barpolar\"}],\"pie\":[{\"automargin\":true,\"type\":\"pie\"}]},\"layout\":{\"autotypenumbers\":\"strict\",\"colorway\":[\"#636efa\",\"#EF553B\",\"#00cc96\",\"#ab63fa\",\"#FFA15A\",\"#19d3f3\",\"#FF6692\",\"#B6E880\",\"#FF97FF\",\"#FECB52\"],\"font\":{\"color\":\"#2a3f5f\"},\"hovermode\":\"closest\",\"hoverlabel\":{\"align\":\"left\"},\"paper_bgcolor\":\"white\",\"plot_bgcolor\":\"#E5ECF6\",\"polar\":{\"bgcolor\":\"#E5ECF6\",\"angularaxis\":{\"gridcolor\":\"white\",\"linecolor\":\"white\",\"ticks\":\"\"},\"radialaxis\":{\"gridcolor\":\"white\",\"linecolor\":\"white\",\"ticks\":\"\"}},\"ternary\":{\"bgcolor\":\"#E5ECF6\",\"aaxis\":{\"gridcolor\":\"white\",\"linecolor\":\"white\",\"ticks\":\"\"},\"baxis\":{\"gridcolor\":\"white\",\"linecolor\":\"white\",\"ticks\":\"\"},\"caxis\":{\"gridcolor\":\"white\",\"linecolor\":\"white\",\"ticks\":\"\"}},\"coloraxis\":{\"colorbar\":{\"outlinewidth\":0,\"ticks\":\"\"}},\"colorscale\":{\"sequential\":[[0.0,\"#0d0887\"],[0.1111111111111111,\"#46039f\"],[0.2222222222222222,\"#7201a8\"],[0.3333333333333333,\"#9c179e\"],[0.4444444444444444,\"#bd3786\"],[0.5555555555555556,\"#d8576b\"],[0.6666666666666666,\"#ed7953\"],[0.7777777777777778,\"#fb9f3a\"],[0.8888888888888888,\"#fdca26\"],[1.0,\"#f0f921\"]],\"sequentialminus\":[[0.0,\"#0d0887\"],[0.1111111111111111,\"#46039f\"],[0.2222222222222222,\"#7201a8\"],[0.3333333333333333,\"#9c179e\"],[0.4444444444444444,\"#bd3786\"],[0.5555555555555556,\"#d8576b\"],[0.6666666666666666,\"#ed7953\"],[0.7777777777777778,\"#fb9f3a\"],[0.8888888888888888,\"#fdca26\"],[1.0,\"#f0f921\"]],\"diverging\":[[0,\"#8e0152\"],[0.1,\"#c51b7d\"],[0.2,\"#de77ae\"],[0.3,\"#f1b6da\"],[0.4,\"#fde0ef\"],[0.5,\"#f7f7f7\"],[0.6,\"#e6f5d0\"],[0.7,\"#b8e186\"],[0.8,\"#7fbc41\"],[0.9,\"#4d9221\"],[1,\"#276419\"]]},\"xaxis\":{\"gridcolor\":\"white\",\"linecolor\":\"white\",\"ticks\":\"\",\"title\":{\"standoff\":15},\"zerolinecolor\":\"white\",\"automargin\":true,\"zerolinewidth\":2},\"yaxis\":{\"gridcolor\":\"white\",\"linecolor\":\"white\",\"ticks\":\"\",\"title\":{\"standoff\":15},\"zerolinecolor\":\"white\",\"automargin\":true,\"zerolinewidth\":2},\"scene\":{\"xaxis\":{\"backgroundcolor\":\"#E5ECF6\",\"gridcolor\":\"white\",\"linecolor\":\"white\",\"showbackground\":true,\"ticks\":\"\",\"zerolinecolor\":\"white\",\"gridwidth\":2},\"yaxis\":{\"backgroundcolor\":\"#E5ECF6\",\"gridcolor\":\"white\",\"linecolor\":\"white\",\"showbackground\":true,\"ticks\":\"\",\"zerolinecolor\":\"white\",\"gridwidth\":2},\"zaxis\":{\"backgroundcolor\":\"#E5ECF6\",\"gridcolor\":\"white\",\"linecolor\":\"white\",\"showbackground\":true,\"ticks\":\"\",\"zerolinecolor\":\"white\",\"gridwidth\":2}},\"shapedefaults\":{\"line\":{\"color\":\"#2a3f5f\"}},\"annotationdefaults\":{\"arrowcolor\":\"#2a3f5f\",\"arrowhead\":0,\"arrowwidth\":1},\"geo\":{\"bgcolor\":\"white\",\"landcolor\":\"#E5ECF6\",\"subunitcolor\":\"white\",\"showland\":true,\"showlakes\":true,\"lakecolor\":\"white\"},\"title\":{\"x\":0.05},\"mapbox\":{\"style\":\"light\"}}},\"xaxis\":{\"anchor\":\"y\",\"domain\":[0.0,1.0],\"title\":{\"text\":\"\\uc0dd\\uc0b0\\ub144\\ub3c4\"}},\"yaxis\":{\"anchor\":\"x\",\"domain\":[0.0,1.0],\"title\":{\"text\":\"\\uc624\\ub958\\ubc1c\\uc0dd\\uc5ec\\ubd80\"}},\"legend\":{\"tracegroupgap\":0},\"title\":{\"text\":\"\\ubd84\\uae30\\ubcc4 \\uc624\\ub958\\ubc1c\\uc0dd \\ud604\\ud669 \"}},                        {\"responsive\": true}                    ).then(function(){\n",
       "                            \n",
       "var gd = document.getElementById('8316a917-bb48-4262-8355-a6ce4c010954');\n",
       "var x = new MutationObserver(function (mutations, observer) {{\n",
       "        var display = window.getComputedStyle(gd).display;\n",
       "        if (!display || display === 'none') {{\n",
       "            console.log([gd, 'removed!']);\n",
       "            Plotly.purge(gd);\n",
       "            observer.disconnect();\n",
       "        }}\n",
       "}});\n",
       "\n",
       "// Listen for the removal of the full notebook cells\n",
       "var notebookContainer = gd.closest('#notebook-container');\n",
       "if (notebookContainer) {{\n",
       "    x.observe(notebookContainer, {childList: true});\n",
       "}}\n",
       "\n",
       "// Listen for the clearing of the current output cell\n",
       "var outputEl = gd.closest('.output');\n",
       "if (outputEl) {{\n",
       "    x.observe(outputEl, {childList: true});\n",
       "}}\n",
       "\n",
       "                        })                };                });            </script>        </div>"
      ]
     },
     "metadata": {},
     "output_type": "display_data"
    }
   ],
   "source": [
    "cooking_process['생산일자'] = pd.to_datetime(cooking_process['생산일자'], format='%Y-%m-%d')\n",
    "cooking_process['생산년도'] = cooking_process['생산일자'].dt.year\n",
    "\n",
    "#1. 분기별 // 생산 품목 수\n",
    "import plotly.express as px\n",
    "cooking_q_count= cooking_process.groupby('생산년도')['작업장코드'].count()  #dt year로 바꿔\n",
    "cooking_q_count = pd.DataFrame(cooking_q_count)\n",
    "cooking_q_count.reset_index(inplace = True)\n",
    "cooking_q_count\n",
    "fig = px.line(cooking_q_count, x=\"생산년도\", y=\"작업장코드\", title='분기별 간편식 생산품목 수')\n",
    "fig.show()\n",
    "\n",
    "\n",
    "#2. 분기별 오류발생 횟수\n",
    "q_error_count = cooking_process.groupby('생산년도')['오류발생여부'].sum()\n",
    "q_error_count = pd.DataFrame(q_error_count)\n",
    "q_error_count.reset_index(inplace = True)\n",
    "q_error_count\n",
    "fig = px.line(q_error_count, x=\"생산년도\", y=\"오류발생여부\", title='분기별 오류발생 현황 ')\n",
    "fig.show()"
   ]
  },
  {
   "cell_type": "code",
   "execution_count": 115,
   "metadata": {
    "scrolled": true
   },
   "outputs": [
    {
     "data": {
      "application/vnd.plotly.v1+json": {
       "config": {
        "plotlyServerURL": "https://plot.ly"
       },
       "data": [
        {
         "mode": "lines",
         "name": "분기별 간편식 생산품목 수",
         "type": "scatter",
         "x": [
          2011,
          2012,
          2013,
          2014,
          2015,
          2016,
          2017,
          2018,
          2019,
          2020,
          2021
         ],
         "xaxis": "x",
         "y": [
          3959,
          1521,
          969,
          470,
          357,
          687,
          5386,
          4201,
          3053,
          2294,
          1172
         ],
         "yaxis": "y"
        },
        {
         "mode": "lines",
         "name": "분기별 오류발생 현황",
         "type": "scatter",
         "x": [
          2011,
          2012,
          2013,
          2014,
          2015,
          2016,
          2017,
          2018,
          2019,
          2020,
          2021
         ],
         "xaxis": "x",
         "y": [
          187,
          66,
          48,
          7,
          30,
          23,
          240,
          188,
          127,
          101,
          57
         ],
         "yaxis": "y2"
        }
       ],
       "layout": {
        "template": {
         "data": {
          "bar": [
           {
            "error_x": {
             "color": "#2a3f5f"
            },
            "error_y": {
             "color": "#2a3f5f"
            },
            "marker": {
             "line": {
              "color": "#E5ECF6",
              "width": 0.5
             },
             "pattern": {
              "fillmode": "overlay",
              "size": 10,
              "solidity": 0.2
             }
            },
            "type": "bar"
           }
          ],
          "barpolar": [
           {
            "marker": {
             "line": {
              "color": "#E5ECF6",
              "width": 0.5
             },
             "pattern": {
              "fillmode": "overlay",
              "size": 10,
              "solidity": 0.2
             }
            },
            "type": "barpolar"
           }
          ],
          "carpet": [
           {
            "aaxis": {
             "endlinecolor": "#2a3f5f",
             "gridcolor": "white",
             "linecolor": "white",
             "minorgridcolor": "white",
             "startlinecolor": "#2a3f5f"
            },
            "baxis": {
             "endlinecolor": "#2a3f5f",
             "gridcolor": "white",
             "linecolor": "white",
             "minorgridcolor": "white",
             "startlinecolor": "#2a3f5f"
            },
            "type": "carpet"
           }
          ],
          "choropleth": [
           {
            "colorbar": {
             "outlinewidth": 0,
             "ticks": ""
            },
            "type": "choropleth"
           }
          ],
          "contour": [
           {
            "colorbar": {
             "outlinewidth": 0,
             "ticks": ""
            },
            "colorscale": [
             [
              0,
              "#0d0887"
             ],
             [
              0.1111111111111111,
              "#46039f"
             ],
             [
              0.2222222222222222,
              "#7201a8"
             ],
             [
              0.3333333333333333,
              "#9c179e"
             ],
             [
              0.4444444444444444,
              "#bd3786"
             ],
             [
              0.5555555555555556,
              "#d8576b"
             ],
             [
              0.6666666666666666,
              "#ed7953"
             ],
             [
              0.7777777777777778,
              "#fb9f3a"
             ],
             [
              0.8888888888888888,
              "#fdca26"
             ],
             [
              1,
              "#f0f921"
             ]
            ],
            "type": "contour"
           }
          ],
          "contourcarpet": [
           {
            "colorbar": {
             "outlinewidth": 0,
             "ticks": ""
            },
            "type": "contourcarpet"
           }
          ],
          "heatmap": [
           {
            "colorbar": {
             "outlinewidth": 0,
             "ticks": ""
            },
            "colorscale": [
             [
              0,
              "#0d0887"
             ],
             [
              0.1111111111111111,
              "#46039f"
             ],
             [
              0.2222222222222222,
              "#7201a8"
             ],
             [
              0.3333333333333333,
              "#9c179e"
             ],
             [
              0.4444444444444444,
              "#bd3786"
             ],
             [
              0.5555555555555556,
              "#d8576b"
             ],
             [
              0.6666666666666666,
              "#ed7953"
             ],
             [
              0.7777777777777778,
              "#fb9f3a"
             ],
             [
              0.8888888888888888,
              "#fdca26"
             ],
             [
              1,
              "#f0f921"
             ]
            ],
            "type": "heatmap"
           }
          ],
          "heatmapgl": [
           {
            "colorbar": {
             "outlinewidth": 0,
             "ticks": ""
            },
            "colorscale": [
             [
              0,
              "#0d0887"
             ],
             [
              0.1111111111111111,
              "#46039f"
             ],
             [
              0.2222222222222222,
              "#7201a8"
             ],
             [
              0.3333333333333333,
              "#9c179e"
             ],
             [
              0.4444444444444444,
              "#bd3786"
             ],
             [
              0.5555555555555556,
              "#d8576b"
             ],
             [
              0.6666666666666666,
              "#ed7953"
             ],
             [
              0.7777777777777778,
              "#fb9f3a"
             ],
             [
              0.8888888888888888,
              "#fdca26"
             ],
             [
              1,
              "#f0f921"
             ]
            ],
            "type": "heatmapgl"
           }
          ],
          "histogram": [
           {
            "marker": {
             "pattern": {
              "fillmode": "overlay",
              "size": 10,
              "solidity": 0.2
             }
            },
            "type": "histogram"
           }
          ],
          "histogram2d": [
           {
            "colorbar": {
             "outlinewidth": 0,
             "ticks": ""
            },
            "colorscale": [
             [
              0,
              "#0d0887"
             ],
             [
              0.1111111111111111,
              "#46039f"
             ],
             [
              0.2222222222222222,
              "#7201a8"
             ],
             [
              0.3333333333333333,
              "#9c179e"
             ],
             [
              0.4444444444444444,
              "#bd3786"
             ],
             [
              0.5555555555555556,
              "#d8576b"
             ],
             [
              0.6666666666666666,
              "#ed7953"
             ],
             [
              0.7777777777777778,
              "#fb9f3a"
             ],
             [
              0.8888888888888888,
              "#fdca26"
             ],
             [
              1,
              "#f0f921"
             ]
            ],
            "type": "histogram2d"
           }
          ],
          "histogram2dcontour": [
           {
            "colorbar": {
             "outlinewidth": 0,
             "ticks": ""
            },
            "colorscale": [
             [
              0,
              "#0d0887"
             ],
             [
              0.1111111111111111,
              "#46039f"
             ],
             [
              0.2222222222222222,
              "#7201a8"
             ],
             [
              0.3333333333333333,
              "#9c179e"
             ],
             [
              0.4444444444444444,
              "#bd3786"
             ],
             [
              0.5555555555555556,
              "#d8576b"
             ],
             [
              0.6666666666666666,
              "#ed7953"
             ],
             [
              0.7777777777777778,
              "#fb9f3a"
             ],
             [
              0.8888888888888888,
              "#fdca26"
             ],
             [
              1,
              "#f0f921"
             ]
            ],
            "type": "histogram2dcontour"
           }
          ],
          "mesh3d": [
           {
            "colorbar": {
             "outlinewidth": 0,
             "ticks": ""
            },
            "type": "mesh3d"
           }
          ],
          "parcoords": [
           {
            "line": {
             "colorbar": {
              "outlinewidth": 0,
              "ticks": ""
             }
            },
            "type": "parcoords"
           }
          ],
          "pie": [
           {
            "automargin": true,
            "type": "pie"
           }
          ],
          "scatter": [
           {
            "fillpattern": {
             "fillmode": "overlay",
             "size": 10,
             "solidity": 0.2
            },
            "type": "scatter"
           }
          ],
          "scatter3d": [
           {
            "line": {
             "colorbar": {
              "outlinewidth": 0,
              "ticks": ""
             }
            },
            "marker": {
             "colorbar": {
              "outlinewidth": 0,
              "ticks": ""
             }
            },
            "type": "scatter3d"
           }
          ],
          "scattercarpet": [
           {
            "marker": {
             "colorbar": {
              "outlinewidth": 0,
              "ticks": ""
             }
            },
            "type": "scattercarpet"
           }
          ],
          "scattergeo": [
           {
            "marker": {
             "colorbar": {
              "outlinewidth": 0,
              "ticks": ""
             }
            },
            "type": "scattergeo"
           }
          ],
          "scattergl": [
           {
            "marker": {
             "colorbar": {
              "outlinewidth": 0,
              "ticks": ""
             }
            },
            "type": "scattergl"
           }
          ],
          "scattermapbox": [
           {
            "marker": {
             "colorbar": {
              "outlinewidth": 0,
              "ticks": ""
             }
            },
            "type": "scattermapbox"
           }
          ],
          "scatterpolar": [
           {
            "marker": {
             "colorbar": {
              "outlinewidth": 0,
              "ticks": ""
             }
            },
            "type": "scatterpolar"
           }
          ],
          "scatterpolargl": [
           {
            "marker": {
             "colorbar": {
              "outlinewidth": 0,
              "ticks": ""
             }
            },
            "type": "scatterpolargl"
           }
          ],
          "scatterternary": [
           {
            "marker": {
             "colorbar": {
              "outlinewidth": 0,
              "ticks": ""
             }
            },
            "type": "scatterternary"
           }
          ],
          "surface": [
           {
            "colorbar": {
             "outlinewidth": 0,
             "ticks": ""
            },
            "colorscale": [
             [
              0,
              "#0d0887"
             ],
             [
              0.1111111111111111,
              "#46039f"
             ],
             [
              0.2222222222222222,
              "#7201a8"
             ],
             [
              0.3333333333333333,
              "#9c179e"
             ],
             [
              0.4444444444444444,
              "#bd3786"
             ],
             [
              0.5555555555555556,
              "#d8576b"
             ],
             [
              0.6666666666666666,
              "#ed7953"
             ],
             [
              0.7777777777777778,
              "#fb9f3a"
             ],
             [
              0.8888888888888888,
              "#fdca26"
             ],
             [
              1,
              "#f0f921"
             ]
            ],
            "type": "surface"
           }
          ],
          "table": [
           {
            "cells": {
             "fill": {
              "color": "#EBF0F8"
             },
             "line": {
              "color": "white"
             }
            },
            "header": {
             "fill": {
              "color": "#C8D4E3"
             },
             "line": {
              "color": "white"
             }
            },
            "type": "table"
           }
          ]
         },
         "layout": {
          "annotationdefaults": {
           "arrowcolor": "#2a3f5f",
           "arrowhead": 0,
           "arrowwidth": 1
          },
          "autotypenumbers": "strict",
          "coloraxis": {
           "colorbar": {
            "outlinewidth": 0,
            "ticks": ""
           }
          },
          "colorscale": {
           "diverging": [
            [
             0,
             "#8e0152"
            ],
            [
             0.1,
             "#c51b7d"
            ],
            [
             0.2,
             "#de77ae"
            ],
            [
             0.3,
             "#f1b6da"
            ],
            [
             0.4,
             "#fde0ef"
            ],
            [
             0.5,
             "#f7f7f7"
            ],
            [
             0.6,
             "#e6f5d0"
            ],
            [
             0.7,
             "#b8e186"
            ],
            [
             0.8,
             "#7fbc41"
            ],
            [
             0.9,
             "#4d9221"
            ],
            [
             1,
             "#276419"
            ]
           ],
           "sequential": [
            [
             0,
             "#0d0887"
            ],
            [
             0.1111111111111111,
             "#46039f"
            ],
            [
             0.2222222222222222,
             "#7201a8"
            ],
            [
             0.3333333333333333,
             "#9c179e"
            ],
            [
             0.4444444444444444,
             "#bd3786"
            ],
            [
             0.5555555555555556,
             "#d8576b"
            ],
            [
             0.6666666666666666,
             "#ed7953"
            ],
            [
             0.7777777777777778,
             "#fb9f3a"
            ],
            [
             0.8888888888888888,
             "#fdca26"
            ],
            [
             1,
             "#f0f921"
            ]
           ],
           "sequentialminus": [
            [
             0,
             "#0d0887"
            ],
            [
             0.1111111111111111,
             "#46039f"
            ],
            [
             0.2222222222222222,
             "#7201a8"
            ],
            [
             0.3333333333333333,
             "#9c179e"
            ],
            [
             0.4444444444444444,
             "#bd3786"
            ],
            [
             0.5555555555555556,
             "#d8576b"
            ],
            [
             0.6666666666666666,
             "#ed7953"
            ],
            [
             0.7777777777777778,
             "#fb9f3a"
            ],
            [
             0.8888888888888888,
             "#fdca26"
            ],
            [
             1,
             "#f0f921"
            ]
           ]
          },
          "colorway": [
           "#636efa",
           "#EF553B",
           "#00cc96",
           "#ab63fa",
           "#FFA15A",
           "#19d3f3",
           "#FF6692",
           "#B6E880",
           "#FF97FF",
           "#FECB52"
          ],
          "font": {
           "color": "#2a3f5f"
          },
          "geo": {
           "bgcolor": "white",
           "lakecolor": "white",
           "landcolor": "#E5ECF6",
           "showlakes": true,
           "showland": true,
           "subunitcolor": "white"
          },
          "hoverlabel": {
           "align": "left"
          },
          "hovermode": "closest",
          "mapbox": {
           "style": "light"
          },
          "paper_bgcolor": "white",
          "plot_bgcolor": "#E5ECF6",
          "polar": {
           "angularaxis": {
            "gridcolor": "white",
            "linecolor": "white",
            "ticks": ""
           },
           "bgcolor": "#E5ECF6",
           "radialaxis": {
            "gridcolor": "white",
            "linecolor": "white",
            "ticks": ""
           }
          },
          "scene": {
           "xaxis": {
            "backgroundcolor": "#E5ECF6",
            "gridcolor": "white",
            "gridwidth": 2,
            "linecolor": "white",
            "showbackground": true,
            "ticks": "",
            "zerolinecolor": "white"
           },
           "yaxis": {
            "backgroundcolor": "#E5ECF6",
            "gridcolor": "white",
            "gridwidth": 2,
            "linecolor": "white",
            "showbackground": true,
            "ticks": "",
            "zerolinecolor": "white"
           },
           "zaxis": {
            "backgroundcolor": "#E5ECF6",
            "gridcolor": "white",
            "gridwidth": 2,
            "linecolor": "white",
            "showbackground": true,
            "ticks": "",
            "zerolinecolor": "white"
           }
          },
          "shapedefaults": {
           "line": {
            "color": "#2a3f5f"
           }
          },
          "ternary": {
           "aaxis": {
            "gridcolor": "white",
            "linecolor": "white",
            "ticks": ""
           },
           "baxis": {
            "gridcolor": "white",
            "linecolor": "white",
            "ticks": ""
           },
           "bgcolor": "#E5ECF6",
           "caxis": {
            "gridcolor": "white",
            "linecolor": "white",
            "ticks": ""
           }
          },
          "title": {
           "x": 0.05
          },
          "xaxis": {
           "automargin": true,
           "gridcolor": "white",
           "linecolor": "white",
           "ticks": "",
           "title": {
            "standoff": 15
           },
           "zerolinecolor": "white",
           "zerolinewidth": 2
          },
          "yaxis": {
           "automargin": true,
           "gridcolor": "white",
           "linecolor": "white",
           "ticks": "",
           "title": {
            "standoff": 15
           },
           "zerolinecolor": "white",
           "zerolinewidth": 2
          }
         }
        },
        "title": {
         "text": "분기별 생산품목과 오류발생"
        },
        "xaxis": {
         "anchor": "y",
         "domain": [
          0,
          0.94
         ],
         "title": {
          "text": "분기"
         }
        },
        "yaxis": {
         "anchor": "x",
         "domain": [
          0,
          1
         ],
         "title": {
          "text": "<b>생산품목</b>"
         }
        },
        "yaxis2": {
         "anchor": "x",
         "overlaying": "y",
         "side": "right",
         "title": {
          "text": "<b>오류발생</b>"
         }
        }
       }
      },
      "text/html": [
       "<div>                            <div id=\"11a8bafd-e4f1-45e4-82af-b284ca938b21\" class=\"plotly-graph-div\" style=\"height:525px; width:100%;\"></div>            <script type=\"text/javascript\">                require([\"plotly\"], function(Plotly) {                    window.PLOTLYENV=window.PLOTLYENV || {};                                    if (document.getElementById(\"11a8bafd-e4f1-45e4-82af-b284ca938b21\")) {                    Plotly.newPlot(                        \"11a8bafd-e4f1-45e4-82af-b284ca938b21\",                        [{\"mode\":\"lines\",\"name\":\"\\ubd84\\uae30\\ubcc4 \\uac04\\ud3b8\\uc2dd \\uc0dd\\uc0b0\\ud488\\ubaa9 \\uc218\",\"x\":[2011,2012,2013,2014,2015,2016,2017,2018,2019,2020,2021],\"y\":[3959,1521,969,470,357,687,5386,4201,3053,2294,1172],\"type\":\"scatter\",\"xaxis\":\"x\",\"yaxis\":\"y\"},{\"mode\":\"lines\",\"name\":\"\\ubd84\\uae30\\ubcc4 \\uc624\\ub958\\ubc1c\\uc0dd \\ud604\\ud669\",\"x\":[2011,2012,2013,2014,2015,2016,2017,2018,2019,2020,2021],\"y\":[187,66,48,7,30,23,240,188,127,101,57],\"type\":\"scatter\",\"xaxis\":\"x\",\"yaxis\":\"y2\"}],                        {\"template\":{\"data\":{\"histogram2dcontour\":[{\"type\":\"histogram2dcontour\",\"colorbar\":{\"outlinewidth\":0,\"ticks\":\"\"},\"colorscale\":[[0.0,\"#0d0887\"],[0.1111111111111111,\"#46039f\"],[0.2222222222222222,\"#7201a8\"],[0.3333333333333333,\"#9c179e\"],[0.4444444444444444,\"#bd3786\"],[0.5555555555555556,\"#d8576b\"],[0.6666666666666666,\"#ed7953\"],[0.7777777777777778,\"#fb9f3a\"],[0.8888888888888888,\"#fdca26\"],[1.0,\"#f0f921\"]]}],\"choropleth\":[{\"type\":\"choropleth\",\"colorbar\":{\"outlinewidth\":0,\"ticks\":\"\"}}],\"histogram2d\":[{\"type\":\"histogram2d\",\"colorbar\":{\"outlinewidth\":0,\"ticks\":\"\"},\"colorscale\":[[0.0,\"#0d0887\"],[0.1111111111111111,\"#46039f\"],[0.2222222222222222,\"#7201a8\"],[0.3333333333333333,\"#9c179e\"],[0.4444444444444444,\"#bd3786\"],[0.5555555555555556,\"#d8576b\"],[0.6666666666666666,\"#ed7953\"],[0.7777777777777778,\"#fb9f3a\"],[0.8888888888888888,\"#fdca26\"],[1.0,\"#f0f921\"]]}],\"heatmap\":[{\"type\":\"heatmap\",\"colorbar\":{\"outlinewidth\":0,\"ticks\":\"\"},\"colorscale\":[[0.0,\"#0d0887\"],[0.1111111111111111,\"#46039f\"],[0.2222222222222222,\"#7201a8\"],[0.3333333333333333,\"#9c179e\"],[0.4444444444444444,\"#bd3786\"],[0.5555555555555556,\"#d8576b\"],[0.6666666666666666,\"#ed7953\"],[0.7777777777777778,\"#fb9f3a\"],[0.8888888888888888,\"#fdca26\"],[1.0,\"#f0f921\"]]}],\"heatmapgl\":[{\"type\":\"heatmapgl\",\"colorbar\":{\"outlinewidth\":0,\"ticks\":\"\"},\"colorscale\":[[0.0,\"#0d0887\"],[0.1111111111111111,\"#46039f\"],[0.2222222222222222,\"#7201a8\"],[0.3333333333333333,\"#9c179e\"],[0.4444444444444444,\"#bd3786\"],[0.5555555555555556,\"#d8576b\"],[0.6666666666666666,\"#ed7953\"],[0.7777777777777778,\"#fb9f3a\"],[0.8888888888888888,\"#fdca26\"],[1.0,\"#f0f921\"]]}],\"contourcarpet\":[{\"type\":\"contourcarpet\",\"colorbar\":{\"outlinewidth\":0,\"ticks\":\"\"}}],\"contour\":[{\"type\":\"contour\",\"colorbar\":{\"outlinewidth\":0,\"ticks\":\"\"},\"colorscale\":[[0.0,\"#0d0887\"],[0.1111111111111111,\"#46039f\"],[0.2222222222222222,\"#7201a8\"],[0.3333333333333333,\"#9c179e\"],[0.4444444444444444,\"#bd3786\"],[0.5555555555555556,\"#d8576b\"],[0.6666666666666666,\"#ed7953\"],[0.7777777777777778,\"#fb9f3a\"],[0.8888888888888888,\"#fdca26\"],[1.0,\"#f0f921\"]]}],\"surface\":[{\"type\":\"surface\",\"colorbar\":{\"outlinewidth\":0,\"ticks\":\"\"},\"colorscale\":[[0.0,\"#0d0887\"],[0.1111111111111111,\"#46039f\"],[0.2222222222222222,\"#7201a8\"],[0.3333333333333333,\"#9c179e\"],[0.4444444444444444,\"#bd3786\"],[0.5555555555555556,\"#d8576b\"],[0.6666666666666666,\"#ed7953\"],[0.7777777777777778,\"#fb9f3a\"],[0.8888888888888888,\"#fdca26\"],[1.0,\"#f0f921\"]]}],\"mesh3d\":[{\"type\":\"mesh3d\",\"colorbar\":{\"outlinewidth\":0,\"ticks\":\"\"}}],\"scatter\":[{\"fillpattern\":{\"fillmode\":\"overlay\",\"size\":10,\"solidity\":0.2},\"type\":\"scatter\"}],\"parcoords\":[{\"type\":\"parcoords\",\"line\":{\"colorbar\":{\"outlinewidth\":0,\"ticks\":\"\"}}}],\"scatterpolargl\":[{\"type\":\"scatterpolargl\",\"marker\":{\"colorbar\":{\"outlinewidth\":0,\"ticks\":\"\"}}}],\"bar\":[{\"error_x\":{\"color\":\"#2a3f5f\"},\"error_y\":{\"color\":\"#2a3f5f\"},\"marker\":{\"line\":{\"color\":\"#E5ECF6\",\"width\":0.5},\"pattern\":{\"fillmode\":\"overlay\",\"size\":10,\"solidity\":0.2}},\"type\":\"bar\"}],\"scattergeo\":[{\"type\":\"scattergeo\",\"marker\":{\"colorbar\":{\"outlinewidth\":0,\"ticks\":\"\"}}}],\"scatterpolar\":[{\"type\":\"scatterpolar\",\"marker\":{\"colorbar\":{\"outlinewidth\":0,\"ticks\":\"\"}}}],\"histogram\":[{\"marker\":{\"pattern\":{\"fillmode\":\"overlay\",\"size\":10,\"solidity\":0.2}},\"type\":\"histogram\"}],\"scattergl\":[{\"type\":\"scattergl\",\"marker\":{\"colorbar\":{\"outlinewidth\":0,\"ticks\":\"\"}}}],\"scatter3d\":[{\"type\":\"scatter3d\",\"line\":{\"colorbar\":{\"outlinewidth\":0,\"ticks\":\"\"}},\"marker\":{\"colorbar\":{\"outlinewidth\":0,\"ticks\":\"\"}}}],\"scattermapbox\":[{\"type\":\"scattermapbox\",\"marker\":{\"colorbar\":{\"outlinewidth\":0,\"ticks\":\"\"}}}],\"scatterternary\":[{\"type\":\"scatterternary\",\"marker\":{\"colorbar\":{\"outlinewidth\":0,\"ticks\":\"\"}}}],\"scattercarpet\":[{\"type\":\"scattercarpet\",\"marker\":{\"colorbar\":{\"outlinewidth\":0,\"ticks\":\"\"}}}],\"carpet\":[{\"aaxis\":{\"endlinecolor\":\"#2a3f5f\",\"gridcolor\":\"white\",\"linecolor\":\"white\",\"minorgridcolor\":\"white\",\"startlinecolor\":\"#2a3f5f\"},\"baxis\":{\"endlinecolor\":\"#2a3f5f\",\"gridcolor\":\"white\",\"linecolor\":\"white\",\"minorgridcolor\":\"white\",\"startlinecolor\":\"#2a3f5f\"},\"type\":\"carpet\"}],\"table\":[{\"cells\":{\"fill\":{\"color\":\"#EBF0F8\"},\"line\":{\"color\":\"white\"}},\"header\":{\"fill\":{\"color\":\"#C8D4E3\"},\"line\":{\"color\":\"white\"}},\"type\":\"table\"}],\"barpolar\":[{\"marker\":{\"line\":{\"color\":\"#E5ECF6\",\"width\":0.5},\"pattern\":{\"fillmode\":\"overlay\",\"size\":10,\"solidity\":0.2}},\"type\":\"barpolar\"}],\"pie\":[{\"automargin\":true,\"type\":\"pie\"}]},\"layout\":{\"autotypenumbers\":\"strict\",\"colorway\":[\"#636efa\",\"#EF553B\",\"#00cc96\",\"#ab63fa\",\"#FFA15A\",\"#19d3f3\",\"#FF6692\",\"#B6E880\",\"#FF97FF\",\"#FECB52\"],\"font\":{\"color\":\"#2a3f5f\"},\"hovermode\":\"closest\",\"hoverlabel\":{\"align\":\"left\"},\"paper_bgcolor\":\"white\",\"plot_bgcolor\":\"#E5ECF6\",\"polar\":{\"bgcolor\":\"#E5ECF6\",\"angularaxis\":{\"gridcolor\":\"white\",\"linecolor\":\"white\",\"ticks\":\"\"},\"radialaxis\":{\"gridcolor\":\"white\",\"linecolor\":\"white\",\"ticks\":\"\"}},\"ternary\":{\"bgcolor\":\"#E5ECF6\",\"aaxis\":{\"gridcolor\":\"white\",\"linecolor\":\"white\",\"ticks\":\"\"},\"baxis\":{\"gridcolor\":\"white\",\"linecolor\":\"white\",\"ticks\":\"\"},\"caxis\":{\"gridcolor\":\"white\",\"linecolor\":\"white\",\"ticks\":\"\"}},\"coloraxis\":{\"colorbar\":{\"outlinewidth\":0,\"ticks\":\"\"}},\"colorscale\":{\"sequential\":[[0.0,\"#0d0887\"],[0.1111111111111111,\"#46039f\"],[0.2222222222222222,\"#7201a8\"],[0.3333333333333333,\"#9c179e\"],[0.4444444444444444,\"#bd3786\"],[0.5555555555555556,\"#d8576b\"],[0.6666666666666666,\"#ed7953\"],[0.7777777777777778,\"#fb9f3a\"],[0.8888888888888888,\"#fdca26\"],[1.0,\"#f0f921\"]],\"sequentialminus\":[[0.0,\"#0d0887\"],[0.1111111111111111,\"#46039f\"],[0.2222222222222222,\"#7201a8\"],[0.3333333333333333,\"#9c179e\"],[0.4444444444444444,\"#bd3786\"],[0.5555555555555556,\"#d8576b\"],[0.6666666666666666,\"#ed7953\"],[0.7777777777777778,\"#fb9f3a\"],[0.8888888888888888,\"#fdca26\"],[1.0,\"#f0f921\"]],\"diverging\":[[0,\"#8e0152\"],[0.1,\"#c51b7d\"],[0.2,\"#de77ae\"],[0.3,\"#f1b6da\"],[0.4,\"#fde0ef\"],[0.5,\"#f7f7f7\"],[0.6,\"#e6f5d0\"],[0.7,\"#b8e186\"],[0.8,\"#7fbc41\"],[0.9,\"#4d9221\"],[1,\"#276419\"]]},\"xaxis\":{\"gridcolor\":\"white\",\"linecolor\":\"white\",\"ticks\":\"\",\"title\":{\"standoff\":15},\"zerolinecolor\":\"white\",\"automargin\":true,\"zerolinewidth\":2},\"yaxis\":{\"gridcolor\":\"white\",\"linecolor\":\"white\",\"ticks\":\"\",\"title\":{\"standoff\":15},\"zerolinecolor\":\"white\",\"automargin\":true,\"zerolinewidth\":2},\"scene\":{\"xaxis\":{\"backgroundcolor\":\"#E5ECF6\",\"gridcolor\":\"white\",\"linecolor\":\"white\",\"showbackground\":true,\"ticks\":\"\",\"zerolinecolor\":\"white\",\"gridwidth\":2},\"yaxis\":{\"backgroundcolor\":\"#E5ECF6\",\"gridcolor\":\"white\",\"linecolor\":\"white\",\"showbackground\":true,\"ticks\":\"\",\"zerolinecolor\":\"white\",\"gridwidth\":2},\"zaxis\":{\"backgroundcolor\":\"#E5ECF6\",\"gridcolor\":\"white\",\"linecolor\":\"white\",\"showbackground\":true,\"ticks\":\"\",\"zerolinecolor\":\"white\",\"gridwidth\":2}},\"shapedefaults\":{\"line\":{\"color\":\"#2a3f5f\"}},\"annotationdefaults\":{\"arrowcolor\":\"#2a3f5f\",\"arrowhead\":0,\"arrowwidth\":1},\"geo\":{\"bgcolor\":\"white\",\"landcolor\":\"#E5ECF6\",\"subunitcolor\":\"white\",\"showland\":true,\"showlakes\":true,\"lakecolor\":\"white\"},\"title\":{\"x\":0.05},\"mapbox\":{\"style\":\"light\"}}},\"xaxis\":{\"anchor\":\"y\",\"domain\":[0.0,0.94],\"title\":{\"text\":\"\\ubd84\\uae30\"}},\"yaxis\":{\"anchor\":\"x\",\"domain\":[0.0,1.0],\"title\":{\"text\":\"<b>\\uc0dd\\uc0b0\\ud488\\ubaa9</b>\"}},\"yaxis2\":{\"anchor\":\"x\",\"overlaying\":\"y\",\"side\":\"right\",\"title\":{\"text\":\"<b>\\uc624\\ub958\\ubc1c\\uc0dd</b>\"}},\"title\":{\"text\":\"\\ubd84\\uae30\\ubcc4 \\uc0dd\\uc0b0\\ud488\\ubaa9\\uacfc \\uc624\\ub958\\ubc1c\\uc0dd\"}},                        {\"responsive\": true}                    ).then(function(){\n",
       "                            \n",
       "var gd = document.getElementById('11a8bafd-e4f1-45e4-82af-b284ca938b21');\n",
       "var x = new MutationObserver(function (mutations, observer) {{\n",
       "        var display = window.getComputedStyle(gd).display;\n",
       "        if (!display || display === 'none') {{\n",
       "            console.log([gd, 'removed!']);\n",
       "            Plotly.purge(gd);\n",
       "            observer.disconnect();\n",
       "        }}\n",
       "}});\n",
       "\n",
       "// Listen for the removal of the full notebook cells\n",
       "var notebookContainer = gd.closest('#notebook-container');\n",
       "if (notebookContainer) {{\n",
       "    x.observe(notebookContainer, {childList: true});\n",
       "}}\n",
       "\n",
       "// Listen for the clearing of the current output cell\n",
       "var outputEl = gd.closest('.output');\n",
       "if (outputEl) {{\n",
       "    x.observe(outputEl, {childList: true});\n",
       "}}\n",
       "\n",
       "                        })                };                });            </script>        </div>"
      ]
     },
     "metadata": {},
     "output_type": "display_data"
    }
   ],
   "source": [
    "#밑 그래프인 분기별 생산품목과 오류발생, 코드\n",
    "import plotly.graph_objects as go\n",
    "from plotly.subplots import make_subplots\n",
    "\n",
    "\n",
    "fig = make_subplots(specs=[[{\"secondary_y\": True}]])\n",
    "\n",
    "# Add traces\n",
    "fig.add_trace(\n",
    "    go.Scatter( x = cooking_q_count[\"생산년도\"], y = cooking_q_count[\"작업장코드\"],\n",
    "    mode = 'lines', name = '분기별 간편식 생산품목 수'),\n",
    "    secondary_y=False,\n",
    ")\n",
    "\n",
    "fig.add_trace(\n",
    "    go.Scatter( x = q_error_count[\"생산년도\"], y = q_error_count[\"오류발생여부\"],\n",
    "    mode = 'lines', name = '분기별 오류발생 현황'),\n",
    "    secondary_y=True,\n",
    ")\n",
    "\n",
    "# Add figure title\n",
    "fig.update_layout(\n",
    "    title_text=\"분기별 생산품목과 오류발생\"\n",
    ")\n",
    "\n",
    "\n",
    "\n",
    "# Set x-axis title\n",
    "fig.update_xaxes(title_text=\"분기\")\n",
    "\n",
    "# Set y-axes titles\n",
    "fig.update_yaxes(title_text=\"<b>생산품목</b>\", secondary_y=False)\n",
    "fig.update_yaxes(title_text=\"<b>오류발생</b>\", secondary_y=True)\n",
    "\n",
    "fig.show()"
   ]
  },
  {
   "cell_type": "code",
   "execution_count": null,
   "metadata": {},
   "outputs": [],
   "source": []
  },
  {
   "cell_type": "code",
   "execution_count": 116,
   "metadata": {},
   "outputs": [
    {
     "data": {
      "text/html": [
       "<div>\n",
       "<style scoped>\n",
       "    .dataframe tbody tr th:only-of-type {\n",
       "        vertical-align: middle;\n",
       "    }\n",
       "\n",
       "    .dataframe tbody tr th {\n",
       "        vertical-align: top;\n",
       "    }\n",
       "\n",
       "    .dataframe thead th {\n",
       "        text-align: right;\n",
       "    }\n",
       "</style>\n",
       "<table border=\"1\" class=\"dataframe\">\n",
       "  <thead>\n",
       "    <tr style=\"text-align: right;\">\n",
       "      <th></th>\n",
       "      <th>생산년도</th>\n",
       "      <th>오류발생여부</th>\n",
       "    </tr>\n",
       "  </thead>\n",
       "  <tbody>\n",
       "    <tr>\n",
       "      <th>0</th>\n",
       "      <td>2011</td>\n",
       "      <td>187</td>\n",
       "    </tr>\n",
       "    <tr>\n",
       "      <th>1</th>\n",
       "      <td>2012</td>\n",
       "      <td>66</td>\n",
       "    </tr>\n",
       "    <tr>\n",
       "      <th>2</th>\n",
       "      <td>2013</td>\n",
       "      <td>48</td>\n",
       "    </tr>\n",
       "    <tr>\n",
       "      <th>3</th>\n",
       "      <td>2014</td>\n",
       "      <td>7</td>\n",
       "    </tr>\n",
       "    <tr>\n",
       "      <th>4</th>\n",
       "      <td>2015</td>\n",
       "      <td>30</td>\n",
       "    </tr>\n",
       "  </tbody>\n",
       "</table>\n",
       "</div>"
      ],
      "text/plain": [
       "   생산년도  오류발생여부\n",
       "0  2011     187\n",
       "1  2012      66\n",
       "2  2013      48\n",
       "3  2014       7\n",
       "4  2015      30"
      ]
     },
     "execution_count": 116,
     "metadata": {},
     "output_type": "execute_result"
    }
   ],
   "source": [
    "q_error_count.head()"
   ]
  },
  {
   "cell_type": "code",
   "execution_count": 117,
   "metadata": {},
   "outputs": [
    {
     "data": {
      "application/vnd.plotly.v1+json": {
       "config": {
        "plotlyServerURL": "https://plot.ly"
       },
       "data": [
        {
         "hovertemplate": "생산년도=%{x}<br>오류발생여부=%{y}<extra></extra>",
         "legendgroup": "",
         "marker": {
          "color": "#636efa",
          "symbol": "circle"
         },
         "mode": "markers",
         "name": "",
         "orientation": "v",
         "showlegend": false,
         "type": "scatter",
         "x": [
          2011,
          2012,
          2013,
          2014,
          2015,
          2016,
          2017,
          2018,
          2019,
          2020,
          2021
         ],
         "xaxis": "x",
         "y": [
          187,
          66,
          48,
          7,
          30,
          23,
          240,
          188,
          127,
          101,
          57
         ],
         "yaxis": "y"
        },
        {
         "hovertemplate": "<b>OLS trendline</b><br>오류발생여부 = 2.71818 * 생산년도 + -5382.22<br>R<sup>2</sup>=0.013374<br><br>생산년도=%{x}<br>오류발생여부=%{y} <b>(trend)</b><extra></extra>",
         "legendgroup": "",
         "marker": {
          "color": "#636efa",
          "symbol": "circle"
         },
         "mode": "lines",
         "name": "",
         "showlegend": false,
         "type": "scatter",
         "x": [
          2011,
          2012,
          2013,
          2014,
          2015,
          2016,
          2017,
          2018,
          2019,
          2020,
          2021
         ],
         "xaxis": "x",
         "y": [
          84.04545454545314,
          86.76363636363567,
          89.4818181818182,
          92.20000000000073,
          94.91818181818326,
          97.63636363636579,
          100.35454545454832,
          103.07272727273084,
          105.79090909091428,
          108.50909090909681,
          111.22727272727934
         ],
         "yaxis": "y"
        }
       ],
       "layout": {
        "legend": {
         "tracegroupgap": 0
        },
        "margin": {
         "t": 60
        },
        "template": {
         "data": {
          "bar": [
           {
            "error_x": {
             "color": "#2a3f5f"
            },
            "error_y": {
             "color": "#2a3f5f"
            },
            "marker": {
             "line": {
              "color": "#E5ECF6",
              "width": 0.5
             },
             "pattern": {
              "fillmode": "overlay",
              "size": 10,
              "solidity": 0.2
             }
            },
            "type": "bar"
           }
          ],
          "barpolar": [
           {
            "marker": {
             "line": {
              "color": "#E5ECF6",
              "width": 0.5
             },
             "pattern": {
              "fillmode": "overlay",
              "size": 10,
              "solidity": 0.2
             }
            },
            "type": "barpolar"
           }
          ],
          "carpet": [
           {
            "aaxis": {
             "endlinecolor": "#2a3f5f",
             "gridcolor": "white",
             "linecolor": "white",
             "minorgridcolor": "white",
             "startlinecolor": "#2a3f5f"
            },
            "baxis": {
             "endlinecolor": "#2a3f5f",
             "gridcolor": "white",
             "linecolor": "white",
             "minorgridcolor": "white",
             "startlinecolor": "#2a3f5f"
            },
            "type": "carpet"
           }
          ],
          "choropleth": [
           {
            "colorbar": {
             "outlinewidth": 0,
             "ticks": ""
            },
            "type": "choropleth"
           }
          ],
          "contour": [
           {
            "colorbar": {
             "outlinewidth": 0,
             "ticks": ""
            },
            "colorscale": [
             [
              0,
              "#0d0887"
             ],
             [
              0.1111111111111111,
              "#46039f"
             ],
             [
              0.2222222222222222,
              "#7201a8"
             ],
             [
              0.3333333333333333,
              "#9c179e"
             ],
             [
              0.4444444444444444,
              "#bd3786"
             ],
             [
              0.5555555555555556,
              "#d8576b"
             ],
             [
              0.6666666666666666,
              "#ed7953"
             ],
             [
              0.7777777777777778,
              "#fb9f3a"
             ],
             [
              0.8888888888888888,
              "#fdca26"
             ],
             [
              1,
              "#f0f921"
             ]
            ],
            "type": "contour"
           }
          ],
          "contourcarpet": [
           {
            "colorbar": {
             "outlinewidth": 0,
             "ticks": ""
            },
            "type": "contourcarpet"
           }
          ],
          "heatmap": [
           {
            "colorbar": {
             "outlinewidth": 0,
             "ticks": ""
            },
            "colorscale": [
             [
              0,
              "#0d0887"
             ],
             [
              0.1111111111111111,
              "#46039f"
             ],
             [
              0.2222222222222222,
              "#7201a8"
             ],
             [
              0.3333333333333333,
              "#9c179e"
             ],
             [
              0.4444444444444444,
              "#bd3786"
             ],
             [
              0.5555555555555556,
              "#d8576b"
             ],
             [
              0.6666666666666666,
              "#ed7953"
             ],
             [
              0.7777777777777778,
              "#fb9f3a"
             ],
             [
              0.8888888888888888,
              "#fdca26"
             ],
             [
              1,
              "#f0f921"
             ]
            ],
            "type": "heatmap"
           }
          ],
          "heatmapgl": [
           {
            "colorbar": {
             "outlinewidth": 0,
             "ticks": ""
            },
            "colorscale": [
             [
              0,
              "#0d0887"
             ],
             [
              0.1111111111111111,
              "#46039f"
             ],
             [
              0.2222222222222222,
              "#7201a8"
             ],
             [
              0.3333333333333333,
              "#9c179e"
             ],
             [
              0.4444444444444444,
              "#bd3786"
             ],
             [
              0.5555555555555556,
              "#d8576b"
             ],
             [
              0.6666666666666666,
              "#ed7953"
             ],
             [
              0.7777777777777778,
              "#fb9f3a"
             ],
             [
              0.8888888888888888,
              "#fdca26"
             ],
             [
              1,
              "#f0f921"
             ]
            ],
            "type": "heatmapgl"
           }
          ],
          "histogram": [
           {
            "marker": {
             "pattern": {
              "fillmode": "overlay",
              "size": 10,
              "solidity": 0.2
             }
            },
            "type": "histogram"
           }
          ],
          "histogram2d": [
           {
            "colorbar": {
             "outlinewidth": 0,
             "ticks": ""
            },
            "colorscale": [
             [
              0,
              "#0d0887"
             ],
             [
              0.1111111111111111,
              "#46039f"
             ],
             [
              0.2222222222222222,
              "#7201a8"
             ],
             [
              0.3333333333333333,
              "#9c179e"
             ],
             [
              0.4444444444444444,
              "#bd3786"
             ],
             [
              0.5555555555555556,
              "#d8576b"
             ],
             [
              0.6666666666666666,
              "#ed7953"
             ],
             [
              0.7777777777777778,
              "#fb9f3a"
             ],
             [
              0.8888888888888888,
              "#fdca26"
             ],
             [
              1,
              "#f0f921"
             ]
            ],
            "type": "histogram2d"
           }
          ],
          "histogram2dcontour": [
           {
            "colorbar": {
             "outlinewidth": 0,
             "ticks": ""
            },
            "colorscale": [
             [
              0,
              "#0d0887"
             ],
             [
              0.1111111111111111,
              "#46039f"
             ],
             [
              0.2222222222222222,
              "#7201a8"
             ],
             [
              0.3333333333333333,
              "#9c179e"
             ],
             [
              0.4444444444444444,
              "#bd3786"
             ],
             [
              0.5555555555555556,
              "#d8576b"
             ],
             [
              0.6666666666666666,
              "#ed7953"
             ],
             [
              0.7777777777777778,
              "#fb9f3a"
             ],
             [
              0.8888888888888888,
              "#fdca26"
             ],
             [
              1,
              "#f0f921"
             ]
            ],
            "type": "histogram2dcontour"
           }
          ],
          "mesh3d": [
           {
            "colorbar": {
             "outlinewidth": 0,
             "ticks": ""
            },
            "type": "mesh3d"
           }
          ],
          "parcoords": [
           {
            "line": {
             "colorbar": {
              "outlinewidth": 0,
              "ticks": ""
             }
            },
            "type": "parcoords"
           }
          ],
          "pie": [
           {
            "automargin": true,
            "type": "pie"
           }
          ],
          "scatter": [
           {
            "fillpattern": {
             "fillmode": "overlay",
             "size": 10,
             "solidity": 0.2
            },
            "type": "scatter"
           }
          ],
          "scatter3d": [
           {
            "line": {
             "colorbar": {
              "outlinewidth": 0,
              "ticks": ""
             }
            },
            "marker": {
             "colorbar": {
              "outlinewidth": 0,
              "ticks": ""
             }
            },
            "type": "scatter3d"
           }
          ],
          "scattercarpet": [
           {
            "marker": {
             "colorbar": {
              "outlinewidth": 0,
              "ticks": ""
             }
            },
            "type": "scattercarpet"
           }
          ],
          "scattergeo": [
           {
            "marker": {
             "colorbar": {
              "outlinewidth": 0,
              "ticks": ""
             }
            },
            "type": "scattergeo"
           }
          ],
          "scattergl": [
           {
            "marker": {
             "colorbar": {
              "outlinewidth": 0,
              "ticks": ""
             }
            },
            "type": "scattergl"
           }
          ],
          "scattermapbox": [
           {
            "marker": {
             "colorbar": {
              "outlinewidth": 0,
              "ticks": ""
             }
            },
            "type": "scattermapbox"
           }
          ],
          "scatterpolar": [
           {
            "marker": {
             "colorbar": {
              "outlinewidth": 0,
              "ticks": ""
             }
            },
            "type": "scatterpolar"
           }
          ],
          "scatterpolargl": [
           {
            "marker": {
             "colorbar": {
              "outlinewidth": 0,
              "ticks": ""
             }
            },
            "type": "scatterpolargl"
           }
          ],
          "scatterternary": [
           {
            "marker": {
             "colorbar": {
              "outlinewidth": 0,
              "ticks": ""
             }
            },
            "type": "scatterternary"
           }
          ],
          "surface": [
           {
            "colorbar": {
             "outlinewidth": 0,
             "ticks": ""
            },
            "colorscale": [
             [
              0,
              "#0d0887"
             ],
             [
              0.1111111111111111,
              "#46039f"
             ],
             [
              0.2222222222222222,
              "#7201a8"
             ],
             [
              0.3333333333333333,
              "#9c179e"
             ],
             [
              0.4444444444444444,
              "#bd3786"
             ],
             [
              0.5555555555555556,
              "#d8576b"
             ],
             [
              0.6666666666666666,
              "#ed7953"
             ],
             [
              0.7777777777777778,
              "#fb9f3a"
             ],
             [
              0.8888888888888888,
              "#fdca26"
             ],
             [
              1,
              "#f0f921"
             ]
            ],
            "type": "surface"
           }
          ],
          "table": [
           {
            "cells": {
             "fill": {
              "color": "#EBF0F8"
             },
             "line": {
              "color": "white"
             }
            },
            "header": {
             "fill": {
              "color": "#C8D4E3"
             },
             "line": {
              "color": "white"
             }
            },
            "type": "table"
           }
          ]
         },
         "layout": {
          "annotationdefaults": {
           "arrowcolor": "#2a3f5f",
           "arrowhead": 0,
           "arrowwidth": 1
          },
          "autotypenumbers": "strict",
          "coloraxis": {
           "colorbar": {
            "outlinewidth": 0,
            "ticks": ""
           }
          },
          "colorscale": {
           "diverging": [
            [
             0,
             "#8e0152"
            ],
            [
             0.1,
             "#c51b7d"
            ],
            [
             0.2,
             "#de77ae"
            ],
            [
             0.3,
             "#f1b6da"
            ],
            [
             0.4,
             "#fde0ef"
            ],
            [
             0.5,
             "#f7f7f7"
            ],
            [
             0.6,
             "#e6f5d0"
            ],
            [
             0.7,
             "#b8e186"
            ],
            [
             0.8,
             "#7fbc41"
            ],
            [
             0.9,
             "#4d9221"
            ],
            [
             1,
             "#276419"
            ]
           ],
           "sequential": [
            [
             0,
             "#0d0887"
            ],
            [
             0.1111111111111111,
             "#46039f"
            ],
            [
             0.2222222222222222,
             "#7201a8"
            ],
            [
             0.3333333333333333,
             "#9c179e"
            ],
            [
             0.4444444444444444,
             "#bd3786"
            ],
            [
             0.5555555555555556,
             "#d8576b"
            ],
            [
             0.6666666666666666,
             "#ed7953"
            ],
            [
             0.7777777777777778,
             "#fb9f3a"
            ],
            [
             0.8888888888888888,
             "#fdca26"
            ],
            [
             1,
             "#f0f921"
            ]
           ],
           "sequentialminus": [
            [
             0,
             "#0d0887"
            ],
            [
             0.1111111111111111,
             "#46039f"
            ],
            [
             0.2222222222222222,
             "#7201a8"
            ],
            [
             0.3333333333333333,
             "#9c179e"
            ],
            [
             0.4444444444444444,
             "#bd3786"
            ],
            [
             0.5555555555555556,
             "#d8576b"
            ],
            [
             0.6666666666666666,
             "#ed7953"
            ],
            [
             0.7777777777777778,
             "#fb9f3a"
            ],
            [
             0.8888888888888888,
             "#fdca26"
            ],
            [
             1,
             "#f0f921"
            ]
           ]
          },
          "colorway": [
           "#636efa",
           "#EF553B",
           "#00cc96",
           "#ab63fa",
           "#FFA15A",
           "#19d3f3",
           "#FF6692",
           "#B6E880",
           "#FF97FF",
           "#FECB52"
          ],
          "font": {
           "color": "#2a3f5f"
          },
          "geo": {
           "bgcolor": "white",
           "lakecolor": "white",
           "landcolor": "#E5ECF6",
           "showlakes": true,
           "showland": true,
           "subunitcolor": "white"
          },
          "hoverlabel": {
           "align": "left"
          },
          "hovermode": "closest",
          "mapbox": {
           "style": "light"
          },
          "paper_bgcolor": "white",
          "plot_bgcolor": "#E5ECF6",
          "polar": {
           "angularaxis": {
            "gridcolor": "white",
            "linecolor": "white",
            "ticks": ""
           },
           "bgcolor": "#E5ECF6",
           "radialaxis": {
            "gridcolor": "white",
            "linecolor": "white",
            "ticks": ""
           }
          },
          "scene": {
           "xaxis": {
            "backgroundcolor": "#E5ECF6",
            "gridcolor": "white",
            "gridwidth": 2,
            "linecolor": "white",
            "showbackground": true,
            "ticks": "",
            "zerolinecolor": "white"
           },
           "yaxis": {
            "backgroundcolor": "#E5ECF6",
            "gridcolor": "white",
            "gridwidth": 2,
            "linecolor": "white",
            "showbackground": true,
            "ticks": "",
            "zerolinecolor": "white"
           },
           "zaxis": {
            "backgroundcolor": "#E5ECF6",
            "gridcolor": "white",
            "gridwidth": 2,
            "linecolor": "white",
            "showbackground": true,
            "ticks": "",
            "zerolinecolor": "white"
           }
          },
          "shapedefaults": {
           "line": {
            "color": "#2a3f5f"
           }
          },
          "ternary": {
           "aaxis": {
            "gridcolor": "white",
            "linecolor": "white",
            "ticks": ""
           },
           "baxis": {
            "gridcolor": "white",
            "linecolor": "white",
            "ticks": ""
           },
           "bgcolor": "#E5ECF6",
           "caxis": {
            "gridcolor": "white",
            "linecolor": "white",
            "ticks": ""
           }
          },
          "title": {
           "x": 0.05
          },
          "xaxis": {
           "automargin": true,
           "gridcolor": "white",
           "linecolor": "white",
           "ticks": "",
           "title": {
            "standoff": 15
           },
           "zerolinecolor": "white",
           "zerolinewidth": 2
          },
          "yaxis": {
           "automargin": true,
           "gridcolor": "white",
           "linecolor": "white",
           "ticks": "",
           "title": {
            "standoff": 15
           },
           "zerolinecolor": "white",
           "zerolinewidth": 2
          }
         }
        },
        "title": {
         "text": "분기별 생산품목과 오류발생"
        },
        "xaxis": {
         "anchor": "y",
         "domain": [
          0,
          1
         ],
         "title": {
          "text": "생산년도"
         }
        },
        "yaxis": {
         "anchor": "x",
         "domain": [
          0,
          1
         ],
         "title": {
          "text": "오류발생여부"
         }
        }
       }
      },
      "text/html": [
       "<div>                            <div id=\"aed246fe-3a06-43e8-97fa-f7888e9cbb14\" class=\"plotly-graph-div\" style=\"height:525px; width:100%;\"></div>            <script type=\"text/javascript\">                require([\"plotly\"], function(Plotly) {                    window.PLOTLYENV=window.PLOTLYENV || {};                                    if (document.getElementById(\"aed246fe-3a06-43e8-97fa-f7888e9cbb14\")) {                    Plotly.newPlot(                        \"aed246fe-3a06-43e8-97fa-f7888e9cbb14\",                        [{\"hovertemplate\":\"\\uc0dd\\uc0b0\\ub144\\ub3c4=%{x}<br>\\uc624\\ub958\\ubc1c\\uc0dd\\uc5ec\\ubd80=%{y}<extra></extra>\",\"legendgroup\":\"\",\"marker\":{\"color\":\"#636efa\",\"symbol\":\"circle\"},\"mode\":\"markers\",\"name\":\"\",\"orientation\":\"v\",\"showlegend\":false,\"x\":[2011,2012,2013,2014,2015,2016,2017,2018,2019,2020,2021],\"xaxis\":\"x\",\"y\":[187,66,48,7,30,23,240,188,127,101,57],\"yaxis\":\"y\",\"type\":\"scatter\"},{\"hovertemplate\":\"<b>OLS trendline</b><br>\\uc624\\ub958\\ubc1c\\uc0dd\\uc5ec\\ubd80 = 2.71818 * \\uc0dd\\uc0b0\\ub144\\ub3c4 + -5382.22<br>R<sup>2</sup>=0.013374<br><br>\\uc0dd\\uc0b0\\ub144\\ub3c4=%{x}<br>\\uc624\\ub958\\ubc1c\\uc0dd\\uc5ec\\ubd80=%{y} <b>(trend)</b><extra></extra>\",\"legendgroup\":\"\",\"marker\":{\"color\":\"#636efa\",\"symbol\":\"circle\"},\"mode\":\"lines\",\"name\":\"\",\"showlegend\":false,\"x\":[2011,2012,2013,2014,2015,2016,2017,2018,2019,2020,2021],\"xaxis\":\"x\",\"y\":[84.04545454545314,86.76363636363567,89.4818181818182,92.20000000000073,94.91818181818326,97.63636363636579,100.35454545454832,103.07272727273084,105.79090909091428,108.50909090909681,111.22727272727934],\"yaxis\":\"y\",\"type\":\"scatter\"}],                        {\"template\":{\"data\":{\"histogram2dcontour\":[{\"type\":\"histogram2dcontour\",\"colorbar\":{\"outlinewidth\":0,\"ticks\":\"\"},\"colorscale\":[[0.0,\"#0d0887\"],[0.1111111111111111,\"#46039f\"],[0.2222222222222222,\"#7201a8\"],[0.3333333333333333,\"#9c179e\"],[0.4444444444444444,\"#bd3786\"],[0.5555555555555556,\"#d8576b\"],[0.6666666666666666,\"#ed7953\"],[0.7777777777777778,\"#fb9f3a\"],[0.8888888888888888,\"#fdca26\"],[1.0,\"#f0f921\"]]}],\"choropleth\":[{\"type\":\"choropleth\",\"colorbar\":{\"outlinewidth\":0,\"ticks\":\"\"}}],\"histogram2d\":[{\"type\":\"histogram2d\",\"colorbar\":{\"outlinewidth\":0,\"ticks\":\"\"},\"colorscale\":[[0.0,\"#0d0887\"],[0.1111111111111111,\"#46039f\"],[0.2222222222222222,\"#7201a8\"],[0.3333333333333333,\"#9c179e\"],[0.4444444444444444,\"#bd3786\"],[0.5555555555555556,\"#d8576b\"],[0.6666666666666666,\"#ed7953\"],[0.7777777777777778,\"#fb9f3a\"],[0.8888888888888888,\"#fdca26\"],[1.0,\"#f0f921\"]]}],\"heatmap\":[{\"type\":\"heatmap\",\"colorbar\":{\"outlinewidth\":0,\"ticks\":\"\"},\"colorscale\":[[0.0,\"#0d0887\"],[0.1111111111111111,\"#46039f\"],[0.2222222222222222,\"#7201a8\"],[0.3333333333333333,\"#9c179e\"],[0.4444444444444444,\"#bd3786\"],[0.5555555555555556,\"#d8576b\"],[0.6666666666666666,\"#ed7953\"],[0.7777777777777778,\"#fb9f3a\"],[0.8888888888888888,\"#fdca26\"],[1.0,\"#f0f921\"]]}],\"heatmapgl\":[{\"type\":\"heatmapgl\",\"colorbar\":{\"outlinewidth\":0,\"ticks\":\"\"},\"colorscale\":[[0.0,\"#0d0887\"],[0.1111111111111111,\"#46039f\"],[0.2222222222222222,\"#7201a8\"],[0.3333333333333333,\"#9c179e\"],[0.4444444444444444,\"#bd3786\"],[0.5555555555555556,\"#d8576b\"],[0.6666666666666666,\"#ed7953\"],[0.7777777777777778,\"#fb9f3a\"],[0.8888888888888888,\"#fdca26\"],[1.0,\"#f0f921\"]]}],\"contourcarpet\":[{\"type\":\"contourcarpet\",\"colorbar\":{\"outlinewidth\":0,\"ticks\":\"\"}}],\"contour\":[{\"type\":\"contour\",\"colorbar\":{\"outlinewidth\":0,\"ticks\":\"\"},\"colorscale\":[[0.0,\"#0d0887\"],[0.1111111111111111,\"#46039f\"],[0.2222222222222222,\"#7201a8\"],[0.3333333333333333,\"#9c179e\"],[0.4444444444444444,\"#bd3786\"],[0.5555555555555556,\"#d8576b\"],[0.6666666666666666,\"#ed7953\"],[0.7777777777777778,\"#fb9f3a\"],[0.8888888888888888,\"#fdca26\"],[1.0,\"#f0f921\"]]}],\"surface\":[{\"type\":\"surface\",\"colorbar\":{\"outlinewidth\":0,\"ticks\":\"\"},\"colorscale\":[[0.0,\"#0d0887\"],[0.1111111111111111,\"#46039f\"],[0.2222222222222222,\"#7201a8\"],[0.3333333333333333,\"#9c179e\"],[0.4444444444444444,\"#bd3786\"],[0.5555555555555556,\"#d8576b\"],[0.6666666666666666,\"#ed7953\"],[0.7777777777777778,\"#fb9f3a\"],[0.8888888888888888,\"#fdca26\"],[1.0,\"#f0f921\"]]}],\"mesh3d\":[{\"type\":\"mesh3d\",\"colorbar\":{\"outlinewidth\":0,\"ticks\":\"\"}}],\"scatter\":[{\"fillpattern\":{\"fillmode\":\"overlay\",\"size\":10,\"solidity\":0.2},\"type\":\"scatter\"}],\"parcoords\":[{\"type\":\"parcoords\",\"line\":{\"colorbar\":{\"outlinewidth\":0,\"ticks\":\"\"}}}],\"scatterpolargl\":[{\"type\":\"scatterpolargl\",\"marker\":{\"colorbar\":{\"outlinewidth\":0,\"ticks\":\"\"}}}],\"bar\":[{\"error_x\":{\"color\":\"#2a3f5f\"},\"error_y\":{\"color\":\"#2a3f5f\"},\"marker\":{\"line\":{\"color\":\"#E5ECF6\",\"width\":0.5},\"pattern\":{\"fillmode\":\"overlay\",\"size\":10,\"solidity\":0.2}},\"type\":\"bar\"}],\"scattergeo\":[{\"type\":\"scattergeo\",\"marker\":{\"colorbar\":{\"outlinewidth\":0,\"ticks\":\"\"}}}],\"scatterpolar\":[{\"type\":\"scatterpolar\",\"marker\":{\"colorbar\":{\"outlinewidth\":0,\"ticks\":\"\"}}}],\"histogram\":[{\"marker\":{\"pattern\":{\"fillmode\":\"overlay\",\"size\":10,\"solidity\":0.2}},\"type\":\"histogram\"}],\"scattergl\":[{\"type\":\"scattergl\",\"marker\":{\"colorbar\":{\"outlinewidth\":0,\"ticks\":\"\"}}}],\"scatter3d\":[{\"type\":\"scatter3d\",\"line\":{\"colorbar\":{\"outlinewidth\":0,\"ticks\":\"\"}},\"marker\":{\"colorbar\":{\"outlinewidth\":0,\"ticks\":\"\"}}}],\"scattermapbox\":[{\"type\":\"scattermapbox\",\"marker\":{\"colorbar\":{\"outlinewidth\":0,\"ticks\":\"\"}}}],\"scatterternary\":[{\"type\":\"scatterternary\",\"marker\":{\"colorbar\":{\"outlinewidth\":0,\"ticks\":\"\"}}}],\"scattercarpet\":[{\"type\":\"scattercarpet\",\"marker\":{\"colorbar\":{\"outlinewidth\":0,\"ticks\":\"\"}}}],\"carpet\":[{\"aaxis\":{\"endlinecolor\":\"#2a3f5f\",\"gridcolor\":\"white\",\"linecolor\":\"white\",\"minorgridcolor\":\"white\",\"startlinecolor\":\"#2a3f5f\"},\"baxis\":{\"endlinecolor\":\"#2a3f5f\",\"gridcolor\":\"white\",\"linecolor\":\"white\",\"minorgridcolor\":\"white\",\"startlinecolor\":\"#2a3f5f\"},\"type\":\"carpet\"}],\"table\":[{\"cells\":{\"fill\":{\"color\":\"#EBF0F8\"},\"line\":{\"color\":\"white\"}},\"header\":{\"fill\":{\"color\":\"#C8D4E3\"},\"line\":{\"color\":\"white\"}},\"type\":\"table\"}],\"barpolar\":[{\"marker\":{\"line\":{\"color\":\"#E5ECF6\",\"width\":0.5},\"pattern\":{\"fillmode\":\"overlay\",\"size\":10,\"solidity\":0.2}},\"type\":\"barpolar\"}],\"pie\":[{\"automargin\":true,\"type\":\"pie\"}]},\"layout\":{\"autotypenumbers\":\"strict\",\"colorway\":[\"#636efa\",\"#EF553B\",\"#00cc96\",\"#ab63fa\",\"#FFA15A\",\"#19d3f3\",\"#FF6692\",\"#B6E880\",\"#FF97FF\",\"#FECB52\"],\"font\":{\"color\":\"#2a3f5f\"},\"hovermode\":\"closest\",\"hoverlabel\":{\"align\":\"left\"},\"paper_bgcolor\":\"white\",\"plot_bgcolor\":\"#E5ECF6\",\"polar\":{\"bgcolor\":\"#E5ECF6\",\"angularaxis\":{\"gridcolor\":\"white\",\"linecolor\":\"white\",\"ticks\":\"\"},\"radialaxis\":{\"gridcolor\":\"white\",\"linecolor\":\"white\",\"ticks\":\"\"}},\"ternary\":{\"bgcolor\":\"#E5ECF6\",\"aaxis\":{\"gridcolor\":\"white\",\"linecolor\":\"white\",\"ticks\":\"\"},\"baxis\":{\"gridcolor\":\"white\",\"linecolor\":\"white\",\"ticks\":\"\"},\"caxis\":{\"gridcolor\":\"white\",\"linecolor\":\"white\",\"ticks\":\"\"}},\"coloraxis\":{\"colorbar\":{\"outlinewidth\":0,\"ticks\":\"\"}},\"colorscale\":{\"sequential\":[[0.0,\"#0d0887\"],[0.1111111111111111,\"#46039f\"],[0.2222222222222222,\"#7201a8\"],[0.3333333333333333,\"#9c179e\"],[0.4444444444444444,\"#bd3786\"],[0.5555555555555556,\"#d8576b\"],[0.6666666666666666,\"#ed7953\"],[0.7777777777777778,\"#fb9f3a\"],[0.8888888888888888,\"#fdca26\"],[1.0,\"#f0f921\"]],\"sequentialminus\":[[0.0,\"#0d0887\"],[0.1111111111111111,\"#46039f\"],[0.2222222222222222,\"#7201a8\"],[0.3333333333333333,\"#9c179e\"],[0.4444444444444444,\"#bd3786\"],[0.5555555555555556,\"#d8576b\"],[0.6666666666666666,\"#ed7953\"],[0.7777777777777778,\"#fb9f3a\"],[0.8888888888888888,\"#fdca26\"],[1.0,\"#f0f921\"]],\"diverging\":[[0,\"#8e0152\"],[0.1,\"#c51b7d\"],[0.2,\"#de77ae\"],[0.3,\"#f1b6da\"],[0.4,\"#fde0ef\"],[0.5,\"#f7f7f7\"],[0.6,\"#e6f5d0\"],[0.7,\"#b8e186\"],[0.8,\"#7fbc41\"],[0.9,\"#4d9221\"],[1,\"#276419\"]]},\"xaxis\":{\"gridcolor\":\"white\",\"linecolor\":\"white\",\"ticks\":\"\",\"title\":{\"standoff\":15},\"zerolinecolor\":\"white\",\"automargin\":true,\"zerolinewidth\":2},\"yaxis\":{\"gridcolor\":\"white\",\"linecolor\":\"white\",\"ticks\":\"\",\"title\":{\"standoff\":15},\"zerolinecolor\":\"white\",\"automargin\":true,\"zerolinewidth\":2},\"scene\":{\"xaxis\":{\"backgroundcolor\":\"#E5ECF6\",\"gridcolor\":\"white\",\"linecolor\":\"white\",\"showbackground\":true,\"ticks\":\"\",\"zerolinecolor\":\"white\",\"gridwidth\":2},\"yaxis\":{\"backgroundcolor\":\"#E5ECF6\",\"gridcolor\":\"white\",\"linecolor\":\"white\",\"showbackground\":true,\"ticks\":\"\",\"zerolinecolor\":\"white\",\"gridwidth\":2},\"zaxis\":{\"backgroundcolor\":\"#E5ECF6\",\"gridcolor\":\"white\",\"linecolor\":\"white\",\"showbackground\":true,\"ticks\":\"\",\"zerolinecolor\":\"white\",\"gridwidth\":2}},\"shapedefaults\":{\"line\":{\"color\":\"#2a3f5f\"}},\"annotationdefaults\":{\"arrowcolor\":\"#2a3f5f\",\"arrowhead\":0,\"arrowwidth\":1},\"geo\":{\"bgcolor\":\"white\",\"landcolor\":\"#E5ECF6\",\"subunitcolor\":\"white\",\"showland\":true,\"showlakes\":true,\"lakecolor\":\"white\"},\"title\":{\"x\":0.05},\"mapbox\":{\"style\":\"light\"}}},\"xaxis\":{\"anchor\":\"y\",\"domain\":[0.0,1.0],\"title\":{\"text\":\"\\uc0dd\\uc0b0\\ub144\\ub3c4\"}},\"yaxis\":{\"anchor\":\"x\",\"domain\":[0.0,1.0],\"title\":{\"text\":\"\\uc624\\ub958\\ubc1c\\uc0dd\\uc5ec\\ubd80\"}},\"legend\":{\"tracegroupgap\":0},\"margin\":{\"t\":60},\"title\":{\"text\":\"\\ubd84\\uae30\\ubcc4 \\uc0dd\\uc0b0\\ud488\\ubaa9\\uacfc \\uc624\\ub958\\ubc1c\\uc0dd\"}},                        {\"responsive\": true}                    ).then(function(){\n",
       "                            \n",
       "var gd = document.getElementById('aed246fe-3a06-43e8-97fa-f7888e9cbb14');\n",
       "var x = new MutationObserver(function (mutations, observer) {{\n",
       "        var display = window.getComputedStyle(gd).display;\n",
       "        if (!display || display === 'none') {{\n",
       "            console.log([gd, 'removed!']);\n",
       "            Plotly.purge(gd);\n",
       "            observer.disconnect();\n",
       "        }}\n",
       "}});\n",
       "\n",
       "// Listen for the removal of the full notebook cells\n",
       "var notebookContainer = gd.closest('#notebook-container');\n",
       "if (notebookContainer) {{\n",
       "    x.observe(notebookContainer, {childList: true});\n",
       "}}\n",
       "\n",
       "// Listen for the clearing of the current output cell\n",
       "var outputEl = gd.closest('.output');\n",
       "if (outputEl) {{\n",
       "    x.observe(outputEl, {childList: true});\n",
       "}}\n",
       "\n",
       "                        })                };                });            </script>        </div>"
      ]
     },
     "metadata": {},
     "output_type": "display_data"
    }
   ],
   "source": [
    "fig = px.scatter(q_error_count, x=q_error_count[\"생산년도\"], y=q_error_count[\"오류발생여부\"], trendline=\"ols\")\n",
    "fig.update_layout(title_text=\"분기별 생산품목과 오류발생\")\n",
    "fig.show()"
   ]
  },
  {
   "cell_type": "code",
   "execution_count": null,
   "metadata": {},
   "outputs": [],
   "source": []
  },
  {
   "cell_type": "code",
   "execution_count": 118,
   "metadata": {
    "scrolled": true
   },
   "outputs": [
    {
     "name": "stdout",
     "output_type": "stream",
     "text": [
      "22996\n",
      "22996\n",
      "22996\n",
      "22996\n",
      "22996\n"
     ]
    }
   ],
   "source": [
    "print(cooking_process['발생시간'].isnull().sum())\n",
    "print(cooking_process['종료시간'].isnull().sum())\n",
    "print(cooking_process['Error_Message'].isnull().sum())\n",
    "print(cooking_process['오류조치시간_보정'].isnull().sum())\n",
    "print(cooking_process['비가동코드'].isnull().sum())"
   ]
  },
  {
   "cell_type": "code",
   "execution_count": 119,
   "metadata": {},
   "outputs": [
    {
     "data": {
      "text/html": [
       "<div>\n",
       "<style scoped>\n",
       "    .dataframe tbody tr th:only-of-type {\n",
       "        vertical-align: middle;\n",
       "    }\n",
       "\n",
       "    .dataframe tbody tr th {\n",
       "        vertical-align: top;\n",
       "    }\n",
       "\n",
       "    .dataframe thead th {\n",
       "        text-align: right;\n",
       "    }\n",
       "</style>\n",
       "<table border=\"1\" class=\"dataframe\">\n",
       "  <thead>\n",
       "    <tr style=\"text-align: right;\">\n",
       "      <th></th>\n",
       "      <th>순번</th>\n",
       "      <th>생산라인코드</th>\n",
       "      <th>생산일자</th>\n",
       "      <th>작업장코드</th>\n",
       "      <th>충전실온도</th>\n",
       "      <th>실링온도</th>\n",
       "      <th>쿠킹온도</th>\n",
       "      <th>쿠킹스팀압력</th>\n",
       "      <th>실링압력</th>\n",
       "      <th>생산시간</th>\n",
       "      <th>고유코드2</th>\n",
       "      <th>오류발생작업장명</th>\n",
       "      <th>Error_Message</th>\n",
       "      <th>발생시간</th>\n",
       "      <th>종료시간</th>\n",
       "      <th>오류조치시간_보정</th>\n",
       "      <th>비가동코드</th>\n",
       "      <th>오류발생여부</th>\n",
       "      <th>생산년도</th>\n",
       "    </tr>\n",
       "  </thead>\n",
       "  <tbody>\n",
       "    <tr>\n",
       "      <th>0</th>\n",
       "      <td>1</td>\n",
       "      <td>C002</td>\n",
       "      <td>2011-01-03</td>\n",
       "      <td>W003</td>\n",
       "      <td>70.386480</td>\n",
       "      <td>102.086480</td>\n",
       "      <td>136.926080</td>\n",
       "      <td>23.226</td>\n",
       "      <td>212.043</td>\n",
       "      <td>70.83</td>\n",
       "      <td>1C0022011-01-03W003</td>\n",
       "      <td>NaN</td>\n",
       "      <td>NaN</td>\n",
       "      <td>NaN</td>\n",
       "      <td>NaN</td>\n",
       "      <td>NaN</td>\n",
       "      <td>NaN</td>\n",
       "      <td>0</td>\n",
       "      <td>2011</td>\n",
       "    </tr>\n",
       "    <tr>\n",
       "      <th>1</th>\n",
       "      <td>2</td>\n",
       "      <td>C007</td>\n",
       "      <td>2011-01-03</td>\n",
       "      <td>W003</td>\n",
       "      <td>72.179318</td>\n",
       "      <td>114.079318</td>\n",
       "      <td>149.928068</td>\n",
       "      <td>23.899</td>\n",
       "      <td>211.625</td>\n",
       "      <td>73.40</td>\n",
       "      <td>2C0072011-01-03W003</td>\n",
       "      <td>NaN</td>\n",
       "      <td>NaN</td>\n",
       "      <td>NaN</td>\n",
       "      <td>NaN</td>\n",
       "      <td>NaN</td>\n",
       "      <td>NaN</td>\n",
       "      <td>0</td>\n",
       "      <td>2011</td>\n",
       "    </tr>\n",
       "    <tr>\n",
       "      <th>2</th>\n",
       "      <td>3</td>\n",
       "      <td>C001</td>\n",
       "      <td>2011-01-03</td>\n",
       "      <td>W003</td>\n",
       "      <td>71.669853</td>\n",
       "      <td>96.769853</td>\n",
       "      <td>131.742003</td>\n",
       "      <td>23.315</td>\n",
       "      <td>201.844</td>\n",
       "      <td>70.37</td>\n",
       "      <td>3C0012011-01-03W003</td>\n",
       "      <td>NaN</td>\n",
       "      <td>NaN</td>\n",
       "      <td>NaN</td>\n",
       "      <td>NaN</td>\n",
       "      <td>NaN</td>\n",
       "      <td>NaN</td>\n",
       "      <td>0</td>\n",
       "      <td>2011</td>\n",
       "    </tr>\n",
       "    <tr>\n",
       "      <th>3</th>\n",
       "      <td>4</td>\n",
       "      <td>D004</td>\n",
       "      <td>2011-01-03</td>\n",
       "      <td>W005</td>\n",
       "      <td>72.674475</td>\n",
       "      <td>108.574475</td>\n",
       "      <td>143.510725</td>\n",
       "      <td>23.291</td>\n",
       "      <td>212.419</td>\n",
       "      <td>71.92</td>\n",
       "      <td>4D0042011-01-03W005</td>\n",
       "      <td>NaN</td>\n",
       "      <td>NaN</td>\n",
       "      <td>NaN</td>\n",
       "      <td>NaN</td>\n",
       "      <td>NaN</td>\n",
       "      <td>NaN</td>\n",
       "      <td>0</td>\n",
       "      <td>2011</td>\n",
       "    </tr>\n",
       "    <tr>\n",
       "      <th>4</th>\n",
       "      <td>5</td>\n",
       "      <td>D004</td>\n",
       "      <td>2011-01-03</td>\n",
       "      <td>W005</td>\n",
       "      <td>71.725982</td>\n",
       "      <td>86.825982</td>\n",
       "      <td>122.311132</td>\n",
       "      <td>23.657</td>\n",
       "      <td>209.525</td>\n",
       "      <td>72.75</td>\n",
       "      <td>5D0042011-01-03W005</td>\n",
       "      <td>NaN</td>\n",
       "      <td>NaN</td>\n",
       "      <td>NaN</td>\n",
       "      <td>NaN</td>\n",
       "      <td>NaN</td>\n",
       "      <td>NaN</td>\n",
       "      <td>0</td>\n",
       "      <td>2011</td>\n",
       "    </tr>\n",
       "    <tr>\n",
       "      <th>...</th>\n",
       "      <td>...</td>\n",
       "      <td>...</td>\n",
       "      <td>...</td>\n",
       "      <td>...</td>\n",
       "      <td>...</td>\n",
       "      <td>...</td>\n",
       "      <td>...</td>\n",
       "      <td>...</td>\n",
       "      <td>...</td>\n",
       "      <td>...</td>\n",
       "      <td>...</td>\n",
       "      <td>...</td>\n",
       "      <td>...</td>\n",
       "      <td>...</td>\n",
       "      <td>...</td>\n",
       "      <td>...</td>\n",
       "      <td>...</td>\n",
       "      <td>...</td>\n",
       "      <td>...</td>\n",
       "    </tr>\n",
       "    <tr>\n",
       "      <th>24064</th>\n",
       "      <td>4</td>\n",
       "      <td>D088</td>\n",
       "      <td>2021-10-29</td>\n",
       "      <td>W005</td>\n",
       "      <td>70.664452</td>\n",
       "      <td>65.764452</td>\n",
       "      <td>100.773102</td>\n",
       "      <td>23.339</td>\n",
       "      <td>209.513</td>\n",
       "      <td>72.12</td>\n",
       "      <td>4D0882021-10-29W005</td>\n",
       "      <td>NaN</td>\n",
       "      <td>NaN</td>\n",
       "      <td>NaN</td>\n",
       "      <td>NaN</td>\n",
       "      <td>NaN</td>\n",
       "      <td>NaN</td>\n",
       "      <td>0</td>\n",
       "      <td>2021</td>\n",
       "    </tr>\n",
       "    <tr>\n",
       "      <th>24065</th>\n",
       "      <td>5</td>\n",
       "      <td>P003</td>\n",
       "      <td>2021-10-29</td>\n",
       "      <td>W007</td>\n",
       "      <td>71.015225</td>\n",
       "      <td>106.115225</td>\n",
       "      <td>141.148725</td>\n",
       "      <td>23.356</td>\n",
       "      <td>205.288</td>\n",
       "      <td>76.03</td>\n",
       "      <td>5P0032021-10-29W007</td>\n",
       "      <td>NaN</td>\n",
       "      <td>NaN</td>\n",
       "      <td>NaN</td>\n",
       "      <td>NaN</td>\n",
       "      <td>NaN</td>\n",
       "      <td>NaN</td>\n",
       "      <td>0</td>\n",
       "      <td>2021</td>\n",
       "    </tr>\n",
       "    <tr>\n",
       "      <th>24066</th>\n",
       "      <td>8</td>\n",
       "      <td>D087</td>\n",
       "      <td>2021-10-29</td>\n",
       "      <td>W005</td>\n",
       "      <td>71.727125</td>\n",
       "      <td>98.127125</td>\n",
       "      <td>133.960875</td>\n",
       "      <td>23.889</td>\n",
       "      <td>209.983</td>\n",
       "      <td>77.27</td>\n",
       "      <td>8D0872021-10-29W005</td>\n",
       "      <td>NaN</td>\n",
       "      <td>NaN</td>\n",
       "      <td>NaN</td>\n",
       "      <td>NaN</td>\n",
       "      <td>NaN</td>\n",
       "      <td>NaN</td>\n",
       "      <td>0</td>\n",
       "      <td>2021</td>\n",
       "    </tr>\n",
       "    <tr>\n",
       "      <th>24067</th>\n",
       "      <td>9</td>\n",
       "      <td>D088</td>\n",
       "      <td>2021-10-29</td>\n",
       "      <td>W005</td>\n",
       "      <td>69.732381</td>\n",
       "      <td>98.432381</td>\n",
       "      <td>133.916831</td>\n",
       "      <td>23.656</td>\n",
       "      <td>213.413</td>\n",
       "      <td>76.63</td>\n",
       "      <td>9D0882021-10-29W005</td>\n",
       "      <td>NaN</td>\n",
       "      <td>NaN</td>\n",
       "      <td>NaN</td>\n",
       "      <td>NaN</td>\n",
       "      <td>NaN</td>\n",
       "      <td>NaN</td>\n",
       "      <td>0</td>\n",
       "      <td>2021</td>\n",
       "    </tr>\n",
       "    <tr>\n",
       "      <th>24068</th>\n",
       "      <td>10</td>\n",
       "      <td>D088</td>\n",
       "      <td>2021-10-29</td>\n",
       "      <td>W005</td>\n",
       "      <td>71.459932</td>\n",
       "      <td>107.559932</td>\n",
       "      <td>143.598182</td>\n",
       "      <td>24.026</td>\n",
       "      <td>215.243</td>\n",
       "      <td>81.00</td>\n",
       "      <td>10D0882021-10-29W005</td>\n",
       "      <td>NaN</td>\n",
       "      <td>NaN</td>\n",
       "      <td>NaN</td>\n",
       "      <td>NaN</td>\n",
       "      <td>NaN</td>\n",
       "      <td>NaN</td>\n",
       "      <td>0</td>\n",
       "      <td>2021</td>\n",
       "    </tr>\n",
       "  </tbody>\n",
       "</table>\n",
       "<p>22996 rows × 19 columns</p>\n",
       "</div>"
      ],
      "text/plain": [
       "       순번 생산라인코드       생산일자 작업장코드      충전실온도        실링온도        쿠킹온도  쿠킹스팀압력  \\\n",
       "0       1   C002 2011-01-03  W003  70.386480  102.086480  136.926080  23.226   \n",
       "1       2   C007 2011-01-03  W003  72.179318  114.079318  149.928068  23.899   \n",
       "2       3   C001 2011-01-03  W003  71.669853   96.769853  131.742003  23.315   \n",
       "3       4   D004 2011-01-03  W005  72.674475  108.574475  143.510725  23.291   \n",
       "4       5   D004 2011-01-03  W005  71.725982   86.825982  122.311132  23.657   \n",
       "...    ..    ...        ...   ...        ...         ...         ...     ...   \n",
       "24064   4   D088 2021-10-29  W005  70.664452   65.764452  100.773102  23.339   \n",
       "24065   5   P003 2021-10-29  W007  71.015225  106.115225  141.148725  23.356   \n",
       "24066   8   D087 2021-10-29  W005  71.727125   98.127125  133.960875  23.889   \n",
       "24067   9   D088 2021-10-29  W005  69.732381   98.432381  133.916831  23.656   \n",
       "24068  10   D088 2021-10-29  W005  71.459932  107.559932  143.598182  24.026   \n",
       "\n",
       "          실링압력   생산시간                 고유코드2 오류발생작업장명 Error_Message 발생시간 종료시간  \\\n",
       "0      212.043  70.83   1C0022011-01-03W003      NaN           NaN  NaN  NaN   \n",
       "1      211.625  73.40   2C0072011-01-03W003      NaN           NaN  NaN  NaN   \n",
       "2      201.844  70.37   3C0012011-01-03W003      NaN           NaN  NaN  NaN   \n",
       "3      212.419  71.92   4D0042011-01-03W005      NaN           NaN  NaN  NaN   \n",
       "4      209.525  72.75   5D0042011-01-03W005      NaN           NaN  NaN  NaN   \n",
       "...        ...    ...                   ...      ...           ...  ...  ...   \n",
       "24064  209.513  72.12   4D0882021-10-29W005      NaN           NaN  NaN  NaN   \n",
       "24065  205.288  76.03   5P0032021-10-29W007      NaN           NaN  NaN  NaN   \n",
       "24066  209.983  77.27   8D0872021-10-29W005      NaN           NaN  NaN  NaN   \n",
       "24067  213.413  76.63   9D0882021-10-29W005      NaN           NaN  NaN  NaN   \n",
       "24068  215.243  81.00  10D0882021-10-29W005      NaN           NaN  NaN  NaN   \n",
       "\n",
       "       오류조치시간_보정 비가동코드  오류발생여부  생산년도  \n",
       "0            NaN   NaN       0  2011  \n",
       "1            NaN   NaN       0  2011  \n",
       "2            NaN   NaN       0  2011  \n",
       "3            NaN   NaN       0  2011  \n",
       "4            NaN   NaN       0  2011  \n",
       "...          ...   ...     ...   ...  \n",
       "24064        NaN   NaN       0  2021  \n",
       "24065        NaN   NaN       0  2021  \n",
       "24066        NaN   NaN       0  2021  \n",
       "24067        NaN   NaN       0  2021  \n",
       "24068        NaN   NaN       0  2021  \n",
       "\n",
       "[22996 rows x 19 columns]"
      ]
     },
     "execution_count": 119,
     "metadata": {},
     "output_type": "execute_result"
    }
   ],
   "source": [
    "cooking_process_isnull= cooking_process[(cooking_process['발생시간'].isnull()) & (cooking_process['종료시간'].isnull())&(cooking_process['Error_Message'].isnull())&\n",
    "                (cooking_process['오류조치시간_보정'].isnull())&(cooking_process['비가동코드'].isnull())]\n",
    "cooking_process_isnull.sort_index()"
   ]
  },
  {
   "cell_type": "code",
   "execution_count": 120,
   "metadata": {},
   "outputs": [
    {
     "data": {
      "text/html": [
       "<div>\n",
       "<style scoped>\n",
       "    .dataframe tbody tr th:only-of-type {\n",
       "        vertical-align: middle;\n",
       "    }\n",
       "\n",
       "    .dataframe tbody tr th {\n",
       "        vertical-align: top;\n",
       "    }\n",
       "\n",
       "    .dataframe thead th {\n",
       "        text-align: right;\n",
       "    }\n",
       "</style>\n",
       "<table border=\"1\" class=\"dataframe\">\n",
       "  <thead>\n",
       "    <tr style=\"text-align: right;\">\n",
       "      <th></th>\n",
       "      <th>순번</th>\n",
       "      <th>생산라인코드</th>\n",
       "      <th>생산일자</th>\n",
       "      <th>작업장코드</th>\n",
       "      <th>충전실온도</th>\n",
       "      <th>실링온도</th>\n",
       "      <th>쿠킹온도</th>\n",
       "      <th>쿠킹스팀압력</th>\n",
       "      <th>실링압력</th>\n",
       "      <th>생산시간</th>\n",
       "      <th>고유코드2</th>\n",
       "      <th>오류발생작업장명</th>\n",
       "      <th>Error_Message</th>\n",
       "      <th>발생시간</th>\n",
       "      <th>종료시간</th>\n",
       "      <th>오류조치시간_보정</th>\n",
       "      <th>비가동코드</th>\n",
       "      <th>오류발생여부</th>\n",
       "      <th>생산년도</th>\n",
       "    </tr>\n",
       "  </thead>\n",
       "  <tbody>\n",
       "    <tr>\n",
       "      <th>9</th>\n",
       "      <td>10</td>\n",
       "      <td>D004</td>\n",
       "      <td>2011-01-03</td>\n",
       "      <td>W005</td>\n",
       "      <td>71.125831</td>\n",
       "      <td>93.425831</td>\n",
       "      <td>127.878281</td>\n",
       "      <td>22.968</td>\n",
       "      <td>201.430</td>\n",
       "      <td>NaN</td>\n",
       "      <td>10D0042011-01-03W005</td>\n",
       "      <td>충전실</td>\n",
       "      <td>위치조정</td>\n",
       "      <td>14:16</td>\n",
       "      <td>14:24</td>\n",
       "      <td>8.0</td>\n",
       "      <td>W0056B4</td>\n",
       "      <td>1</td>\n",
       "      <td>2011</td>\n",
       "    </tr>\n",
       "    <tr>\n",
       "      <th>23</th>\n",
       "      <td>7</td>\n",
       "      <td>D011</td>\n",
       "      <td>2011-01-04</td>\n",
       "      <td>W005</td>\n",
       "      <td>71.587470</td>\n",
       "      <td>103.987470</td>\n",
       "      <td>138.736120</td>\n",
       "      <td>23.166</td>\n",
       "      <td>204.974</td>\n",
       "      <td>NaN</td>\n",
       "      <td>7D0112011-01-04W005</td>\n",
       "      <td>충전실</td>\n",
       "      <td>대기</td>\n",
       "      <td>18:54</td>\n",
       "      <td>19:03</td>\n",
       "      <td>9.0</td>\n",
       "      <td>W005711</td>\n",
       "      <td>1</td>\n",
       "      <td>2011</td>\n",
       "    </tr>\n",
       "    <tr>\n",
       "      <th>43</th>\n",
       "      <td>2</td>\n",
       "      <td>C002</td>\n",
       "      <td>2011-01-05</td>\n",
       "      <td>W003</td>\n",
       "      <td>70.540995</td>\n",
       "      <td>102.440995</td>\n",
       "      <td>137.135195</td>\n",
       "      <td>23.129</td>\n",
       "      <td>204.249</td>\n",
       "      <td>NaN</td>\n",
       "      <td>2C0022011-01-05W003</td>\n",
       "      <td>쿠킹실</td>\n",
       "      <td>충전</td>\n",
       "      <td>9:51</td>\n",
       "      <td>9:58</td>\n",
       "      <td>7.0</td>\n",
       "      <td>W003452</td>\n",
       "      <td>1</td>\n",
       "      <td>2011</td>\n",
       "    </tr>\n",
       "    <tr>\n",
       "      <th>55</th>\n",
       "      <td>13</td>\n",
       "      <td>P004</td>\n",
       "      <td>2011-01-05</td>\n",
       "      <td>W007</td>\n",
       "      <td>71.401189</td>\n",
       "      <td>111.901189</td>\n",
       "      <td>146.585739</td>\n",
       "      <td>23.123</td>\n",
       "      <td>200.068</td>\n",
       "      <td>NaN</td>\n",
       "      <td>13P0042011-01-05W007</td>\n",
       "      <td>포장실</td>\n",
       "      <td>구동부</td>\n",
       "      <td>18:20</td>\n",
       "      <td>20:44</td>\n",
       "      <td>144.0</td>\n",
       "      <td>W0076B2</td>\n",
       "      <td>1</td>\n",
       "      <td>2011</td>\n",
       "    </tr>\n",
       "    <tr>\n",
       "      <th>123</th>\n",
       "      <td>5</td>\n",
       "      <td>C007</td>\n",
       "      <td>2011-01-10</td>\n",
       "      <td>W003</td>\n",
       "      <td>71.428486</td>\n",
       "      <td>125.128486</td>\n",
       "      <td>159.591086</td>\n",
       "      <td>22.975</td>\n",
       "      <td>198.316</td>\n",
       "      <td>NaN</td>\n",
       "      <td>5C0072011-01-10W003</td>\n",
       "      <td>쿠킹실</td>\n",
       "      <td>충전</td>\n",
       "      <td>9:55</td>\n",
       "      <td>10:05</td>\n",
       "      <td>10.0</td>\n",
       "      <td>W003452</td>\n",
       "      <td>1</td>\n",
       "      <td>2011</td>\n",
       "    </tr>\n",
       "    <tr>\n",
       "      <th>...</th>\n",
       "      <td>...</td>\n",
       "      <td>...</td>\n",
       "      <td>...</td>\n",
       "      <td>...</td>\n",
       "      <td>...</td>\n",
       "      <td>...</td>\n",
       "      <td>...</td>\n",
       "      <td>...</td>\n",
       "      <td>...</td>\n",
       "      <td>...</td>\n",
       "      <td>...</td>\n",
       "      <td>...</td>\n",
       "      <td>...</td>\n",
       "      <td>...</td>\n",
       "      <td>...</td>\n",
       "      <td>...</td>\n",
       "      <td>...</td>\n",
       "      <td>...</td>\n",
       "      <td>...</td>\n",
       "    </tr>\n",
       "    <tr>\n",
       "      <th>24030</th>\n",
       "      <td>1</td>\n",
       "      <td>C045</td>\n",
       "      <td>2021-10-25</td>\n",
       "      <td>W003</td>\n",
       "      <td>69.827929</td>\n",
       "      <td>86.927929</td>\n",
       "      <td>121.388229</td>\n",
       "      <td>22.974</td>\n",
       "      <td>200.317</td>\n",
       "      <td>NaN</td>\n",
       "      <td>1C0452021-10-25W003</td>\n",
       "      <td>쿠킹실</td>\n",
       "      <td>ph 이상</td>\n",
       "      <td>8:58</td>\n",
       "      <td>9:04</td>\n",
       "      <td>6.0</td>\n",
       "      <td>W003446</td>\n",
       "      <td>1</td>\n",
       "      <td>2021</td>\n",
       "    </tr>\n",
       "    <tr>\n",
       "      <th>24032</th>\n",
       "      <td>3</td>\n",
       "      <td>D084</td>\n",
       "      <td>2021-10-25</td>\n",
       "      <td>W005</td>\n",
       "      <td>71.671267</td>\n",
       "      <td>112.571266</td>\n",
       "      <td>147.339967</td>\n",
       "      <td>23.179</td>\n",
       "      <td>211.102</td>\n",
       "      <td>NaN</td>\n",
       "      <td>3D0842021-10-25W005</td>\n",
       "      <td>충전실</td>\n",
       "      <td>수리</td>\n",
       "      <td>9:46</td>\n",
       "      <td>11:49</td>\n",
       "      <td>123.0</td>\n",
       "      <td>W005713</td>\n",
       "      <td>1</td>\n",
       "      <td>2021</td>\n",
       "    </tr>\n",
       "    <tr>\n",
       "      <th>24049</th>\n",
       "      <td>1</td>\n",
       "      <td>D005</td>\n",
       "      <td>2021-10-28</td>\n",
       "      <td>W005</td>\n",
       "      <td>71.764168</td>\n",
       "      <td>108.664168</td>\n",
       "      <td>142.862968</td>\n",
       "      <td>22.799</td>\n",
       "      <td>201.039</td>\n",
       "      <td>NaN</td>\n",
       "      <td>1D0052021-10-28W005</td>\n",
       "      <td>충전실</td>\n",
       "      <td>기타</td>\n",
       "      <td>10:50</td>\n",
       "      <td>11:06</td>\n",
       "      <td>16.0</td>\n",
       "      <td>W0058Z9</td>\n",
       "      <td>1</td>\n",
       "      <td>2021</td>\n",
       "    </tr>\n",
       "    <tr>\n",
       "      <th>24056</th>\n",
       "      <td>7</td>\n",
       "      <td>D088</td>\n",
       "      <td>2021-10-28</td>\n",
       "      <td>W005</td>\n",
       "      <td>72.585609</td>\n",
       "      <td>93.885609</td>\n",
       "      <td>128.549109</td>\n",
       "      <td>23.109</td>\n",
       "      <td>204.160</td>\n",
       "      <td>NaN</td>\n",
       "      <td>7D0882021-10-28W005</td>\n",
       "      <td>충전실</td>\n",
       "      <td>품목 교체</td>\n",
       "      <td>8:57</td>\n",
       "      <td>9:33</td>\n",
       "      <td>36.0</td>\n",
       "      <td>W0054F1</td>\n",
       "      <td>1</td>\n",
       "      <td>2021</td>\n",
       "    </tr>\n",
       "    <tr>\n",
       "      <th>24057</th>\n",
       "      <td>7</td>\n",
       "      <td>D087</td>\n",
       "      <td>2021-10-28</td>\n",
       "      <td>W005</td>\n",
       "      <td>70.610616</td>\n",
       "      <td>103.710616</td>\n",
       "      <td>138.257466</td>\n",
       "      <td>23.031</td>\n",
       "      <td>199.343</td>\n",
       "      <td>NaN</td>\n",
       "      <td>7D0872021-10-28W005</td>\n",
       "      <td>충전실</td>\n",
       "      <td>공정</td>\n",
       "      <td>14:15</td>\n",
       "      <td>14:35</td>\n",
       "      <td>20.0</td>\n",
       "      <td>W005722</td>\n",
       "      <td>1</td>\n",
       "      <td>2021</td>\n",
       "    </tr>\n",
       "  </tbody>\n",
       "</table>\n",
       "<p>1073 rows × 19 columns</p>\n",
       "</div>"
      ],
      "text/plain": [
       "       순번 생산라인코드       생산일자 작업장코드      충전실온도        실링온도        쿠킹온도  쿠킹스팀압력  \\\n",
       "9      10   D004 2011-01-03  W005  71.125831   93.425831  127.878281  22.968   \n",
       "23      7   D011 2011-01-04  W005  71.587470  103.987470  138.736120  23.166   \n",
       "43      2   C002 2011-01-05  W003  70.540995  102.440995  137.135195  23.129   \n",
       "55     13   P004 2011-01-05  W007  71.401189  111.901189  146.585739  23.123   \n",
       "123     5   C007 2011-01-10  W003  71.428486  125.128486  159.591086  22.975   \n",
       "...    ..    ...        ...   ...        ...         ...         ...     ...   \n",
       "24030   1   C045 2021-10-25  W003  69.827929   86.927929  121.388229  22.974   \n",
       "24032   3   D084 2021-10-25  W005  71.671267  112.571266  147.339967  23.179   \n",
       "24049   1   D005 2021-10-28  W005  71.764168  108.664168  142.862968  22.799   \n",
       "24056   7   D088 2021-10-28  W005  72.585609   93.885609  128.549109  23.109   \n",
       "24057   7   D087 2021-10-28  W005  70.610616  103.710616  138.257466  23.031   \n",
       "\n",
       "          실링압력  생산시간                 고유코드2 오류발생작업장명 Error_Message   발생시간  \\\n",
       "9      201.430   NaN  10D0042011-01-03W005      충전실          위치조정  14:16   \n",
       "23     204.974   NaN   7D0112011-01-04W005      충전실            대기  18:54   \n",
       "43     204.249   NaN   2C0022011-01-05W003      쿠킹실            충전   9:51   \n",
       "55     200.068   NaN  13P0042011-01-05W007      포장실           구동부  18:20   \n",
       "123    198.316   NaN   5C0072011-01-10W003      쿠킹실            충전   9:55   \n",
       "...        ...   ...                   ...      ...           ...    ...   \n",
       "24030  200.317   NaN   1C0452021-10-25W003      쿠킹실         ph 이상   8:58   \n",
       "24032  211.102   NaN   3D0842021-10-25W005      충전실            수리   9:46   \n",
       "24049  201.039   NaN   1D0052021-10-28W005      충전실            기타  10:50   \n",
       "24056  204.160   NaN   7D0882021-10-28W005      충전실         품목 교체   8:57   \n",
       "24057  199.343   NaN   7D0872021-10-28W005      충전실            공정  14:15   \n",
       "\n",
       "        종료시간  오류조치시간_보정    비가동코드  오류발생여부  생산년도  \n",
       "9      14:24        8.0  W0056B4       1  2011  \n",
       "23     19:03        9.0  W005711       1  2011  \n",
       "43      9:58        7.0  W003452       1  2011  \n",
       "55     20:44      144.0  W0076B2       1  2011  \n",
       "123    10:05       10.0  W003452       1  2011  \n",
       "...      ...        ...      ...     ...   ...  \n",
       "24030   9:04        6.0  W003446       1  2021  \n",
       "24032  11:49      123.0  W005713       1  2021  \n",
       "24049  11:06       16.0  W0058Z9       1  2021  \n",
       "24056   9:33       36.0  W0054F1       1  2021  \n",
       "24057  14:35       20.0  W005722       1  2021  \n",
       "\n",
       "[1073 rows x 19 columns]"
      ]
     },
     "execution_count": 120,
     "metadata": {},
     "output_type": "execute_result"
    }
   ],
   "source": [
    "cooking_process_notnull = cooking_process[(~cooking_process['발생시간'].isnull()) | (~cooking_process['종료시간'].isnull()) | (~cooking_process['Error_Message'].isnull()) | (~cooking_process['오류조치시간_보정'].isnull()) | (~cooking_process['비가동코드'].isnull())]\n",
    "cooking_process_notnull"
   ]
  },
  {
   "cell_type": "code",
   "execution_count": 121,
   "metadata": {},
   "outputs": [
    {
     "data": {
      "text/plain": [
       "작업장코드\n",
       "W002     12\n",
       "W003    369\n",
       "W005    578\n",
       "W007    103\n",
       "Name: 오류발생여부, dtype: int64"
      ]
     },
     "execution_count": 121,
     "metadata": {},
     "output_type": "execute_result"
    }
   ],
   "source": [
    "# Error_Message\t발생시간\t종료시간\t오류조치시간_보정\t비가동코드\n",
    "q_error_count = cooking_process.groupby('생산년도')['오류발생여부'].sum()\n",
    "cooking_process_notnull.groupby('작업장코드')['오류발생여부'].sum()"
   ]
  },
  {
   "cell_type": "code",
   "execution_count": 134,
   "metadata": {},
   "outputs": [
    {
     "data": {
      "text/html": [
       "<div>\n",
       "<style scoped>\n",
       "    .dataframe tbody tr th:only-of-type {\n",
       "        vertical-align: middle;\n",
       "    }\n",
       "\n",
       "    .dataframe tbody tr th {\n",
       "        vertical-align: top;\n",
       "    }\n",
       "\n",
       "    .dataframe thead th {\n",
       "        text-align: right;\n",
       "    }\n",
       "</style>\n",
       "<table border=\"1\" class=\"dataframe\">\n",
       "  <thead>\n",
       "    <tr style=\"text-align: right;\">\n",
       "      <th></th>\n",
       "      <th>오류발생여부</th>\n",
       "    </tr>\n",
       "    <tr>\n",
       "      <th>생산년도</th>\n",
       "      <th></th>\n",
       "    </tr>\n",
       "  </thead>\n",
       "  <tbody>\n",
       "    <tr>\n",
       "      <th>2011</th>\n",
       "      <td>187</td>\n",
       "    </tr>\n",
       "    <tr>\n",
       "      <th>2012</th>\n",
       "      <td>66</td>\n",
       "    </tr>\n",
       "    <tr>\n",
       "      <th>2013</th>\n",
       "      <td>48</td>\n",
       "    </tr>\n",
       "    <tr>\n",
       "      <th>2014</th>\n",
       "      <td>7</td>\n",
       "    </tr>\n",
       "    <tr>\n",
       "      <th>2015</th>\n",
       "      <td>30</td>\n",
       "    </tr>\n",
       "    <tr>\n",
       "      <th>2016</th>\n",
       "      <td>23</td>\n",
       "    </tr>\n",
       "    <tr>\n",
       "      <th>2017</th>\n",
       "      <td>240</td>\n",
       "    </tr>\n",
       "    <tr>\n",
       "      <th>2018</th>\n",
       "      <td>188</td>\n",
       "    </tr>\n",
       "    <tr>\n",
       "      <th>2019</th>\n",
       "      <td>127</td>\n",
       "    </tr>\n",
       "    <tr>\n",
       "      <th>2020</th>\n",
       "      <td>101</td>\n",
       "    </tr>\n",
       "    <tr>\n",
       "      <th>2021</th>\n",
       "      <td>57</td>\n",
       "    </tr>\n",
       "  </tbody>\n",
       "</table>\n",
       "</div>"
      ],
      "text/plain": [
       "      오류발생여부\n",
       "생산년도        \n",
       "2011     187\n",
       "2012      66\n",
       "2013      48\n",
       "2014       7\n",
       "2015      30\n",
       "2016      23\n",
       "2017     240\n",
       "2018     188\n",
       "2019     127\n",
       "2020     101\n",
       "2021      57"
      ]
     },
     "execution_count": 134,
     "metadata": {},
     "output_type": "execute_result"
    }
   ],
   "source": [
    "year_error_occur = cooking_process.groupby('생산년도')['오류발생여부'].sum().to_frame()\n",
    "year_error_occur"
   ]
  },
  {
   "cell_type": "code",
   "execution_count": 140,
   "metadata": {},
   "outputs": [
    {
     "data": {
      "text/html": [
       "<div>\n",
       "<style scoped>\n",
       "    .dataframe tbody tr th:only-of-type {\n",
       "        vertical-align: middle;\n",
       "    }\n",
       "\n",
       "    .dataframe tbody tr th {\n",
       "        vertical-align: top;\n",
       "    }\n",
       "\n",
       "    .dataframe thead th {\n",
       "        text-align: right;\n",
       "    }\n",
       "</style>\n",
       "<table border=\"1\" class=\"dataframe\">\n",
       "  <thead>\n",
       "    <tr style=\"text-align: right;\">\n",
       "      <th></th>\n",
       "      <th>생산수</th>\n",
       "    </tr>\n",
       "    <tr>\n",
       "      <th>생산년도</th>\n",
       "      <th></th>\n",
       "    </tr>\n",
       "  </thead>\n",
       "  <tbody>\n",
       "    <tr>\n",
       "      <th>2011</th>\n",
       "      <td>3959</td>\n",
       "    </tr>\n",
       "    <tr>\n",
       "      <th>2012</th>\n",
       "      <td>1521</td>\n",
       "    </tr>\n",
       "    <tr>\n",
       "      <th>2013</th>\n",
       "      <td>969</td>\n",
       "    </tr>\n",
       "    <tr>\n",
       "      <th>2014</th>\n",
       "      <td>470</td>\n",
       "    </tr>\n",
       "    <tr>\n",
       "      <th>2015</th>\n",
       "      <td>357</td>\n",
       "    </tr>\n",
       "    <tr>\n",
       "      <th>2016</th>\n",
       "      <td>687</td>\n",
       "    </tr>\n",
       "    <tr>\n",
       "      <th>2017</th>\n",
       "      <td>5386</td>\n",
       "    </tr>\n",
       "    <tr>\n",
       "      <th>2018</th>\n",
       "      <td>4201</td>\n",
       "    </tr>\n",
       "    <tr>\n",
       "      <th>2019</th>\n",
       "      <td>3053</td>\n",
       "    </tr>\n",
       "    <tr>\n",
       "      <th>2020</th>\n",
       "      <td>2294</td>\n",
       "    </tr>\n",
       "    <tr>\n",
       "      <th>2021</th>\n",
       "      <td>1172</td>\n",
       "    </tr>\n",
       "  </tbody>\n",
       "</table>\n",
       "</div>"
      ],
      "text/plain": [
       "       생산수\n",
       "생산년도      \n",
       "2011  3959\n",
       "2012  1521\n",
       "2013   969\n",
       "2014   470\n",
       "2015   357\n",
       "2016   687\n",
       "2017  5386\n",
       "2018  4201\n",
       "2019  3053\n",
       "2020  2294\n",
       "2021  1172"
      ]
     },
     "execution_count": 140,
     "metadata": {},
     "output_type": "execute_result"
    }
   ],
   "source": [
    "year_error_produce = cooking_process.groupby('생산년도')['오류발생여부'].count().to_frame()\n",
    "year_error_produce.rename(columns={'오류발생여부':'생산수'},inplace=True)\n",
    "year_error_produce"
   ]
  },
  {
   "cell_type": "code",
   "execution_count": 158,
   "metadata": {},
   "outputs": [
    {
     "data": {
      "text/html": [
       "<div>\n",
       "<style scoped>\n",
       "    .dataframe tbody tr th:only-of-type {\n",
       "        vertical-align: middle;\n",
       "    }\n",
       "\n",
       "    .dataframe tbody tr th {\n",
       "        vertical-align: top;\n",
       "    }\n",
       "\n",
       "    .dataframe thead th {\n",
       "        text-align: right;\n",
       "    }\n",
       "</style>\n",
       "<table border=\"1\" class=\"dataframe\">\n",
       "  <thead>\n",
       "    <tr style=\"text-align: right;\">\n",
       "      <th></th>\n",
       "      <th>생산수</th>\n",
       "      <th>오류발생여부</th>\n",
       "    </tr>\n",
       "    <tr>\n",
       "      <th>생산년도</th>\n",
       "      <th></th>\n",
       "      <th></th>\n",
       "    </tr>\n",
       "  </thead>\n",
       "  <tbody>\n",
       "    <tr>\n",
       "      <th>2011</th>\n",
       "      <td>3959</td>\n",
       "      <td>187</td>\n",
       "    </tr>\n",
       "    <tr>\n",
       "      <th>2012</th>\n",
       "      <td>1521</td>\n",
       "      <td>66</td>\n",
       "    </tr>\n",
       "    <tr>\n",
       "      <th>2013</th>\n",
       "      <td>969</td>\n",
       "      <td>48</td>\n",
       "    </tr>\n",
       "    <tr>\n",
       "      <th>2014</th>\n",
       "      <td>470</td>\n",
       "      <td>7</td>\n",
       "    </tr>\n",
       "    <tr>\n",
       "      <th>2015</th>\n",
       "      <td>357</td>\n",
       "      <td>30</td>\n",
       "    </tr>\n",
       "    <tr>\n",
       "      <th>2016</th>\n",
       "      <td>687</td>\n",
       "      <td>23</td>\n",
       "    </tr>\n",
       "    <tr>\n",
       "      <th>2017</th>\n",
       "      <td>5386</td>\n",
       "      <td>240</td>\n",
       "    </tr>\n",
       "    <tr>\n",
       "      <th>2018</th>\n",
       "      <td>4201</td>\n",
       "      <td>188</td>\n",
       "    </tr>\n",
       "    <tr>\n",
       "      <th>2019</th>\n",
       "      <td>3053</td>\n",
       "      <td>127</td>\n",
       "    </tr>\n",
       "    <tr>\n",
       "      <th>2020</th>\n",
       "      <td>2294</td>\n",
       "      <td>101</td>\n",
       "    </tr>\n",
       "    <tr>\n",
       "      <th>2021</th>\n",
       "      <td>1172</td>\n",
       "      <td>57</td>\n",
       "    </tr>\n",
       "  </tbody>\n",
       "</table>\n",
       "</div>"
      ],
      "text/plain": [
       "       생산수  오류발생여부\n",
       "생산년도              \n",
       "2011  3959     187\n",
       "2012  1521      66\n",
       "2013   969      48\n",
       "2014   470       7\n",
       "2015   357      30\n",
       "2016   687      23\n",
       "2017  5386     240\n",
       "2018  4201     188\n",
       "2019  3053     127\n",
       "2020  2294     101\n",
       "2021  1172      57"
      ]
     },
     "execution_count": 158,
     "metadata": {},
     "output_type": "execute_result"
    }
   ],
   "source": [
    "cooking_process_erroroccur = pd.merge(left = year_error_produce,right = year_error_occur,on = '생산년도') \n",
    "cooking_process_erroroccur"
   ]
  },
  {
   "cell_type": "code",
   "execution_count": 151,
   "metadata": {},
   "outputs": [
    {
     "data": {
      "application/vnd.plotly.v1+json": {
       "config": {
        "plotlyServerURL": "https://plot.ly"
       },
       "data": [
        {
         "hovertemplate": "생산수=%{x}<br>오류발생여부=%{y}<extra></extra>",
         "legendgroup": "",
         "marker": {
          "color": "#636efa",
          "symbol": "circle"
         },
         "mode": "markers",
         "name": "",
         "orientation": "v",
         "showlegend": false,
         "type": "scatter",
         "x": [
          3959,
          1521,
          969,
          470,
          357,
          687,
          5386,
          4201,
          3053,
          2294,
          1172
         ],
         "xaxis": "x",
         "y": [
          187,
          66,
          48,
          7,
          30,
          23,
          240,
          188,
          127,
          101,
          57
         ],
         "yaxis": "y"
        },
        {
         "hovertemplate": "<b>OLS trendline</b><br>오류발생여부 = 0.0449792 * 생산수 + -0.78229<br>R<sup>2</sup>=0.988634<br><br>생산수=%{x}<br>오류발생여부=%{y} <b>(trend)</b><extra></extra>",
         "legendgroup": "",
         "marker": {
          "color": "#636efa",
          "symbol": "circle"
         },
         "mode": "lines",
         "name": "",
         "showlegend": false,
         "type": "scatter",
         "x": [
          357,
          470,
          687,
          969,
          1172,
          1521,
          2294,
          3053,
          3959,
          4201,
          5386
         ],
         "xaxis": "x",
         "y": [
          15.275296618887719,
          20.357950094348084,
          30.118443936603825,
          42.802588008106675,
          51.93337257021689,
          67.63112533955906,
          102.40007345045164,
          136.53931228119868,
          177.2904985534738,
          188.17547325313228,
          241.47586589402192
         ],
         "yaxis": "y"
        }
       ],
       "layout": {
        "legend": {
         "tracegroupgap": 0
        },
        "margin": {
         "t": 60
        },
        "template": {
         "data": {
          "bar": [
           {
            "error_x": {
             "color": "#2a3f5f"
            },
            "error_y": {
             "color": "#2a3f5f"
            },
            "marker": {
             "line": {
              "color": "#E5ECF6",
              "width": 0.5
             },
             "pattern": {
              "fillmode": "overlay",
              "size": 10,
              "solidity": 0.2
             }
            },
            "type": "bar"
           }
          ],
          "barpolar": [
           {
            "marker": {
             "line": {
              "color": "#E5ECF6",
              "width": 0.5
             },
             "pattern": {
              "fillmode": "overlay",
              "size": 10,
              "solidity": 0.2
             }
            },
            "type": "barpolar"
           }
          ],
          "carpet": [
           {
            "aaxis": {
             "endlinecolor": "#2a3f5f",
             "gridcolor": "white",
             "linecolor": "white",
             "minorgridcolor": "white",
             "startlinecolor": "#2a3f5f"
            },
            "baxis": {
             "endlinecolor": "#2a3f5f",
             "gridcolor": "white",
             "linecolor": "white",
             "minorgridcolor": "white",
             "startlinecolor": "#2a3f5f"
            },
            "type": "carpet"
           }
          ],
          "choropleth": [
           {
            "colorbar": {
             "outlinewidth": 0,
             "ticks": ""
            },
            "type": "choropleth"
           }
          ],
          "contour": [
           {
            "colorbar": {
             "outlinewidth": 0,
             "ticks": ""
            },
            "colorscale": [
             [
              0,
              "#0d0887"
             ],
             [
              0.1111111111111111,
              "#46039f"
             ],
             [
              0.2222222222222222,
              "#7201a8"
             ],
             [
              0.3333333333333333,
              "#9c179e"
             ],
             [
              0.4444444444444444,
              "#bd3786"
             ],
             [
              0.5555555555555556,
              "#d8576b"
             ],
             [
              0.6666666666666666,
              "#ed7953"
             ],
             [
              0.7777777777777778,
              "#fb9f3a"
             ],
             [
              0.8888888888888888,
              "#fdca26"
             ],
             [
              1,
              "#f0f921"
             ]
            ],
            "type": "contour"
           }
          ],
          "contourcarpet": [
           {
            "colorbar": {
             "outlinewidth": 0,
             "ticks": ""
            },
            "type": "contourcarpet"
           }
          ],
          "heatmap": [
           {
            "colorbar": {
             "outlinewidth": 0,
             "ticks": ""
            },
            "colorscale": [
             [
              0,
              "#0d0887"
             ],
             [
              0.1111111111111111,
              "#46039f"
             ],
             [
              0.2222222222222222,
              "#7201a8"
             ],
             [
              0.3333333333333333,
              "#9c179e"
             ],
             [
              0.4444444444444444,
              "#bd3786"
             ],
             [
              0.5555555555555556,
              "#d8576b"
             ],
             [
              0.6666666666666666,
              "#ed7953"
             ],
             [
              0.7777777777777778,
              "#fb9f3a"
             ],
             [
              0.8888888888888888,
              "#fdca26"
             ],
             [
              1,
              "#f0f921"
             ]
            ],
            "type": "heatmap"
           }
          ],
          "heatmapgl": [
           {
            "colorbar": {
             "outlinewidth": 0,
             "ticks": ""
            },
            "colorscale": [
             [
              0,
              "#0d0887"
             ],
             [
              0.1111111111111111,
              "#46039f"
             ],
             [
              0.2222222222222222,
              "#7201a8"
             ],
             [
              0.3333333333333333,
              "#9c179e"
             ],
             [
              0.4444444444444444,
              "#bd3786"
             ],
             [
              0.5555555555555556,
              "#d8576b"
             ],
             [
              0.6666666666666666,
              "#ed7953"
             ],
             [
              0.7777777777777778,
              "#fb9f3a"
             ],
             [
              0.8888888888888888,
              "#fdca26"
             ],
             [
              1,
              "#f0f921"
             ]
            ],
            "type": "heatmapgl"
           }
          ],
          "histogram": [
           {
            "marker": {
             "pattern": {
              "fillmode": "overlay",
              "size": 10,
              "solidity": 0.2
             }
            },
            "type": "histogram"
           }
          ],
          "histogram2d": [
           {
            "colorbar": {
             "outlinewidth": 0,
             "ticks": ""
            },
            "colorscale": [
             [
              0,
              "#0d0887"
             ],
             [
              0.1111111111111111,
              "#46039f"
             ],
             [
              0.2222222222222222,
              "#7201a8"
             ],
             [
              0.3333333333333333,
              "#9c179e"
             ],
             [
              0.4444444444444444,
              "#bd3786"
             ],
             [
              0.5555555555555556,
              "#d8576b"
             ],
             [
              0.6666666666666666,
              "#ed7953"
             ],
             [
              0.7777777777777778,
              "#fb9f3a"
             ],
             [
              0.8888888888888888,
              "#fdca26"
             ],
             [
              1,
              "#f0f921"
             ]
            ],
            "type": "histogram2d"
           }
          ],
          "histogram2dcontour": [
           {
            "colorbar": {
             "outlinewidth": 0,
             "ticks": ""
            },
            "colorscale": [
             [
              0,
              "#0d0887"
             ],
             [
              0.1111111111111111,
              "#46039f"
             ],
             [
              0.2222222222222222,
              "#7201a8"
             ],
             [
              0.3333333333333333,
              "#9c179e"
             ],
             [
              0.4444444444444444,
              "#bd3786"
             ],
             [
              0.5555555555555556,
              "#d8576b"
             ],
             [
              0.6666666666666666,
              "#ed7953"
             ],
             [
              0.7777777777777778,
              "#fb9f3a"
             ],
             [
              0.8888888888888888,
              "#fdca26"
             ],
             [
              1,
              "#f0f921"
             ]
            ],
            "type": "histogram2dcontour"
           }
          ],
          "mesh3d": [
           {
            "colorbar": {
             "outlinewidth": 0,
             "ticks": ""
            },
            "type": "mesh3d"
           }
          ],
          "parcoords": [
           {
            "line": {
             "colorbar": {
              "outlinewidth": 0,
              "ticks": ""
             }
            },
            "type": "parcoords"
           }
          ],
          "pie": [
           {
            "automargin": true,
            "type": "pie"
           }
          ],
          "scatter": [
           {
            "fillpattern": {
             "fillmode": "overlay",
             "size": 10,
             "solidity": 0.2
            },
            "type": "scatter"
           }
          ],
          "scatter3d": [
           {
            "line": {
             "colorbar": {
              "outlinewidth": 0,
              "ticks": ""
             }
            },
            "marker": {
             "colorbar": {
              "outlinewidth": 0,
              "ticks": ""
             }
            },
            "type": "scatter3d"
           }
          ],
          "scattercarpet": [
           {
            "marker": {
             "colorbar": {
              "outlinewidth": 0,
              "ticks": ""
             }
            },
            "type": "scattercarpet"
           }
          ],
          "scattergeo": [
           {
            "marker": {
             "colorbar": {
              "outlinewidth": 0,
              "ticks": ""
             }
            },
            "type": "scattergeo"
           }
          ],
          "scattergl": [
           {
            "marker": {
             "colorbar": {
              "outlinewidth": 0,
              "ticks": ""
             }
            },
            "type": "scattergl"
           }
          ],
          "scattermapbox": [
           {
            "marker": {
             "colorbar": {
              "outlinewidth": 0,
              "ticks": ""
             }
            },
            "type": "scattermapbox"
           }
          ],
          "scatterpolar": [
           {
            "marker": {
             "colorbar": {
              "outlinewidth": 0,
              "ticks": ""
             }
            },
            "type": "scatterpolar"
           }
          ],
          "scatterpolargl": [
           {
            "marker": {
             "colorbar": {
              "outlinewidth": 0,
              "ticks": ""
             }
            },
            "type": "scatterpolargl"
           }
          ],
          "scatterternary": [
           {
            "marker": {
             "colorbar": {
              "outlinewidth": 0,
              "ticks": ""
             }
            },
            "type": "scatterternary"
           }
          ],
          "surface": [
           {
            "colorbar": {
             "outlinewidth": 0,
             "ticks": ""
            },
            "colorscale": [
             [
              0,
              "#0d0887"
             ],
             [
              0.1111111111111111,
              "#46039f"
             ],
             [
              0.2222222222222222,
              "#7201a8"
             ],
             [
              0.3333333333333333,
              "#9c179e"
             ],
             [
              0.4444444444444444,
              "#bd3786"
             ],
             [
              0.5555555555555556,
              "#d8576b"
             ],
             [
              0.6666666666666666,
              "#ed7953"
             ],
             [
              0.7777777777777778,
              "#fb9f3a"
             ],
             [
              0.8888888888888888,
              "#fdca26"
             ],
             [
              1,
              "#f0f921"
             ]
            ],
            "type": "surface"
           }
          ],
          "table": [
           {
            "cells": {
             "fill": {
              "color": "#EBF0F8"
             },
             "line": {
              "color": "white"
             }
            },
            "header": {
             "fill": {
              "color": "#C8D4E3"
             },
             "line": {
              "color": "white"
             }
            },
            "type": "table"
           }
          ]
         },
         "layout": {
          "annotationdefaults": {
           "arrowcolor": "#2a3f5f",
           "arrowhead": 0,
           "arrowwidth": 1
          },
          "autotypenumbers": "strict",
          "coloraxis": {
           "colorbar": {
            "outlinewidth": 0,
            "ticks": ""
           }
          },
          "colorscale": {
           "diverging": [
            [
             0,
             "#8e0152"
            ],
            [
             0.1,
             "#c51b7d"
            ],
            [
             0.2,
             "#de77ae"
            ],
            [
             0.3,
             "#f1b6da"
            ],
            [
             0.4,
             "#fde0ef"
            ],
            [
             0.5,
             "#f7f7f7"
            ],
            [
             0.6,
             "#e6f5d0"
            ],
            [
             0.7,
             "#b8e186"
            ],
            [
             0.8,
             "#7fbc41"
            ],
            [
             0.9,
             "#4d9221"
            ],
            [
             1,
             "#276419"
            ]
           ],
           "sequential": [
            [
             0,
             "#0d0887"
            ],
            [
             0.1111111111111111,
             "#46039f"
            ],
            [
             0.2222222222222222,
             "#7201a8"
            ],
            [
             0.3333333333333333,
             "#9c179e"
            ],
            [
             0.4444444444444444,
             "#bd3786"
            ],
            [
             0.5555555555555556,
             "#d8576b"
            ],
            [
             0.6666666666666666,
             "#ed7953"
            ],
            [
             0.7777777777777778,
             "#fb9f3a"
            ],
            [
             0.8888888888888888,
             "#fdca26"
            ],
            [
             1,
             "#f0f921"
            ]
           ],
           "sequentialminus": [
            [
             0,
             "#0d0887"
            ],
            [
             0.1111111111111111,
             "#46039f"
            ],
            [
             0.2222222222222222,
             "#7201a8"
            ],
            [
             0.3333333333333333,
             "#9c179e"
            ],
            [
             0.4444444444444444,
             "#bd3786"
            ],
            [
             0.5555555555555556,
             "#d8576b"
            ],
            [
             0.6666666666666666,
             "#ed7953"
            ],
            [
             0.7777777777777778,
             "#fb9f3a"
            ],
            [
             0.8888888888888888,
             "#fdca26"
            ],
            [
             1,
             "#f0f921"
            ]
           ]
          },
          "colorway": [
           "#636efa",
           "#EF553B",
           "#00cc96",
           "#ab63fa",
           "#FFA15A",
           "#19d3f3",
           "#FF6692",
           "#B6E880",
           "#FF97FF",
           "#FECB52"
          ],
          "font": {
           "color": "#2a3f5f"
          },
          "geo": {
           "bgcolor": "white",
           "lakecolor": "white",
           "landcolor": "#E5ECF6",
           "showlakes": true,
           "showland": true,
           "subunitcolor": "white"
          },
          "hoverlabel": {
           "align": "left"
          },
          "hovermode": "closest",
          "mapbox": {
           "style": "light"
          },
          "paper_bgcolor": "white",
          "plot_bgcolor": "#E5ECF6",
          "polar": {
           "angularaxis": {
            "gridcolor": "white",
            "linecolor": "white",
            "ticks": ""
           },
           "bgcolor": "#E5ECF6",
           "radialaxis": {
            "gridcolor": "white",
            "linecolor": "white",
            "ticks": ""
           }
          },
          "scene": {
           "xaxis": {
            "backgroundcolor": "#E5ECF6",
            "gridcolor": "white",
            "gridwidth": 2,
            "linecolor": "white",
            "showbackground": true,
            "ticks": "",
            "zerolinecolor": "white"
           },
           "yaxis": {
            "backgroundcolor": "#E5ECF6",
            "gridcolor": "white",
            "gridwidth": 2,
            "linecolor": "white",
            "showbackground": true,
            "ticks": "",
            "zerolinecolor": "white"
           },
           "zaxis": {
            "backgroundcolor": "#E5ECF6",
            "gridcolor": "white",
            "gridwidth": 2,
            "linecolor": "white",
            "showbackground": true,
            "ticks": "",
            "zerolinecolor": "white"
           }
          },
          "shapedefaults": {
           "line": {
            "color": "#2a3f5f"
           }
          },
          "ternary": {
           "aaxis": {
            "gridcolor": "white",
            "linecolor": "white",
            "ticks": ""
           },
           "baxis": {
            "gridcolor": "white",
            "linecolor": "white",
            "ticks": ""
           },
           "bgcolor": "#E5ECF6",
           "caxis": {
            "gridcolor": "white",
            "linecolor": "white",
            "ticks": ""
           }
          },
          "title": {
           "x": 0.05
          },
          "xaxis": {
           "automargin": true,
           "gridcolor": "white",
           "linecolor": "white",
           "ticks": "",
           "title": {
            "standoff": 15
           },
           "zerolinecolor": "white",
           "zerolinewidth": 2
          },
          "yaxis": {
           "automargin": true,
           "gridcolor": "white",
           "linecolor": "white",
           "ticks": "",
           "title": {
            "standoff": 15
           },
           "zerolinecolor": "white",
           "zerolinewidth": 2
          }
         }
        },
        "title": {
         "text": "분기별 생산품목과 오류발생"
        },
        "xaxis": {
         "anchor": "y",
         "domain": [
          0,
          1
         ],
         "title": {
          "text": "생산수"
         }
        },
        "yaxis": {
         "anchor": "x",
         "domain": [
          0,
          1
         ],
         "title": {
          "text": "오류발생여부"
         }
        }
       }
      },
      "text/html": [
       "<div>                            <div id=\"29434ae0-050c-4c1e-99fd-c5886ec0b3cf\" class=\"plotly-graph-div\" style=\"height:525px; width:100%;\"></div>            <script type=\"text/javascript\">                require([\"plotly\"], function(Plotly) {                    window.PLOTLYENV=window.PLOTLYENV || {};                                    if (document.getElementById(\"29434ae0-050c-4c1e-99fd-c5886ec0b3cf\")) {                    Plotly.newPlot(                        \"29434ae0-050c-4c1e-99fd-c5886ec0b3cf\",                        [{\"hovertemplate\":\"\\uc0dd\\uc0b0\\uc218=%{x}<br>\\uc624\\ub958\\ubc1c\\uc0dd\\uc5ec\\ubd80=%{y}<extra></extra>\",\"legendgroup\":\"\",\"marker\":{\"color\":\"#636efa\",\"symbol\":\"circle\"},\"mode\":\"markers\",\"name\":\"\",\"orientation\":\"v\",\"showlegend\":false,\"x\":[3959,1521,969,470,357,687,5386,4201,3053,2294,1172],\"xaxis\":\"x\",\"y\":[187,66,48,7,30,23,240,188,127,101,57],\"yaxis\":\"y\",\"type\":\"scatter\"},{\"hovertemplate\":\"<b>OLS trendline</b><br>\\uc624\\ub958\\ubc1c\\uc0dd\\uc5ec\\ubd80 = 0.0449792 * \\uc0dd\\uc0b0\\uc218 + -0.78229<br>R<sup>2</sup>=0.988634<br><br>\\uc0dd\\uc0b0\\uc218=%{x}<br>\\uc624\\ub958\\ubc1c\\uc0dd\\uc5ec\\ubd80=%{y} <b>(trend)</b><extra></extra>\",\"legendgroup\":\"\",\"marker\":{\"color\":\"#636efa\",\"symbol\":\"circle\"},\"mode\":\"lines\",\"name\":\"\",\"showlegend\":false,\"x\":[357,470,687,969,1172,1521,2294,3053,3959,4201,5386],\"xaxis\":\"x\",\"y\":[15.275296618887719,20.357950094348084,30.118443936603825,42.802588008106675,51.93337257021689,67.63112533955906,102.40007345045164,136.53931228119868,177.2904985534738,188.17547325313228,241.47586589402192],\"yaxis\":\"y\",\"type\":\"scatter\"}],                        {\"template\":{\"data\":{\"histogram2dcontour\":[{\"type\":\"histogram2dcontour\",\"colorbar\":{\"outlinewidth\":0,\"ticks\":\"\"},\"colorscale\":[[0.0,\"#0d0887\"],[0.1111111111111111,\"#46039f\"],[0.2222222222222222,\"#7201a8\"],[0.3333333333333333,\"#9c179e\"],[0.4444444444444444,\"#bd3786\"],[0.5555555555555556,\"#d8576b\"],[0.6666666666666666,\"#ed7953\"],[0.7777777777777778,\"#fb9f3a\"],[0.8888888888888888,\"#fdca26\"],[1.0,\"#f0f921\"]]}],\"choropleth\":[{\"type\":\"choropleth\",\"colorbar\":{\"outlinewidth\":0,\"ticks\":\"\"}}],\"histogram2d\":[{\"type\":\"histogram2d\",\"colorbar\":{\"outlinewidth\":0,\"ticks\":\"\"},\"colorscale\":[[0.0,\"#0d0887\"],[0.1111111111111111,\"#46039f\"],[0.2222222222222222,\"#7201a8\"],[0.3333333333333333,\"#9c179e\"],[0.4444444444444444,\"#bd3786\"],[0.5555555555555556,\"#d8576b\"],[0.6666666666666666,\"#ed7953\"],[0.7777777777777778,\"#fb9f3a\"],[0.8888888888888888,\"#fdca26\"],[1.0,\"#f0f921\"]]}],\"heatmap\":[{\"type\":\"heatmap\",\"colorbar\":{\"outlinewidth\":0,\"ticks\":\"\"},\"colorscale\":[[0.0,\"#0d0887\"],[0.1111111111111111,\"#46039f\"],[0.2222222222222222,\"#7201a8\"],[0.3333333333333333,\"#9c179e\"],[0.4444444444444444,\"#bd3786\"],[0.5555555555555556,\"#d8576b\"],[0.6666666666666666,\"#ed7953\"],[0.7777777777777778,\"#fb9f3a\"],[0.8888888888888888,\"#fdca26\"],[1.0,\"#f0f921\"]]}],\"heatmapgl\":[{\"type\":\"heatmapgl\",\"colorbar\":{\"outlinewidth\":0,\"ticks\":\"\"},\"colorscale\":[[0.0,\"#0d0887\"],[0.1111111111111111,\"#46039f\"],[0.2222222222222222,\"#7201a8\"],[0.3333333333333333,\"#9c179e\"],[0.4444444444444444,\"#bd3786\"],[0.5555555555555556,\"#d8576b\"],[0.6666666666666666,\"#ed7953\"],[0.7777777777777778,\"#fb9f3a\"],[0.8888888888888888,\"#fdca26\"],[1.0,\"#f0f921\"]]}],\"contourcarpet\":[{\"type\":\"contourcarpet\",\"colorbar\":{\"outlinewidth\":0,\"ticks\":\"\"}}],\"contour\":[{\"type\":\"contour\",\"colorbar\":{\"outlinewidth\":0,\"ticks\":\"\"},\"colorscale\":[[0.0,\"#0d0887\"],[0.1111111111111111,\"#46039f\"],[0.2222222222222222,\"#7201a8\"],[0.3333333333333333,\"#9c179e\"],[0.4444444444444444,\"#bd3786\"],[0.5555555555555556,\"#d8576b\"],[0.6666666666666666,\"#ed7953\"],[0.7777777777777778,\"#fb9f3a\"],[0.8888888888888888,\"#fdca26\"],[1.0,\"#f0f921\"]]}],\"surface\":[{\"type\":\"surface\",\"colorbar\":{\"outlinewidth\":0,\"ticks\":\"\"},\"colorscale\":[[0.0,\"#0d0887\"],[0.1111111111111111,\"#46039f\"],[0.2222222222222222,\"#7201a8\"],[0.3333333333333333,\"#9c179e\"],[0.4444444444444444,\"#bd3786\"],[0.5555555555555556,\"#d8576b\"],[0.6666666666666666,\"#ed7953\"],[0.7777777777777778,\"#fb9f3a\"],[0.8888888888888888,\"#fdca26\"],[1.0,\"#f0f921\"]]}],\"mesh3d\":[{\"type\":\"mesh3d\",\"colorbar\":{\"outlinewidth\":0,\"ticks\":\"\"}}],\"scatter\":[{\"fillpattern\":{\"fillmode\":\"overlay\",\"size\":10,\"solidity\":0.2},\"type\":\"scatter\"}],\"parcoords\":[{\"type\":\"parcoords\",\"line\":{\"colorbar\":{\"outlinewidth\":0,\"ticks\":\"\"}}}],\"scatterpolargl\":[{\"type\":\"scatterpolargl\",\"marker\":{\"colorbar\":{\"outlinewidth\":0,\"ticks\":\"\"}}}],\"bar\":[{\"error_x\":{\"color\":\"#2a3f5f\"},\"error_y\":{\"color\":\"#2a3f5f\"},\"marker\":{\"line\":{\"color\":\"#E5ECF6\",\"width\":0.5},\"pattern\":{\"fillmode\":\"overlay\",\"size\":10,\"solidity\":0.2}},\"type\":\"bar\"}],\"scattergeo\":[{\"type\":\"scattergeo\",\"marker\":{\"colorbar\":{\"outlinewidth\":0,\"ticks\":\"\"}}}],\"scatterpolar\":[{\"type\":\"scatterpolar\",\"marker\":{\"colorbar\":{\"outlinewidth\":0,\"ticks\":\"\"}}}],\"histogram\":[{\"marker\":{\"pattern\":{\"fillmode\":\"overlay\",\"size\":10,\"solidity\":0.2}},\"type\":\"histogram\"}],\"scattergl\":[{\"type\":\"scattergl\",\"marker\":{\"colorbar\":{\"outlinewidth\":0,\"ticks\":\"\"}}}],\"scatter3d\":[{\"type\":\"scatter3d\",\"line\":{\"colorbar\":{\"outlinewidth\":0,\"ticks\":\"\"}},\"marker\":{\"colorbar\":{\"outlinewidth\":0,\"ticks\":\"\"}}}],\"scattermapbox\":[{\"type\":\"scattermapbox\",\"marker\":{\"colorbar\":{\"outlinewidth\":0,\"ticks\":\"\"}}}],\"scatterternary\":[{\"type\":\"scatterternary\",\"marker\":{\"colorbar\":{\"outlinewidth\":0,\"ticks\":\"\"}}}],\"scattercarpet\":[{\"type\":\"scattercarpet\",\"marker\":{\"colorbar\":{\"outlinewidth\":0,\"ticks\":\"\"}}}],\"carpet\":[{\"aaxis\":{\"endlinecolor\":\"#2a3f5f\",\"gridcolor\":\"white\",\"linecolor\":\"white\",\"minorgridcolor\":\"white\",\"startlinecolor\":\"#2a3f5f\"},\"baxis\":{\"endlinecolor\":\"#2a3f5f\",\"gridcolor\":\"white\",\"linecolor\":\"white\",\"minorgridcolor\":\"white\",\"startlinecolor\":\"#2a3f5f\"},\"type\":\"carpet\"}],\"table\":[{\"cells\":{\"fill\":{\"color\":\"#EBF0F8\"},\"line\":{\"color\":\"white\"}},\"header\":{\"fill\":{\"color\":\"#C8D4E3\"},\"line\":{\"color\":\"white\"}},\"type\":\"table\"}],\"barpolar\":[{\"marker\":{\"line\":{\"color\":\"#E5ECF6\",\"width\":0.5},\"pattern\":{\"fillmode\":\"overlay\",\"size\":10,\"solidity\":0.2}},\"type\":\"barpolar\"}],\"pie\":[{\"automargin\":true,\"type\":\"pie\"}]},\"layout\":{\"autotypenumbers\":\"strict\",\"colorway\":[\"#636efa\",\"#EF553B\",\"#00cc96\",\"#ab63fa\",\"#FFA15A\",\"#19d3f3\",\"#FF6692\",\"#B6E880\",\"#FF97FF\",\"#FECB52\"],\"font\":{\"color\":\"#2a3f5f\"},\"hovermode\":\"closest\",\"hoverlabel\":{\"align\":\"left\"},\"paper_bgcolor\":\"white\",\"plot_bgcolor\":\"#E5ECF6\",\"polar\":{\"bgcolor\":\"#E5ECF6\",\"angularaxis\":{\"gridcolor\":\"white\",\"linecolor\":\"white\",\"ticks\":\"\"},\"radialaxis\":{\"gridcolor\":\"white\",\"linecolor\":\"white\",\"ticks\":\"\"}},\"ternary\":{\"bgcolor\":\"#E5ECF6\",\"aaxis\":{\"gridcolor\":\"white\",\"linecolor\":\"white\",\"ticks\":\"\"},\"baxis\":{\"gridcolor\":\"white\",\"linecolor\":\"white\",\"ticks\":\"\"},\"caxis\":{\"gridcolor\":\"white\",\"linecolor\":\"white\",\"ticks\":\"\"}},\"coloraxis\":{\"colorbar\":{\"outlinewidth\":0,\"ticks\":\"\"}},\"colorscale\":{\"sequential\":[[0.0,\"#0d0887\"],[0.1111111111111111,\"#46039f\"],[0.2222222222222222,\"#7201a8\"],[0.3333333333333333,\"#9c179e\"],[0.4444444444444444,\"#bd3786\"],[0.5555555555555556,\"#d8576b\"],[0.6666666666666666,\"#ed7953\"],[0.7777777777777778,\"#fb9f3a\"],[0.8888888888888888,\"#fdca26\"],[1.0,\"#f0f921\"]],\"sequentialminus\":[[0.0,\"#0d0887\"],[0.1111111111111111,\"#46039f\"],[0.2222222222222222,\"#7201a8\"],[0.3333333333333333,\"#9c179e\"],[0.4444444444444444,\"#bd3786\"],[0.5555555555555556,\"#d8576b\"],[0.6666666666666666,\"#ed7953\"],[0.7777777777777778,\"#fb9f3a\"],[0.8888888888888888,\"#fdca26\"],[1.0,\"#f0f921\"]],\"diverging\":[[0,\"#8e0152\"],[0.1,\"#c51b7d\"],[0.2,\"#de77ae\"],[0.3,\"#f1b6da\"],[0.4,\"#fde0ef\"],[0.5,\"#f7f7f7\"],[0.6,\"#e6f5d0\"],[0.7,\"#b8e186\"],[0.8,\"#7fbc41\"],[0.9,\"#4d9221\"],[1,\"#276419\"]]},\"xaxis\":{\"gridcolor\":\"white\",\"linecolor\":\"white\",\"ticks\":\"\",\"title\":{\"standoff\":15},\"zerolinecolor\":\"white\",\"automargin\":true,\"zerolinewidth\":2},\"yaxis\":{\"gridcolor\":\"white\",\"linecolor\":\"white\",\"ticks\":\"\",\"title\":{\"standoff\":15},\"zerolinecolor\":\"white\",\"automargin\":true,\"zerolinewidth\":2},\"scene\":{\"xaxis\":{\"backgroundcolor\":\"#E5ECF6\",\"gridcolor\":\"white\",\"linecolor\":\"white\",\"showbackground\":true,\"ticks\":\"\",\"zerolinecolor\":\"white\",\"gridwidth\":2},\"yaxis\":{\"backgroundcolor\":\"#E5ECF6\",\"gridcolor\":\"white\",\"linecolor\":\"white\",\"showbackground\":true,\"ticks\":\"\",\"zerolinecolor\":\"white\",\"gridwidth\":2},\"zaxis\":{\"backgroundcolor\":\"#E5ECF6\",\"gridcolor\":\"white\",\"linecolor\":\"white\",\"showbackground\":true,\"ticks\":\"\",\"zerolinecolor\":\"white\",\"gridwidth\":2}},\"shapedefaults\":{\"line\":{\"color\":\"#2a3f5f\"}},\"annotationdefaults\":{\"arrowcolor\":\"#2a3f5f\",\"arrowhead\":0,\"arrowwidth\":1},\"geo\":{\"bgcolor\":\"white\",\"landcolor\":\"#E5ECF6\",\"subunitcolor\":\"white\",\"showland\":true,\"showlakes\":true,\"lakecolor\":\"white\"},\"title\":{\"x\":0.05},\"mapbox\":{\"style\":\"light\"}}},\"xaxis\":{\"anchor\":\"y\",\"domain\":[0.0,1.0],\"title\":{\"text\":\"\\uc0dd\\uc0b0\\uc218\"}},\"yaxis\":{\"anchor\":\"x\",\"domain\":[0.0,1.0],\"title\":{\"text\":\"\\uc624\\ub958\\ubc1c\\uc0dd\\uc5ec\\ubd80\"}},\"legend\":{\"tracegroupgap\":0},\"margin\":{\"t\":60},\"title\":{\"text\":\"\\ubd84\\uae30\\ubcc4 \\uc0dd\\uc0b0\\ud488\\ubaa9\\uacfc \\uc624\\ub958\\ubc1c\\uc0dd\"}},                        {\"responsive\": true}                    ).then(function(){\n",
       "                            \n",
       "var gd = document.getElementById('29434ae0-050c-4c1e-99fd-c5886ec0b3cf');\n",
       "var x = new MutationObserver(function (mutations, observer) {{\n",
       "        var display = window.getComputedStyle(gd).display;\n",
       "        if (!display || display === 'none') {{\n",
       "            console.log([gd, 'removed!']);\n",
       "            Plotly.purge(gd);\n",
       "            observer.disconnect();\n",
       "        }}\n",
       "}});\n",
       "\n",
       "// Listen for the removal of the full notebook cells\n",
       "var notebookContainer = gd.closest('#notebook-container');\n",
       "if (notebookContainer) {{\n",
       "    x.observe(notebookContainer, {childList: true});\n",
       "}}\n",
       "\n",
       "// Listen for the clearing of the current output cell\n",
       "var outputEl = gd.closest('.output');\n",
       "if (outputEl) {{\n",
       "    x.observe(outputEl, {childList: true});\n",
       "}}\n",
       "\n",
       "                        })                };                });            </script>        </div>"
      ]
     },
     "metadata": {},
     "output_type": "display_data"
    }
   ],
   "source": [
    "#df = px.data.tips()\n",
    "#fig = px.scatter(df, x=\"total_bill\", y=\"tip\", trendline=\"ols\")\n",
    "\n",
    "fig = px.scatter(cooking_process_erroroccur, x=cooking_process_erroroccur[\"생산수\"], y=cooking_process_erroroccur[\"오류발생여부\"], trendline=\"ols\")\n",
    "fig.update_layout(title_text=\"분기별 생산품목과 오류발생\")\n",
    "fig.show()"
   ]
  },
  {
   "cell_type": "code",
   "execution_count": 157,
   "metadata": {},
   "outputs": [],
   "source": [
    "# violin_error.to_csv(\"violin_error2\", index = False)\n",
    "#df = pd.read_json('file.ipynb')\n",
    "#df.to_csv('file.csv', index=False)  여기 df는 쓰려고 하는 하나의 데이터프레임만\n",
    "\n",
    "cooking_process_erroroccur.to_csv(\"분기별생산품목과 오류발생여부.csv\", index = False)"
   ]
  }
 ],
 "metadata": {
  "colab": {
   "authorship_tag": "ABX9TyOgSs0ioZQ1uGJT2Uc3kgh7",
   "provenance": [
    {
     "file_id": "1UDiA-tnntmOEk1wAh9Lbwo9fEAcAb9hF",
     "timestamp": 1681464960657
    }
   ]
  },
  "kernelspec": {
   "display_name": "Python 3 (ipykernel)",
   "language": "python",
   "name": "python3"
  },
  "language_info": {
   "codemirror_mode": {
    "name": "ipython",
    "version": 3
   },
   "file_extension": ".py",
   "mimetype": "text/x-python",
   "name": "python",
   "nbconvert_exporter": "python",
   "pygments_lexer": "ipython3",
   "version": "3.10.9"
  },
  "toc": {
   "base_numbering": 1,
   "nav_menu": {},
   "number_sections": true,
   "sideBar": true,
   "skip_h1_title": false,
   "title_cell": "Table of Contents",
   "title_sidebar": "Contents",
   "toc_cell": false,
   "toc_position": {
    "height": "calc(100% - 180px)",
    "left": "10px",
    "top": "150px",
    "width": "298.075px"
   },
   "toc_section_display": true,
   "toc_window_display": false
  }
 },
 "nbformat": 4,
 "nbformat_minor": 1
}
